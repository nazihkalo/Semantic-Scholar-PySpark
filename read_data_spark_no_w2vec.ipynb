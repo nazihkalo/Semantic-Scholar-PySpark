{
 "cells": [
  {
   "cell_type": "markdown",
   "metadata": {},
   "source": [
    "## Reading Data from HDFS\n",
    "\n",
    "Datasource: Semantic Scholar Open Research Corpus\n",
    "\n",
    "Description: Semantic Scholar's records for research papers published in all fields provided as an easy-to-use JSON archive.\n",
    "\n",
    "### Attribute Definitions\n",
    "1. id  string = S2 generated research paper ID.\n",
    "- title  string = Research paper title.\n",
    "- paperAbstract  string = Extracted abstract of the paper.\n",
    "- entities  list = Extracted list of relevant entities or topics.\n",
    "- s2Url  string = URL to S2 research paper details page.\n",
    "- s2PdfUrl  string = URL to PDF on S2 if available.\n",
    "- pdfUrls  list = URLs related to this PDF scraped from the web.\n",
    "- authors  list = List of authors with an S2 generated author ID and name.\n",
    "- inCitations  list = List of S2 paper IDs which cited this paper.\n",
    "- outCitations  list = List of S2 paper IDs which this paper cited\n",
    "- year  int = Year this paper was published as integer.\n",
    "- venue  string = Extracted publication venue for this paper.\n",
    "- journalName  string = Name of the journal that published this paper.\n",
    "- journalVolume  string = The volume of the journal where this paper was published.\n",
    "- journalPages  string = The pages of the journal where this paper was published.\n",
    "- sources  list = Identifies papers sourced from DBLP or Medline.\n",
    "- doi  string = Digital Object Identifier registered at doi.org.\n",
    "- doiUrl  string = DOI link for registered objects.\n",
    "- pmid  string = Unique identifier used by PubMed.\n",
    "- fieldsOfStudy  list = Zero or more fields of study this paper addresses.`"
   ]
  },
  {
   "cell_type": "code",
   "execution_count": 65,
   "metadata": {},
   "outputs": [],
   "source": [
    "import pandas as pd \n",
    "import json\n",
    "import matplotlib.pyplot as plt \n",
    "\n",
    "#Graph network imports\n",
    "from graphframes import *\n",
    "from pyspark import *\n",
    "from pyspark.sql import *\n",
    "\n",
    "from pyspark.sql.functions import udf #user defined function\n",
    "from pyspark.sql.types import * #Import types == IntegerType, StringType etc.\n"
   ]
  },
  {
   "cell_type": "code",
   "execution_count": 66,
   "metadata": {},
   "outputs": [],
   "source": [
    "#import statements\n",
    "from pyspark.sql import SparkSession\n",
    "\n",
    "spark = SparkSession.builder.enableHiveSupport().appName('ReadWriteData').getOrCreate()\n",
    "sc = spark.sparkContext"
   ]
  },
  {
   "cell_type": "code",
   "execution_count": 4,
   "metadata": {},
   "outputs": [
    {
     "name": "stdout",
     "output_type": "stream",
     "text": [
      "WARNING: log4j.properties is not found. HADOOP_CONF_DIR may be incomplete.\n",
      "Java HotSpot(TM) 64-Bit Server VM warning: ignoring option MaxPermSize=512M; support was removed in 8.0\n",
      "Found 10 items\n",
      "-rw-r--r--   3 nazihkalo nazihkalo 1592749572 2020-02-11 10:25 big_data_project/unzipped_files/s2-corpus-000\n",
      "-rw-r--r--   3 nazihkalo nazihkalo 1592820732 2020-02-11 10:24 big_data_project/unzipped_files/s2-corpus-001\n",
      "-rw-r--r--   3 nazihkalo nazihkalo 1595233436 2020-02-11 10:24 big_data_project/unzipped_files/s2-corpus-002\n",
      "-rw-r--r--   3 nazihkalo nazihkalo 1597066383 2020-02-11 10:24 big_data_project/unzipped_files/s2-corpus-003\n",
      "-rw-r--r--   3 nazihkalo nazihkalo 1601510198 2020-02-11 10:24 big_data_project/unzipped_files/s2-corpus-004\n",
      "-rw-r--r--   3 nazihkalo nazihkalo 1593588156 2020-02-11 10:25 big_data_project/unzipped_files/s2-corpus-005\n",
      "-rw-r--r--   3 nazihkalo nazihkalo 1596634329 2020-02-11 10:23 big_data_project/unzipped_files/s2-corpus-006\n",
      "-rw-r--r--   3 nazihkalo nazihkalo 1596512143 2020-02-11 10:25 big_data_project/unzipped_files/s2-corpus-007\n",
      "-rw-r--r--   3 nazihkalo nazihkalo 1595234796 2020-02-11 10:25 big_data_project/unzipped_files/s2-corpus-008\n",
      "-rw-r--r--   3 nazihkalo nazihkalo 1596753944 2020-02-11 10:25 big_data_project/unzipped_files/s2-corpus-009\n"
     ]
    }
   ],
   "source": [
    "!hdfs dfs -ls big_data_project/unzipped_files/"
   ]
  },
  {
   "cell_type": "code",
   "execution_count": 3,
   "metadata": {},
   "outputs": [
    {
     "data": {
      "text/plain": [
       "{'MKL_NUM_THREADS': '1', 'OPENBLAS_NUM_THREADS': '1', 'PYTHONHASHSEED': '0'}"
      ]
     },
     "execution_count": 3,
     "metadata": {},
     "output_type": "execute_result"
    }
   ],
   "source": [
    "sc.environment"
   ]
  },
  {
   "cell_type": "markdown",
   "metadata": {},
   "source": [
    "## Reading all 10 json files listed above "
   ]
  },
  {
   "cell_type": "code",
   "execution_count": 67,
   "metadata": {},
   "outputs": [],
   "source": [
    "spark_df = spark.read.json('big_data_project/unzipped_files/')"
   ]
  },
  {
   "cell_type": "markdown",
   "metadata": {},
   "source": [
    "#### Counting number of records/articles"
   ]
  },
  {
   "cell_type": "code",
   "execution_count": 5,
   "metadata": {},
   "outputs": [
    {
     "data": {
      "text/plain": [
       "9976989"
      ]
     },
     "execution_count": 5,
     "metadata": {},
     "output_type": "execute_result"
    }
   ],
   "source": [
    "spark_df.count()"
   ]
  },
  {
   "cell_type": "markdown",
   "metadata": {},
   "source": [
    "#### Looking at the schema & summary stats"
   ]
  },
  {
   "cell_type": "code",
   "execution_count": 6,
   "metadata": {},
   "outputs": [
    {
     "name": "stdout",
     "output_type": "stream",
     "text": [
      "root\n",
      " |-- authors: array (nullable = true)\n",
      " |    |-- element: struct (containsNull = true)\n",
      " |    |    |-- ids: array (nullable = true)\n",
      " |    |    |    |-- element: string (containsNull = true)\n",
      " |    |    |-- name: string (nullable = true)\n",
      " |-- doi: string (nullable = true)\n",
      " |-- doiUrl: string (nullable = true)\n",
      " |-- entities: array (nullable = true)\n",
      " |    |-- element: string (containsNull = true)\n",
      " |-- fieldsOfStudy: array (nullable = true)\n",
      " |    |-- element: string (containsNull = true)\n",
      " |-- id: string (nullable = true)\n",
      " |-- inCitations: array (nullable = true)\n",
      " |    |-- element: string (containsNull = true)\n",
      " |-- journalName: string (nullable = true)\n",
      " |-- journalPages: string (nullable = true)\n",
      " |-- journalVolume: string (nullable = true)\n",
      " |-- outCitations: array (nullable = true)\n",
      " |    |-- element: string (containsNull = true)\n",
      " |-- paperAbstract: string (nullable = true)\n",
      " |-- pdfUrls: array (nullable = true)\n",
      " |    |-- element: string (containsNull = true)\n",
      " |-- pmid: string (nullable = true)\n",
      " |-- s2PdfUrl: string (nullable = true)\n",
      " |-- s2Url: string (nullable = true)\n",
      " |-- sources: array (nullable = true)\n",
      " |    |-- element: string (containsNull = true)\n",
      " |-- title: string (nullable = true)\n",
      " |-- venue: string (nullable = true)\n",
      " |-- year: long (nullable = true)\n",
      "\n"
     ]
    }
   ],
   "source": [
    "spark_df.printSchema()"
   ]
  },
  {
   "cell_type": "code",
   "execution_count": 14,
   "metadata": {},
   "outputs": [
    {
     "data": {
      "text/plain": [
       "[('authors', 'array<struct<ids:array<string>,name:string>>'),\n",
       " ('doi', 'string'),\n",
       " ('doiUrl', 'string'),\n",
       " ('entities', 'array<string>'),\n",
       " ('fieldsOfStudy', 'array<string>'),\n",
       " ('id', 'string'),\n",
       " ('inCitations', 'array<string>'),\n",
       " ('journalName', 'string'),\n",
       " ('journalPages', 'string'),\n",
       " ('journalVolume', 'string'),\n",
       " ('outCitations', 'array<string>'),\n",
       " ('paperAbstract', 'string'),\n",
       " ('pdfUrls', 'array<string>'),\n",
       " ('pmid', 'string'),\n",
       " ('s2PdfUrl', 'string'),\n",
       " ('s2Url', 'string'),\n",
       " ('sources', 'array<string>'),\n",
       " ('title', 'string'),\n",
       " ('venue', 'string'),\n",
       " ('year', 'bigint')]"
      ]
     },
     "execution_count": 14,
     "metadata": {},
     "output_type": "execute_result"
    }
   ],
   "source": [
    "spark_df.dtypes"
   ]
  },
  {
   "cell_type": "code",
   "execution_count": 15,
   "metadata": {},
   "outputs": [],
   "source": [
    "# spark_df.summary()"
   ]
  },
  {
   "cell_type": "markdown",
   "metadata": {},
   "source": [
    "### Checking if any NaN rows "
   ]
  },
  {
   "cell_type": "code",
   "execution_count": 7,
   "metadata": {},
   "outputs": [
    {
     "name": "stdout",
     "output_type": "stream",
     "text": [
      "Total Null rows =  192481\n",
      "Nulls as pct of total = 1.93%\n"
     ]
    }
   ],
   "source": [
    "#Calculating total number of NAN rows\n",
    "row_count = spark_df.count()\n",
    "null_row_count = row_count - spark_df.dropna().count()\n",
    "print(\"Total Null rows = \", null_row_count)\n",
    "print(\"Nulls as pct of total = {}%\".format(round((null_row_count/row_count)*100, 2)))"
   ]
  },
  {
   "cell_type": "code",
   "execution_count": 55,
   "metadata": {},
   "outputs": [
    {
     "data": {
      "text/plain": [
       "2180"
      ]
     },
     "execution_count": 55,
     "metadata": {},
     "output_type": "execute_result"
    }
   ],
   "source": [
    "spark_df.select('fieldsOfStudy').distinct().count()"
   ]
  },
  {
   "cell_type": "code",
   "execution_count": 56,
   "metadata": {},
   "outputs": [
    {
     "name": "stdout",
     "output_type": "stream",
     "text": [
      "+-------------------+-------+\n",
      "|      fieldsOfStudy|  count|\n",
      "+-------------------+-------+\n",
      "|         [Medicine]|1797410|\n",
      "|                 []|1270796|\n",
      "|        [Chemistry]| 647360|\n",
      "| [Computer Science]| 605115|\n",
      "|      [Engineering]| 532338|\n",
      "|          [Biology]| 493352|\n",
      "|          [Physics]| 456051|\n",
      "|[Materials Science]| 427580|\n",
      "|       [Psychology]| 354488|\n",
      "|          [History]| 312121|\n",
      "|        [Sociology]| 299245|\n",
      "|              [Art]| 292479|\n",
      "|      [Mathematics]| 269465|\n",
      "|[Political Science]| 268942|\n",
      "|        [Geography]| 250747|\n",
      "|        [Economics]| 198698|\n",
      "|[Medicine, Biology]| 189729|\n",
      "|         [Business]| 184848|\n",
      "|[Biology, Medicine]| 170081|\n",
      "|          [Geology]| 166235|\n",
      "+-------------------+-------+\n",
      "only showing top 20 rows\n",
      "\n"
     ]
    }
   ],
   "source": [
    "spark_df.groupby('fieldsOfStudy').count().sort(\"count\").orderBy([\"count\"], ascending=[0]).show(20)"
   ]
  },
  {
   "cell_type": "code",
   "execution_count": 57,
   "metadata": {},
   "outputs": [
    {
     "data": {
      "text/plain": [
       "86"
      ]
     },
     "execution_count": 57,
     "metadata": {},
     "output_type": "execute_result"
    }
   ],
   "source": [
    "spark_df.select('year').distinct().count()"
   ]
  },
  {
   "cell_type": "markdown",
   "metadata": {},
   "source": [
    "## Creating column that counts the inCitations = how many times this paper was cited"
   ]
  },
  {
   "cell_type": "code",
   "execution_count": 69,
   "metadata": {},
   "outputs": [],
   "source": [
    "from pyspark.sql.functions import udf #user defined function\n",
    "from pyspark.sql.types import * #Import types == IntegerType, StringType etc.\n",
    "\n",
    "length = udf(lambda listt: len(listt), IntegerType())"
   ]
  },
  {
   "cell_type": "code",
   "execution_count": 70,
   "metadata": {},
   "outputs": [],
   "source": [
    "spark_df2 = spark_df.withColumn('inCitations_count', length(spark_df['inCitations']))"
   ]
  },
  {
   "cell_type": "code",
   "execution_count": 71,
   "metadata": {
    "scrolled": true
   },
   "outputs": [
    {
     "name": "stdout",
     "output_type": "stream",
     "text": [
      "+-----------------+--------------------+\n",
      "|inCitations_count|         inCitations|\n",
      "+-----------------+--------------------+\n",
      "|                0|                  []|\n",
      "|                0|                  []|\n",
      "|                0|                  []|\n",
      "|               13|[8ecaab2a03953fa5...|\n",
      "|                0|                  []|\n",
      "|                0|                  []|\n",
      "|                0|                  []|\n",
      "|                0|                  []|\n",
      "|               22|[ecec08f5ca15e07d...|\n",
      "|                2|[2da3df885d1f032d...|\n",
      "+-----------------+--------------------+\n",
      "only showing top 10 rows\n",
      "\n"
     ]
    }
   ],
   "source": [
    "spark_df2.select('inCitations_count', 'inCitations').show(10)"
   ]
  },
  {
   "cell_type": "markdown",
   "metadata": {},
   "source": [
    "## Creating column that counts the outCitations = how many other papers this paper cited"
   ]
  },
  {
   "cell_type": "code",
   "execution_count": 72,
   "metadata": {},
   "outputs": [
    {
     "name": "stdout",
     "output_type": "stream",
     "text": [
      "+------------------+--------------------+\n",
      "|outCitations_count|        outCitations|\n",
      "+------------------+--------------------+\n",
      "|                 0|                  []|\n",
      "|                 0|                  []|\n",
      "|                 0|                  []|\n",
      "|                69|[cf5cdba6424524ee...|\n",
      "|                 0|                  []|\n",
      "|                 0|                  []|\n",
      "|                 0|                  []|\n",
      "|                 0|                  []|\n",
      "|                 0|                  []|\n",
      "|                 0|                  []|\n",
      "+------------------+--------------------+\n",
      "only showing top 10 rows\n",
      "\n"
     ]
    }
   ],
   "source": [
    "spark_df2 = spark_df2.withColumn('outCitations_count', length(spark_df2['outCitations']))\n",
    "spark_df2.select('outCitations_count', 'outCitations').show(10)"
   ]
  },
  {
   "cell_type": "code",
   "execution_count": 73,
   "metadata": {},
   "outputs": [],
   "source": [
    "#Counting distinct values in each column\n",
    "from pyspark.sql.functions import countDistinct, col\n",
    "\n",
    "distinct_pdf = spark_df2.agg(*(countDistinct(col(c)).alias(c) for c in spark_df2.columns)).collect()\n",
    "\n",
    "distinct_pdf = pd.DataFrame(pd.DataFrame(distinct_pdf, columns = spark_df2.columns).stack(0)).rename({0:'distinct_cnt'}, axis = 1)"
   ]
  },
  {
   "cell_type": "code",
   "execution_count": 74,
   "metadata": {},
   "outputs": [
    {
     "data": {
      "text/html": [
       "<div>\n",
       "<style scoped>\n",
       "    .dataframe tbody tr th:only-of-type {\n",
       "        vertical-align: middle;\n",
       "    }\n",
       "\n",
       "    .dataframe tbody tr th {\n",
       "        vertical-align: top;\n",
       "    }\n",
       "\n",
       "    .dataframe thead th {\n",
       "        text-align: right;\n",
       "    }\n",
       "</style>\n",
       "<table border=\"1\" class=\"dataframe\">\n",
       "  <thead>\n",
       "    <tr style=\"text-align: right;\">\n",
       "      <th></th>\n",
       "      <th></th>\n",
       "      <th>distinct_cnt</th>\n",
       "    </tr>\n",
       "  </thead>\n",
       "  <tbody>\n",
       "    <tr>\n",
       "      <th rowspan=\"22\" valign=\"top\">0</th>\n",
       "      <th>entities</th>\n",
       "      <td>1</td>\n",
       "    </tr>\n",
       "    <tr>\n",
       "      <th>s2PdfUrl</th>\n",
       "      <td>1</td>\n",
       "    </tr>\n",
       "    <tr>\n",
       "      <th>sources</th>\n",
       "      <td>5</td>\n",
       "    </tr>\n",
       "    <tr>\n",
       "      <th>year</th>\n",
       "      <td>85</td>\n",
       "    </tr>\n",
       "    <tr>\n",
       "      <th>outCitations_count</th>\n",
       "      <td>678</td>\n",
       "    </tr>\n",
       "    <tr>\n",
       "      <th>inCitations_count</th>\n",
       "      <td>1654</td>\n",
       "    </tr>\n",
       "    <tr>\n",
       "      <th>fieldsOfStudy</th>\n",
       "      <td>2180</td>\n",
       "    </tr>\n",
       "    <tr>\n",
       "      <th>journalName</th>\n",
       "      <td>50554</td>\n",
       "    </tr>\n",
       "    <tr>\n",
       "      <th>venue</th>\n",
       "      <td>61054</td>\n",
       "    </tr>\n",
       "    <tr>\n",
       "      <th>journalVolume</th>\n",
       "      <td>77493</td>\n",
       "    </tr>\n",
       "    <tr>\n",
       "      <th>journalPages</th>\n",
       "      <td>411597</td>\n",
       "    </tr>\n",
       "    <tr>\n",
       "      <th>outCitations</th>\n",
       "      <td>1572215</td>\n",
       "    </tr>\n",
       "    <tr>\n",
       "      <th>pmid</th>\n",
       "      <td>1692355</td>\n",
       "    </tr>\n",
       "    <tr>\n",
       "      <th>pdfUrls</th>\n",
       "      <td>1783133</td>\n",
       "    </tr>\n",
       "    <tr>\n",
       "      <th>inCitations</th>\n",
       "      <td>2846805</td>\n",
       "    </tr>\n",
       "    <tr>\n",
       "      <th>doiUrl</th>\n",
       "      <td>4886396</td>\n",
       "    </tr>\n",
       "    <tr>\n",
       "      <th>doi</th>\n",
       "      <td>4886420</td>\n",
       "    </tr>\n",
       "    <tr>\n",
       "      <th>paperAbstract</th>\n",
       "      <td>5525030</td>\n",
       "    </tr>\n",
       "    <tr>\n",
       "      <th>authors</th>\n",
       "      <td>8375458</td>\n",
       "    </tr>\n",
       "    <tr>\n",
       "      <th>title</th>\n",
       "      <td>9915513</td>\n",
       "    </tr>\n",
       "    <tr>\n",
       "      <th>s2Url</th>\n",
       "      <td>9976989</td>\n",
       "    </tr>\n",
       "    <tr>\n",
       "      <th>id</th>\n",
       "      <td>9976989</td>\n",
       "    </tr>\n",
       "  </tbody>\n",
       "</table>\n",
       "</div>"
      ],
      "text/plain": [
       "                      distinct_cnt\n",
       "0 entities                       1\n",
       "  s2PdfUrl                       1\n",
       "  sources                        5\n",
       "  year                          85\n",
       "  outCitations_count           678\n",
       "  inCitations_count           1654\n",
       "  fieldsOfStudy               2180\n",
       "  journalName                50554\n",
       "  venue                      61054\n",
       "  journalVolume              77493\n",
       "  journalPages              411597\n",
       "  outCitations             1572215\n",
       "  pmid                     1692355\n",
       "  pdfUrls                  1783133\n",
       "  inCitations              2846805\n",
       "  doiUrl                   4886396\n",
       "  doi                      4886420\n",
       "  paperAbstract            5525030\n",
       "  authors                  8375458\n",
       "  title                    9915513\n",
       "  s2Url                    9976989\n",
       "  id                       9976989"
      ]
     },
     "execution_count": 74,
     "metadata": {},
     "output_type": "execute_result"
    }
   ],
   "source": [
    "distinct_pdf.sort_values('distinct_cnt')"
   ]
  },
  {
   "cell_type": "markdown",
   "metadata": {},
   "source": [
    "Let's look at a sample abstract"
   ]
  },
  {
   "cell_type": "code",
   "execution_count": 67,
   "metadata": {},
   "outputs": [
    {
     "data": {
      "text/plain": [
       "'The problem of budgetary overrun in real estate projects has been enterprises attach great importance.In this paper,we analyze the cause of budgetary overrun in real estate projects in view of building materials,equipment investment and construction;secondly,from the construction costs of the standardized management,enterprise system management and other aspects,we super effective countermeasures to control the budgetary overrun in real estate projects;finally,taking an example of a real estate project in Hunan Province,in detail we analyze the causes and control measures of budgetary overrun in real estate projects.The study can be implemented to provide guidance for similar projects.'"
      ]
     },
     "execution_count": 67,
     "metadata": {},
     "output_type": "execute_result"
    }
   ],
   "source": [
    "spark_df2.select('paperAbstract').limit(1).collect()[0][0]"
   ]
  },
  {
   "cell_type": "markdown",
   "metadata": {},
   "source": [
    "## Tokenize the abstract & title"
   ]
  },
  {
   "cell_type": "code",
   "execution_count": 75,
   "metadata": {},
   "outputs": [],
   "source": [
    "from pyspark.sql.functions import udf, col, lower, regexp_replace\n",
    "from pyspark.ml.feature import Tokenizer, StopWordsRemover\n",
    "from nltk.stem.snowball import SnowballStemmer\n",
    "\n",
    "# Clean text\n",
    "spark_df2 = spark_df2.withColumn('paperAbstract', (lower(regexp_replace('paperAbstract', \"[^a-zA-Z\\\\s]\", \"\"))))\n",
    "spark_df2 = spark_df2.withColumn('title', (lower(regexp_replace('title', \"[^a-zA-Z\\\\s]\", \"\"))))\n",
    "\n",
    "# word_count = udf(lambda string: len(nltk.word_tokenize(string)), IntegerType()) ## OLD SOLUTION \n",
    "from pyspark.ml.feature import HashingTF, IDF, Tokenizer\n",
    "\n",
    "#tokenize words\n",
    "tokenizer = Tokenizer(inputCol=\"paperAbstract\", outputCol=\"abstract_tokens\")\n",
    "spark_df2 = tokenizer.transform(spark_df2)\n",
    "\n",
    "tokenizer = Tokenizer(inputCol=\"title\", outputCol=\"title_tokens\")\n",
    "spark_df2 = tokenizer.transform(spark_df2)"
   ]
  },
  {
   "cell_type": "markdown",
   "metadata": {},
   "source": [
    "## Remove Stopwords"
   ]
  },
  {
   "cell_type": "code",
   "execution_count": 76,
   "metadata": {},
   "outputs": [],
   "source": [
    "from pyspark.ml.feature import StopWordsRemover\n",
    "\n",
    "#remove stop words\n",
    "remover = StopWordsRemover(inputCol=\"abstract_tokens\", outputCol=\"abstract_tokens_filtered\")\n",
    "spark_df2 = remover.transform(spark_df2)\n",
    "\n",
    "#remove stop words\n",
    "remover = StopWordsRemover(inputCol=\"title_tokens\", outputCol=\"title_tokens_filtered\")\n",
    "spark_df2 = remover.transform(spark_df2)"
   ]
  },
  {
   "cell_type": "markdown",
   "metadata": {},
   "source": [
    "## Filter short words"
   ]
  },
  {
   "cell_type": "code",
   "execution_count": 78,
   "metadata": {},
   "outputs": [],
   "source": [
    "# Filter length word > 3\n",
    "filter_length_udf = udf(lambda row: [x for x in row if len(x) >= 3], ArrayType(StringType()))\n",
    "\n",
    "spark_df2 = spark_df2.withColumn('abstract_tokens_filtered', filter_length_udf(col('abstract_tokens_filtered')))\n",
    "spark_df2 = spark_df2.withColumn('title_tokens_filtered', filter_length_udf(col('title_tokens_filtered')))"
   ]
  },
  {
   "cell_type": "markdown",
   "metadata": {},
   "source": [
    "## Lemmetize words"
   ]
  },
  {
   "cell_type": "code",
   "execution_count": 81,
   "metadata": {},
   "outputs": [
    {
     "name": "stdout",
     "output_type": "stream",
     "text": [
      "[nltk_data] Downloading package wordnet to\n",
      "[nltk_data]     /home/nazihkalo/nltk_data...\n",
      "[nltk_data]   Package wordnet is already up-to-date!\n"
     ]
    }
   ],
   "source": [
    "nltk.download('wordnet')\n",
    "lemmatizer = WordNetLemmatizer()\n",
    "def lemmatizationFunct(x):\n",
    "    finalLem = [lemmatizer.lemmatize(s) for s in x]\n",
    "    return finalLem\n",
    "\n",
    "lemmetize_udf = udf(lambda tokens: lemmatizationFunct(tokens), ArrayType(StringType())) \n",
    "\n",
    "spark_df2 = spark_df2.withColumn('abstract_tokens_filtered_lem', lemmetize_udf(spark_df2['abstract_tokens_filtered']))\n",
    "spark_df2 = spark_df2.withColumn('title_tokens_filtered_lem', lemmetize_udf(spark_df2['title_tokens_filtered']))"
   ]
  },
  {
   "cell_type": "markdown",
   "metadata": {},
   "source": [
    "## Create wcount columns"
   ]
  },
  {
   "cell_type": "code",
   "execution_count": 82,
   "metadata": {},
   "outputs": [
    {
     "name": "stdout",
     "output_type": "stream",
     "text": [
      "+---------------------+------------+------------------------+---------------+\n",
      "|title_tokens_filtered|title_wcount|abstract_tokens_filtered|abstract_wcount|\n",
      "+---------------------+------------+------------------------+---------------+\n",
      "| [cause, analysis,...|           9|    [problem, budgeta...|             61|\n",
      "| [clair, comme, lu...|          14|                      []|              0|\n",
      "| [unexpected, deat...|          10|    [aims, objectives...|            197|\n",
      "| [rnaseq, analysis...|          10|    [mitogenactivated...|            140|\n",
      "| [temporal, trends...|          11|                      []|              0|\n",
      "|                   []|           0|                      []|              0|\n",
      "| [application, ium...|           6|                      []|              0|\n",
      "| [constituio, lxic...|           5|    [lexico, desperta...|             90|\n",
      "| [nanobiocomposite...|           8|    [ternary, nanobio...|             81|\n",
      "| [feasibility, two...|           9|    [background, aim,...|            127|\n",
      "+---------------------+------------+------------------------+---------------+\n",
      "only showing top 10 rows\n",
      "\n"
     ]
    }
   ],
   "source": [
    "from pyspark.sql.functions import udf \n",
    "\n",
    "word_count = udf(lambda tokens: len(tokens), IntegerType()) \n",
    "\n",
    "spark_df2 = spark_df2.withColumn('abstract_wcount', word_count(spark_df2['abstract_tokens_filtered_lem']))\n",
    "spark_df2 = spark_df2.withColumn('title_wcount', word_count(spark_df2['title_tokens_filtered_lem']))\n",
    "\n",
    "spark_df2.select('title_tokens_filtered_lem', 'title_wcount', 'abstract_tokens_filtered_lem', 'abstract_wcount').show(10)"
   ]
  },
  {
   "cell_type": "markdown",
   "metadata": {},
   "source": [
    "## TFIDF for abstract and title"
   ]
  },
  {
   "cell_type": "code",
   "execution_count": 131,
   "metadata": {},
   "outputs": [],
   "source": [
    "#Maps a sequence of terms to their term frequencies using the hashing trick. \n",
    "hashingTF1 = HashingTF(inputCol=\"abstract_tokens_filtered_lem\", outputCol=\"abstract_tokens_filtered_lem_count\")\n",
    "hashingTF2 = HashingTF(inputCol=\"title_tokens_filtered_lem\", outputCol=\"title_tokens_filtered_lem_count\")\n",
    "featurizedData = hashingTF1.transform(spark_df2)\n",
    "featurizedData = hashingTF2.transform(featurizedData)\n",
    "\n",
    "#Getting IDF\n",
    "idf = IDF(inputCol=\"abstract_tokens_filtered_lem_count\", outputCol=\"abstract_tfidf\")\n",
    "idf2 = IDF(inputCol=\"title_tokens_filtered_lem_count\", outputCol=\"title_tfidf\")\n",
    "\n",
    "idfModel = idf.fit(featurizedData)\n",
    "spark_df3 = idfModel.transform(featurizedData)\n",
    "idfModel = idf2.fit(spark_df3)\n",
    "spark_df3 = idfModel.transform(spark_df3)\n"
   ]
  },
  {
   "cell_type": "code",
   "execution_count": 132,
   "metadata": {},
   "outputs": [
    {
     "name": "stdout",
     "output_type": "stream",
     "text": [
      "+-------------------------+--------------------+----------------------------+--------------------+\n",
      "|title_tokens_filtered_lem|         title_tfidf|abstract_tokens_filtered_lem|      abstract_tfidf|\n",
      "+-------------------------+--------------------+----------------------------+--------------------+\n",
      "|     [cause, analysis,...|(262144,[14898,10...|        [problem, budgeta...|(262144,[14898,31...|\n",
      "|     [clair, comme, lu...|(262144,[19604,34...|                          []|      (262144,[],[])|\n",
      "|     [unexpected, deat...|(262144,[5595,660...|        [aim, objective, ...|(262144,[3824,559...|\n",
      "|     [rnaseq, analysis...|(262144,[15207,63...|        [mitogenactivated...|(262144,[3888,685...|\n",
      "|     [temporal, trend,...|(262144,[20908,32...|                          []|      (262144,[],[])|\n",
      "+-------------------------+--------------------+----------------------------+--------------------+\n",
      "only showing top 5 rows\n",
      "\n"
     ]
    }
   ],
   "source": [
    "spark_df3.select('title_tokens_filtered_lem',\"title_tfidf\",'abstract_tokens_filtered_lem', \"abstract_tfidf\").show(5)"
   ]
  },
  {
   "cell_type": "markdown",
   "metadata": {},
   "source": [
    "## Word2Vec Loading model: 2 failed attempts- gensim & pyspark model"
   ]
  },
  {
   "cell_type": "code",
   "execution_count": 129,
   "metadata": {},
   "outputs": [],
   "source": [
    "# !ls '/project/msca/kadochnikov/wordvec/GoogleNews-vectors-negative300.bin'"
   ]
  },
  {
   "cell_type": "code",
   "execution_count": 121,
   "metadata": {},
   "outputs": [],
   "source": [
    "# from pyspark.ml.feature import Word2Vec\n",
    "# loadedWord2Vec = Word2Vec.load('file:///' +'project/msca/kadochnikov/wordvec/glove.6B.300d.txt')\n",
    "# #Word2Vec.load('file:///' +'project/msca/kadochnikov/wordvec/GoogleNews-vectors-negative300.bin')"
   ]
  },
  {
   "cell_type": "code",
   "execution_count": 128,
   "metadata": {},
   "outputs": [],
   "source": [
    "# import time\n",
    "# start_time = time.time()\n",
    "\n",
    "# from gensim.models import KeyedVectors\n",
    "# model_google = KeyedVectors.load_word2vec_format('file:///'+'/project/msca/kadochnikov/wordvec/GoogleNews-vectors-negative300.bin', binary=True)\n",
    "\n",
    "# print(\"Load time {} seconds\".format(time.time() - start_time))\n",
    "\n",
    "# import numpy as np\n",
    "# def title2vec(title):\n",
    "#     try:\n",
    "#         vecs = np.array([model_google[str(i)] for i in title])\n",
    "#         mean_vec = np.mean(vecs, axis = 0).tolist()\n",
    "#     except:\n",
    "#         mean_vec = [0]*300\n",
    "#     return mean_vec\n",
    "\n",
    "# title2vec_udf = udf(lambda title: title2vec(title), ArrayType(FloatType()))\n",
    "\n",
    "# spark_df2.limit(10).withColumn('vecs', title2vec_udf(col('title_tokens_filtered_lem'))).show()\n",
    "# res = title2vec(spark_df2.select('title_tokens_filtered_lem').take(1)[0][0])\n",
    "\n"
   ]
  },
  {
   "cell_type": "markdown",
   "metadata": {},
   "source": [
    "## Mapping SJR to journal name "
   ]
  },
  {
   "cell_type": "code",
   "execution_count": 133,
   "metadata": {},
   "outputs": [],
   "source": [
    "journal_map = spark.read.csv('big_data_project/scimagojr_2017.csv', sep = ';',inferSchema=True, header=True )"
   ]
  },
  {
   "cell_type": "code",
   "execution_count": 134,
   "metadata": {},
   "outputs": [
    {
     "name": "stdout",
     "output_type": "stream",
     "text": [
      "root\n",
      " |-- Rank: integer (nullable = true)\n",
      " |-- Sourceid: long (nullable = true)\n",
      " |-- Title: string (nullable = true)\n",
      " |-- Type: string (nullable = true)\n",
      " |-- Issn: string (nullable = true)\n",
      " |-- SJR: string (nullable = true)\n",
      " |-- SJR Best Quartile: string (nullable = true)\n",
      " |-- H index: string (nullable = true)\n",
      " |-- Total Docs. (2017): integer (nullable = true)\n",
      " |-- Total Docs. (3years): integer (nullable = true)\n",
      " |-- Total Refs.: integer (nullable = true)\n",
      " |-- Total Cites (3years): integer (nullable = true)\n",
      " |-- Citable Docs. (3years): integer (nullable = true)\n",
      " |-- Cites / Doc. (2years): string (nullable = true)\n",
      " |-- Ref. / Doc.: string (nullable = true)\n",
      " |-- Country: string (nullable = true)\n",
      " |-- Publisher: string (nullable = true)\n",
      " |-- Coverage: string (nullable = true)\n",
      " |-- Categories: string (nullable = true)\n",
      "\n"
     ]
    }
   ],
   "source": [
    "journal_map.printSchema()"
   ]
  },
  {
   "cell_type": "code",
   "execution_count": 135,
   "metadata": {},
   "outputs": [],
   "source": [
    "#Renaming column so they dont have same name \n",
    "journal_map2 = journal_map.withColumnRenamed('Title', 'journal_name')"
   ]
  },
  {
   "cell_type": "code",
   "execution_count": 136,
   "metadata": {},
   "outputs": [
    {
     "data": {
      "text/plain": [
       "50554"
      ]
     },
     "execution_count": 136,
     "metadata": {},
     "output_type": "execute_result"
    }
   ],
   "source": [
    "spark_df3.select('journalName').distinct().count()"
   ]
  },
  {
   "cell_type": "code",
   "execution_count": 149,
   "metadata": {},
   "outputs": [],
   "source": [
    "joined_dfs = spark_df3.join(journal_map2, on = spark_df.journalName == journal_map2.journal_name, how = 'left_outer')"
   ]
  },
  {
   "cell_type": "code",
   "execution_count": 150,
   "metadata": {},
   "outputs": [
    {
     "name": "stdout",
     "output_type": "stream",
     "text": [
      "+-----------+--------+------------+----+\n",
      "|journalName|   venue|journal_name| SJR|\n",
      "+-----------+--------+------------+----+\n",
      "|           |        |        null|null|\n",
      "|           |        |        null|null|\n",
      "|           |        |        null|null|\n",
      "|           |PloS one|        null|null|\n",
      "|           |        |        null|null|\n",
      "+-----------+--------+------------+----+\n",
      "only showing top 5 rows\n",
      "\n"
     ]
    }
   ],
   "source": [
    "joined_dfs.select('journalName', 'venue', 'journal_name', 'SJR').show(5)"
   ]
  },
  {
   "cell_type": "markdown",
   "metadata": {},
   "source": [
    "### Find 25 percentile to fill "
   ]
  },
  {
   "cell_type": "code",
   "execution_count": 151,
   "metadata": {},
   "outputs": [
    {
     "data": {
      "text/plain": [
       "124"
      ]
     },
     "execution_count": 151,
     "metadata": {},
     "output_type": "execute_result"
    }
   ],
   "source": [
    "SJR = journal_map.toPandas()[['SJR']]\n",
    "SJR_fillna_val = int(SJR.apply(lambda x: x.str.replace(',','')).dropna().astype(int).quantile(0.25)[0])\n",
    "SJR_fillna_val"
   ]
  },
  {
   "cell_type": "code",
   "execution_count": 152,
   "metadata": {},
   "outputs": [],
   "source": [
    "joined_dfs = joined_dfs.drop('SJR Best Quartile', 'H index', 'Total Docs. (2017)', 'Total Docs. (3years)', \n",
    "                'Total Refs.', 'Total Cites (3years)', 'Citable Docs. (3years)', 'Cites / Doc. (2years)', \n",
    "                'Ref. / Doc.', 'Country', 'Publisher','Coverage', 'Categories', 'journal_name', 'Type', 'Issn',\n",
    "                            'Rank', 'Sourceid')"
   ]
  },
  {
   "cell_type": "code",
   "execution_count": 153,
   "metadata": {},
   "outputs": [],
   "source": [
    "joined_dfs = joined_dfs.na.fill({'SJR': SJR_fillna_val})"
   ]
  },
  {
   "cell_type": "markdown",
   "metadata": {},
   "source": [
    "## Fixing some dtypes\n"
   ]
  },
  {
   "cell_type": "code",
   "execution_count": 154,
   "metadata": {},
   "outputs": [
    {
     "data": {
      "text/plain": [
       "[('authors', 'array<struct<ids:array<string>,name:string>>'),\n",
       " ('doi', 'string'),\n",
       " ('doiUrl', 'string'),\n",
       " ('entities', 'array<string>'),\n",
       " ('fieldsOfStudy', 'array<string>'),\n",
       " ('id', 'string'),\n",
       " ('inCitations', 'array<string>'),\n",
       " ('journalName', 'string'),\n",
       " ('journalPages', 'string'),\n",
       " ('journalVolume', 'string'),\n",
       " ('outCitations', 'array<string>'),\n",
       " ('paperAbstract', 'string'),\n",
       " ('pdfUrls', 'array<string>'),\n",
       " ('pmid', 'string'),\n",
       " ('s2PdfUrl', 'string'),\n",
       " ('s2Url', 'string'),\n",
       " ('sources', 'array<string>'),\n",
       " ('title', 'string'),\n",
       " ('venue', 'string'),\n",
       " ('year', 'bigint'),\n",
       " ('inCitations_count', 'int'),\n",
       " ('outCitations_count', 'int'),\n",
       " ('abstract_tokens', 'array<string>'),\n",
       " ('title_tokens', 'array<string>'),\n",
       " ('abstract_tokens_filtered', 'array<string>'),\n",
       " ('title_tokens_filtered', 'array<string>'),\n",
       " ('abstract_tokens_filtered_lem', 'array<string>'),\n",
       " ('title_tokens_filtered_lem', 'array<string>'),\n",
       " ('abstract_wcount', 'int'),\n",
       " ('title_wcount', 'int'),\n",
       " ('abstract_tokens_filtered_lem_count', 'vector'),\n",
       " ('title_tokens_filtered_lem_count', 'vector'),\n",
       " ('abstract_tfidf', 'vector'),\n",
       " ('title_tfidf', 'vector'),\n",
       " ('SJR', 'string')]"
      ]
     },
     "execution_count": 154,
     "metadata": {},
     "output_type": "execute_result"
    }
   ],
   "source": [
    "joined_dfs.dtypes"
   ]
  },
  {
   "cell_type": "markdown",
   "metadata": {},
   "source": [
    "### Splitting authors column into authorname & authorID"
   ]
  },
  {
   "cell_type": "code",
   "execution_count": 155,
   "metadata": {},
   "outputs": [],
   "source": [
    "import pyspark.sql.functions as F\n",
    "joined_dfs = joined_dfs.withColumn('author_ids', F.col('authors.ids'))\n",
    "joined_dfs = joined_dfs.withColumn('author_names', F.col('authors.name'))"
   ]
  },
  {
   "cell_type": "markdown",
   "metadata": {},
   "source": [
    "### Counting number of authors "
   ]
  },
  {
   "cell_type": "code",
   "execution_count": 158,
   "metadata": {},
   "outputs": [
    {
     "name": "stdout",
     "output_type": "stream",
     "text": [
      "+--------------------+------------+\n",
      "|        author_names|author_count|\n",
      "+--------------------+------------+\n",
      "|       [Yang Li-pin]|           1|\n",
      "|[Sandra V. . Aute...|           4|\n",
      "|[Mns Rn Community...|           2|\n",
      "|[Ya Jun Liu, Miao...|           8|\n",
      "|[Awsan Noman, Moh...|           5|\n",
      "+--------------------+------------+\n",
      "only showing top 5 rows\n",
      "\n"
     ]
    }
   ],
   "source": [
    "joined_dfs = joined_dfs.withColumn('author_count', word_count(joined_dfs['author_names']))\n",
    "\n",
    "joined_dfs.select('author_names' ,'author_count').show(5)"
   ]
  },
  {
   "cell_type": "markdown",
   "metadata": {},
   "source": [
    "## ONE HOT ENCODING CATEGORICALS"
   ]
  },
  {
   "cell_type": "code",
   "execution_count": 164,
   "metadata": {},
   "outputs": [
    {
     "name": "stdout",
     "output_type": "stream",
     "text": [
      "+-------------------+---------+\n",
      "|      fieldsOfStudy|  sources|\n",
      "+-------------------+---------+\n",
      "|         [Business]|       []|\n",
      "|          [History]|       []|\n",
      "|         [Medicine]|       []|\n",
      "|[Medicine, Biology]|[Medline]|\n",
      "|         [Medicine]|       []|\n",
      "+-------------------+---------+\n",
      "only showing top 5 rows\n",
      "\n"
     ]
    }
   ],
   "source": [
    "joined_dfs.select('fieldsOfStudy', 'sources').show(5)"
   ]
  },
  {
   "cell_type": "code",
   "execution_count": 168,
   "metadata": {},
   "outputs": [
    {
     "name": "stdout",
     "output_type": "stream",
     "text": [
      "+---------------+\n",
      "|        sources|\n",
      "+---------------+\n",
      "|      [Medline]|\n",
      "|         [DBLP]|\n",
      "|             []|\n",
      "|[Medline, DBLP]|\n",
      "|[DBLP, Medline]|\n",
      "+---------------+\n",
      "\n"
     ]
    }
   ],
   "source": [
    "joined_dfs.select('sources').distinct().show()"
   ]
  },
  {
   "cell_type": "markdown",
   "metadata": {},
   "source": [
    "### Now let's unpack the arrays and turn them into strings"
   ]
  },
  {
   "cell_type": "code",
   "execution_count": 165,
   "metadata": {},
   "outputs": [],
   "source": [
    "#Defining function to unpack list intro string joined with ', ' \n",
    "udf_unpack = udf(lambda listt: ', '.join(listt), StringType())"
   ]
  },
  {
   "cell_type": "code",
   "execution_count": 174,
   "metadata": {},
   "outputs": [],
   "source": [
    "joined_dfs = joined_dfs.withColumn('fieldsOfStudy', udf_unpack(col('fieldsOfStudy')))\n",
    "joined_dfs = joined_dfs.withColumn('sources', udf_unpack(col('sources')))"
   ]
  },
  {
   "cell_type": "code",
   "execution_count": 185,
   "metadata": {},
   "outputs": [],
   "source": [
    "joined_dfs = joined_dfs.withColumn('sources', regexp_replace(col(\"sources\"), r\"^\\s*$\", \"no_source\"))\n",
    "joined_dfs = joined_dfs.withColumn('fieldsOfStudy', regexp_replace(col(\"fieldsOfStudy\"), r\"^\\s*$\", \"no_FoS\"))"
   ]
  },
  {
   "cell_type": "code",
   "execution_count": 186,
   "metadata": {},
   "outputs": [
    {
     "name": "stdout",
     "output_type": "stream",
     "text": [
      "+-------------+\n",
      "|      sources|\n",
      "+-------------+\n",
      "|Medline, DBLP|\n",
      "|      Medline|\n",
      "|         DBLP|\n",
      "|DBLP, Medline|\n",
      "|    no_source|\n",
      "+-------------+\n",
      "\n"
     ]
    }
   ],
   "source": [
    "joined_dfs.select('sources').distinct().show()"
   ]
  },
  {
   "cell_type": "code",
   "execution_count": 187,
   "metadata": {},
   "outputs": [
    {
     "name": "stdout",
     "output_type": "stream",
     "text": [
      "+--------------------+--------------------+--------------------+--------+-----------------+--------------------+--------------------+-----------+------------+-------------+--------------------+--------------------+--------------------+--------+--------+--------------------+---------+--------------------+--------+----+-----------------+------------------+--------------------+--------------------+------------------------+---------------------+----------------------------+-------------------------+---------------+------------+----------------------------------+-------------------------------+--------------------+--------------------+---+--------------------+--------------------+------------+----------------+----------+-----------------+-------------+\n",
      "|             authors|                 doi|              doiUrl|entities|    fieldsOfStudy|                  id|         inCitations|journalName|journalPages|journalVolume|        outCitations|       paperAbstract|             pdfUrls|    pmid|s2PdfUrl|               s2Url|  sources|               title|   venue|year|inCitations_count|outCitations_count|     abstract_tokens|        title_tokens|abstract_tokens_filtered|title_tokens_filtered|abstract_tokens_filtered_lem|title_tokens_filtered_lem|abstract_wcount|title_wcount|abstract_tokens_filtered_lem_count|title_tokens_filtered_lem_count|      abstract_tfidf|         title_tfidf|SJR|          author_ids|        author_names|author_count|fieldsOfStudyIdx|sourcesIdx| fieldsOfStudyVec|   sourcesVec|\n",
      "+--------------------+--------------------+--------------------+--------+-----------------+--------------------+--------------------+-----------+------------+-------------+--------------------+--------------------+--------------------+--------+--------+--------------------+---------+--------------------+--------+----+-----------------+------------------+--------------------+--------------------+------------------------+---------------------+----------------------------+-------------------------+---------------+------------+----------------------------------+-------------------------------+--------------------+--------------------+---+--------------------+--------------------+------------+----------------+----------+-----------------+-------------+\n",
      "|[[[52602509], Yan...|                    |                    |      []|         Business|b9c27ac1bb8b3ec9d...|                  []|           |            |             |                  []|the problem of bu...|                  []|        |        |https://semantics...|no_source|cause analysis an...|        |2014|                0|                 0|[the, problem, of...|[cause, analysis,...|    [problem, budgeta...| [cause, analysis,...|        [problem, budgeta...|     [cause, analysis,...|             61|           9|              (262144,[14898,31...|           (262144,[14898,10...|(262144,[14898,31...|(262144,[14898,10...|124|        [[52602509]]|       [Yang Li-pin]|           1|            17.0|       0.0|(2179,[17],[1.0])|(4,[0],[1.0])|\n",
      "|[[[122800702], Sa...|                    |                    |      []|          History|91cac7b12800a6238...|                  []|           |            |             |                  []|                    |                  []|        |        |https://semantics...|no_source|clair comme lune ...|        |2016|                0|                 0|                  []|[clair, comme, lu...|                      []| [clair, comme, lu...|                          []|     [clair, comme, lu...|              0|          14|                    (262144,[],[])|           (262144,[19604,34...|      (262144,[],[])|(262144,[19604,34...|124|[[122800702], [12...|[Sandra V. . Aute...|           4|             9.0|       0.0| (2179,[9],[1.0])|(4,[0],[1.0])|\n",
      "|[[[1392355377], M...|  10.1111/jocn.12477|https://doi.org/1...|      []|         Medicine|412b10a92babf3509...|                  []|           |            |             |                  []|aims and objectiv...|                  []|        |        |https://semantics...|no_source|unexpected deaths...|        |2013|                0|                 0|[aims, and, objec...|[unexpected, deat...|    [aims, objectives...| [unexpected, deat...|        [aim, objective, ...|     [unexpected, deat...|            197|          10|              (262144,[3824,559...|           (262144,[5595,660...|(262144,[3824,559...|(262144,[5595,660...|124|[[1392355377], [1...|[Mns Rn Community...|           2|             0.0|       0.0| (2179,[0],[1.0])|(4,[0],[1.0])|\n",
      "|[[[47909706], Ya ...|10.1371/journal.p...|https://doi.org/1...|      []|Medicine, Biology|0de1cecd2ed49812f...|[8ecaab2a03953fa5...|           |    551 - 60|           10|[cf5cdba6424524ee...|the mitogenactiva...|[http://ftp.ncbi....|26599013|        |https://semantics...|  Medline|rnaseq analysis r...|PloS one|2015|               13|                69|[the, mitogenacti...|[rnaseq, analysis...|    [mitogenactivated...| [rnaseq, analysis...|        [mitogenactivated...|     [rnaseq, analysis...|            140|          10|              (262144,[3888,685...|           (262144,[15207,63...|(262144,[3888,685...|(262144,[15207,63...|124|[[47909706], [215...|[Ya Jun Liu, Miao...|           8|            16.0|       1.0|(2179,[16],[1.0])|(4,[1],[1.0])|\n",
      "|[[[47264369], Aws...|10.1016/S0735-109...|https://doi.org/1...|      []|         Medicine|1d9fee40f59bf00eb...|                  []|           |            |             |                  []|                    |                  []|        |        |https://semantics...|no_source|temporal trends a...|        |2012|                0|                 0|                  []|[temporal, trends...|                      []| [temporal, trends...|                          []|     [temporal, trend,...|              0|          11|                    (262144,[],[])|           (262144,[20908,32...|      (262144,[],[])|(262144,[20908,32...|124|[[47264369], [654...|[Awsan Noman, Moh...|           5|             0.0|       0.0| (2179,[0],[1.0])|(4,[0],[1.0])|\n",
      "+--------------------+--------------------+--------------------+--------+-----------------+--------------------+--------------------+-----------+------------+-------------+--------------------+--------------------+--------------------+--------+--------+--------------------+---------+--------------------+--------+----+-----------------+------------------+--------------------+--------------------+------------------------+---------------------+----------------------------+-------------------------+---------------+------------+----------------------------------+-------------------------------+--------------------+--------------------+---+--------------------+--------------------+------------+----------------+----------+-----------------+-------------+\n",
      "only showing top 5 rows\n",
      "\n"
     ]
    }
   ],
   "source": [
    "from pyspark.ml.feature import VectorAssembler\n",
    "from pyspark.ml import Pipeline\n",
    "from pyspark.ml.feature import StringIndexer, OneHotEncoderEstimator\n",
    "\n",
    "#convert relevant categorical into one hot encoded\n",
    "indexer1 = StringIndexer(inputCol=\"fieldsOfStudy\", outputCol=\"fieldsOfStudyIdx\").setHandleInvalid(\"skip\")\n",
    "indexer2 = StringIndexer(inputCol=\"sources\", outputCol=\"sourcesIdx\").setHandleInvalid(\"skip\")\n",
    "\n",
    "#gather all indexers as inputs to the One Hot Encoder\n",
    "inputs = [indexer1.getOutputCol(), indexer2.getOutputCol()]\n",
    "\n",
    "#create the one hot encoder\n",
    "encoder = OneHotEncoderEstimator(inputCols=inputs,  \\\n",
    "                                 outputCols=[\"fieldsOfStudyVec\", \"sourcesVec\"])\n",
    "\n",
    "#run it through a pipeline\n",
    "pipeline = Pipeline(stages=[indexer1, indexer2, encoder])\n",
    "encodedData = pipeline.fit(joined_dfs).transform(joined_dfs)\n",
    "\n",
    "#we have removed NAs so dont need to impute missing values.\n",
    "#pipeline = pipeline.na.fill(0) \n",
    "\n",
    "encodedData.show(5)"
   ]
  },
  {
   "cell_type": "markdown",
   "metadata": {},
   "source": [
    "## SELECTING COLUMNS FOR MODELING"
   ]
  },
  {
   "cell_type": "code",
   "execution_count": 191,
   "metadata": {},
   "outputs": [],
   "source": [
    "modeling_data = encodedData.select(\n",
    "    'id', 'year',\n",
    " 'inCitations_count',\n",
    " 'outCitations_count','abstract_wcount',\n",
    " 'title_wcount','abstract_tfidf',\n",
    " 'title_tfidf',\n",
    " 'SJR','author_count','fieldsOfStudyVec',\n",
    " 'sourcesVec')"
   ]
  },
  {
   "cell_type": "code",
   "execution_count": null,
   "metadata": {},
   "outputs": [],
   "source": [
    "# drop_cols = \n",
    "# ['authors','doi','doiUrl','entities','journalPages',\n",
    "#  'journalVolume','paperAbstract',\n",
    "#  'pdfUrls',\n",
    "#  'pmid',\n",
    "#  's2PdfUrl',\n",
    "#  's2Url','title','abstract_tokens',\n",
    "#  'title_tokens',\n",
    "#  'abstract_tokens_filtered',\n",
    "#  'title_tokens_filtered',\n",
    "#  'abstract_tokens_filtered_lem',\n",
    "#  'title_tokens_filtered_lem',\n",
    "#  'abstract_tokens_filtered_lem_count',\n",
    "#  'title_tokens_filtered_lem_count',\n",
    "#  'author_ids',\n",
    "#  'author_names']"
   ]
  },
  {
   "cell_type": "code",
   "execution_count": 193,
   "metadata": {},
   "outputs": [],
   "source": [
    "modeling_data.write.format('parquet').save('modeling_data')"
   ]
  },
  {
   "cell_type": "code",
   "execution_count": 197,
   "metadata": {},
   "outputs": [
    {
     "name": "stdout",
     "output_type": "stream",
     "text": [
      "WARNING: log4j.properties is not found. HADOOP_CONF_DIR may be incomplete.\n",
      "Java HotSpot(TM) 64-Bit Server VM warning: ignoring option MaxPermSize=512M; support was removed in 8.0\n",
      "Found 121 items\n",
      "-rw-r--r--   3 nazihkalo nazihkalo          0 2020-02-17 16:22 modeling_data/_SUCCESS\n",
      "-rw-r--r--   3 nazihkalo nazihkalo     20.6 M 2020-02-17 16:22 modeling_data/part-00000-98e10948-a5e6-4de3-aacc-9a89a2874ca9-c000.snappy.parquet\n",
      "-rw-r--r--   3 nazihkalo nazihkalo     20.8 M 2020-02-17 16:21 modeling_data/part-00001-98e10948-a5e6-4de3-aacc-9a89a2874ca9-c000.snappy.parquet\n",
      "-rw-r--r--   3 nazihkalo nazihkalo     20.7 M 2020-02-17 16:21 modeling_data/part-00002-98e10948-a5e6-4de3-aacc-9a89a2874ca9-c000.snappy.parquet\n",
      "-rw-r--r--   3 nazihkalo nazihkalo     20.6 M 2020-02-17 16:21 modeling_data/part-00003-98e10948-a5e6-4de3-aacc-9a89a2874ca9-c000.snappy.parquet\n",
      "-rw-r--r--   3 nazihkalo nazihkalo     20.7 M 2020-02-17 16:22 modeling_data/part-00004-98e10948-a5e6-4de3-aacc-9a89a2874ca9-c000.snappy.parquet\n",
      "-rw-r--r--   3 nazihkalo nazihkalo     20.6 M 2020-02-17 16:21 modeling_data/part-00005-98e10948-a5e6-4de3-aacc-9a89a2874ca9-c000.snappy.parquet\n",
      "-rw-r--r--   3 nazihkalo nazihkalo     20.6 M 2020-02-17 16:21 modeling_data/part-00006-98e10948-a5e6-4de3-aacc-9a89a2874ca9-c000.snappy.parquet\n",
      "-rw-r--r--   3 nazihkalo nazihkalo     20.6 M 2020-02-17 16:21 modeling_data/part-00007-98e10948-a5e6-4de3-aacc-9a89a2874ca9-c000.snappy.parquet\n",
      "-rw-r--r--   3 nazihkalo nazihkalo     20.7 M 2020-02-17 16:21 modeling_data/part-00008-98e10948-a5e6-4de3-aacc-9a89a2874ca9-c000.snappy.parquet\n",
      "-rw-r--r--   3 nazihkalo nazihkalo     20.7 M 2020-02-17 16:21 modeling_data/part-00009-98e10948-a5e6-4de3-aacc-9a89a2874ca9-c000.snappy.parquet\n",
      "-rw-r--r--   3 nazihkalo nazihkalo     20.6 M 2020-02-17 16:22 modeling_data/part-00010-98e10948-a5e6-4de3-aacc-9a89a2874ca9-c000.snappy.parquet\n",
      "-rw-r--r--   3 nazihkalo nazihkalo     20.6 M 2020-02-17 16:21 modeling_data/part-00011-98e10948-a5e6-4de3-aacc-9a89a2874ca9-c000.snappy.parquet\n",
      "-rw-r--r--   3 nazihkalo nazihkalo     20.7 M 2020-02-17 16:21 modeling_data/part-00012-98e10948-a5e6-4de3-aacc-9a89a2874ca9-c000.snappy.parquet\n",
      "-rw-r--r--   3 nazihkalo nazihkalo     20.6 M 2020-02-17 16:21 modeling_data/part-00013-98e10948-a5e6-4de3-aacc-9a89a2874ca9-c000.snappy.parquet\n",
      "-rw-r--r--   3 nazihkalo nazihkalo     20.7 M 2020-02-17 16:22 modeling_data/part-00014-98e10948-a5e6-4de3-aacc-9a89a2874ca9-c000.snappy.parquet\n",
      "-rw-r--r--   3 nazihkalo nazihkalo     20.6 M 2020-02-17 16:21 modeling_data/part-00015-98e10948-a5e6-4de3-aacc-9a89a2874ca9-c000.snappy.parquet\n",
      "-rw-r--r--   3 nazihkalo nazihkalo     20.7 M 2020-02-17 16:21 modeling_data/part-00016-98e10948-a5e6-4de3-aacc-9a89a2874ca9-c000.snappy.parquet\n",
      "-rw-r--r--   3 nazihkalo nazihkalo     20.7 M 2020-02-17 16:22 modeling_data/part-00017-98e10948-a5e6-4de3-aacc-9a89a2874ca9-c000.snappy.parquet\n",
      "-rw-r--r--   3 nazihkalo nazihkalo     20.6 M 2020-02-17 16:22 modeling_data/part-00018-98e10948-a5e6-4de3-aacc-9a89a2874ca9-c000.snappy.parquet\n",
      "-rw-r--r--   3 nazihkalo nazihkalo     20.6 M 2020-02-17 16:22 modeling_data/part-00019-98e10948-a5e6-4de3-aacc-9a89a2874ca9-c000.snappy.parquet\n",
      "-rw-r--r--   3 nazihkalo nazihkalo     20.7 M 2020-02-17 16:21 modeling_data/part-00020-98e10948-a5e6-4de3-aacc-9a89a2874ca9-c000.snappy.parquet\n",
      "-rw-r--r--   3 nazihkalo nazihkalo     20.7 M 2020-02-17 16:21 modeling_data/part-00021-98e10948-a5e6-4de3-aacc-9a89a2874ca9-c000.snappy.parquet\n",
      "-rw-r--r--   3 nazihkalo nazihkalo     20.7 M 2020-02-17 16:21 modeling_data/part-00022-98e10948-a5e6-4de3-aacc-9a89a2874ca9-c000.snappy.parquet\n",
      "-rw-r--r--   3 nazihkalo nazihkalo     20.4 M 2020-02-17 16:21 modeling_data/part-00023-98e10948-a5e6-4de3-aacc-9a89a2874ca9-c000.snappy.parquet\n",
      "-rw-r--r--   3 nazihkalo nazihkalo     20.6 M 2020-02-17 16:21 modeling_data/part-00024-98e10948-a5e6-4de3-aacc-9a89a2874ca9-c000.snappy.parquet\n",
      "-rw-r--r--   3 nazihkalo nazihkalo     20.6 M 2020-02-17 16:21 modeling_data/part-00025-98e10948-a5e6-4de3-aacc-9a89a2874ca9-c000.snappy.parquet\n",
      "-rw-r--r--   3 nazihkalo nazihkalo     20.5 M 2020-02-17 16:21 modeling_data/part-00026-98e10948-a5e6-4de3-aacc-9a89a2874ca9-c000.snappy.parquet\n",
      "-rw-r--r--   3 nazihkalo nazihkalo     20.6 M 2020-02-17 16:21 modeling_data/part-00027-98e10948-a5e6-4de3-aacc-9a89a2874ca9-c000.snappy.parquet\n",
      "-rw-r--r--   3 nazihkalo nazihkalo     20.7 M 2020-02-17 16:21 modeling_data/part-00028-98e10948-a5e6-4de3-aacc-9a89a2874ca9-c000.snappy.parquet\n",
      "-rw-r--r--   3 nazihkalo nazihkalo     20.6 M 2020-02-17 16:21 modeling_data/part-00029-98e10948-a5e6-4de3-aacc-9a89a2874ca9-c000.snappy.parquet\n",
      "-rw-r--r--   3 nazihkalo nazihkalo     20.8 M 2020-02-17 16:21 modeling_data/part-00030-98e10948-a5e6-4de3-aacc-9a89a2874ca9-c000.snappy.parquet\n",
      "-rw-r--r--   3 nazihkalo nazihkalo     20.6 M 2020-02-17 16:22 modeling_data/part-00031-98e10948-a5e6-4de3-aacc-9a89a2874ca9-c000.snappy.parquet\n",
      "-rw-r--r--   3 nazihkalo nazihkalo     20.7 M 2020-02-17 16:22 modeling_data/part-00032-98e10948-a5e6-4de3-aacc-9a89a2874ca9-c000.snappy.parquet\n",
      "-rw-r--r--   3 nazihkalo nazihkalo     20.8 M 2020-02-17 16:22 modeling_data/part-00033-98e10948-a5e6-4de3-aacc-9a89a2874ca9-c000.snappy.parquet\n",
      "-rw-r--r--   3 nazihkalo nazihkalo     20.6 M 2020-02-17 16:21 modeling_data/part-00034-98e10948-a5e6-4de3-aacc-9a89a2874ca9-c000.snappy.parquet\n",
      "-rw-r--r--   3 nazihkalo nazihkalo     20.5 M 2020-02-17 16:21 modeling_data/part-00035-98e10948-a5e6-4de3-aacc-9a89a2874ca9-c000.snappy.parquet\n",
      "-rw-r--r--   3 nazihkalo nazihkalo     20.7 M 2020-02-17 16:22 modeling_data/part-00036-98e10948-a5e6-4de3-aacc-9a89a2874ca9-c000.snappy.parquet\n",
      "-rw-r--r--   3 nazihkalo nazihkalo     20.7 M 2020-02-17 16:21 modeling_data/part-00037-98e10948-a5e6-4de3-aacc-9a89a2874ca9-c000.snappy.parquet\n",
      "-rw-r--r--   3 nazihkalo nazihkalo     20.6 M 2020-02-17 16:21 modeling_data/part-00038-98e10948-a5e6-4de3-aacc-9a89a2874ca9-c000.snappy.parquet\n",
      "-rw-r--r--   3 nazihkalo nazihkalo     20.8 M 2020-02-17 16:21 modeling_data/part-00039-98e10948-a5e6-4de3-aacc-9a89a2874ca9-c000.snappy.parquet\n",
      "-rw-r--r--   3 nazihkalo nazihkalo     20.5 M 2020-02-17 16:22 modeling_data/part-00040-98e10948-a5e6-4de3-aacc-9a89a2874ca9-c000.snappy.parquet\n",
      "-rw-r--r--   3 nazihkalo nazihkalo     20.7 M 2020-02-17 16:21 modeling_data/part-00041-98e10948-a5e6-4de3-aacc-9a89a2874ca9-c000.snappy.parquet\n",
      "-rw-r--r--   3 nazihkalo nazihkalo     20.7 M 2020-02-17 16:21 modeling_data/part-00042-98e10948-a5e6-4de3-aacc-9a89a2874ca9-c000.snappy.parquet\n",
      "-rw-r--r--   3 nazihkalo nazihkalo     20.6 M 2020-02-17 16:21 modeling_data/part-00043-98e10948-a5e6-4de3-aacc-9a89a2874ca9-c000.snappy.parquet\n",
      "-rw-r--r--   3 nazihkalo nazihkalo     20.6 M 2020-02-17 16:21 modeling_data/part-00044-98e10948-a5e6-4de3-aacc-9a89a2874ca9-c000.snappy.parquet\n",
      "-rw-r--r--   3 nazihkalo nazihkalo     20.8 M 2020-02-17 16:21 modeling_data/part-00045-98e10948-a5e6-4de3-aacc-9a89a2874ca9-c000.snappy.parquet\n",
      "-rw-r--r--   3 nazihkalo nazihkalo     20.6 M 2020-02-17 16:21 modeling_data/part-00046-98e10948-a5e6-4de3-aacc-9a89a2874ca9-c000.snappy.parquet\n",
      "-rw-r--r--   3 nazihkalo nazihkalo     20.5 M 2020-02-17 16:22 modeling_data/part-00047-98e10948-a5e6-4de3-aacc-9a89a2874ca9-c000.snappy.parquet\n",
      "-rw-r--r--   3 nazihkalo nazihkalo     20.7 M 2020-02-17 16:21 modeling_data/part-00048-98e10948-a5e6-4de3-aacc-9a89a2874ca9-c000.snappy.parquet\n",
      "-rw-r--r--   3 nazihkalo nazihkalo     20.6 M 2020-02-17 16:22 modeling_data/part-00049-98e10948-a5e6-4de3-aacc-9a89a2874ca9-c000.snappy.parquet\n",
      "-rw-r--r--   3 nazihkalo nazihkalo     20.7 M 2020-02-17 16:21 modeling_data/part-00050-98e10948-a5e6-4de3-aacc-9a89a2874ca9-c000.snappy.parquet\n",
      "-rw-r--r--   3 nazihkalo nazihkalo     20.4 M 2020-02-17 16:21 modeling_data/part-00051-98e10948-a5e6-4de3-aacc-9a89a2874ca9-c000.snappy.parquet\n",
      "-rw-r--r--   3 nazihkalo nazihkalo     20.7 M 2020-02-17 16:21 modeling_data/part-00052-98e10948-a5e6-4de3-aacc-9a89a2874ca9-c000.snappy.parquet\n",
      "-rw-r--r--   3 nazihkalo nazihkalo     20.6 M 2020-02-17 16:21 modeling_data/part-00053-98e10948-a5e6-4de3-aacc-9a89a2874ca9-c000.snappy.parquet\n",
      "-rw-r--r--   3 nazihkalo nazihkalo     20.6 M 2020-02-17 16:21 modeling_data/part-00054-98e10948-a5e6-4de3-aacc-9a89a2874ca9-c000.snappy.parquet\n",
      "-rw-r--r--   3 nazihkalo nazihkalo     20.7 M 2020-02-17 16:21 modeling_data/part-00055-98e10948-a5e6-4de3-aacc-9a89a2874ca9-c000.snappy.parquet\n",
      "-rw-r--r--   3 nazihkalo nazihkalo     20.6 M 2020-02-17 16:21 modeling_data/part-00056-98e10948-a5e6-4de3-aacc-9a89a2874ca9-c000.snappy.parquet\n",
      "-rw-r--r--   3 nazihkalo nazihkalo     20.6 M 2020-02-17 16:21 modeling_data/part-00057-98e10948-a5e6-4de3-aacc-9a89a2874ca9-c000.snappy.parquet\n",
      "-rw-r--r--   3 nazihkalo nazihkalo     20.5 M 2020-02-17 16:21 modeling_data/part-00058-98e10948-a5e6-4de3-aacc-9a89a2874ca9-c000.snappy.parquet\n",
      "-rw-r--r--   3 nazihkalo nazihkalo     20.7 M 2020-02-17 16:21 modeling_data/part-00059-98e10948-a5e6-4de3-aacc-9a89a2874ca9-c000.snappy.parquet\n",
      "-rw-r--r--   3 nazihkalo nazihkalo     20.7 M 2020-02-17 16:21 modeling_data/part-00060-98e10948-a5e6-4de3-aacc-9a89a2874ca9-c000.snappy.parquet\n",
      "-rw-r--r--   3 nazihkalo nazihkalo     20.7 M 2020-02-17 16:21 modeling_data/part-00061-98e10948-a5e6-4de3-aacc-9a89a2874ca9-c000.snappy.parquet\n",
      "-rw-r--r--   3 nazihkalo nazihkalo     20.7 M 2020-02-17 16:21 modeling_data/part-00062-98e10948-a5e6-4de3-aacc-9a89a2874ca9-c000.snappy.parquet\n",
      "-rw-r--r--   3 nazihkalo nazihkalo     20.7 M 2020-02-17 16:21 modeling_data/part-00063-98e10948-a5e6-4de3-aacc-9a89a2874ca9-c000.snappy.parquet\n"
     ]
    },
    {
     "name": "stdout",
     "output_type": "stream",
     "text": [
      "-rw-r--r--   3 nazihkalo nazihkalo     20.7 M 2020-02-17 16:22 modeling_data/part-00064-98e10948-a5e6-4de3-aacc-9a89a2874ca9-c000.snappy.parquet\r\n",
      "-rw-r--r--   3 nazihkalo nazihkalo     20.7 M 2020-02-17 16:21 modeling_data/part-00065-98e10948-a5e6-4de3-aacc-9a89a2874ca9-c000.snappy.parquet\r\n",
      "-rw-r--r--   3 nazihkalo nazihkalo     20.7 M 2020-02-17 16:21 modeling_data/part-00066-98e10948-a5e6-4de3-aacc-9a89a2874ca9-c000.snappy.parquet\r\n",
      "-rw-r--r--   3 nazihkalo nazihkalo     20.7 M 2020-02-17 16:21 modeling_data/part-00067-98e10948-a5e6-4de3-aacc-9a89a2874ca9-c000.snappy.parquet\r\n",
      "-rw-r--r--   3 nazihkalo nazihkalo     20.7 M 2020-02-17 16:21 modeling_data/part-00068-98e10948-a5e6-4de3-aacc-9a89a2874ca9-c000.snappy.parquet\r\n",
      "-rw-r--r--   3 nazihkalo nazihkalo     20.6 M 2020-02-17 16:22 modeling_data/part-00069-98e10948-a5e6-4de3-aacc-9a89a2874ca9-c000.snappy.parquet\r\n",
      "-rw-r--r--   3 nazihkalo nazihkalo     20.6 M 2020-02-17 16:22 modeling_data/part-00070-98e10948-a5e6-4de3-aacc-9a89a2874ca9-c000.snappy.parquet\r\n",
      "-rw-r--r--   3 nazihkalo nazihkalo     20.8 M 2020-02-17 16:21 modeling_data/part-00071-98e10948-a5e6-4de3-aacc-9a89a2874ca9-c000.snappy.parquet\r\n",
      "-rw-r--r--   3 nazihkalo nazihkalo     20.7 M 2020-02-17 16:22 modeling_data/part-00072-98e10948-a5e6-4de3-aacc-9a89a2874ca9-c000.snappy.parquet\r\n",
      "-rw-r--r--   3 nazihkalo nazihkalo     20.6 M 2020-02-17 16:22 modeling_data/part-00073-98e10948-a5e6-4de3-aacc-9a89a2874ca9-c000.snappy.parquet\r\n",
      "-rw-r--r--   3 nazihkalo nazihkalo     20.6 M 2020-02-17 16:22 modeling_data/part-00074-98e10948-a5e6-4de3-aacc-9a89a2874ca9-c000.snappy.parquet\r\n",
      "-rw-r--r--   3 nazihkalo nazihkalo     20.7 M 2020-02-17 16:21 modeling_data/part-00075-98e10948-a5e6-4de3-aacc-9a89a2874ca9-c000.snappy.parquet\r\n",
      "-rw-r--r--   3 nazihkalo nazihkalo     20.6 M 2020-02-17 16:21 modeling_data/part-00076-98e10948-a5e6-4de3-aacc-9a89a2874ca9-c000.snappy.parquet\r\n",
      "-rw-r--r--   3 nazihkalo nazihkalo     20.5 M 2020-02-17 16:22 modeling_data/part-00077-98e10948-a5e6-4de3-aacc-9a89a2874ca9-c000.snappy.parquet\r\n",
      "-rw-r--r--   3 nazihkalo nazihkalo     20.6 M 2020-02-17 16:21 modeling_data/part-00078-98e10948-a5e6-4de3-aacc-9a89a2874ca9-c000.snappy.parquet\r\n",
      "-rw-r--r--   3 nazihkalo nazihkalo     20.7 M 2020-02-17 16:22 modeling_data/part-00079-98e10948-a5e6-4de3-aacc-9a89a2874ca9-c000.snappy.parquet\r\n",
      "-rw-r--r--   3 nazihkalo nazihkalo     20.7 M 2020-02-17 16:22 modeling_data/part-00080-98e10948-a5e6-4de3-aacc-9a89a2874ca9-c000.snappy.parquet\r\n",
      "-rw-r--r--   3 nazihkalo nazihkalo     20.7 M 2020-02-17 16:22 modeling_data/part-00081-98e10948-a5e6-4de3-aacc-9a89a2874ca9-c000.snappy.parquet\r\n",
      "-rw-r--r--   3 nazihkalo nazihkalo     20.7 M 2020-02-17 16:22 modeling_data/part-00082-98e10948-a5e6-4de3-aacc-9a89a2874ca9-c000.snappy.parquet\r\n",
      "-rw-r--r--   3 nazihkalo nazihkalo     20.7 M 2020-02-17 16:22 modeling_data/part-00083-98e10948-a5e6-4de3-aacc-9a89a2874ca9-c000.snappy.parquet\r\n",
      "-rw-r--r--   3 nazihkalo nazihkalo     20.6 M 2020-02-17 16:22 modeling_data/part-00084-98e10948-a5e6-4de3-aacc-9a89a2874ca9-c000.snappy.parquet\r\n",
      "-rw-r--r--   3 nazihkalo nazihkalo     20.8 M 2020-02-17 16:22 modeling_data/part-00085-98e10948-a5e6-4de3-aacc-9a89a2874ca9-c000.snappy.parquet\r\n",
      "-rw-r--r--   3 nazihkalo nazihkalo     20.7 M 2020-02-17 16:22 modeling_data/part-00086-98e10948-a5e6-4de3-aacc-9a89a2874ca9-c000.snappy.parquet\r\n",
      "-rw-r--r--   3 nazihkalo nazihkalo     20.6 M 2020-02-17 16:22 modeling_data/part-00087-98e10948-a5e6-4de3-aacc-9a89a2874ca9-c000.snappy.parquet\r\n",
      "-rw-r--r--   3 nazihkalo nazihkalo     20.6 M 2020-02-17 16:22 modeling_data/part-00088-98e10948-a5e6-4de3-aacc-9a89a2874ca9-c000.snappy.parquet\r\n",
      "-rw-r--r--   3 nazihkalo nazihkalo     20.5 M 2020-02-17 16:22 modeling_data/part-00089-98e10948-a5e6-4de3-aacc-9a89a2874ca9-c000.snappy.parquet\r\n",
      "-rw-r--r--   3 nazihkalo nazihkalo     20.7 M 2020-02-17 16:22 modeling_data/part-00090-98e10948-a5e6-4de3-aacc-9a89a2874ca9-c000.snappy.parquet\r\n",
      "-rw-r--r--   3 nazihkalo nazihkalo     20.6 M 2020-02-17 16:22 modeling_data/part-00091-98e10948-a5e6-4de3-aacc-9a89a2874ca9-c000.snappy.parquet\r\n",
      "-rw-r--r--   3 nazihkalo nazihkalo     20.6 M 2020-02-17 16:22 modeling_data/part-00092-98e10948-a5e6-4de3-aacc-9a89a2874ca9-c000.snappy.parquet\r\n",
      "-rw-r--r--   3 nazihkalo nazihkalo     20.7 M 2020-02-17 16:22 modeling_data/part-00093-98e10948-a5e6-4de3-aacc-9a89a2874ca9-c000.snappy.parquet\r\n",
      "-rw-r--r--   3 nazihkalo nazihkalo     20.7 M 2020-02-17 16:22 modeling_data/part-00094-98e10948-a5e6-4de3-aacc-9a89a2874ca9-c000.snappy.parquet\r\n",
      "-rw-r--r--   3 nazihkalo nazihkalo     20.6 M 2020-02-17 16:22 modeling_data/part-00095-98e10948-a5e6-4de3-aacc-9a89a2874ca9-c000.snappy.parquet\r\n",
      "-rw-r--r--   3 nazihkalo nazihkalo     20.6 M 2020-02-17 16:22 modeling_data/part-00096-98e10948-a5e6-4de3-aacc-9a89a2874ca9-c000.snappy.parquet\r\n",
      "-rw-r--r--   3 nazihkalo nazihkalo     20.7 M 2020-02-17 16:22 modeling_data/part-00097-98e10948-a5e6-4de3-aacc-9a89a2874ca9-c000.snappy.parquet\r\n",
      "-rw-r--r--   3 nazihkalo nazihkalo     20.7 M 2020-02-17 16:22 modeling_data/part-00098-98e10948-a5e6-4de3-aacc-9a89a2874ca9-c000.snappy.parquet\r\n",
      "-rw-r--r--   3 nazihkalo nazihkalo     20.7 M 2020-02-17 16:22 modeling_data/part-00099-98e10948-a5e6-4de3-aacc-9a89a2874ca9-c000.snappy.parquet\r\n",
      "-rw-r--r--   3 nazihkalo nazihkalo     20.6 M 2020-02-17 16:22 modeling_data/part-00100-98e10948-a5e6-4de3-aacc-9a89a2874ca9-c000.snappy.parquet\r\n",
      "-rw-r--r--   3 nazihkalo nazihkalo     20.7 M 2020-02-17 16:22 modeling_data/part-00101-98e10948-a5e6-4de3-aacc-9a89a2874ca9-c000.snappy.parquet\r\n",
      "-rw-r--r--   3 nazihkalo nazihkalo     20.7 M 2020-02-17 16:22 modeling_data/part-00102-98e10948-a5e6-4de3-aacc-9a89a2874ca9-c000.snappy.parquet\r\n",
      "-rw-r--r--   3 nazihkalo nazihkalo     20.6 M 2020-02-17 16:22 modeling_data/part-00103-98e10948-a5e6-4de3-aacc-9a89a2874ca9-c000.snappy.parquet\r\n",
      "-rw-r--r--   3 nazihkalo nazihkalo     20.6 M 2020-02-17 16:22 modeling_data/part-00104-98e10948-a5e6-4de3-aacc-9a89a2874ca9-c000.snappy.parquet\r\n",
      "-rw-r--r--   3 nazihkalo nazihkalo     20.6 M 2020-02-17 16:22 modeling_data/part-00105-98e10948-a5e6-4de3-aacc-9a89a2874ca9-c000.snappy.parquet\r\n",
      "-rw-r--r--   3 nazihkalo nazihkalo     20.4 M 2020-02-17 16:22 modeling_data/part-00106-98e10948-a5e6-4de3-aacc-9a89a2874ca9-c000.snappy.parquet\r\n",
      "-rw-r--r--   3 nazihkalo nazihkalo     20.7 M 2020-02-17 16:22 modeling_data/part-00107-98e10948-a5e6-4de3-aacc-9a89a2874ca9-c000.snappy.parquet\r\n",
      "-rw-r--r--   3 nazihkalo nazihkalo     20.7 M 2020-02-17 16:22 modeling_data/part-00108-98e10948-a5e6-4de3-aacc-9a89a2874ca9-c000.snappy.parquet\r\n",
      "-rw-r--r--   3 nazihkalo nazihkalo     20.7 M 2020-02-17 16:22 modeling_data/part-00109-98e10948-a5e6-4de3-aacc-9a89a2874ca9-c000.snappy.parquet\r\n",
      "-rw-r--r--   3 nazihkalo nazihkalo     19.2 M 2020-02-17 16:22 modeling_data/part-00110-98e10948-a5e6-4de3-aacc-9a89a2874ca9-c000.snappy.parquet\r\n",
      "-rw-r--r--   3 nazihkalo nazihkalo     18.6 M 2020-02-17 16:22 modeling_data/part-00111-98e10948-a5e6-4de3-aacc-9a89a2874ca9-c000.snappy.parquet\r\n",
      "-rw-r--r--   3 nazihkalo nazihkalo     18.5 M 2020-02-17 16:22 modeling_data/part-00112-98e10948-a5e6-4de3-aacc-9a89a2874ca9-c000.snappy.parquet\r\n",
      "-rw-r--r--   3 nazihkalo nazihkalo     18.5 M 2020-02-17 16:22 modeling_data/part-00113-98e10948-a5e6-4de3-aacc-9a89a2874ca9-c000.snappy.parquet\r\n",
      "-rw-r--r--   3 nazihkalo nazihkalo     18.6 M 2020-02-17 16:22 modeling_data/part-00114-98e10948-a5e6-4de3-aacc-9a89a2874ca9-c000.snappy.parquet\r\n",
      "-rw-r--r--   3 nazihkalo nazihkalo     18.5 M 2020-02-17 16:22 modeling_data/part-00115-98e10948-a5e6-4de3-aacc-9a89a2874ca9-c000.snappy.parquet\r\n",
      "-rw-r--r--   3 nazihkalo nazihkalo     18.3 M 2020-02-17 16:22 modeling_data/part-00116-98e10948-a5e6-4de3-aacc-9a89a2874ca9-c000.snappy.parquet\r\n",
      "-rw-r--r--   3 nazihkalo nazihkalo     18.1 M 2020-02-17 16:22 modeling_data/part-00117-98e10948-a5e6-4de3-aacc-9a89a2874ca9-c000.snappy.parquet\r\n",
      "-rw-r--r--   3 nazihkalo nazihkalo     18.0 M 2020-02-17 16:22 modeling_data/part-00118-98e10948-a5e6-4de3-aacc-9a89a2874ca9-c000.snappy.parquet\r\n",
      "-rw-r--r--   3 nazihkalo nazihkalo     18.0 M 2020-02-17 16:22 modeling_data/part-00119-98e10948-a5e6-4de3-aacc-9a89a2874ca9-c000.snappy.parquet\r\n"
     ]
    }
   ],
   "source": [
    "!hdfs dfs -ls -h modeling_data"
   ]
  },
  {
   "cell_type": "code",
   "execution_count": 59,
   "metadata": {},
   "outputs": [
    {
     "name": "stdout",
     "output_type": "stream",
     "text": [
      "+-------+------------------+------------------+-----------------+------------------+\n",
      "|summary| inCitations_count|outCitations_count|  abstract_wcount|      title_wcount|\n",
      "+-------+------------------+------------------+-----------------+------------------+\n",
      "|  count|           9976989|           9976989|          9976989|           9976989|\n",
      "|   mean|3.5324064204140146|3.5152323010479414|59.83794188807866|10.674855109091531|\n",
      "| stddev| 33.82536069151524|14.103704720854711|82.27236804994295|5.6160200930786335|\n",
      "|    min|                 0|                 0|                0|                 1|\n",
      "|    max|             36091|              2497|             4868|               181|\n",
      "+-------+------------------+------------------+-----------------+------------------+\n",
      "\n"
     ]
    }
   ],
   "source": [
    "spark_df3.select('inCitations_count', 'outCitations_count', 'abstract_wcount','title_wcount').describe().show()"
   ]
  },
  {
   "cell_type": "markdown",
   "metadata": {},
   "source": [
    "##  Encoding some categoricals "
   ]
  },
  {
   "cell_type": "markdown",
   "metadata": {},
   "source": [
    "### Creating Vertices"
   ]
  },
  {
   "cell_type": "code",
   "execution_count": 43,
   "metadata": {},
   "outputs": [],
   "source": [
    "vertices = spark_df3.select('id', 'title', 'year', 'fieldsOfStudy', 'paperAbstract')"
   ]
  },
  {
   "cell_type": "code",
   "execution_count": 59,
   "metadata": {},
   "outputs": [
    {
     "name": "stdout",
     "output_type": "stream",
     "text": [
      "+--------------------+--------------------+----+-----------------+--------------------+\n",
      "|                  id|               title|year|    fieldsOfStudy|       paperAbstract|\n",
      "+--------------------+--------------------+----+-----------------+--------------------+\n",
      "|b9c27ac1bb8b3ec9d...|Cause Analysis an...|2014|         Business|The problem of bu...|\n",
      "|91cac7b12800a6238...|Clair comme lune ...|2016|          History|                    |\n",
      "|412b10a92babf3509...|Unexpected deaths...|2013|         Medicine|Aims and objectiv...|\n",
      "|0de1cecd2ed49812f...|RNA-Seq Analysis ...|2015|Medicine, Biology|The mitogen-activ...|\n",
      "|1d9fee40f59bf00eb...|Temporal Trends a...|2012|         Medicine|                    |\n",
      "+--------------------+--------------------+----+-----------------+--------------------+\n",
      "only showing top 5 rows\n",
      "\n"
     ]
    }
   ],
   "source": [
    "vertices.show(5)"
   ]
  },
  {
   "cell_type": "markdown",
   "metadata": {},
   "source": [
    "### Creating Edges"
   ]
  },
  {
   "cell_type": "code",
   "execution_count": 83,
   "metadata": {},
   "outputs": [
    {
     "name": "stdout",
     "output_type": "stream",
     "text": [
      "+--------------------+--------------------+--------------------+\n",
      "|                  id|         inCitations|        outCitations|\n",
      "+--------------------+--------------------+--------------------+\n",
      "|b9c27ac1bb8b3ec9d...|                  []|                  []|\n",
      "|91cac7b12800a6238...|                  []|                  []|\n",
      "|412b10a92babf3509...|                  []|                  []|\n",
      "|0de1cecd2ed49812f...|[8ecaab2a03953fa5...|[cf5cdba6424524ee...|\n",
      "|1d9fee40f59bf00eb...|                  []|                  []|\n",
      "|5e33c40c33d9e4753...|                  []|                  []|\n",
      "|d477d10c48912335d...|                  []|                  []|\n",
      "|b87f8f3daaa92d3bc...|                  []|                  []|\n",
      "|598567aa0229a6b31...|[ecec08f5ca15e07d...|                  []|\n",
      "|b790f30e811445a68...|[2da3df885d1f032d...|                  []|\n",
      "|69a00b492e0ba6e25...|                  []|                  []|\n",
      "|6b75f9994d131b2ee...|[ac89cd3e34dbc788...|                  []|\n",
      "|9eda969296439bf4c...|                  []|[411f288349de96c0...|\n",
      "|47bee8ebe530dc4ff...|[e5951f7aa9eef9c4...|[3dc9587f4b564c90...|\n",
      "|79ac36d7f74cf8d83...|                  []|                  []|\n",
      "|e079322082ef30858...|                  []|                  []|\n",
      "|c5bf1145b594c518b...|                  []|[0742fa40bf9be455...|\n",
      "|bd72c9e0434214845...|                  []|                  []|\n",
      "|d125a6c2adbfa1932...|                  []|                  []|\n",
      "|4acf97f40b5e9b991...|                  []|                  []|\n",
      "+--------------------+--------------------+--------------------+\n",
      "only showing top 20 rows\n",
      "\n"
     ]
    }
   ],
   "source": [
    "spark_df3.select('id', 'inCitations', 'outCitations').show()"
   ]
  },
  {
   "cell_type": "code",
   "execution_count": 51,
   "metadata": {},
   "outputs": [],
   "source": [
    "from pyspark.sql.functions import explode\n",
    "from pyspark.sql.functions import lit\n",
    "\n",
    "#Getting the inCitations id -> (cited) -> article id \n",
    "edges = spark_df3.select(explode('inCitations').alias('src'), spark_df3.id.alias('dst')).withColumn('type', lit('cited'))\n",
    "\n",
    "#Getting the article id -> (cited) -> outCitations id\n",
    "edges2 = spark_df3.select(spark_df3.id.alias('src'), explode('outCitations').alias('dst')).withColumn('type', lit('cited'))\n",
    "\n",
    "#Union of these two \n",
    "edges_total = edges.union(edges2)"
   ]
  },
  {
   "cell_type": "code",
   "execution_count": 57,
   "metadata": {},
   "outputs": [
    {
     "name": "stdout",
     "output_type": "stream",
     "text": [
      "+----------------------------------------+----------------------------------------+-----+\n",
      "|src                                     |dst                                     |type |\n",
      "+----------------------------------------+----------------------------------------+-----+\n",
      "|8ecaab2a03953fa5cf08ab5db2bb49c16d90527d|0de1cecd2ed49812f3a55e4b78edf9ffd292618c|cited|\n",
      "|8ea68d48d5595730f082f625a2ad759f934411cf|0de1cecd2ed49812f3a55e4b78edf9ffd292618c|cited|\n",
      "|766a2b4d54b541c737f6a6ec81ad487b56dc83ed|0de1cecd2ed49812f3a55e4b78edf9ffd292618c|cited|\n",
      "|8479962401362c07f2d6cbff871a11cbd7a4913f|0de1cecd2ed49812f3a55e4b78edf9ffd292618c|cited|\n",
      "|a0ab0cf6c8fe0b1e50407576ba5b80f0f3f58476|0de1cecd2ed49812f3a55e4b78edf9ffd292618c|cited|\n",
      "+----------------------------------------+----------------------------------------+-----+\n",
      "only showing top 5 rows\n",
      "\n"
     ]
    }
   ],
   "source": [
    "edges_total.show(5, truncate=False)"
   ]
  },
  {
   "cell_type": "code",
   "execution_count": 60,
   "metadata": {},
   "outputs": [
    {
     "name": "stdout",
     "output_type": "stream",
     "text": [
      "+--------------------+------+\n",
      "|                  id|degree|\n",
      "+--------------------+------+\n",
      "|0527b65da84f42a39...|    28|\n",
      "|a830e94246ea34694...|    12|\n",
      "|61fa386d2187bebaf...|     6|\n",
      "|4bebbb2592590a23c...|     1|\n",
      "|ff6007e947ed35055...|     5|\n",
      "|16d5358ed974cdefc...|     2|\n",
      "|ba562608abe6a7e81...|     1|\n",
      "|19f599b95b54304ec...|    21|\n",
      "|5e5ce011e6f57a24d...|     1|\n",
      "|6ccc8a7f7c1362cb9...|     2|\n",
      "|5c8faef8512d3ac63...|     6|\n",
      "|932a7e026b2acd162...|    20|\n",
      "|ca82c02aef19b1e64...|    40|\n",
      "|7d306abf7ff739313...|     8|\n",
      "|d23cb008042ae46a8...|    63|\n",
      "|dc19d325198236660...|    67|\n",
      "|56f289078d090d0ea...|     2|\n",
      "|2227a64a2d770f06d...|    29|\n",
      "|3c0b62bc2d1d09a0c...|     7|\n",
      "|6e1516a2c25889ffd...|     3|\n",
      "+--------------------+------+\n",
      "only showing top 20 rows\n",
      "\n"
     ]
    }
   ],
   "source": [
    "g = GraphFrame(vertices, edges_total)\n",
    "## Take a look at the DataFrames\n",
    "# g.vertices.show()\n",
    "# g.edges.show()\n",
    "## Check the number of edges of each vertex\n",
    "g.degrees.show()"
   ]
  },
  {
   "cell_type": "markdown",
   "metadata": {},
   "source": [
    "#### indegree = The number of edges directed into a vertex in a directed graph."
   ]
  },
  {
   "cell_type": "code",
   "execution_count": 61,
   "metadata": {},
   "outputs": [
    {
     "name": "stdout",
     "output_type": "stream",
     "text": [
      "+--------------------+--------+\n",
      "|                  id|inDegree|\n",
      "+--------------------+--------+\n",
      "|83730969c0686b1d1...|   38079|\n",
      "|abd1c342495432171...|   32420|\n",
      "|13d4c2f76a7c1a4d0...|   20763|\n",
      "|a512385be058b1e2e...|   17634|\n",
      "|a411f6a0e6473137a...|   17370|\n",
      "|87f40e6f3022adbc1...|   12898|\n",
      "|73679f1ba00de9e73...|   11428|\n",
      "|e6dd0e6cf076b1207...|   11276|\n",
      "|d2860a370a0386c57...|   10815|\n",
      "|6a17ebeeb80cd696b...|    9429|\n",
      "|6da2a9ffa23a59523...|    9197|\n",
      "|10d6778bc45aebcd5...|    9120|\n",
      "|490020c0d4fa1eb85...|    9028|\n",
      "|fc448a7db5a2fac24...|    8676|\n",
      "|54205667c1f65a320...|    8611|\n",
      "|cc90910b6e31fe44c...|    8231|\n",
      "|a42d6065d0b1a31c5...|    8182|\n",
      "|6889e5a22598521d8...|    7656|\n",
      "|0e68beebb4c7ccbd9...|    7486|\n",
      "|9f649b234f5ebf207...|    7350|\n",
      "+--------------------+--------+\n",
      "only showing top 20 rows\n",
      "\n"
     ]
    }
   ],
   "source": [
    "g.inDegrees.filter(\"inDegree >= 10\").sort(\"inDegree\", ascending=False).show()"
   ]
  },
  {
   "cell_type": "code",
   "execution_count": 62,
   "metadata": {},
   "outputs": [
    {
     "data": {
      "text/plain": [
       "[Row(id='83730969c0686b1d185bcca39f9b5743fa53ebc1')]"
      ]
     },
     "execution_count": 62,
     "metadata": {},
     "output_type": "execute_result"
    }
   ],
   "source": [
    "g.inDegrees.filter(\"inDegree >= 10\").sort(\"inDegree\", ascending=False).select('id').take(1)"
   ]
  },
  {
   "cell_type": "code",
   "execution_count": 65,
   "metadata": {},
   "outputs": [
    {
     "name": "stdout",
     "output_type": "stream",
     "text": [
      "+----------------------------------------+--------------------------------------------------------+----+----------------+----------------------------------------------------------------------------------------------------------------------------------------------------------------------------------------------------------------------------------------------------------------------------------------------------------------------------------------------------------------------------------------------------------------------------------------------------------------------------------------------------------------------------------------------------------------------------------------------------------------------------------------------------------------------------------------------------------------------------------------+\n",
      "|id                                      |title                                                   |year|fieldsOfStudy   |paperAbstract                                                                                                                                                                                                                                                                                                                                                                                                                                                                                                                                                                                                                                                                                                                           |\n",
      "+----------------------------------------+--------------------------------------------------------+----+----------------+----------------------------------------------------------------------------------------------------------------------------------------------------------------------------------------------------------------------------------------------------------------------------------------------------------------------------------------------------------------------------------------------------------------------------------------------------------------------------------------------------------------------------------------------------------------------------------------------------------------------------------------------------------------------------------------------------------------------------------------+\n",
      "|83730969c0686b1d185bcca39f9b5743fa53ebc1|R: A language and environment for statistical computing.|2014|Computer Science|Copyright (©) 1999–2012 R Foundation for Statistical Computing. Permission is granted to make and distribute verbatim copies of this manual provided the copyright notice and this permission notice are preserved on all copies. Permission is granted to copy and distribute modified versions of this manual under the conditions for verbatim copying, provided that the entire resulting derived work is distributed under the terms of a permission notice identical to this one. Permission is granted to copy and distribute translations of this manual into another language, under the above conditions for modified versions, except that this permission notice may be stated in a translation approved by the R Core Team.|\n",
      "+----------------------------------------+--------------------------------------------------------+----+----------------+----------------------------------------------------------------------------------------------------------------------------------------------------------------------------------------------------------------------------------------------------------------------------------------------------------------------------------------------------------------------------------------------------------------------------------------------------------------------------------------------------------------------------------------------------------------------------------------------------------------------------------------------------------------------------------------------------------------------------------------+\n",
      "\n"
     ]
    }
   ],
   "source": [
    "g.vertices.filter('id == \"83730969c0686b1d185bcca39f9b5743fa53ebc1\"').show(truncate = False)"
   ]
  },
  {
   "cell_type": "markdown",
   "metadata": {},
   "source": [
    "## Journal Name"
   ]
  },
  {
   "cell_type": "code",
   "execution_count": 170,
   "metadata": {},
   "outputs": [
    {
     "data": {
      "text/plain": [
       "50554"
      ]
     },
     "execution_count": 170,
     "metadata": {},
     "output_type": "execute_result"
    }
   ],
   "source": [
    "spark_df3.select('journalName').distinct().count()"
   ]
  },
  {
   "cell_type": "code",
   "execution_count": 148,
   "metadata": {},
   "outputs": [],
   "source": [
    "# from pyspark.sql.functions import explode\n",
    "# id_authors = spark_df2.select(explode('author_ids'))\n",
    "# spark_df2.select('author_names', explode('author_names')).show()"
   ]
  },
  {
   "cell_type": "code",
   "execution_count": 86,
   "metadata": {},
   "outputs": [],
   "source": [
    "# #Convert the list + string into string\n",
    "# spark_df3 = spark_df3.withColumn(\"entities\", spark_df3[\"entities\"].cast(StringType()))\n",
    "# spark_df3 = spark_df3.withColumn(\"fieldsOfStudy\", spark_df3[\"fieldsOfStudy\"].cast(StringType()))\n",
    "# spark_df3 = spark_df3.withColumn(\"pdfUrls\", spark_df3[\"pdfUrls\"].cast(StringType()))\n",
    "# spark_df3 = spark_df3.withColumn(\"sources\", spark_df3[\"sources\"].cast(StringType()))"
   ]
  },
  {
   "cell_type": "code",
   "execution_count": 155,
   "metadata": {},
   "outputs": [
    {
     "data": {
      "image/png": "[encoded data removed]",
      "text/plain": [
       "<Figure size 432x288 with 1 Axes>"
      ]
     },
     "metadata": {},
     "output_type": "display_data"
    }
   ],
   "source": [
    "fields_count = spark_df3.groupby('fieldsOfStudy').count().sort('count', ascending = False)\n",
    "#convert Pyspark dataframe to Pandas dataframe for plotting\n",
    "pdf = fields_count.toPandas()\n",
    "pdf[:20].plot(kind= 'bar', x='fieldsOfStudy')\n",
    "plt.show()"
   ]
  },
  {
   "cell_type": "markdown",
   "metadata": {},
   "source": [
    "#### Nans by column"
   ]
  },
  {
   "cell_type": "code",
   "execution_count": 171,
   "metadata": {},
   "outputs": [],
   "source": [
    "# from pyspark.sql.functions import isnan, when, count, col\n",
    "\n",
    "# spark_df3.select([count(when(isnan(c), c)).alias(c) for c in spark_df3.columns]).show()"
   ]
  },
  {
   "cell_type": "markdown",
   "metadata": {},
   "source": [
    "# DISTRIBUTION OF inCitations_count"
   ]
  },
  {
   "cell_type": "code",
   "execution_count": 176,
   "metadata": {},
   "outputs": [],
   "source": [
    "import pandas as pd\n",
    "import matplotlib.pyplot as plt\n",
    "\n",
    "# Doing the heavy lifting in Spark. We could leverage the `histogram` function from the RDD api\n",
    "\n",
    "inCitations_count_histogram = spark_df3.select('inCitations_count').rdd.flatMap(lambda x: x).histogram(11)"
   ]
  },
  {
   "cell_type": "code",
   "execution_count": 175,
   "metadata": {},
   "outputs": [
    {
     "data": {
      "text/plain": [
       "<matplotlib.axes._subplots.AxesSubplot at 0x7fe8371e5908>"
      ]
     },
     "execution_count": 175,
     "metadata": {},
     "output_type": "execute_result"
    },
    {
     "data": {
      "image/png": "[encoded data removed]",
      "text/plain": [
       "<Figure size 432x288 with 1 Axes>"
      ]
     },
     "metadata": {},
     "output_type": "display_data"
    }
   ],
   "source": [
    "# Loading the Computed Histogram into a Pandas Dataframe for plotting\n",
    "pd.DataFrame(\n",
    "    list(zip(*inCitations_count_histogram)), \n",
    "    columns=['bin', 'frequency']\n",
    ").set_index(\n",
    "    'bin'\n",
    ").plot(kind='bar')"
   ]
  },
  {
   "cell_type": "code",
   "execution_count": 188,
   "metadata": {},
   "outputs": [
    {
     "name": "stdout",
     "output_type": "stream",
     "text": [
      "+----------------------+----------------------+----------------------+----------------------+------------------------+\n",
      "|min(inCitations_count)|max(inCitations_count)|avg(inCitations_count)|sum(inCitations_count)|count(inCitations_count)|\n",
      "+----------------------+----------------------+----------------------+----------------------+------------------------+\n",
      "|0                     |36091                 |3.5324064204140146    |35242780              |9976989                 |\n",
      "+----------------------+----------------------+----------------------+----------------------+------------------------+\n",
      "\n"
     ]
    }
   ],
   "source": [
    "from pyspark.sql import functions as F\n",
    "\n",
    "spark_df3.agg(F.min(spark_df3.inCitations_count),F.max(spark_df3.inCitations_count), \\\n",
    "              F.avg(spark_df3.inCitations_count),F.sum(spark_df3.inCitations_count), \\\n",
    "             F.count(spark_df3.inCitations_count)).show(truncate = False)"
   ]
  },
  {
   "cell_type": "code",
   "execution_count": 189,
   "metadata": {},
   "outputs": [
    {
     "data": {
      "text/plain": [
       "9976989"
      ]
     },
     "execution_count": 189,
     "metadata": {},
     "output_type": "execute_result"
    }
   ],
   "source": [
    "spark_df3.count()"
   ]
  },
  {
   "cell_type": "code",
   "execution_count": 190,
   "metadata": {},
   "outputs": [
    {
     "ename": "AnalysisException",
     "evalue": "'CSV data source does not support array<string> data type.;'",
     "output_type": "error",
     "traceback": [
      "\u001b[0;31m---------------------------------------------------------------------------\u001b[0m",
      "\u001b[0;31mPy4JJavaError\u001b[0m                             Traceback (most recent call last)",
      "\u001b[0;32m/opt/cloudera/parcels/CDH/lib/spark/python/lib/pyspark.zip/pyspark/sql/utils.py\u001b[0m in \u001b[0;36mdeco\u001b[0;34m(*a, **kw)\u001b[0m\n\u001b[1;32m     62\u001b[0m         \u001b[0;32mtry\u001b[0m\u001b[0;34m:\u001b[0m\u001b[0;34m\u001b[0m\u001b[0;34m\u001b[0m\u001b[0m\n\u001b[0;32m---> 63\u001b[0;31m             \u001b[0;32mreturn\u001b[0m \u001b[0mf\u001b[0m\u001b[0;34m(\u001b[0m\u001b[0;34m*\u001b[0m\u001b[0ma\u001b[0m\u001b[0;34m,\u001b[0m \u001b[0;34m**\u001b[0m\u001b[0mkw\u001b[0m\u001b[0;34m)\u001b[0m\u001b[0;34m\u001b[0m\u001b[0;34m\u001b[0m\u001b[0m\n\u001b[0m\u001b[1;32m     64\u001b[0m         \u001b[0;32mexcept\u001b[0m \u001b[0mpy4j\u001b[0m\u001b[0;34m.\u001b[0m\u001b[0mprotocol\u001b[0m\u001b[0;34m.\u001b[0m\u001b[0mPy4JJavaError\u001b[0m \u001b[0;32mas\u001b[0m \u001b[0me\u001b[0m\u001b[0;34m:\u001b[0m\u001b[0;34m\u001b[0m\u001b[0;34m\u001b[0m\u001b[0m\n",
      "\u001b[0;32m/opt/cloudera/parcels/CDH/lib/spark/python/lib/py4j-0.10.7-src.zip/py4j/protocol.py\u001b[0m in \u001b[0;36mget_return_value\u001b[0;34m(answer, gateway_client, target_id, name)\u001b[0m\n\u001b[1;32m    327\u001b[0m                     \u001b[0;34m\"An error occurred while calling {0}{1}{2}.\\n\"\u001b[0m\u001b[0;34m.\u001b[0m\u001b[0;34m\u001b[0m\u001b[0;34m\u001b[0m\u001b[0m\n\u001b[0;32m--> 328\u001b[0;31m                     format(target_id, \".\", name), value)\n\u001b[0m\u001b[1;32m    329\u001b[0m             \u001b[0;32melse\u001b[0m\u001b[0;34m:\u001b[0m\u001b[0;34m\u001b[0m\u001b[0;34m\u001b[0m\u001b[0m\n",
      "\u001b[0;31mPy4JJavaError\u001b[0m: An error occurred while calling o1513.csv.\n: org.apache.spark.sql.AnalysisException: CSV data source does not support array<string> data type.;\n\tat org.apache.spark.sql.execution.datasources.DataSourceUtils$$anonfun$verifySchema$1.apply(DataSourceUtils.scala:49)\n\tat org.apache.spark.sql.execution.datasources.DataSourceUtils$$anonfun$verifySchema$1.apply(DataSourceUtils.scala:47)\n\tat scala.collection.Iterator$class.foreach(Iterator.scala:891)\n\tat scala.collection.AbstractIterator.foreach(Iterator.scala:1334)\n\tat scala.collection.IterableLike$class.foreach(IterableLike.scala:72)\n\tat org.apache.spark.sql.types.StructType.foreach(StructType.scala:99)\n\tat org.apache.spark.sql.execution.datasources.DataSourceUtils$.verifySchema(DataSourceUtils.scala:47)\n\tat org.apache.spark.sql.execution.datasources.DataSourceUtils$.verifyWriteSchema(DataSourceUtils.scala:32)\n\tat org.apache.spark.sql.execution.datasources.FileFormatWriter$.write(FileFormatWriter.scala:100)\n\tat org.apache.spark.sql.execution.datasources.InsertIntoHadoopFsRelationCommand.run(InsertIntoHadoopFsRelationCommand.scala:159)\n\tat org.apache.spark.sql.execution.command.DataWritingCommandExec.sideEffectResult$lzycompute(commands.scala:104)\n\tat org.apache.spark.sql.execution.command.DataWritingCommandExec.sideEffectResult(commands.scala:102)\n\tat org.apache.spark.sql.execution.command.DataWritingCommandExec.doExecute(commands.scala:122)\n\tat org.apache.spark.sql.execution.SparkPlan$$anonfun$execute$1.apply(SparkPlan.scala:131)\n\tat org.apache.spark.sql.execution.SparkPlan$$anonfun$execute$1.apply(SparkPlan.scala:127)\n\tat org.apache.spark.sql.execution.SparkPlan$$anonfun$executeQuery$1.apply(SparkPlan.scala:155)\n\tat org.apache.spark.rdd.RDDOperationScope$.withScope(RDDOperationScope.scala:151)\n\tat org.apache.spark.sql.execution.SparkPlan.executeQuery(SparkPlan.scala:152)\n\tat org.apache.spark.sql.execution.SparkPlan.execute(SparkPlan.scala:127)\n\tat org.apache.spark.sql.execution.QueryExecution.toRdd$lzycompute(QueryExecution.scala:80)\n\tat org.apache.spark.sql.execution.QueryExecution.toRdd(QueryExecution.scala:80)\n\tat org.apache.spark.sql.DataFrameWriter$$anonfun$runCommand$1.apply(DataFrameWriter.scala:668)\n\tat org.apache.spark.sql.DataFrameWriter$$anonfun$runCommand$1.apply(DataFrameWriter.scala:668)\n\tat org.apache.spark.sql.execution.SQLExecution$$anonfun$withNewExecutionId$1.apply(SQLExecution.scala:78)\n\tat org.apache.spark.sql.execution.SQLExecution$.withSQLConfPropagated(SQLExecution.scala:125)\n\tat org.apache.spark.sql.execution.SQLExecution$.withNewExecutionId(SQLExecution.scala:73)\n\tat org.apache.spark.sql.DataFrameWriter.runCommand(DataFrameWriter.scala:668)\n\tat org.apache.spark.sql.DataFrameWriter.saveToV1Source(DataFrameWriter.scala:276)\n\tat org.apache.spark.sql.DataFrameWriter.save(DataFrameWriter.scala:270)\n\tat org.apache.spark.sql.DataFrameWriter.save(DataFrameWriter.scala:228)\n\tat org.apache.spark.sql.DataFrameWriter.csv(DataFrameWriter.scala:656)\n\tat sun.reflect.NativeMethodAccessorImpl.invoke0(Native Method)\n\tat sun.reflect.NativeMethodAccessorImpl.invoke(NativeMethodAccessorImpl.java:62)\n\tat sun.reflect.DelegatingMethodAccessorImpl.invoke(DelegatingMethodAccessorImpl.java:43)\n\tat java.lang.reflect.Method.invoke(Method.java:498)\n\tat py4j.reflection.MethodInvoker.invoke(MethodInvoker.java:244)\n\tat py4j.reflection.ReflectionEngine.invoke(ReflectionEngine.java:357)\n\tat py4j.Gateway.invoke(Gateway.java:282)\n\tat py4j.commands.AbstractCommand.invokeMethod(AbstractCommand.java:132)\n\tat py4j.commands.CallCommand.execute(CallCommand.java:79)\n\tat py4j.GatewayConnection.run(GatewayConnection.java:238)\n\tat java.lang.Thread.run(Thread.java:748)\n",
      "\nDuring handling of the above exception, another exception occurred:\n",
      "\u001b[0;31mAnalysisException\u001b[0m                         Traceback (most recent call last)",
      "\u001b[0;32m<ipython-input-190-d9650b621ebf>\u001b[0m in \u001b[0;36m<module>\u001b[0;34m()\u001b[0m\n\u001b[0;32m----> 1\u001b[0;31m \u001b[0mspark_df3\u001b[0m\u001b[0;34m.\u001b[0m\u001b[0mwrite\u001b[0m\u001b[0;34m.\u001b[0m\u001b[0mcsv\u001b[0m\u001b[0;34m(\u001b[0m\u001b[0;34m'corpus0_to_9.csv'\u001b[0m\u001b[0;34m)\u001b[0m\u001b[0;34m\u001b[0m\u001b[0;34m\u001b[0m\u001b[0m\n\u001b[0m",
      "\u001b[0;32m/opt/cloudera/parcels/CDH/lib/spark/python/lib/pyspark.zip/pyspark/sql/readwriter.py\u001b[0m in \u001b[0;36mcsv\u001b[0;34m(self, path, mode, compression, sep, quote, escape, header, nullValue, escapeQuotes, quoteAll, dateFormat, timestampFormat, ignoreLeadingWhiteSpace, ignoreTrailingWhiteSpace, charToEscapeQuoteEscaping, encoding, emptyValue)\u001b[0m\n\u001b[1;32m    927\u001b[0m                        \u001b[0mcharToEscapeQuoteEscaping\u001b[0m\u001b[0;34m=\u001b[0m\u001b[0mcharToEscapeQuoteEscaping\u001b[0m\u001b[0;34m,\u001b[0m\u001b[0;34m\u001b[0m\u001b[0;34m\u001b[0m\u001b[0m\n\u001b[1;32m    928\u001b[0m                        encoding=encoding, emptyValue=emptyValue)\n\u001b[0;32m--> 929\u001b[0;31m         \u001b[0mself\u001b[0m\u001b[0;34m.\u001b[0m\u001b[0m_jwrite\u001b[0m\u001b[0;34m.\u001b[0m\u001b[0mcsv\u001b[0m\u001b[0;34m(\u001b[0m\u001b[0mpath\u001b[0m\u001b[0;34m)\u001b[0m\u001b[0;34m\u001b[0m\u001b[0;34m\u001b[0m\u001b[0m\n\u001b[0m\u001b[1;32m    930\u001b[0m \u001b[0;34m\u001b[0m\u001b[0m\n\u001b[1;32m    931\u001b[0m     \u001b[0;34m@\u001b[0m\u001b[0msince\u001b[0m\u001b[0;34m(\u001b[0m\u001b[0;36m1.5\u001b[0m\u001b[0;34m)\u001b[0m\u001b[0;34m\u001b[0m\u001b[0;34m\u001b[0m\u001b[0m\n",
      "\u001b[0;32m/opt/cloudera/parcels/CDH/lib/spark/python/lib/py4j-0.10.7-src.zip/py4j/java_gateway.py\u001b[0m in \u001b[0;36m__call__\u001b[0;34m(self, *args)\u001b[0m\n\u001b[1;32m   1255\u001b[0m         \u001b[0manswer\u001b[0m \u001b[0;34m=\u001b[0m \u001b[0mself\u001b[0m\u001b[0;34m.\u001b[0m\u001b[0mgateway_client\u001b[0m\u001b[0;34m.\u001b[0m\u001b[0msend_command\u001b[0m\u001b[0;34m(\u001b[0m\u001b[0mcommand\u001b[0m\u001b[0;34m)\u001b[0m\u001b[0;34m\u001b[0m\u001b[0;34m\u001b[0m\u001b[0m\n\u001b[1;32m   1256\u001b[0m         return_value = get_return_value(\n\u001b[0;32m-> 1257\u001b[0;31m             answer, self.gateway_client, self.target_id, self.name)\n\u001b[0m\u001b[1;32m   1258\u001b[0m \u001b[0;34m\u001b[0m\u001b[0m\n\u001b[1;32m   1259\u001b[0m         \u001b[0;32mfor\u001b[0m \u001b[0mtemp_arg\u001b[0m \u001b[0;32min\u001b[0m \u001b[0mtemp_args\u001b[0m\u001b[0;34m:\u001b[0m\u001b[0;34m\u001b[0m\u001b[0;34m\u001b[0m\u001b[0m\n",
      "\u001b[0;32m/opt/cloudera/parcels/CDH/lib/spark/python/lib/pyspark.zip/pyspark/sql/utils.py\u001b[0m in \u001b[0;36mdeco\u001b[0;34m(*a, **kw)\u001b[0m\n\u001b[1;32m     67\u001b[0m                                              e.java_exception.getStackTrace()))\n\u001b[1;32m     68\u001b[0m             \u001b[0;32mif\u001b[0m \u001b[0ms\u001b[0m\u001b[0;34m.\u001b[0m\u001b[0mstartswith\u001b[0m\u001b[0;34m(\u001b[0m\u001b[0;34m'org.apache.spark.sql.AnalysisException: '\u001b[0m\u001b[0;34m)\u001b[0m\u001b[0;34m:\u001b[0m\u001b[0;34m\u001b[0m\u001b[0;34m\u001b[0m\u001b[0m\n\u001b[0;32m---> 69\u001b[0;31m                 \u001b[0;32mraise\u001b[0m \u001b[0mAnalysisException\u001b[0m\u001b[0;34m(\u001b[0m\u001b[0ms\u001b[0m\u001b[0;34m.\u001b[0m\u001b[0msplit\u001b[0m\u001b[0;34m(\u001b[0m\u001b[0;34m': '\u001b[0m\u001b[0;34m,\u001b[0m \u001b[0;36m1\u001b[0m\u001b[0;34m)\u001b[0m\u001b[0;34m[\u001b[0m\u001b[0;36m1\u001b[0m\u001b[0;34m]\u001b[0m\u001b[0;34m,\u001b[0m \u001b[0mstackTrace\u001b[0m\u001b[0;34m)\u001b[0m\u001b[0;34m\u001b[0m\u001b[0;34m\u001b[0m\u001b[0m\n\u001b[0m\u001b[1;32m     70\u001b[0m             \u001b[0;32mif\u001b[0m \u001b[0ms\u001b[0m\u001b[0;34m.\u001b[0m\u001b[0mstartswith\u001b[0m\u001b[0;34m(\u001b[0m\u001b[0;34m'org.apache.spark.sql.catalyst.analysis'\u001b[0m\u001b[0;34m)\u001b[0m\u001b[0;34m:\u001b[0m\u001b[0;34m\u001b[0m\u001b[0;34m\u001b[0m\u001b[0m\n\u001b[1;32m     71\u001b[0m                 \u001b[0;32mraise\u001b[0m \u001b[0mAnalysisException\u001b[0m\u001b[0;34m(\u001b[0m\u001b[0ms\u001b[0m\u001b[0;34m.\u001b[0m\u001b[0msplit\u001b[0m\u001b[0;34m(\u001b[0m\u001b[0;34m': '\u001b[0m\u001b[0;34m,\u001b[0m \u001b[0;36m1\u001b[0m\u001b[0;34m)\u001b[0m\u001b[0;34m[\u001b[0m\u001b[0;36m1\u001b[0m\u001b[0;34m]\u001b[0m\u001b[0;34m,\u001b[0m \u001b[0mstackTrace\u001b[0m\u001b[0;34m)\u001b[0m\u001b[0;34m\u001b[0m\u001b[0;34m\u001b[0m\u001b[0m\n",
      "\u001b[0;31mAnalysisException\u001b[0m: 'CSV data source does not support array<string> data type.;'"
     ]
    }
   ],
   "source": [
    "spark_df3.write.csv('corpus0_to_9.csv')"
   ]
  },
  {
   "cell_type": "code",
   "execution_count": 174,
   "metadata": {},
   "outputs": [],
   "source": [
    "# spark_df4.write.format('parquet').save('all_papers_csv')"
   ]
  },
  {
   "cell_type": "code",
   "execution_count": null,
   "metadata": {},
   "outputs": [],
   "source": []
  },
  {
   "cell_type": "markdown",
   "metadata": {},
   "source": [
    "# HIVE"
   ]
  },
  {
   "cell_type": "code",
   "execution_count": 14,
   "metadata": {},
   "outputs": [],
   "source": [
    "from pyspark.sql import HiveContext\n",
    "hive_context = HiveContext(sc)"
   ]
  },
  {
   "cell_type": "code",
   "execution_count": 15,
   "metadata": {},
   "outputs": [
    {
     "name": "stdout",
     "output_type": "stream",
     "text": [
      "+-------------+\n",
      "| databaseName|\n",
      "+-------------+\n",
      "|     aamorris|\n",
      "|    ababikova|\n",
      "|          abb|\n",
      "|      abertin|\n",
      "| abhishekchat|\n",
      "|      achenad|\n",
      "|  adeshghadge|\n",
      "|      adetola|\n",
      "| adhamsuliman|\n",
      "|   aditilakra|\n",
      "|       aghose|\n",
      "|       ahphan|\n",
      "|      airline|\n",
      "|       alphan|\n",
      "|       aluong|\n",
      "|alvinharyanto|\n",
      "|       amant3|\n",
      "|    amiparikh|\n",
      "|amoliterno945|\n",
      "|     andmoral|\n",
      "+-------------+\n",
      "only showing top 20 rows\n",
      "\n"
     ]
    }
   ],
   "source": [
    "#show databaes\n",
    "spark.sql('show databases').show()"
   ]
  },
  {
   "cell_type": "code",
   "execution_count": null,
   "metadata": {},
   "outputs": [],
   "source": []
  },
  {
   "cell_type": "code",
   "execution_count": null,
   "metadata": {},
   "outputs": [],
   "source": [
    "# from pyspark.sql.functions import udf, col, lower, regexp_replace\n",
    "# from pyspark.ml.feature import Tokenizer, StopWordsRemover\n",
    "# from nltk.stem.snowball import SnowballStemmer\n",
    "\n",
    "# # Clean text\n",
    "# df_clean = spark_df2.withColumn('title_clean', (lower(regexp_replace('title', \"[^a-zA-Z\\\\s]\", \"\")).alias('title')))\n",
    "\n",
    "# # Tokenize text\n",
    "# tokenizer = Tokenizer(inputCol='title_clean', outputCol='title_clean_token')\n",
    "# df_words_token = tokenizer.transform(df_clean)\n",
    "\n",
    "# # Remove stop words\n",
    "# remover = StopWordsRemover(inputCol='title_clean_token', outputCol='title_clean_token_sw')\n",
    "# df_words_no_stopw = remover.transform(df_words_token)\n",
    "\n",
    "# # Stem text\n",
    "# stemmer = SnowballStemmer(language='english')\n",
    "# stemmer_udf = udf(lambda tokens: [stemmer.stem(token) for token in tokens], ArrayType(StringType()))\n",
    "# df_stemmed = df_words_no_stopw.withColumn(\"title_clean_token_stemmed\", stemmer_udf(\"title_clean_token_sw\"))\n",
    "\n",
    "# # Filter length word > 3\n",
    "# filter_length_udf = udf(lambda row: [x for x in row if len(x) >= 3], ArrayType(StringType()))\n",
    "# df_final_words = df_stemmed.withColumn('title_complete', filter_length_udf(col('title_clean_token_stemmed')))\n",
    "\n",
    "#####################################################################################################################\n",
    "# import nltk\n",
    "# from nltk.corpus import stopwords\n",
    "# from nltk.stem import WordNetLemmatizer\n",
    "# from nltk.corpus import stopwords\n",
    "# import re\n",
    "# import string\n",
    "# nltk.download('wordnet')\n",
    "# stop_words=set(stopwords.words('english'))\n",
    "# list_punct=list(string.punctuation)\n",
    "# lemmatizer = WordNetLemmatizer()\n",
    "\n",
    "# def clean_text(x):\n",
    "#     filteredSentence = [w for w in x if not w in stop_words]\n",
    "#     filtered = [''.join(c for c in s if c not in list_punct) for s in filteredSentence] \n",
    "#     filtered_space = [s for s in filtered if s] #remove empty space\n",
    "#     finalLem = [lemmatizer.lemmatize(s) for s in filtered_space]\n",
    "#     return finalLem\n",
    "\n",
    "# clean_text_udf = udf(lambda tokens: clean_text(tokens), ArrayType(StringType())) \n",
    "\n",
    "#clean_text(spark_df2.limit(1).select('title_tokens').collect()[0][0])"
   ]
  },
  {
   "cell_type": "code",
   "execution_count": 162,
   "metadata": {},
   "outputs": [],
   "source": [
    "#### ANALYSIS OF JOURNAL NAMES\n",
    "# spark_df3.groupby('journalName').agg(F.min(spark_df3.inCitations_count),F.max(spark_df3.inCitations_count), \\\n",
    "#               F.avg(spark_df3.inCitations_count),F.sum(spark_df3.inCitations_count), \\\n",
    "#              F.count(spark_df3.inCitations_count)).sort('count(inCitations_count)', ascending = False).show(truncate = False)\n",
    "\n",
    "# fields_count = spark_df3.groupby('journalName').count().sort('count', ascending = False)\n",
    "# #convert Pyspark dataframe to Pandas dataframe for plotting\n",
    "# pdf = fields_count.toPandas()\n",
    "# pdf[:20].plot(kind= 'bar', x='journalName')\n",
    "# plt.show()"
   ]
  }
 ],
 "metadata": {
  "kernelspec": {
   "display_name": "pySpark",
   "language": "python",
   "name": "pyspark"
  },
  "language_info": {
   "codemirror_mode": {
    "name": "ipython",
    "version": 3
   },
   "file_extension": ".py",
   "mimetype": "text/x-python",
   "name": "python",
   "nbconvert_exporter": "python",
   "pygments_lexer": "ipython3",
   "version": "3.6.8"
  }
 },
 "nbformat": 4,
 "nbformat_minor": 2
}
