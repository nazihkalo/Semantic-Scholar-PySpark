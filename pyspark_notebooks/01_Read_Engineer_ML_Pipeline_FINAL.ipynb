{
 "cells": [
  {
   "cell_type": "markdown",
   "metadata": {},
   "source": [
    "# BIG DATA FINAL PROJECT: NOTEBOOK 1/2\n",
    "# Machine Learning Pipeline - Semantic Scholar Analysis\n",
    "## Nazih Kalo, Andrew Luong, Hoang Nguyen"
   ]
  },
  {
   "cell_type": "markdown",
   "metadata": {},
   "source": [
    "## Reading Data from HDFS\n",
    "\n",
    "Datasource: Semantic Scholar Open Research Corpus\n",
    "\n",
    "Description: Semantic Scholar's records for research papers published in all fields provided as an easy-to-use JSON archive.\n",
    "\n",
    "### Attribute Definitions\n",
    "- id  string = S2 generated research paper ID.\n",
    "- title  string = Research paper title.\n",
    "- paperAbstract  string = Extracted abstract of the paper.\n",
    "- entities  list = Extracted list of relevant entities or topics.\n",
    "- s2Url  string = URL to S2 research paper details page.\n",
    "- s2PdfUrl  string = URL to PDF on S2 if available.\n",
    "- pdfUrls  list = URLs related to this PDF scraped from the web.\n",
    "- authors  list = List of authors with an S2 generated author ID and name.\n",
    "- inCitations  list = List of S2 paper IDs which cited this paper.\n",
    "- outCitations  list = List of S2 paper IDs which this paper cited\n",
    "- year  int = Year this paper was published as integer.\n",
    "- venue  string = Extracted publication venue for this paper.\n",
    "- journalName  string = Name of the journal that published this paper.\n",
    "- journalVolume  string = The volume of the journal where this paper was published.\n",
    "- journalPages  string = The pages of the journal where this paper was published.\n",
    "- sources  list = Identifies papers sourced from DBLP or Medline.\n",
    "- doi  string = Digital Object Identifier registered at doi.org.\n",
    "- doiUrl  string = DOI link for registered objects.\n",
    "- pmid  string = Unique identifier used by PubMed.\n",
    "- fieldsOfStudy  list = Zero or more fields of study this paper addresses.`"
   ]
  },
  {
   "cell_type": "code",
   "execution_count": 1,
   "metadata": {},
   "outputs": [],
   "source": [
    "#IMPORTING PACKAGES\n",
    "\n",
    "#MATH AND DATAFRAME\n",
    "import numpy as np\n",
    "import pandas as pd \n",
    "import json\n",
    "\n",
    "#VISUALIZATION\n",
    "import matplotlib.pyplot as plt \n",
    "import matplotlib as mpl\n",
    "import seaborn as sns\n",
    "\n",
    "#PYSPARK\n",
    "from pyspark import *\n",
    "from pyspark.sql import *\n",
    "from pyspark.ml.linalg import *\n",
    "from pyspark.ml.linalg import *\n",
    "from pyspark.sql.types import * \n",
    "from pyspark.sql.functions import *\n",
    "from pyspark.sql.functions import udf #user defined function\n",
    "from pyspark.sql.types import * #Import types == IntegerType, StringType etc.\n",
    "\n",
    "#NLP \n",
    "import nltk"
   ]
  },
  {
   "cell_type": "markdown",
   "metadata": {},
   "source": [
    "## Setting Custom Configs for Memory"
   ]
  },
  {
   "cell_type": "code",
   "execution_count": 2,
   "metadata": {
    "scrolled": true
   },
   "outputs": [
    {
     "data": {
      "text/plain": [
       "[('spark.yarn.executor.memoryOverhead', '4g'),\n",
       " ('spark.eventLog.enabled', 'true'),\n",
       " ('spark.yarn.jars',\n",
       "  'local:/opt/cloudera/parcels/CDH-6.3.0-1.cdh6.3.0.p0.1279813/lib/spark/jars/*,local:/opt/cloudera/parcels/CDH-6.3.0-1.cdh6.3.0.p0.1279813/lib/spark/hive/*'),\n",
       " ('spark.yarn.appMasterEnv.MKL_NUM_THREADS', '1'),\n",
       " ('spark.sql.queryExecutionListeners',\n",
       "  'com.cloudera.spark.lineage.NavigatorQueryListener'),\n",
       " ('spark.lineage.log.dir', '/var/log/spark/lineage'),\n",
       " ('spark.org.apache.hadoop.yarn.server.webproxy.amfilter.AmIpFilter.param.PROXY_HOSTS',\n",
       "  'md01.rcc.local,md02.rcc.local'),\n",
       " ('spark.serializer', 'org.apache.spark.serializer.KryoSerializer'),\n",
       " ('spark.executorEnv.PYTHONPATH',\n",
       "  '/opt/cloudera/parcels/CDH/lib/spark/python/lib/py4j-0.10.7-src.zip:/opt/cloudera/parcels/CDH/lib/spark/python/lib/pyspark.zip<CPS>/opt/cloudera/parcels/CDH-6.3.0-1.cdh6.3.0.p0.1279813/lib/spark/python/lib/py4j-0.10.7-src.zip<CPS>/opt/cloudera/parcels/CDH-6.3.0-1.cdh6.3.0.p0.1279813/lib/spark/python/lib/pyspark.zip'),\n",
       " ('spark.yarn.historyServer.address', 'http://hd01.rcc.local:18088'),\n",
       " ('spark.org.apache.hadoop.yarn.server.webproxy.amfilter.AmIpFilter.param.PROXY_URI_BASES',\n",
       "  'http://md01.rcc.local:8088/proxy/application_1577383759214_3977,http://md02.rcc.local:8088/proxy/application_1577383759214_3977'),\n",
       " ('spark.executor.memory', '40g'),\n",
       " ('spark.ui.filters',\n",
       "  'org.apache.hadoop.yarn.server.webproxy.amfilter.AmIpFilter'),\n",
       " ('spark.network.crypto.enabled', 'false'),\n",
       " ('spark.executorEnv.MKL_NUM_THREADS', '1'),\n",
       " ('spark.ui.enabled', 'true'),\n",
       " ('spark.executor.id', 'driver'),\n",
       " ('spark.executor.extraLibraryPath',\n",
       "  '/opt/cloudera/parcels/CDH-6.3.0-1.cdh6.3.0.p0.1279813/lib/hadoop/lib/native'),\n",
       " ('spark.dynamicAllocation.schedulerBacklogTimeout', '1'),\n",
       " ('spark.yarn.config.gatewayPath', '/opt/cloudera/parcels'),\n",
       " ('spark.extraListeners', 'com.cloudera.spark.lineage.NavigatorAppListener'),\n",
       " ('spark.port.maxRetries', '60'),\n",
       " ('spark.sql.warehouse.dir', '/user/hive/warehouse'),\n",
       " ('spark.app.name', 'Spark Updated Conf'),\n",
       " ('spark.sql.catalogImplementation', 'hive'),\n",
       " ('spark.driver.log.persistToDfs.enabled', 'true'),\n",
       " ('spark.yarn.config.replacementPath', '{{HADOOP_COMMON_HOME}}/../../..'),\n",
       " ('spark.executorEnv.OPENBLAS_NUM_THREADS', '1'),\n",
       " ('spark.driver.extraLibraryPath',\n",
       "  '/opt/cloudera/parcels/CDH-6.3.0-1.cdh6.3.0.p0.1279813/lib/hadoop/lib/native'),\n",
       " ('spark.ui.killEnabled', 'true'),\n",
       " ('spark.eventLog.dir', 'hdfs://nameservice1/user/spark/applicationHistory'),\n",
       " ('spark.dynamicAllocation.executorIdleTimeout', '60'),\n",
       " ('spark.io.encryption.enabled', 'false'),\n",
       " ('spark.authenticate', 'false'),\n",
       " ('spark.serializer.objectStreamReset', '100'),\n",
       " ('spark.submit.deployMode', 'client'),\n",
       " ('spark.org.apache.hadoop.yarn.server.webproxy.amfilter.AmIpFilter.param.RM_HA_URLS',\n",
       "  'md01.rcc.local:8088,md02.rcc.local:8088'),\n",
       " ('spark.shuffle.service.enabled', 'true'),\n",
       " ('spark.yarn.historyServer.allowTracking', 'true'),\n",
       " ('spark.driver.memory', '10g'),\n",
       " ('spark.yarn.appMasterEnv.OPENBLAS_NUM_THREADS', '1'),\n",
       " ('spark.shuffle.service.port', '7337'),\n",
       " ('spark.ui.proxyBase', '/proxy/application_1577383759214_3977'),\n",
       " ('spark.executor.cores', '10'),\n",
       " ('spark.cores.max', '10'),\n",
       " ('spark.lineage.enabled', 'true'),\n",
       " ('spark.master', 'yarn'),\n",
       " ('spark.driver.host', 'md01.rcc.local'),\n",
       " ('spark.driver.port', '37019'),\n",
       " ('spark.rdd.compress', 'True'),\n",
       " ('spark.yarn.am.extraLibraryPath',\n",
       "  '/opt/cloudera/parcels/CDH-6.3.0-1.cdh6.3.0.p0.1279813/lib/hadoop/lib/native'),\n",
       " ('spark.dynamicAllocation.minExecutors', '0'),\n",
       " ('spark.yarn.isPython', 'true'),\n",
       " ('spark.dynamicAllocation.enabled', 'true'),\n",
       " ('spark.driver.appUIAddress', 'http://md01.rcc.local:4058'),\n",
       " ('spark.ui.showConsoleProgress', 'true'),\n",
       " ('spark.app.id', 'application_1577383759214_3977'),\n",
       " ('spark.driver.log.dfsDir', '/user/spark/driverLogs')]"
      ]
     },
     "execution_count": 2,
     "metadata": {},
     "output_type": "execute_result"
    }
   ],
   "source": [
    "#import statements\n",
    "from pyspark.sql import SparkSession\n",
    "\n",
    "spark = SparkSession.builder.appName('SparkBasics').getOrCreate()\n",
    "spark\n",
    "#create Spark session\n",
    "spark = SparkSession.builder.enableHiveSupport().appName('Final_project_read_write').getOrCreate()\n",
    "\n",
    "conf = spark.sparkContext._conf.setAll([('spark.executor.memory', '40g'), \n",
    "                                        ('spark.app.name', 'Spark Updated Conf'), \n",
    "                                        ('spark.executor.cores', '10'), \n",
    "                                        ('spark.cores.max', '10'), \n",
    "                                        ('spark.driver.memory','10g'),\n",
    "                                        ('spark.yarn.executor.memoryOverhead', '4g')])\n",
    "\n",
    "#print spark configuration settings\n",
    "spark.sparkContext.getConf().getAll()"
   ]
  },
  {
   "cell_type": "markdown",
   "metadata": {},
   "source": [
    "### Ingestion of files from shared HDFS Repository"
   ]
  },
  {
   "cell_type": "code",
   "execution_count": 3,
   "metadata": {},
   "outputs": [
    {
     "name": "stdout",
     "output_type": "stream",
     "text": [
      "WARNING: log4j.properties is not found. HADOOP_CONF_DIR may be incomplete.\n",
      "Java HotSpot(TM) 64-Bit Server VM warning: ignoring option MaxPermSize=512M; support was removed in 8.0\n",
      "Found 21 items\n",
      "-rw-r--r--   3 nazihkalo nazihkalo 1592749572 2020-02-11 10:25 big_data_project/unzipped_files/s2-corpus-000\n",
      "-rw-r--r--   3 nazihkalo nazihkalo 1592820732 2020-02-11 10:24 big_data_project/unzipped_files/s2-corpus-001\n",
      "-rw-r--r--   3 nazihkalo nazihkalo 1595233436 2020-02-11 10:24 big_data_project/unzipped_files/s2-corpus-002\n",
      "-rw-r--r--   3 nazihkalo nazihkalo 1597066383 2020-02-11 10:24 big_data_project/unzipped_files/s2-corpus-003\n",
      "-rw-r--r--   3 nazihkalo nazihkalo 1601510198 2020-02-11 10:24 big_data_project/unzipped_files/s2-corpus-004\n",
      "-rw-r--r--   3 nazihkalo nazihkalo 1593588156 2020-02-11 10:25 big_data_project/unzipped_files/s2-corpus-005\n",
      "-rw-r--r--   3 nazihkalo nazihkalo 1596634329 2020-02-11 10:23 big_data_project/unzipped_files/s2-corpus-006\n",
      "-rw-r--r--   3 nazihkalo nazihkalo 1596512143 2020-02-11 10:25 big_data_project/unzipped_files/s2-corpus-007\n",
      "-rw-r--r--   3 nazihkalo nazihkalo 1595234796 2020-02-11 10:25 big_data_project/unzipped_files/s2-corpus-008\n",
      "-rw-r--r--   3 nazihkalo nazihkalo 1596753944 2020-02-11 10:25 big_data_project/unzipped_files/s2-corpus-009\n",
      "-rw-r--r--   3 nazihkalo nazihkalo 1594136408 2020-02-23 18:13 big_data_project/unzipped_files/s2-corpus-010\n",
      "-rw-r--r--   3 nazihkalo nazihkalo 1594579947 2020-02-23 18:14 big_data_project/unzipped_files/s2-corpus-011\n",
      "-rw-r--r--   3 nazihkalo nazihkalo 1590771279 2020-02-23 18:14 big_data_project/unzipped_files/s2-corpus-012\n",
      "-rw-r--r--   3 nazihkalo nazihkalo 1592680718 2020-02-23 18:14 big_data_project/unzipped_files/s2-corpus-013\n",
      "-rw-r--r--   3 nazihkalo nazihkalo 1592439957 2020-02-23 18:14 big_data_project/unzipped_files/s2-corpus-014\n",
      "-rw-r--r--   3 nazihkalo nazihkalo 1594621313 2020-02-23 18:14 big_data_project/unzipped_files/s2-corpus-015\n",
      "-rw-r--r--   3 nazihkalo nazihkalo 1593223490 2020-02-23 18:15 big_data_project/unzipped_files/s2-corpus-016\n",
      "-rw-r--r--   3 nazihkalo nazihkalo 1597860429 2020-02-23 18:15 big_data_project/unzipped_files/s2-corpus-017\n",
      "-rw-r--r--   3 nazihkalo nazihkalo 1594703255 2020-02-23 18:15 big_data_project/unzipped_files/s2-corpus-018\n",
      "-rw-r--r--   3 nazihkalo nazihkalo 1591922917 2020-02-23 18:15 big_data_project/unzipped_files/s2-corpus-019\n",
      "-rw-r--r--   3 nazihkalo nazihkalo 1593511290 2020-02-23 18:16 big_data_project/unzipped_files/s2-corpus-020\n"
     ]
    }
   ],
   "source": [
    "!hdfs dfs -ls /user/nazihkalo/big_data_project/unzipped_files"
   ]
  },
  {
   "cell_type": "code",
   "execution_count": 4,
   "metadata": {},
   "outputs": [
    {
     "data": {
      "text/plain": [
       "{'MKL_NUM_THREADS': '1', 'OPENBLAS_NUM_THREADS': '1', 'PYTHONHASHSEED': '0'}"
      ]
     },
     "execution_count": 4,
     "metadata": {},
     "output_type": "execute_result"
    }
   ],
   "source": [
    "sc.environment"
   ]
  },
  {
   "cell_type": "markdown",
   "metadata": {},
   "source": [
    "## Data Ingestion"
   ]
  },
  {
   "cell_type": "code",
   "execution_count": 3,
   "metadata": {},
   "outputs": [],
   "source": [
    "spark_df = spark.read.json('big_data_project/unzipped_files/s2-corpus-000')"
   ]
  },
  {
   "cell_type": "markdown",
   "metadata": {},
   "source": [
    "### Looking at the schema & summary stats"
   ]
  },
  {
   "cell_type": "code",
   "execution_count": 4,
   "metadata": {},
   "outputs": [
    {
     "name": "stdout",
     "output_type": "stream",
     "text": [
      "root\n",
      " |-- authors: array (nullable = true)\n",
      " |    |-- element: struct (containsNull = true)\n",
      " |    |    |-- ids: array (nullable = true)\n",
      " |    |    |    |-- element: string (containsNull = true)\n",
      " |    |    |-- name: string (nullable = true)\n",
      " |-- doi: string (nullable = true)\n",
      " |-- doiUrl: string (nullable = true)\n",
      " |-- entities: array (nullable = true)\n",
      " |    |-- element: string (containsNull = true)\n",
      " |-- fieldsOfStudy: array (nullable = true)\n",
      " |    |-- element: string (containsNull = true)\n",
      " |-- id: string (nullable = true)\n",
      " |-- inCitations: array (nullable = true)\n",
      " |    |-- element: string (containsNull = true)\n",
      " |-- journalName: string (nullable = true)\n",
      " |-- journalPages: string (nullable = true)\n",
      " |-- journalVolume: string (nullable = true)\n",
      " |-- outCitations: array (nullable = true)\n",
      " |    |-- element: string (containsNull = true)\n",
      " |-- paperAbstract: string (nullable = true)\n",
      " |-- pdfUrls: array (nullable = true)\n",
      " |    |-- element: string (containsNull = true)\n",
      " |-- pmid: string (nullable = true)\n",
      " |-- s2PdfUrl: string (nullable = true)\n",
      " |-- s2Url: string (nullable = true)\n",
      " |-- sources: array (nullable = true)\n",
      " |    |-- element: string (containsNull = true)\n",
      " |-- title: string (nullable = true)\n",
      " |-- venue: string (nullable = true)\n",
      " |-- year: long (nullable = true)\n",
      "\n"
     ]
    }
   ],
   "source": [
    "spark_df.printSchema()"
   ]
  },
  {
   "cell_type": "code",
   "execution_count": 5,
   "metadata": {},
   "outputs": [
    {
     "data": {
      "text/plain": [
       "[('authors', 'array<struct<ids:array<string>,name:string>>'),\n",
       " ('doi', 'string'),\n",
       " ('doiUrl', 'string'),\n",
       " ('entities', 'array<string>'),\n",
       " ('fieldsOfStudy', 'array<string>'),\n",
       " ('id', 'string'),\n",
       " ('inCitations', 'array<string>'),\n",
       " ('journalName', 'string'),\n",
       " ('journalPages', 'string'),\n",
       " ('journalVolume', 'string'),\n",
       " ('outCitations', 'array<string>'),\n",
       " ('paperAbstract', 'string'),\n",
       " ('pdfUrls', 'array<string>'),\n",
       " ('pmid', 'string'),\n",
       " ('s2PdfUrl', 'string'),\n",
       " ('s2Url', 'string'),\n",
       " ('sources', 'array<string>'),\n",
       " ('title', 'string'),\n",
       " ('venue', 'string'),\n",
       " ('year', 'bigint')]"
      ]
     },
     "execution_count": 5,
     "metadata": {},
     "output_type": "execute_result"
    }
   ],
   "source": [
    "spark_df.dtypes"
   ]
  },
  {
   "cell_type": "code",
   "execution_count": 6,
   "metadata": {},
   "outputs": [
    {
     "name": "stdout",
     "output_type": "stream",
     "text": [
      "+--------------------+--------------------+--------------------+--------+-------------------+--------------------+--------------------+-----------+------------+-------------+--------------------+--------------------+--------------------+--------+--------+--------------------+---------+--------------------+--------+----+\n",
      "|             authors|                 doi|              doiUrl|entities|      fieldsOfStudy|                  id|         inCitations|journalName|journalPages|journalVolume|        outCitations|       paperAbstract|             pdfUrls|    pmid|s2PdfUrl|               s2Url|  sources|               title|   venue|year|\n",
      "+--------------------+--------------------+--------------------+--------+-------------------+--------------------+--------------------+-----------+------------+-------------+--------------------+--------------------+--------------------+--------+--------+--------------------+---------+--------------------+--------+----+\n",
      "|[[[52602509], Yan...|                    |                    |      []|         [Business]|b9c27ac1bb8b3ec9d...|                  []|           |            |             |                  []|The problem of bu...|                  []|        |        |https://semantics...|       []|Cause Analysis an...|        |2014|\n",
      "|[[[122800702], Sa...|                    |                    |      []|          [History]|91cac7b12800a6238...|                  []|           |            |             |                  []|                    |                  []|        |        |https://semantics...|       []|Clair comme lune ...|        |2016|\n",
      "|[[[1392355377], M...|  10.1111/jocn.12477|https://doi.org/1...|      []|         [Medicine]|412b10a92babf3509...|                  []|           |            |             |                  []|Aims and objectiv...|                  []|        |        |https://semantics...|       []|Unexpected deaths...|        |2013|\n",
      "|[[[47909706], Ya ...|10.1371/journal.p...|https://doi.org/1...|      []|[Medicine, Biology]|0de1cecd2ed49812f...|[8ecaab2a03953fa5...|           |    551 - 60|           10|[cf5cdba6424524ee...|The mitogen-activ...|[http://ftp.ncbi....|26599013|        |https://semantics...|[Medline]|RNA-Seq Analysis ...|PloS one|2015|\n",
      "|[[[47264369], Aws...|10.1016/S0735-109...|https://doi.org/1...|      []|         [Medicine]|1d9fee40f59bf00eb...|                  []|           |            |             |                  []|                    |                  []|        |        |https://semantics...|       []|Temporal Trends a...|        |2012|\n",
      "+--------------------+--------------------+--------------------+--------+-------------------+--------------------+--------------------+-----------+------------+-------------+--------------------+--------------------+--------------------+--------+--------+--------------------+---------+--------------------+--------+----+\n",
      "only showing top 5 rows\n",
      "\n"
     ]
    }
   ],
   "source": [
    "spark_df.show(5)"
   ]
  },
  {
   "cell_type": "markdown",
   "metadata": {},
   "source": [
    "### Data Description"
   ]
  },
  {
   "cell_type": "code",
   "execution_count": 22,
   "metadata": {},
   "outputs": [
    {
     "data": {
      "text/html": [
       "<div>\n",
       "<style scoped>\n",
       "    .dataframe tbody tr th:only-of-type {\n",
       "        vertical-align: middle;\n",
       "    }\n",
       "\n",
       "    .dataframe tbody tr th {\n",
       "        vertical-align: top;\n",
       "    }\n",
       "\n",
       "    .dataframe thead th {\n",
       "        text-align: right;\n",
       "    }\n",
       "</style>\n",
       "<table border=\"1\" class=\"dataframe\">\n",
       "  <thead>\n",
       "    <tr style=\"text-align: right;\">\n",
       "      <th></th>\n",
       "      <th>summary</th>\n",
       "      <th>doi</th>\n",
       "      <th>doiUrl</th>\n",
       "      <th>id</th>\n",
       "      <th>journalName</th>\n",
       "      <th>journalPages</th>\n",
       "      <th>journalVolume</th>\n",
       "      <th>paperAbstract</th>\n",
       "      <th>pmid</th>\n",
       "      <th>s2PdfUrl</th>\n",
       "      <th>s2Url</th>\n",
       "      <th>title</th>\n",
       "      <th>venue</th>\n",
       "      <th>year</th>\n",
       "    </tr>\n",
       "  </thead>\n",
       "  <tbody>\n",
       "    <tr>\n",
       "      <th>0</th>\n",
       "      <td>count</td>\n",
       "      <td>20951660</td>\n",
       "      <td>20951660</td>\n",
       "      <td>20951660</td>\n",
       "      <td>20951660</td>\n",
       "      <td>20951660</td>\n",
       "      <td>20951660</td>\n",
       "      <td>20951660</td>\n",
       "      <td>20951660</td>\n",
       "      <td>20951660</td>\n",
       "      <td>20951660</td>\n",
       "      <td>20951660</td>\n",
       "      <td>20951660</td>\n",
       "      <td>20548034</td>\n",
       "    </tr>\n",
       "    <tr>\n",
       "      <th>1</th>\n",
       "      <td>mean</td>\n",
       "      <td>None</td>\n",
       "      <td>None</td>\n",
       "      <td>Infinity</td>\n",
       "      <td>None</td>\n",
       "      <td>Infinity</td>\n",
       "      <td>609579.3687311141</td>\n",
       "      <td>23024.818401206638</td>\n",
       "      <td>1.5848959655556966E7</td>\n",
       "      <td>None</td>\n",
       "      <td>None</td>\n",
       "      <td>336.0</td>\n",
       "      <td>None</td>\n",
       "      <td>2002.1739107011406</td>\n",
       "    </tr>\n",
       "    <tr>\n",
       "      <th>2</th>\n",
       "      <td>stddev</td>\n",
       "      <td>None</td>\n",
       "      <td>None</td>\n",
       "      <td>NaN</td>\n",
       "      <td>None</td>\n",
       "      <td>NaN</td>\n",
       "      <td>3.599756476267018E8</td>\n",
       "      <td>837594.2814764327</td>\n",
       "      <td>9311305.037322745</td>\n",
       "      <td>None</td>\n",
       "      <td>None</td>\n",
       "      <td>NaN</td>\n",
       "      <td>None</td>\n",
       "      <td>15.96261332200123</td>\n",
       "    </tr>\n",
       "    <tr>\n",
       "      <th>3</th>\n",
       "      <td>min</td>\n",
       "      <td></td>\n",
       "      <td></td>\n",
       "      <td>0000050f48bc29d60f231d525700d9b15cfa4ab7</td>\n",
       "      <td></td>\n",
       "      <td></td>\n",
       "      <td></td>\n",
       "      <td></td>\n",
       "      <td></td>\n",
       "      <td></td>\n",
       "      <td>https://semanticscholar.org/paper/0000050f48bc...</td>\n",
       "      <td></td>\n",
       "      <td></td>\n",
       "      <td>1936</td>\n",
       "    </tr>\n",
       "    <tr>\n",
       "      <th>4</th>\n",
       "      <td>25%</td>\n",
       "      <td>None</td>\n",
       "      <td>None</td>\n",
       "      <td>Infinity</td>\n",
       "      <td>None</td>\n",
       "      <td>51.0</td>\n",
       "      <td>12.0</td>\n",
       "      <td>2.0</td>\n",
       "      <td>7707162.0</td>\n",
       "      <td>None</td>\n",
       "      <td>None</td>\n",
       "      <td>336.0</td>\n",
       "      <td>None</td>\n",
       "      <td>1995</td>\n",
       "    </tr>\n",
       "    <tr>\n",
       "      <th>5</th>\n",
       "      <td>50%</td>\n",
       "      <td>None</td>\n",
       "      <td>None</td>\n",
       "      <td>Infinity</td>\n",
       "      <td>None</td>\n",
       "      <td>309.0</td>\n",
       "      <td>34.0</td>\n",
       "      <td>4.0</td>\n",
       "      <td>1.5706203E7</td>\n",
       "      <td>None</td>\n",
       "      <td>None</td>\n",
       "      <td>336.0</td>\n",
       "      <td>None</td>\n",
       "      <td>2008</td>\n",
       "    </tr>\n",
       "    <tr>\n",
       "      <th>6</th>\n",
       "      <td>75%</td>\n",
       "      <td>None</td>\n",
       "      <td>None</td>\n",
       "      <td>Infinity</td>\n",
       "      <td>None</td>\n",
       "      <td>998.0</td>\n",
       "      <td>86.0</td>\n",
       "      <td>9.0</td>\n",
       "      <td>2.4000932E7</td>\n",
       "      <td>None</td>\n",
       "      <td>None</td>\n",
       "      <td>336.0</td>\n",
       "      <td>None</td>\n",
       "      <td>2014</td>\n",
       "    </tr>\n",
       "    <tr>\n",
       "      <th>7</th>\n",
       "      <td>max</td>\n",
       "      <td>10.99999/pcru_journal.v14i2.116</td>\n",
       "      <td>https://doi.org/10.99999/pcru_journal.v14i2.116</td>\n",
       "      <td>fffffcf4b3eb4b13a60e820ff15a25e2a84b1208</td>\n",
       "      <td>“Agriculture for Life, Life for Agriculture” C...</td>\n",
       "      <td>••• - 26</td>\n",
       "      <td>xvi</td>\n",
       "      <td>􎬀 연구 배경 미용 · 건강증진을 목적으로 하는 여러 기술이 개원가를 중심으로 비급...</td>\n",
       "      <td>9999998</td>\n",
       "      <td></td>\n",
       "      <td>https://semanticscholar.org/paper/fffffcf4b3eb...</td>\n",
       "      <td>󰡔유리동물원󰡕 톰 윙필드의 연기 양상 연구 : Michael Kirby의 〈acti...</td>\n",
       "      <td>Československá Mikrobiologie</td>\n",
       "      <td>2020</td>\n",
       "    </tr>\n",
       "  </tbody>\n",
       "</table>\n",
       "</div>"
      ],
      "text/plain": [
       "  summary                              doi  \\\n",
       "0   count                         20951660   \n",
       "1    mean                             None   \n",
       "2  stddev                             None   \n",
       "3     min                                    \n",
       "4     25%                             None   \n",
       "5     50%                             None   \n",
       "6     75%                             None   \n",
       "7     max  10.99999/pcru_journal.v14i2.116   \n",
       "\n",
       "                                            doiUrl  \\\n",
       "0                                         20951660   \n",
       "1                                             None   \n",
       "2                                             None   \n",
       "3                                                    \n",
       "4                                             None   \n",
       "5                                             None   \n",
       "6                                             None   \n",
       "7  https://doi.org/10.99999/pcru_journal.v14i2.116   \n",
       "\n",
       "                                         id  \\\n",
       "0                                  20951660   \n",
       "1                                  Infinity   \n",
       "2                                       NaN   \n",
       "3  0000050f48bc29d60f231d525700d9b15cfa4ab7   \n",
       "4                                  Infinity   \n",
       "5                                  Infinity   \n",
       "6                                  Infinity   \n",
       "7  fffffcf4b3eb4b13a60e820ff15a25e2a84b1208   \n",
       "\n",
       "                                         journalName journalPages  \\\n",
       "0                                           20951660     20951660   \n",
       "1                                               None     Infinity   \n",
       "2                                               None          NaN   \n",
       "3                                                                   \n",
       "4                                               None         51.0   \n",
       "5                                               None        309.0   \n",
       "6                                               None        998.0   \n",
       "7  “Agriculture for Life, Life for Agriculture” C...     ••• - 26   \n",
       "\n",
       "         journalVolume                                      paperAbstract  \\\n",
       "0             20951660                                           20951660   \n",
       "1    609579.3687311141                                 23024.818401206638   \n",
       "2  3.599756476267018E8                                  837594.2814764327   \n",
       "3                                                                           \n",
       "4                 12.0                                                2.0   \n",
       "5                 34.0                                                4.0   \n",
       "6                 86.0                                                9.0   \n",
       "7                  xvi  􎬀 연구 배경 미용 · 건강증진을 목적으로 하는 여러 기술이 개원가를 중심으로 비급...   \n",
       "\n",
       "                   pmid  s2PdfUrl  \\\n",
       "0              20951660  20951660   \n",
       "1  1.5848959655556966E7      None   \n",
       "2     9311305.037322745      None   \n",
       "3                                   \n",
       "4             7707162.0      None   \n",
       "5           1.5706203E7      None   \n",
       "6           2.4000932E7      None   \n",
       "7               9999998             \n",
       "\n",
       "                                               s2Url  \\\n",
       "0                                           20951660   \n",
       "1                                               None   \n",
       "2                                               None   \n",
       "3  https://semanticscholar.org/paper/0000050f48bc...   \n",
       "4                                               None   \n",
       "5                                               None   \n",
       "6                                               None   \n",
       "7  https://semanticscholar.org/paper/fffffcf4b3eb...   \n",
       "\n",
       "                                               title  \\\n",
       "0                                           20951660   \n",
       "1                                              336.0   \n",
       "2                                                NaN   \n",
       "3                                                      \n",
       "4                                              336.0   \n",
       "5                                              336.0   \n",
       "6                                              336.0   \n",
       "7  󰡔유리동물원󰡕 톰 윙필드의 연기 양상 연구 : Michael Kirby의 〈acti...   \n",
       "\n",
       "                          venue                year  \n",
       "0                      20951660            20548034  \n",
       "1                          None  2002.1739107011406  \n",
       "2                          None   15.96261332200123  \n",
       "3                                              1936  \n",
       "4                          None                1995  \n",
       "5                          None                2008  \n",
       "6                          None                2014  \n",
       "7  Československá Mikrobiologie                2020  "
      ]
     },
     "execution_count": 22,
     "metadata": {},
     "output_type": "execute_result"
    }
   ],
   "source": [
    "summary_pdf = spark_df.summary().toPandas()\n",
    "summary_pdf"
   ]
  },
  {
   "cell_type": "markdown",
   "metadata": {},
   "source": [
    "## Data Preprocessing"
   ]
  },
  {
   "cell_type": "markdown",
   "metadata": {},
   "source": [
    "### Counting number of records/articles"
   ]
  },
  {
   "cell_type": "code",
   "execution_count": 4,
   "metadata": {},
   "outputs": [
    {
     "data": {
      "text/plain": [
       "20951660"
      ]
     },
     "execution_count": 4,
     "metadata": {},
     "output_type": "execute_result"
    }
   ],
   "source": [
    "initial_count = spark_df.count()\n",
    "initial_count"
   ]
  },
  {
   "cell_type": "code",
   "execution_count": 5,
   "metadata": {},
   "outputs": [
    {
     "name": "stdout",
     "output_type": "stream",
     "text": [
      "Total Null rows =  403626\n",
      "Nulls as pct of total = 1.9264631060259667%\n"
     ]
    }
   ],
   "source": [
    "#Calculating total number of NAN rows\n",
    "null_row_count = initial_count - spark_df.dropna().count()\n",
    "print(\"Total Null rows = \", null_row_count)\n",
    "print(\"Nulls as pct of total = {}%\".format((null_row_count/initial_count)*100))"
   ]
  },
  {
   "cell_type": "markdown",
   "metadata": {},
   "source": [
    "### Inputation"
   ]
  },
  {
   "cell_type": "code",
   "execution_count": 91,
   "metadata": {},
   "outputs": [
    {
     "data": {
      "text/html": [
       "<div>\n",
       "<style scoped>\n",
       "    .dataframe tbody tr th:only-of-type {\n",
       "        vertical-align: middle;\n",
       "    }\n",
       "\n",
       "    .dataframe tbody tr th {\n",
       "        vertical-align: top;\n",
       "    }\n",
       "\n",
       "    .dataframe thead th {\n",
       "        text-align: right;\n",
       "    }\n",
       "</style>\n",
       "<table border=\"1\" class=\"dataframe\">\n",
       "  <thead>\n",
       "    <tr style=\"text-align: right;\">\n",
       "      <th></th>\n",
       "      <th>0</th>\n",
       "    </tr>\n",
       "  </thead>\n",
       "  <tbody>\n",
       "    <tr>\n",
       "      <th>authors</th>\n",
       "      <td>0</td>\n",
       "    </tr>\n",
       "    <tr>\n",
       "      <th>doi</th>\n",
       "      <td>0</td>\n",
       "    </tr>\n",
       "    <tr>\n",
       "      <th>doiUrl</th>\n",
       "      <td>0</td>\n",
       "    </tr>\n",
       "    <tr>\n",
       "      <th>entities</th>\n",
       "      <td>0</td>\n",
       "    </tr>\n",
       "    <tr>\n",
       "      <th>fieldsOfStudy</th>\n",
       "      <td>0</td>\n",
       "    </tr>\n",
       "    <tr>\n",
       "      <th>id</th>\n",
       "      <td>0</td>\n",
       "    </tr>\n",
       "    <tr>\n",
       "      <th>inCitations</th>\n",
       "      <td>0</td>\n",
       "    </tr>\n",
       "    <tr>\n",
       "      <th>journalName</th>\n",
       "      <td>0</td>\n",
       "    </tr>\n",
       "    <tr>\n",
       "      <th>journalPages</th>\n",
       "      <td>0</td>\n",
       "    </tr>\n",
       "    <tr>\n",
       "      <th>journalVolume</th>\n",
       "      <td>0</td>\n",
       "    </tr>\n",
       "    <tr>\n",
       "      <th>outCitations</th>\n",
       "      <td>0</td>\n",
       "    </tr>\n",
       "    <tr>\n",
       "      <th>paperAbstract</th>\n",
       "      <td>0</td>\n",
       "    </tr>\n",
       "    <tr>\n",
       "      <th>pdfUrls</th>\n",
       "      <td>0</td>\n",
       "    </tr>\n",
       "    <tr>\n",
       "      <th>pmid</th>\n",
       "      <td>0</td>\n",
       "    </tr>\n",
       "    <tr>\n",
       "      <th>s2PdfUrl</th>\n",
       "      <td>0</td>\n",
       "    </tr>\n",
       "    <tr>\n",
       "      <th>s2Url</th>\n",
       "      <td>0</td>\n",
       "    </tr>\n",
       "    <tr>\n",
       "      <th>sources</th>\n",
       "      <td>0</td>\n",
       "    </tr>\n",
       "    <tr>\n",
       "      <th>title</th>\n",
       "      <td>0</td>\n",
       "    </tr>\n",
       "    <tr>\n",
       "      <th>venue</th>\n",
       "      <td>0</td>\n",
       "    </tr>\n",
       "    <tr>\n",
       "      <th>year</th>\n",
       "      <td>403626</td>\n",
       "    </tr>\n",
       "  </tbody>\n",
       "</table>\n",
       "</div>"
      ],
      "text/plain": [
       "                    0\n",
       "authors             0\n",
       "doi                 0\n",
       "doiUrl              0\n",
       "entities            0\n",
       "fieldsOfStudy       0\n",
       "id                  0\n",
       "inCitations         0\n",
       "journalName         0\n",
       "journalPages        0\n",
       "journalVolume       0\n",
       "outCitations        0\n",
       "paperAbstract       0\n",
       "pdfUrls             0\n",
       "pmid                0\n",
       "s2PdfUrl            0\n",
       "s2Url               0\n",
       "sources             0\n",
       "title               0\n",
       "venue               0\n",
       "year           403626"
      ]
     },
     "execution_count": 91,
     "metadata": {},
     "output_type": "execute_result"
    }
   ],
   "source": [
    "#Looks like all the NAs are in year, let's impute using the median year\n",
    "#Checking where the NAs are\n",
    "from pyspark.sql.functions import isnan, when, count, col\n",
    "spark_df.select([count(when(col(c).isNull(), c)).alias(c) for c in spark_df.columns]).toPandas().T"
   ]
  },
  {
   "cell_type": "markdown",
   "metadata": {},
   "source": [
    "#### Year"
   ]
  },
  {
   "cell_type": "code",
   "execution_count": 8,
   "metadata": {},
   "outputs": [
    {
     "name": "stdout",
     "output_type": "stream",
     "text": [
      "the median year is =  2008\n"
     ]
    }
   ],
   "source": [
    "#Impute median year\n",
    "year_stats = spark_df.select('year').summary()\n",
    "median_year = int(year_stats.collect()[5].year)\n",
    "print('the median year is = ', median_year)\n",
    "\n",
    "#Inputing the median year\n",
    "spark_df = spark_df.na.fill({'year': median_year})\n",
    "\n",
    "#Convert to integer type column\n",
    "spark_df = spark_df.withColumn(\"year\", spark_df[\"year\"].cast(IntegerType()))"
   ]
  },
  {
   "cell_type": "code",
   "execution_count": 7,
   "metadata": {},
   "outputs": [
    {
     "name": "stdout",
     "output_type": "stream",
     "text": [
      "+------------------------------------------+\n",
      "|count(CASE WHEN (year IS NULL) THEN 1 END)|\n",
      "+------------------------------------------+\n",
      "|                                         0|\n",
      "+------------------------------------------+\n",
      "\n"
     ]
    }
   ],
   "source": [
    "spark_df.select(count(when(col('year').isNull(),1))).show()"
   ]
  },
  {
   "cell_type": "code",
   "execution_count": 8,
   "metadata": {},
   "outputs": [
    {
     "data": {
      "text/plain": [
       "86"
      ]
     },
     "execution_count": 8,
     "metadata": {},
     "output_type": "execute_result"
    }
   ],
   "source": [
    "spark_df.select('year').distinct().count()"
   ]
  },
  {
   "cell_type": "markdown",
   "metadata": {},
   "source": [
    "#### Fields of Sudy"
   ]
  },
  {
   "cell_type": "code",
   "execution_count": 98,
   "metadata": {},
   "outputs": [
    {
     "data": {
      "text/plain": [
       "3054"
      ]
     },
     "execution_count": 98,
     "metadata": {},
     "output_type": "execute_result"
    }
   ],
   "source": [
    "spark_df.select('fieldsOfStudy').distinct().count()"
   ]
  },
  {
   "cell_type": "code",
   "execution_count": 16,
   "metadata": {},
   "outputs": [
    {
     "name": "stdout",
     "output_type": "stream",
     "text": [
      "+-------------------+-------+\n",
      "|      fieldsOfStudy|  count|\n",
      "+-------------------+-------+\n",
      "|         [Medicine]|1797410|\n",
      "|                 []|1270796|\n",
      "|        [Chemistry]| 647360|\n",
      "| [Computer Science]| 605115|\n",
      "|      [Engineering]| 532338|\n",
      "|          [Biology]| 493352|\n",
      "|          [Physics]| 456051|\n",
      "|[Materials Science]| 427580|\n",
      "|       [Psychology]| 354488|\n",
      "|          [History]| 312121|\n",
      "|        [Sociology]| 299245|\n",
      "|              [Art]| 292479|\n",
      "|      [Mathematics]| 269465|\n",
      "|[Political Science]| 268942|\n",
      "|        [Geography]| 250747|\n",
      "|        [Economics]| 198698|\n",
      "|[Medicine, Biology]| 189729|\n",
      "|         [Business]| 184848|\n",
      "|[Biology, Medicine]| 170081|\n",
      "|          [Geology]| 166235|\n",
      "+-------------------+-------+\n",
      "only showing top 20 rows\n",
      "\n"
     ]
    }
   ],
   "source": [
    "spark_df.groupby('fieldsOfStudy').count().sort(\"count\").orderBy([\"count\"], ascending=[0]).show(20)"
   ]
  },
  {
   "cell_type": "code",
   "execution_count": 72,
   "metadata": {},
   "outputs": [
    {
     "data": {
      "text/plain": [
       "Text(0.5,1,'Count of Papers by Field of Study')"
      ]
     },
     "execution_count": 72,
     "metadata": {},
     "output_type": "execute_result"
    },
    {
     "data": {
      "image/png": "[encoded data removed]",
      "text/plain": [
       "<Figure size 1080x864 with 1 Axes>"
      ]
     },
     "metadata": {},
     "output_type": "display_data"
    }
   ],
   "source": [
    "#Get count of articles by fieldsOfStudy\n",
    "fields_count = spark_df.groupby('fieldsOfStudy').count().sort('count', ascending = False)\n",
    "\n",
    "#convert Pyspark dataframe to Pandas dataframe for plotting\n",
    "pdf = fields_count.toPandas()\n",
    "pdf['fieldsOfStudy'] = pdf.fieldsOfStudy.apply(lambda x: ', '.join(x))\n",
    "\n",
    "# Plot the total count of articles \n",
    "plt.figure(figsize = (15,12))\n",
    "sns.set(font_scale=1.6)\n",
    "sns.set_color_codes(\"pastel\")\n",
    "ax = sns.barplot(x=\"count\", y=\"fieldsOfStudy\", data=pdf[:20],\n",
    "            label=\"Total\", color=\"b\")\n",
    "ax.xaxis.set_major_formatter(mpl.ticker.StrMethodFormatter('{x:,.0f}'))\n",
    "plt.title('Count of Papers by Field of Study')"
   ]
  },
  {
   "cell_type": "markdown",
   "metadata": {},
   "source": [
    "#### Title and Abstracts"
   ]
  },
  {
   "cell_type": "markdown",
   "metadata": {},
   "source": [
    "After investigating, the majority of rows without titles and/or abstracts were determined to be non-english articles. These articles will not contribute to the business goal of determining the important linguistic features that contribute to in-citation count. Therefore we will be dropping them from our dataset."
   ]
  },
  {
   "cell_type": "markdown",
   "metadata": {},
   "source": [
    "##### Dropping those with blank abstract or title"
   ]
  },
  {
   "cell_type": "code",
   "execution_count": 10,
   "metadata": {},
   "outputs": [
    {
     "name": "stdout",
     "output_type": "stream",
     "text": [
      "Total numbers of columns dropped = 444133\n",
      "Percentage of columns dropped = 44.5158199333064%\n"
     ]
    }
   ],
   "source": [
    "spark_df2 = spark_df.filter((col('title') != '') & (col('paperAbstract') != ''))\n",
    "new_count = spark_df2.count()\n",
    "\n",
    "print('Total numbers of columns dropped = {}'.format(initial_count - new_count))\n",
    "print('Percentage of columns dropped = {}%'.format(100*(initial_count - new_count)/initial_count))"
   ]
  },
  {
   "cell_type": "markdown",
   "metadata": {},
   "source": [
    "# Feature Engineering"
   ]
  },
  {
   "cell_type": "markdown",
   "metadata": {},
   "source": [
    "## Dependent Variable"
   ]
  },
  {
   "cell_type": "markdown",
   "metadata": {},
   "source": [
    "### Citations"
   ]
  },
  {
   "cell_type": "markdown",
   "metadata": {},
   "source": [
    "Creating column that counts the inCitations = how many times this paper was cited.\n",
    "This will be our dependent variable for the first part of our project scope. "
   ]
  },
  {
   "cell_type": "code",
   "execution_count": 11,
   "metadata": {},
   "outputs": [],
   "source": [
    "from pyspark.sql.functions import udf #user defined function\n",
    "from pyspark.sql.types import * #Import types == IntegerType, StringType etc.\n",
    "\n",
    "#Create UDF to count len of list\n",
    "length = udf(lambda listt: len(listt), IntegerType())\n",
    "\n",
    "#Apply UDF to count number of incitations\n",
    "spark_df2 = spark_df2.withColumn('inCitations_count', length(spark_df['inCitations']))"
   ]
  },
  {
   "cell_type": "code",
   "execution_count": 12,
   "metadata": {},
   "outputs": [
    {
     "name": "stdout",
     "output_type": "stream",
     "text": [
      "+-----------------+--------------------+\n",
      "|inCitations_count|         inCitations|\n",
      "+-----------------+--------------------+\n",
      "|                0|                  []|\n",
      "|                0|                  []|\n",
      "|               13|[8ecaab2a03953fa5...|\n",
      "|                0|                  []|\n",
      "|               22|[ecec08f5ca15e07d...|\n",
      "|                2|[2da3df885d1f032d...|\n",
      "|                8|[ac89cd3e34dbc788...|\n",
      "|                0|                  []|\n",
      "|                3|[e5951f7aa9eef9c4...|\n",
      "|                0|                  []|\n",
      "+-----------------+--------------------+\n",
      "only showing top 10 rows\n",
      "\n"
     ]
    }
   ],
   "source": [
    "#Let's look at the first few rows\n",
    "spark_df2.select('inCitations_count', 'inCitations').show(10)"
   ]
  },
  {
   "cell_type": "markdown",
   "metadata": {},
   "source": [
    "Creating column that counts the outCitations = how many other papers this paper cited\n",
    "Creating this column similarly to how we created the incitations column"
   ]
  },
  {
   "cell_type": "code",
   "execution_count": 13,
   "metadata": {},
   "outputs": [
    {
     "name": "stdout",
     "output_type": "stream",
     "text": [
      "+------------------+--------------------+\n",
      "|outCitations_count|        outCitations|\n",
      "+------------------+--------------------+\n",
      "|                 0|                  []|\n",
      "|                 0|                  []|\n",
      "|                69|[cf5cdba6424524ee...|\n",
      "|                 0|                  []|\n",
      "|                 0|                  []|\n",
      "|                 0|                  []|\n",
      "|                 0|                  []|\n",
      "|                66|[411f288349de96c0...|\n",
      "|                12|[3dc9587f4b564c90...|\n",
      "|                 0|                  []|\n",
      "+------------------+--------------------+\n",
      "only showing top 10 rows\n",
      "\n"
     ]
    }
   ],
   "source": [
    "spark_df2 = spark_df2.withColumn('outCitations_count', length(spark_df2['outCitations']))\n",
    "spark_df2.select('outCitations_count', 'outCitations').show(10)"
   ]
  },
  {
   "cell_type": "code",
   "execution_count": 77,
   "metadata": {},
   "outputs": [],
   "source": [
    "from pyspark_dist_explore import Histogram, hist, distplot, pandas_histogram"
   ]
  },
  {
   "cell_type": "code",
   "execution_count": 85,
   "metadata": {},
   "outputs": [
    {
     "data": {
      "text/plain": [
       "<matplotlib.legend.Legend at 0x7f4cc906b518>"
      ]
     },
     "execution_count": 85,
     "metadata": {},
     "output_type": "execute_result"
    },
    {
     "data": {
      "image/png": "[encoded data removed]",
      "text/plain": [
       "<Figure size 1440x720 with 2 Axes>"
      ]
     },
     "metadata": {},
     "output_type": "display_data"
    }
   ],
   "source": [
    "fig, axes = plt.subplots(nrows=1, ncols=2, figsize = (20,10))\n",
    "\n",
    "log_inCitations_count = spark_df2.withColumn(\"log_inCitations_count\", log10(col(\"inCitations_count\"))).select('log_inCitations_count')\n",
    "log_outCitations_count = spark_df2.withColumn(\"log_outCitations_count\", log10(col(\"outCitations_count\"))).select('log_outCitations_count')\n",
    "\n",
    "# Use the hist function to plot histograms on the Axes\n",
    "hist(axes[0], [log_inCitations_count], bins = 20, color=['blue'])\n",
    "axes[0].set_title('01. inCitations Count')\n",
    "axes[0].legend()\n",
    "\n",
    "hist(axes[1], [log_outCitations_count], bins = 20, color=['blue'])\n",
    "axes[1].set_title('02. outCitations Count')\n",
    "axes[1].legend()"
   ]
  },
  {
   "cell_type": "markdown",
   "metadata": {},
   "source": [
    "## Independent Variables"
   ]
  },
  {
   "cell_type": "markdown",
   "metadata": {},
   "source": [
    "Counting distinct values in each column to see which will be reasonable to keep as categorical variables (encoded)"
   ]
  },
  {
   "cell_type": "code",
   "execution_count": 11,
   "metadata": {},
   "outputs": [],
   "source": [
    "from pyspark.sql.functions import countDistinct, col\n",
    "\n",
    "distinct_pdf = spark_df2.agg(*(countDistinct(col(c)).alias(c) for c in spark_df2.columns)).collect()\n",
    "\n",
    "distinct_pdf = pd.DataFrame(pd.DataFrame(distinct_pdf, columns = spark_df2.columns).stack(0)).rename({0:'distinct_cnt'}, axis = 1)"
   ]
  },
  {
   "cell_type": "code",
   "execution_count": 12,
   "metadata": {},
   "outputs": [
    {
     "data": {
      "text/html": [
       "<div>\n",
       "<style scoped>\n",
       "    .dataframe tbody tr th:only-of-type {\n",
       "        vertical-align: middle;\n",
       "    }\n",
       "\n",
       "    .dataframe tbody tr th {\n",
       "        vertical-align: top;\n",
       "    }\n",
       "\n",
       "    .dataframe thead th {\n",
       "        text-align: right;\n",
       "    }\n",
       "</style>\n",
       "<table border=\"1\" class=\"dataframe\">\n",
       "  <thead>\n",
       "    <tr style=\"text-align: right;\">\n",
       "      <th></th>\n",
       "      <th></th>\n",
       "      <th>distinct_cnt</th>\n",
       "    </tr>\n",
       "  </thead>\n",
       "  <tbody>\n",
       "    <tr>\n",
       "      <th rowspan=\"22\" valign=\"top\">0</th>\n",
       "      <th>entities</th>\n",
       "      <td>1</td>\n",
       "    </tr>\n",
       "    <tr>\n",
       "      <th>s2PdfUrl</th>\n",
       "      <td>1</td>\n",
       "    </tr>\n",
       "    <tr>\n",
       "      <th>sources</th>\n",
       "      <td>5</td>\n",
       "    </tr>\n",
       "    <tr>\n",
       "      <th>year</th>\n",
       "      <td>85</td>\n",
       "    </tr>\n",
       "    <tr>\n",
       "      <th>outCitations_count</th>\n",
       "      <td>768</td>\n",
       "    </tr>\n",
       "    <tr>\n",
       "      <th>inCitations_count</th>\n",
       "      <td>2007</td>\n",
       "    </tr>\n",
       "    <tr>\n",
       "      <th>fieldsOfStudy</th>\n",
       "      <td>2816</td>\n",
       "    </tr>\n",
       "    <tr>\n",
       "      <th>journalName</th>\n",
       "      <td>50606</td>\n",
       "    </tr>\n",
       "    <tr>\n",
       "      <th>venue</th>\n",
       "      <td>63013</td>\n",
       "    </tr>\n",
       "    <tr>\n",
       "      <th>journalVolume</th>\n",
       "      <td>82485</td>\n",
       "    </tr>\n",
       "    <tr>\n",
       "      <th>journalPages</th>\n",
       "      <td>583782</td>\n",
       "    </tr>\n",
       "    <tr>\n",
       "      <th>pmid</th>\n",
       "      <td>2626646</td>\n",
       "    </tr>\n",
       "    <tr>\n",
       "      <th>outCitations</th>\n",
       "      <td>3150636</td>\n",
       "    </tr>\n",
       "    <tr>\n",
       "      <th>pdfUrls</th>\n",
       "      <td>3338194</td>\n",
       "    </tr>\n",
       "    <tr>\n",
       "      <th>inCitations</th>\n",
       "      <td>4818096</td>\n",
       "    </tr>\n",
       "    <tr>\n",
       "      <th>doiUrl</th>\n",
       "      <td>6957101</td>\n",
       "    </tr>\n",
       "    <tr>\n",
       "      <th>doi</th>\n",
       "      <td>6957166</td>\n",
       "    </tr>\n",
       "    <tr>\n",
       "      <th>authors</th>\n",
       "      <td>10084691</td>\n",
       "    </tr>\n",
       "    <tr>\n",
       "      <th>paperAbstract</th>\n",
       "      <td>11580963</td>\n",
       "    </tr>\n",
       "    <tr>\n",
       "      <th>title</th>\n",
       "      <td>11587325</td>\n",
       "    </tr>\n",
       "    <tr>\n",
       "      <th>s2Url</th>\n",
       "      <td>11625672</td>\n",
       "    </tr>\n",
       "    <tr>\n",
       "      <th>id</th>\n",
       "      <td>11625672</td>\n",
       "    </tr>\n",
       "  </tbody>\n",
       "</table>\n",
       "</div>"
      ],
      "text/plain": [
       "                      distinct_cnt\n",
       "0 entities                       1\n",
       "  s2PdfUrl                       1\n",
       "  sources                        5\n",
       "  year                          85\n",
       "  outCitations_count           768\n",
       "  inCitations_count           2007\n",
       "  fieldsOfStudy               2816\n",
       "  journalName                50606\n",
       "  venue                      63013\n",
       "  journalVolume              82485\n",
       "  journalPages              583782\n",
       "  pmid                     2626646\n",
       "  outCitations             3150636\n",
       "  pdfUrls                  3338194\n",
       "  inCitations              4818096\n",
       "  doiUrl                   6957101\n",
       "  doi                      6957166\n",
       "  authors                 10084691\n",
       "  paperAbstract           11580963\n",
       "  title                   11587325\n",
       "  s2Url                   11625672\n",
       "  id                      11625672"
      ]
     },
     "execution_count": 12,
     "metadata": {},
     "output_type": "execute_result"
    }
   ],
   "source": [
    "distinct_pdf.sort_values('distinct_cnt')"
   ]
  },
  {
   "cell_type": "markdown",
   "metadata": {},
   "source": [
    "Let's look at a sample abstract"
   ]
  },
  {
   "cell_type": "code",
   "execution_count": 17,
   "metadata": {},
   "outputs": [
    {
     "data": {
      "text/plain": [
       "'The problem of budgetary overrun in real estate projects has been enterprises attach great importance.In this paper,we analyze the cause of budgetary overrun in real estate projects in view of building materials,equipment investment and construction;secondly,from the construction costs of the standardized management,enterprise system management and other aspects,we super effective countermeasures to control the budgetary overrun in real estate projects;finally,taking an example of a real estate project in Hunan Province,in detail we analyze the causes and control measures of budgetary overrun in real estate projects.The study can be implemented to provide guidance for similar projects.'"
      ]
     },
     "execution_count": 17,
     "metadata": {},
     "output_type": "execute_result"
    }
   ],
   "source": [
    "spark_df2.select('paperAbstract').limit(1).collect()[0][0]"
   ]
  },
  {
   "cell_type": "markdown",
   "metadata": {},
   "source": [
    "### NLP Features\n",
    "#### Tokenize the abstract & title"
   ]
  },
  {
   "cell_type": "code",
   "execution_count": 14,
   "metadata": {},
   "outputs": [],
   "source": [
    "from pyspark.sql.functions import udf, col, lower, regexp_replace\n",
    "from pyspark.ml.feature import Tokenizer, StopWordsRemover\n",
    "from nltk.stem.snowball import SnowballStemmer\n",
    "\n",
    "# Clean text\n",
    "spark_df2 = spark_df2.withColumn('paperAbstract', (lower(regexp_replace('paperAbstract', \"[^a-zA-Z\\\\s]\", \"\"))))\n",
    "spark_df2 = spark_df2.withColumn('title', (lower(regexp_replace('title', \"[^a-zA-Z\\\\s]\", \"\"))))\n",
    "\n",
    "# word_count = udf(lambda string: len(nltk.word_tokenize(string)), IntegerType()) ## OLD SOLUTION \n",
    "from pyspark.ml.feature import HashingTF, IDF, Tokenizer\n",
    "\n",
    "#tokenize words\n",
    "tokenizer = Tokenizer(inputCol=\"paperAbstract\", outputCol=\"abstract_tokens\")\n",
    "spark_df2 = tokenizer.transform(spark_df2)\n",
    "\n",
    "tokenizer = Tokenizer(inputCol=\"title\", outputCol=\"title_tokens\")\n",
    "spark_df2 = tokenizer.transform(spark_df2)"
   ]
  },
  {
   "cell_type": "markdown",
   "metadata": {},
   "source": [
    "#### Remove Stopwords"
   ]
  },
  {
   "cell_type": "code",
   "execution_count": 15,
   "metadata": {},
   "outputs": [],
   "source": [
    "from pyspark.ml.feature import StopWordsRemover\n",
    "\n",
    "#remove stop words\n",
    "remover = StopWordsRemover(inputCol=\"abstract_tokens\", outputCol=\"abstract_tokens_filtered\")\n",
    "spark_df2 = remover.transform(spark_df2)\n",
    "\n",
    "#remove stop words\n",
    "remover = StopWordsRemover(inputCol=\"title_tokens\", outputCol=\"title_tokens_filtered\")\n",
    "spark_df2 = remover.transform(spark_df2)"
   ]
  },
  {
   "cell_type": "markdown",
   "metadata": {},
   "source": [
    "#### Filter short words"
   ]
  },
  {
   "cell_type": "code",
   "execution_count": 16,
   "metadata": {},
   "outputs": [],
   "source": [
    "# Filter length word > 3\n",
    "filter_length_udf = udf(lambda row: [x for x in row if len(x) >= 3], ArrayType(StringType()))\n",
    "\n",
    "spark_df2 = spark_df2.withColumn('abstract_tokens_filtered', filter_length_udf(col('abstract_tokens_filtered')))\n",
    "spark_df2 = spark_df2.withColumn('title_tokens_filtered', filter_length_udf(col('title_tokens_filtered')))"
   ]
  },
  {
   "cell_type": "markdown",
   "metadata": {},
   "source": [
    "#### Lemmetize words"
   ]
  },
  {
   "cell_type": "code",
   "execution_count": 17,
   "metadata": {},
   "outputs": [
    {
     "name": "stdout",
     "output_type": "stream",
     "text": [
      "[nltk_data] Downloading package wordnet to\n",
      "[nltk_data]     /home/nazihkalo/nltk_data...\n",
      "[nltk_data]   Package wordnet is already up-to-date!\n"
     ]
    }
   ],
   "source": [
    "from nltk import WordNetLemmatizer\n",
    "nltk.download('wordnet')\n",
    "lemmatizer = WordNetLemmatizer()\n",
    "def lemmatizationFunct(x):\n",
    "    finalLem = [lemmatizer.lemmatize(s) for s in x]\n",
    "    return finalLem\n",
    "\n",
    "lemmetize_udf = udf(lambda tokens: lemmatizationFunct(tokens), ArrayType(StringType())) \n",
    "\n",
    "spark_df2 = spark_df2.withColumn('abstract_tokens_filtered_lem', lemmetize_udf(spark_df2['abstract_tokens_filtered']))\n",
    "spark_df2 = spark_df2.withColumn('title_tokens_filtered_lem', lemmetize_udf(spark_df2['title_tokens_filtered']))"
   ]
  },
  {
   "cell_type": "markdown",
   "metadata": {},
   "source": [
    "#### Create wcount columns"
   ]
  },
  {
   "cell_type": "code",
   "execution_count": 18,
   "metadata": {},
   "outputs": [
    {
     "name": "stdout",
     "output_type": "stream",
     "text": [
      "+-------------------------+------------+----------------------------+---------------+\n",
      "|title_tokens_filtered_lem|title_wcount|abstract_tokens_filtered_lem|abstract_wcount|\n",
      "+-------------------------+------------+----------------------------+---------------+\n",
      "|     [cause, analysis,...|           9|        [problem, budgeta...|             61|\n",
      "|     [unexpected, deat...|          10|        [aim, objective, ...|            197|\n",
      "|     [rnaseq, analysis...|          10|        [mitogenactivated...|            140|\n",
      "|     [constituio, lxic...|           5|        [lexico, desperta...|             90|\n",
      "|     [nanobiocomposite...|           8|        [ternary, nanobio...|             81|\n",
      "|     [feasibility, two...|           9|        [background, aim,...|            127|\n",
      "|     [prevalence, risk...|           8|        [introduction, ce...|            139|\n",
      "|     [journal, vol, sa...|           3|                          []|              0|\n",
      "|     [treatment, laryn...|           4|        [background, emer...|            109|\n",
      "|     [investigation, c...|          13|        [abstract, netzer...|            139|\n",
      "+-------------------------+------------+----------------------------+---------------+\n",
      "only showing top 10 rows\n",
      "\n"
     ]
    }
   ],
   "source": [
    "from pyspark.sql.functions import udf \n",
    "\n",
    "word_count = udf(lambda tokens: len(tokens), IntegerType()) \n",
    "\n",
    "spark_df2 = spark_df2.withColumn('abstract_wcount', word_count(spark_df2['abstract_tokens_filtered_lem']))\n",
    "spark_df2 = spark_df2.withColumn('title_wcount', word_count(spark_df2['title_tokens_filtered_lem']))\n",
    "\n",
    "spark_df2.select('title_tokens_filtered_lem', 'title_wcount', 'abstract_tokens_filtered_lem', 'abstract_wcount').show(10)"
   ]
  },
  {
   "cell_type": "markdown",
   "metadata": {},
   "source": [
    "#### NLP Cleaning - Title/Abstract Redudancy"
   ]
  },
  {
   "cell_type": "markdown",
   "metadata": {},
   "source": [
    "Dropping more rows with no title/abstract that got through first filtering"
   ]
  },
  {
   "cell_type": "code",
   "execution_count": 19,
   "metadata": {},
   "outputs": [],
   "source": [
    "spark_df2 = spark_df2.filter((col('title_wcount') != 0) & (col('abstract_wcount') != 0))"
   ]
  },
  {
   "cell_type": "code",
   "execution_count": 20,
   "metadata": {},
   "outputs": [
    {
     "name": "stdout",
     "output_type": "stream",
     "text": [
      "Additional columns dropped = 15791\n"
     ]
    }
   ],
   "source": [
    "new_count2 = spark_df2.count()\n",
    "print('Additional columns dropped = {}'.format(new_count - new_count2))\n",
    "#print('Percentage of columns dropped = {}%'.format(100*(new_count - new_count2)/new_count))"
   ]
  },
  {
   "cell_type": "code",
   "execution_count": 21,
   "metadata": {},
   "outputs": [
    {
     "data": {
      "text/plain": [
       "0"
      ]
     },
     "execution_count": 21,
     "metadata": {},
     "output_type": "execute_result"
    }
   ],
   "source": [
    "# Let's make sure there are no more title or abstract rows that are blank\n",
    "spark_df2.filter((col('title_wcount') == 0) | (col('abstract_wcount') == 0)).count()"
   ]
  },
  {
   "cell_type": "markdown",
   "metadata": {},
   "source": [
    "### TFIDF Features"
   ]
  },
  {
   "cell_type": "markdown",
   "metadata": {},
   "source": [
    "#### TFIDF for abstract and title"
   ]
  },
  {
   "cell_type": "code",
   "execution_count": 22,
   "metadata": {},
   "outputs": [],
   "source": [
    "#Maps a sequence of terms to their term frequencies using the hashing trick. \n",
    "hashingTF1 = HashingTF(inputCol=\"abstract_tokens_filtered_lem\", outputCol=\"abstract_tokens_filtered_lem_count\", numFeatures=100)\n",
    "hashingTF2 = HashingTF(inputCol=\"title_tokens_filtered_lem\", outputCol=\"title_tokens_filtered_lem_count\", numFeatures=100)\n",
    "featurizedData = hashingTF1.transform(spark_df2)\n",
    "featurizedData = hashingTF2.transform(featurizedData)\n",
    "\n",
    "#Getting IDF\n",
    "idf = IDF(inputCol=\"abstract_tokens_filtered_lem_count\", outputCol=\"abstract_tfidf\")\n",
    "idf2 = IDF(inputCol=\"title_tokens_filtered_lem_count\", outputCol=\"title_tfidf\")\n",
    "\n",
    "idfModel = idf.fit(featurizedData)\n",
    "spark_df3 = idfModel.transform(featurizedData)\n",
    "idfModel = idf2.fit(spark_df3)\n",
    "spark_df3 = idfModel.transform(spark_df3)\n"
   ]
  },
  {
   "cell_type": "code",
   "execution_count": 23,
   "metadata": {},
   "outputs": [
    {
     "name": "stdout",
     "output_type": "stream",
     "text": [
      "+-------------------------+--------------------+----------------------------+--------------------+\n",
      "|title_tokens_filtered_lem|         title_tfidf|abstract_tokens_filtered_lem|      abstract_tfidf|\n",
      "+-------------------------+--------------------+----------------------------+--------------------+\n",
      "|     [cause, analysis,...|(100,[18,33,52,56...|        [problem, budgeta...|(100,[0,1,9,10,11...|\n",
      "|     [unexpected, deat...|(100,[45,47,52,74...|        [aim, objective, ...|(100,[3,4,5,6,7,9...|\n",
      "|     [rnaseq, analysis...|(100,[0,10,15,56,...|        [mitogenactivated...|(100,[0,4,6,8,9,1...|\n",
      "|     [constituio, lxic...|(100,[21,60,65,76...|        [lexico, desperta...|(100,[1,2,3,4,6,7...|\n",
      "|     [nanobiocomposite...|(100,[3,16,34,39,...|        [ternary, nanobio...|(100,[0,1,3,4,5,7...|\n",
      "+-------------------------+--------------------+----------------------------+--------------------+\n",
      "only showing top 5 rows\n",
      "\n"
     ]
    }
   ],
   "source": [
    "spark_df3.select('title_tokens_filtered_lem',\"title_tfidf\",'abstract_tokens_filtered_lem', \"abstract_tfidf\").show(5)"
   ]
  },
  {
   "cell_type": "markdown",
   "metadata": {},
   "source": [
    "### Word2Vec Features"
   ]
  },
  {
   "cell_type": "markdown",
   "metadata": {},
   "source": [
    "#### Training Model"
   ]
  },
  {
   "cell_type": "markdown",
   "metadata": {},
   "source": [
    "The commented code below was used to train the Word2Vec Embeddings. We now load the model from HDFS\n"
   ]
  },
  {
   "cell_type": "code",
   "execution_count": 141,
   "metadata": {},
   "outputs": [
    {
     "name": "stdout",
     "output_type": "stream",
     "text": [
      "model.getVectors().count() = 16363\n",
      "Time taken to train the word2Vec model: 4.811893800000001 mins\n"
     ]
    }
   ],
   "source": [
    "# import datetime\n",
    "# # Learn a mapping from words to Vectors\n",
    "# timestart = datetime.datetime.now()\n",
    "\n",
    "# from pyspark.ml.feature import Word2Vec\n",
    "# word2Vec = Word2Vec(windowSize = 5, vectorSize=50, minCount=500, \\\n",
    "#                     numPartitions=10, inputCol=\"title_tokens_filtered_lem\", outputCol=\"title_wordVectors\")\n",
    "# w2VM = word2Vec.fit(spark_df3)\n",
    "# nlpdf = w2VM.transform(spark_df3)\n",
    "\n",
    "# # PRINT HOW MUCH TIME IT TOOK TO RUN THE CELL\n",
    "# timeend = datetime.datetime.now()\n",
    "# timedelta = (timeend - timestart).total_seconds() / 60\n",
    "# print(\"model.getVectors().count() = {}\".format(w2VM.getVectors().count()))\n",
    "# print(\"Time taken to train the word2Vec model: \" + str(timedelta) + \" mins\")"
   ]
  },
  {
   "cell_type": "code",
   "execution_count": 24,
   "metadata": {},
   "outputs": [],
   "source": [
    "from pyspark.ml.feature import Word2Vec, Word2VecModel\n",
    "\n",
    "#w2VM.save('word2vec_model_v50_min500_ws5_2.0')\n",
    "w2VM = Word2VecModel.load(\"word2vec_model_v50_min500_ws5_2.0\")\n",
    "nlpdf = w2VM.transform(spark_df3)"
   ]
  },
  {
   "cell_type": "code",
   "execution_count": 25,
   "metadata": {},
   "outputs": [
    {
     "data": {
      "text/html": [
       "<div>\n",
       "<style scoped>\n",
       "    .dataframe tbody tr th:only-of-type {\n",
       "        vertical-align: middle;\n",
       "    }\n",
       "\n",
       "    .dataframe tbody tr th {\n",
       "        vertical-align: top;\n",
       "    }\n",
       "\n",
       "    .dataframe thead th {\n",
       "        text-align: right;\n",
       "    }\n",
       "</style>\n",
       "<table border=\"1\" class=\"dataframe\">\n",
       "  <thead>\n",
       "    <tr style=\"text-align: right;\">\n",
       "      <th></th>\n",
       "      <th>title_tokens_filtered_lem</th>\n",
       "      <th>title_wordVectors</th>\n",
       "    </tr>\n",
       "  </thead>\n",
       "  <tbody>\n",
       "    <tr>\n",
       "      <th>0</th>\n",
       "      <td>[cause, analysis, control, measure, budgetary,...</td>\n",
       "      <td>[1.4479601118299696, -0.6119445198112063, -0.8...</td>\n",
       "    </tr>\n",
       "    <tr>\n",
       "      <th>1</th>\n",
       "      <td>[unexpected, death, medical, ward, night, shif...</td>\n",
       "      <td>[2.387523424625397, -0.6723115488886834, -1.00...</td>\n",
       "    </tr>\n",
       "    <tr>\n",
       "      <th>2</th>\n",
       "      <td>[rnaseq, analysis, reveals, mapkkk, family, me...</td>\n",
       "      <td>[0.5778246715664864, -0.42337707430124283, -1....</td>\n",
       "    </tr>\n",
       "    <tr>\n",
       "      <th>3</th>\n",
       "      <td>[constituio, lxico, como, objeto, conhecimento]</td>\n",
       "      <td>[-2.0366072177886965, -4.672249698638916, -2.4...</td>\n",
       "    </tr>\n",
       "    <tr>\n",
       "      <th>4</th>\n",
       "      <td>[nanobiocomposite, film, modified, cellulose, ...</td>\n",
       "      <td>[-3.1380852311849594, -1.6064074486494064, -0....</td>\n",
       "    </tr>\n",
       "  </tbody>\n",
       "</table>\n",
       "</div>"
      ],
      "text/plain": [
       "                           title_tokens_filtered_lem  \\\n",
       "0  [cause, analysis, control, measure, budgetary,...   \n",
       "1  [unexpected, death, medical, ward, night, shif...   \n",
       "2  [rnaseq, analysis, reveals, mapkkk, family, me...   \n",
       "3    [constituio, lxico, como, objeto, conhecimento]   \n",
       "4  [nanobiocomposite, film, modified, cellulose, ...   \n",
       "\n",
       "                                   title_wordVectors  \n",
       "0  [1.4479601118299696, -0.6119445198112063, -0.8...  \n",
       "1  [2.387523424625397, -0.6723115488886834, -1.00...  \n",
       "2  [0.5778246715664864, -0.42337707430124283, -1....  \n",
       "3  [-2.0366072177886965, -4.672249698638916, -2.4...  \n",
       "4  [-3.1380852311849594, -1.6064074486494064, -0....  "
      ]
     },
     "execution_count": 25,
     "metadata": {},
     "output_type": "execute_result"
    }
   ],
   "source": [
    "#Inspecting the mean vector for titles \n",
    "w2v_pdf = nlpdf.select('title_tokens_filtered_lem','title_wordVectors').limit(5).toPandas()\n",
    "w2v_pdf.head()"
   ]
  },
  {
   "cell_type": "markdown",
   "metadata": {},
   "source": [
    "#### Training Model Sample"
   ]
  },
  {
   "cell_type": "markdown",
   "metadata": {},
   "source": [
    "Here is a sample 50-length mean vector of the title of an article. "
   ]
  },
  {
   "cell_type": "code",
   "execution_count": 31,
   "metadata": {},
   "outputs": [
    {
     "name": "stdout",
     "output_type": "stream",
     "text": [
      "words = \n",
      " ['cause', 'analysis', 'control', 'measure', 'budgetary', 'overrun', 'contemporary', 'estate', 'project']\n",
      "\n",
      "wordvector = \n",
      " [1.4479601118299696,-0.6119445198112063,-0.8019161224365234,-0.27692221601804096,-0.1257759200202094,-0.4407366977797614,-0.15517845418718126,-0.4255139562818739,1.211148699124654,0.03543872965706719,0.9635194076432122,-1.0128507647249434,-1.4334388938215044,-1.3238786458969116,0.5256303482585483,-0.3156167583333121,0.7954675952593485,-1.5117583076159158,-0.4999648829301198,0.5329374737209743,-0.3384311000506083,-1.0729623900519476,0.8636661436822679,-1.0142832862006292,-1.7741386459933386,0.453844901588228,-0.7497658001052009,0.5245194534460703,-0.8809583799706564,0.5557667596472634,0.7542736132939656,0.9988466368781195,0.14865792998009256,0.21024561590618557,0.7474900152948167,0.6591735002067354,1.1465216477711995,0.4958844905098279,0.5902485383881463,1.6388408541679382,0.4554235314329465,-0.9215682347615559,0.7021893279420005,-0.1712197826968299,1.4392390052477517,0.2600114974710676,0.7504666248957316,0.1734656857119666,-0.4930624547931883,1.0006279945373535]\n"
     ]
    }
   ],
   "source": [
    "print('words = \\n', w2v_pdf.iloc[0,0])\n",
    "print('\\nwordvector = \\n', w2v_pdf.iloc[0,1])"
   ]
  },
  {
   "cell_type": "code",
   "execution_count": 51,
   "metadata": {},
   "outputs": [
    {
     "data": {
      "text/plain": [
       "[('spiking', 0.8338825106620789),\n",
       " ('convolutional', 0.8299897313117981),\n",
       " ('rbf', 0.7949727177619934),\n",
       " ('artificial', 0.7792593240737915),\n",
       " ('adversarial', 0.7513853311538696),\n",
       " ('network', 0.7242907881736755),\n",
       " ('backpropagation', 0.7111539244651794),\n",
       " ('generative', 0.7054539918899536),\n",
       " ('unsupervised', 0.7009112238883972),\n",
       " ('clustered', 0.7007094621658325)]"
      ]
     },
     "execution_count": 51,
     "metadata": {},
     "output_type": "execute_result"
    }
   ],
   "source": [
    "# Let's see how useful our wordvectors seem\n",
    "w2VM.findSynonymsArray('neural', 10)"
   ]
  },
  {
   "cell_type": "code",
   "execution_count": 47,
   "metadata": {},
   "outputs": [
    {
     "data": {
      "text/plain": [
       "[('datasets', 0.9359949827194214),\n",
       " ('data', 0.8710565567016602),\n",
       " ('informative', 0.8687659502029419),\n",
       " ('visualizing', 0.8629266619682312),\n",
       " ('classifying', 0.8611568808555603),\n",
       " ('timeseries', 0.8604452013969421),\n",
       " ('grouping', 0.8559793829917908),\n",
       " ('scene', 0.8498888611793518),\n",
       " ('geospatial', 0.8491258025169373),\n",
       " ('outlier', 0.8456076383590698)]"
      ]
     },
     "execution_count": 47,
     "metadata": {},
     "output_type": "execute_result"
    }
   ],
   "source": [
    "# Let's see how useful our wordvectors seem\n",
    "w2VM.findSynonymsArray('dataset', 10)"
   ]
  },
  {
   "cell_type": "code",
   "execution_count": 49,
   "metadata": {},
   "outputs": [
    {
     "data": {
      "text/plain": [
       "[('mapreduce', 0.974606454372406),\n",
       " ('privacypreserving', 0.9414143562316895),\n",
       " ('querying', 0.9357867240905762),\n",
       " ('encrypted', 0.9334874153137207),\n",
       " ('scalability', 0.9307804703712463),\n",
       " ('multisource', 0.9288651943206787),\n",
       " ('virtualization', 0.9231449365615845),\n",
       " ('secured', 0.9222572445869446),\n",
       " ('cloudbased', 0.9167419075965881),\n",
       " ('runtime', 0.914556622505188)]"
      ]
     },
     "execution_count": 49,
     "metadata": {},
     "output_type": "execute_result"
    }
   ],
   "source": [
    "# Let's see how useful our wordvectors seem\n",
    "w2VM.findSynonymsArray('hadoop', 10)"
   ]
  },
  {
   "cell_type": "code",
   "execution_count": 50,
   "metadata": {},
   "outputs": [
    {
     "data": {
      "text/plain": [
       "[('wikipedia', 0.8736162781715393),\n",
       " ('script', 0.8586183190345764),\n",
       " ('website', 0.8542793393135071),\n",
       " ('fake', 0.853056788444519),\n",
       " ('comic', 0.8464636206626892),\n",
       " ('text', 0.8435144424438477),\n",
       " ('tutorial', 0.841810405254364),\n",
       " ('blog', 0.8380142450332642),\n",
       " ('download', 0.8373917937278748),\n",
       " ('storytelling', 0.837169885635376)]"
      ]
     },
     "execution_count": 50,
     "metadata": {},
     "output_type": "execute_result"
    }
   ],
   "source": [
    "# Let's see how useful our wordvectors seem\n",
    "w2VM.findSynonymsArray('google', 10)"
   ]
  },
  {
   "cell_type": "code",
   "execution_count": 52,
   "metadata": {},
   "outputs": [],
   "source": [
    "test_terms = w2VM.getVectors().filter((col('word') == 'incident') | (col('word') == 'event')).collect()\n",
    "#w2VM.getVectors().first().vector"
   ]
  },
  {
   "cell_type": "markdown",
   "metadata": {},
   "source": [
    "### Cosine similarity"
   ]
  },
  {
   "cell_type": "code",
   "execution_count": 22,
   "metadata": {},
   "outputs": [],
   "source": [
    "#Defining cosine similarity\n",
    "def cos_sim(a,b):\n",
    "    return float(np.dot(a, b) / (np.linalg.norm(a) * np.linalg.norm(b)))\n",
    "\n",
    "cos_sim_udf = udf(lambda x, y: cos_sim(x,y), FloatType())"
   ]
  },
  {
   "cell_type": "code",
   "execution_count": 54,
   "metadata": {},
   "outputs": [
    {
     "data": {
      "text/plain": [
       "0.7791460489101493"
      ]
     },
     "execution_count": 54,
     "metadata": {},
     "output_type": "execute_result"
    }
   ],
   "source": [
    "# 'word' == 'incident' vs. 'word' == 'event'\n",
    "cos_sim(test_terms[0].vector, test_terms[1].vector)"
   ]
  },
  {
   "cell_type": "code",
   "execution_count": 55,
   "metadata": {},
   "outputs": [
    {
     "name": "stdout",
     "output_type": "stream",
     "text": [
      "+---------------+--------------------+----------+\n",
      "|           word|              vector|     coSim|\n",
      "+---------------+--------------------+----------+\n",
      "|       incident|[4.10470581054687...|       1.0|\n",
      "|          event|[3.38791322708129...| 0.7791461|\n",
      "|       baseline|[2.28983116149902...|0.76486516|\n",
      "|      nighttime|[2.24039840698242...| 0.7590682|\n",
      "|      scheduled|[2.48162221908569...|0.74806994|\n",
      "|   catastrophic|[2.54120850563049...|0.73826915|\n",
      "|   middleincome|[2.09555363655090...|0.73688227|\n",
      "|    readmission|[3.64466047286987...| 0.7310987|\n",
      "|     cumulative|[2.80456018447875...|0.72757304|\n",
      "|        frailty|[2.11534881591796...| 0.7086258|\n",
      "|      admission|[4.05039501190185...| 0.7079517|\n",
      "|   longitudinal|[2.96342611312866...|  0.706186|\n",
      "|hospitalization|[3.29267930984497...|0.70490754|\n",
      "|           risk|[2.72194433212280...| 0.6985625|\n",
      "|       casualty|[2.74219799041748...| 0.6973717|\n",
      "|       medicare|[4.32150650024414...| 0.6966048|\n",
      "|       allcause|[1.78290641307830...| 0.6945771|\n",
      "| stratification|[2.88883590698242...| 0.6944052|\n",
      "|        sitting|[2.86229705810546...| 0.6907625|\n",
      "|     inhospital|[2.39723706245422...|0.68899083|\n",
      "+---------------+--------------------+----------+\n",
      "only showing top 20 rows\n",
      "\n"
     ]
    }
   ],
   "source": [
    "#Get vector to test function - word = 'incident\n",
    "static_array = test_terms[0].vector\n",
    "\n",
    "w2VM.getVectors().withColumn(\"coSim\", cos_sim_udf(col(\"vector\"), array([lit(v) for v in static_array])))\\\n",
    ".orderBy('coSim',ascending = False).show()"
   ]
  },
  {
   "cell_type": "markdown",
   "metadata": {},
   "source": [
    "#### Cosine Similarity Example\n",
    "\n",
    "Let's look for titles that are most similar to a specific word/keyword"
   ]
  },
  {
   "cell_type": "code",
   "execution_count": 56,
   "metadata": {},
   "outputs": [
    {
     "name": "stdout",
     "output_type": "stream",
     "text": [
      "+-------------------------+--------------------+----------+\n",
      "|title_tokens_filtered_lem|   title_wordVectors|     coSim|\n",
      "+-------------------------+--------------------+----------+\n",
      "|     [bushranging, inc...|[1.36823527018229...|       1.0|\n",
      "|     [ripon, incident,...|[1.36823527018229...|       1.0|\n",
      "|     [incident, bmbouras]|[2.05235290527343...|       1.0|\n",
      "|        [incident, lorne]|[2.05235290527343...|       1.0|\n",
      "|     [pickering, losso...|[1.36823527018229...|       1.0|\n",
      "|        [incident, vichy]|[2.05235290527343...|       1.0|\n",
      "|     [incident, freman...|[2.05235290527343...|       1.0|\n",
      "|     [fastneutrons, in...|[1.36823527018229...|       1.0|\n",
      "|     [odpovdnost, uiva...|[0.82094116210937...|       1.0|\n",
      "|     [predicting, inci...|[2.36111958821614...|0.89912504|\n",
      "|     [criterion, suici...|[2.06122986475626...|0.89121574|\n",
      "|     [critical, incide...|[2.03494612375895...|  0.890937|\n",
      "|     [incident, report...|[2.55328241984049...|0.88356864|\n",
      "|     [considers, loggi...|[2.42053416371345...| 0.8807066|\n",
      "|     [preventive, meas...|[2.78565716743469...| 0.8754724|\n",
      "|     [curious, inciden...|[2.04054708480835...| 0.8711963|\n",
      "|     [rapondcnr, srrar...|[1.09947466850280...|0.86245114|\n",
      "|     [autoalignment, i...|[2.19980859756469...| 0.8606082|\n",
      "|     [regulator, incid...|[2.36779318962778...|0.85486925|\n",
      "|     [spirometry, impu...|[1.85006852041591...|0.85278356|\n",
      "+-------------------------+--------------------+----------+\n",
      "only showing top 20 rows\n",
      "\n"
     ]
    }
   ],
   "source": [
    "nlpdf.select('title_tokens_filtered_lem','title_wordVectors')\\\n",
    "    .withColumn(\"coSim\", cos_sim_udf(col(\"title_wordVectors\"), array([lit(v) for v in static_array])))\\\n",
    "    .dropna()\\\n",
    "    .orderBy('coSim',ascending = False).show()"
   ]
  },
  {
   "cell_type": "markdown",
   "metadata": {},
   "source": [
    "### NLP Features Functions"
   ]
  },
  {
   "cell_type": "markdown",
   "metadata": {},
   "source": [
    "Creating function that takes query string as input and returns similar article titles.\n",
    "String should be a list of words that are relevant to your query/search"
   ]
  },
  {
   "cell_type": "code",
   "execution_count": 23,
   "metadata": {},
   "outputs": [],
   "source": [
    "def search_articles(query_string, model, n = 5):\n",
    "    \"\"\"Uses word embeddings trained on the corpus of research papers to find titles \n",
    "    that are similar to a given search query. Provides URL for reference.\n",
    "    \n",
    "    Parameters:\n",
    "    query_string (string): Description of arg1\n",
    "    model (object) : pyspark Word2Vec Model instance\n",
    "    n (int) : number of titles/articles to return\n",
    "\n",
    "    Returns:\n",
    "    DataFrame: Dataframe with the 'n' most similar titles to the given search query. Returns link to article.\n",
    "    \"\"\"\n",
    "    \n",
    "    #Put string into DF because spark W2V model only accepts a DF\n",
    "    documentDF = spark.createDataFrame([(query_string.split(\" \"),)], [\"title_tokens_filtered_lem\"])\n",
    "    #Get the mean vector of the query\n",
    "    qry = model.transform(documentDF).collect()[0].title_wordVectors\n",
    "    #Get the n most similar titles based on cosim vector distnace\n",
    "    sim_titles = nlpdf.select('title','fieldsOfStudy', 'title_wordVectors', 's2Url')\\\n",
    "    .withColumn(\"coSim\", cos_sim_udf(col(\"title_wordVectors\"), array([lit(v) for v in qry])))\\\n",
    "    .dropna()\\\n",
    "    .orderBy('coSim',ascending = False).limit(n).toPandas()\n",
    "    \n",
    "    return sim_titles"
   ]
  },
  {
   "cell_type": "code",
   "execution_count": 28,
   "metadata": {},
   "outputs": [
    {
     "name": "stdout",
     "output_type": "stream",
     "text": [
      "Enter the relevant terms you are looking for:vector word embedding\n",
      "Enter how many titles you would like returned:5\n"
     ]
    },
    {
     "data": {
      "text/html": [
       "<div>\n",
       "<style scoped>\n",
       "    .dataframe tbody tr th:only-of-type {\n",
       "        vertical-align: middle;\n",
       "    }\n",
       "\n",
       "    .dataframe tbody tr th {\n",
       "        vertical-align: top;\n",
       "    }\n",
       "\n",
       "    .dataframe thead th {\n",
       "        text-align: right;\n",
       "    }\n",
       "</style>\n",
       "<table border=\"1\" class=\"dataframe\">\n",
       "  <thead>\n",
       "    <tr style=\"text-align: right;\">\n",
       "      <th></th>\n",
       "      <th>title</th>\n",
       "      <th>fieldsOfStudy</th>\n",
       "      <th>title_wordVectors</th>\n",
       "      <th>s2Url</th>\n",
       "      <th>coSim</th>\n",
       "    </tr>\n",
       "  </thead>\n",
       "  <tbody>\n",
       "    <tr>\n",
       "      <th>0</th>\n",
       "      <td>nondistributional word vector representations</td>\n",
       "      <td>[Computer Science]</td>\n",
       "      <td>[1.5886874198913574, -1.4757964760065079, -0.06339207291603088, -0.6495361253619194, -1.48530003...</td>\n",
       "      <td>https://semanticscholar.org/paper/e09beb33880425e5439fe076da4be7a6916df460</td>\n",
       "      <td>0.980983</td>\n",
       "    </tr>\n",
       "    <tr>\n",
       "      <th>1</th>\n",
       "      <td>realvalued syntactic word vectors</td>\n",
       "      <td>[Computer Science]</td>\n",
       "      <td>[1.1661015152931213, -1.4114795476198196, -0.262157179415226, -0.794933907687664, -1.25109498202...</td>\n",
       "      <td>https://semanticscholar.org/paper/0be35255c4329a48782ab101b7df81a2b7d0728f</td>\n",
       "      <td>0.971088</td>\n",
       "    </tr>\n",
       "    <tr>\n",
       "      <th>2</th>\n",
       "      <td>wordbits  quantized word vectors</td>\n",
       "      <td>[Computer Science]</td>\n",
       "      <td>[1.8400118947029114, -0.9229391440749168, 0.06509071588516235, -0.28162211924791336, -1.26573346...</td>\n",
       "      <td>https://semanticscholar.org/paper/a74eacdd133918f82b953fc8dcd615ddca7efdfa</td>\n",
       "      <td>0.967760</td>\n",
       "    </tr>\n",
       "    <tr>\n",
       "      <th>3</th>\n",
       "      <td>supervised paragraph vector distributed representations of words documents and class labels</td>\n",
       "      <td>[Computer Science]</td>\n",
       "      <td>[1.7911506328317852, -0.595729755030738, -0.06709327962663439, -0.4530228575070699, -0.885006391...</td>\n",
       "      <td>https://semanticscholar.org/paper/dcdb981f11a0ddbb5e2e7392521965e3e71d0c39</td>\n",
       "      <td>0.965069</td>\n",
       "    </tr>\n",
       "    <tr>\n",
       "      <th>4</th>\n",
       "      <td>encoding words into string vectors for word categorization</td>\n",
       "      <td>[Computer Science]</td>\n",
       "      <td>[1.8512784540653229, -1.6727595527966816, -0.10868787517150243, -0.874036523203055, -1.279246702...</td>\n",
       "      <td>https://semanticscholar.org/paper/7aadbca355902496376e92752a8ffb66d38b01d9</td>\n",
       "      <td>0.965044</td>\n",
       "    </tr>\n",
       "  </tbody>\n",
       "</table>\n",
       "</div>"
      ],
      "text/plain": [
       "                                                                                         title  \\\n",
       "0                                                nondistributional word vector representations   \n",
       "1                                                            realvalued syntactic word vectors   \n",
       "2                                                             wordbits  quantized word vectors   \n",
       "3  supervised paragraph vector distributed representations of words documents and class labels   \n",
       "4                                   encoding words into string vectors for word categorization   \n",
       "\n",
       "        fieldsOfStudy  \\\n",
       "0  [Computer Science]   \n",
       "1  [Computer Science]   \n",
       "2  [Computer Science]   \n",
       "3  [Computer Science]   \n",
       "4  [Computer Science]   \n",
       "\n",
       "                                                                                     title_wordVectors  \\\n",
       "0  [1.5886874198913574, -1.4757964760065079, -0.06339207291603088, -0.6495361253619194, -1.48530003...   \n",
       "1  [1.1661015152931213, -1.4114795476198196, -0.262157179415226, -0.794933907687664, -1.25109498202...   \n",
       "2  [1.8400118947029114, -0.9229391440749168, 0.06509071588516235, -0.28162211924791336, -1.26573346...   \n",
       "3  [1.7911506328317852, -0.595729755030738, -0.06709327962663439, -0.4530228575070699, -0.885006391...   \n",
       "4  [1.8512784540653229, -1.6727595527966816, -0.10868787517150243, -0.874036523203055, -1.279246702...   \n",
       "\n",
       "                                                                        s2Url  \\\n",
       "0  https://semanticscholar.org/paper/e09beb33880425e5439fe076da4be7a6916df460   \n",
       "1  https://semanticscholar.org/paper/0be35255c4329a48782ab101b7df81a2b7d0728f   \n",
       "2  https://semanticscholar.org/paper/a74eacdd133918f82b953fc8dcd615ddca7efdfa   \n",
       "3  https://semanticscholar.org/paper/dcdb981f11a0ddbb5e2e7392521965e3e71d0c39   \n",
       "4  https://semanticscholar.org/paper/7aadbca355902496376e92752a8ffb66d38b01d9   \n",
       "\n",
       "      coSim  \n",
       "0  0.980983  \n",
       "1  0.971088  \n",
       "2  0.967760  \n",
       "3  0.965069  \n",
       "4  0.965044  "
      ]
     },
     "execution_count": 28,
     "metadata": {},
     "output_type": "execute_result"
    }
   ],
   "source": [
    "search_query = input(\"Enter the relevant terms you are looking for:\")\n",
    "n_return = int(input(\"Enter how many titles you would like returned:\"))\n",
    "\n",
    "search_articles(query_string = search_query, \n",
    "                model = w2VM, n = n_return) "
   ]
  },
  {
   "cell_type": "code",
   "execution_count": 30,
   "metadata": {},
   "outputs": [
    {
     "data": {
      "text/html": [
       "<div>\n",
       "<style scoped>\n",
       "    .dataframe tbody tr th:only-of-type {\n",
       "        vertical-align: middle;\n",
       "    }\n",
       "\n",
       "    .dataframe tbody tr th {\n",
       "        vertical-align: top;\n",
       "    }\n",
       "\n",
       "    .dataframe thead th {\n",
       "        text-align: right;\n",
       "    }\n",
       "</style>\n",
       "<table border=\"1\" class=\"dataframe\">\n",
       "  <thead>\n",
       "    <tr style=\"text-align: right;\">\n",
       "      <th></th>\n",
       "      <th>title</th>\n",
       "      <th>fieldsOfStudy</th>\n",
       "      <th>title_wordVectors</th>\n",
       "      <th>s2Url</th>\n",
       "      <th>coSim</th>\n",
       "    </tr>\n",
       "  </thead>\n",
       "  <tbody>\n",
       "    <tr>\n",
       "      <th>0</th>\n",
       "      <td>crossmedia hashing with neural networks</td>\n",
       "      <td>[Computer Science]</td>\n",
       "      <td>[2.1895049810409546, 0.3853525444865227, -0.5056682452559471, -0.12536711245775223, -0.849391877...</td>\n",
       "      <td>https://semanticscholar.org/paper/b5fe4731ff6a7a7f1ad8232186e84b1f944162e0</td>\n",
       "      <td>0.990144</td>\n",
       "    </tr>\n",
       "    <tr>\n",
       "      <th>1</th>\n",
       "      <td>selforganizing neural networks</td>\n",
       "      <td>[Computer Science]</td>\n",
       "      <td>[2.9634455839792886, 0.5228483875592549, -0.737404907743136, 0.15041999022165933, -1.28611646095...</td>\n",
       "      <td>https://semanticscholar.org/paper/a6ea2b1cbf69ee005b23f5bf1092be8ba684dda3</td>\n",
       "      <td>0.989763</td>\n",
       "    </tr>\n",
       "    <tr>\n",
       "      <th>2</th>\n",
       "      <td>data aggregation using neural network in wsn sing neural network in wsn sing neural network in w...</td>\n",
       "      <td>[Engineering]</td>\n",
       "      <td>[2.6220287945535445, 0.8723543286323547, -0.8760132657157049, -0.0028696780403455096, -0.6602880...</td>\n",
       "      <td>https://semanticscholar.org/paper/623a4d00878abfa680db8a069070a91775f85cce</td>\n",
       "      <td>0.989691</td>\n",
       "    </tr>\n",
       "    <tr>\n",
       "      <th>3</th>\n",
       "      <td>c y    d ec    c po  c licksequenceaware dee p neural network  dnn based</td>\n",
       "      <td>[]</td>\n",
       "      <td>[1.3850777745246887, 0.4453526437282562, -0.4304767350355784, -0.044539118806521096, -0.43618155...</td>\n",
       "      <td>https://semanticscholar.org/paper/dc388059590fd63cc12295abce856d365febd7e1</td>\n",
       "      <td>0.987541</td>\n",
       "    </tr>\n",
       "    <tr>\n",
       "      <th>4</th>\n",
       "      <td>mp  steganalysis based on neural networks</td>\n",
       "      <td>[]</td>\n",
       "      <td>[2.077616661787033, 0.6680289655923843, -0.6457151025533676, -0.06680867820978165, -0.6542723327...</td>\n",
       "      <td>https://semanticscholar.org/paper/89a706a40d02b0fb520872eb235e8a38624105f6</td>\n",
       "      <td>0.987541</td>\n",
       "    </tr>\n",
       "  </tbody>\n",
       "</table>\n",
       "</div>"
      ],
      "text/plain": [
       "                                                                                                 title  \\\n",
       "0                                                              crossmedia hashing with neural networks   \n",
       "1                                                                       selforganizing neural networks   \n",
       "2  data aggregation using neural network in wsn sing neural network in wsn sing neural network in w...   \n",
       "3                             c y    d ec    c po  c licksequenceaware dee p neural network  dnn based   \n",
       "4                                                            mp  steganalysis based on neural networks   \n",
       "\n",
       "        fieldsOfStudy  \\\n",
       "0  [Computer Science]   \n",
       "1  [Computer Science]   \n",
       "2       [Engineering]   \n",
       "3                  []   \n",
       "4                  []   \n",
       "\n",
       "                                                                                     title_wordVectors  \\\n",
       "0  [2.1895049810409546, 0.3853525444865227, -0.5056682452559471, -0.12536711245775223, -0.849391877...   \n",
       "1  [2.9634455839792886, 0.5228483875592549, -0.737404907743136, 0.15041999022165933, -1.28611646095...   \n",
       "2  [2.6220287945535445, 0.8723543286323547, -0.8760132657157049, -0.0028696780403455096, -0.6602880...   \n",
       "3  [1.3850777745246887, 0.4453526437282562, -0.4304767350355784, -0.044539118806521096, -0.43618155...   \n",
       "4  [2.077616661787033, 0.6680289655923843, -0.6457151025533676, -0.06680867820978165, -0.6542723327...   \n",
       "\n",
       "                                                                        s2Url  \\\n",
       "0  https://semanticscholar.org/paper/b5fe4731ff6a7a7f1ad8232186e84b1f944162e0   \n",
       "1  https://semanticscholar.org/paper/a6ea2b1cbf69ee005b23f5bf1092be8ba684dda3   \n",
       "2  https://semanticscholar.org/paper/623a4d00878abfa680db8a069070a91775f85cce   \n",
       "3  https://semanticscholar.org/paper/dc388059590fd63cc12295abce856d365febd7e1   \n",
       "4  https://semanticscholar.org/paper/89a706a40d02b0fb520872eb235e8a38624105f6   \n",
       "\n",
       "      coSim  \n",
       "0  0.990144  \n",
       "1  0.989763  \n",
       "2  0.989691  \n",
       "3  0.987541  \n",
       "4  0.987541  "
      ]
     },
     "execution_count": 30,
     "metadata": {},
     "output_type": "execute_result"
    }
   ],
   "source": [
    "pd.set_option('max_colwidth', 100)\n",
    "#Let's test out the function\n",
    "results_pdf = search_articles(query_string = \"neural network hadoop\", model = w2VM, n =5)\n",
    "results_pdf"
   ]
  },
  {
   "cell_type": "code",
   "execution_count": 24,
   "metadata": {},
   "outputs": [
    {
     "data": {
      "text/html": [
       "<div>\n",
       "<style scoped>\n",
       "    .dataframe tbody tr th:only-of-type {\n",
       "        vertical-align: middle;\n",
       "    }\n",
       "\n",
       "    .dataframe tbody tr th {\n",
       "        vertical-align: top;\n",
       "    }\n",
       "\n",
       "    .dataframe thead th {\n",
       "        text-align: right;\n",
       "    }\n",
       "</style>\n",
       "<table border=\"1\" class=\"dataframe\">\n",
       "  <thead>\n",
       "    <tr style=\"text-align: right;\">\n",
       "      <th></th>\n",
       "      <th>title</th>\n",
       "      <th>fieldsOfStudy</th>\n",
       "      <th>title_wordVectors</th>\n",
       "      <th>s2Url</th>\n",
       "      <th>coSim</th>\n",
       "    </tr>\n",
       "  </thead>\n",
       "  <tbody>\n",
       "    <tr>\n",
       "      <th>0</th>\n",
       "      <td>the heart in trauma surgery</td>\n",
       "      <td>[Medicine]</td>\n",
       "      <td>[1.5268399516741433, -1.4051317373911538, -3.426393508911133, -0.8856724202632904, -1.1310723076...</td>\n",
       "      <td>https://semanticscholar.org/paper/ac2760ba8bb170729f089b8e999ff4407e550aa2</td>\n",
       "      <td>0.980482</td>\n",
       "    </tr>\n",
       "    <tr>\n",
       "      <th>1</th>\n",
       "      <td>abdominal complications after heart surgery</td>\n",
       "      <td>[Medicine]</td>\n",
       "      <td>[1.2948544472455978, -0.8977705985307693, -3.6044254302978516, -0.6642236970365047, -1.618820756...</td>\n",
       "      <td>https://semanticscholar.org/paper/45186fe56c5ffd1a69c874a7177a873f62c341a2</td>\n",
       "      <td>0.977196</td>\n",
       "    </tr>\n",
       "    <tr>\n",
       "      <th>2</th>\n",
       "      <td>abdominal complications of heart surgery</td>\n",
       "      <td>[Medicine]</td>\n",
       "      <td>[1.2948544472455978, -0.8977705985307693, -3.6044254302978516, -0.6642236970365047, -1.618820756...</td>\n",
       "      <td>https://semanticscholar.org/paper/04f5f3eb4c63afe60c8f2592f8833e1af0b4d34a</td>\n",
       "      <td>0.977196</td>\n",
       "    </tr>\n",
       "    <tr>\n",
       "      <th>3</th>\n",
       "      <td>surgical correction of multivalvular defects in patients who had earlier undergone heart surgery</td>\n",
       "      <td>[Medicine]</td>\n",
       "      <td>[1.5213980376720428, -0.4742577647169431, -1.8778350444303618, -0.7537236445479922, -0.663172966...</td>\n",
       "      <td>https://semanticscholar.org/paper/99bfc4901f4a8df115694beb8dc1f8f690914a88</td>\n",
       "      <td>0.976618</td>\n",
       "    </tr>\n",
       "    <tr>\n",
       "      <th>4</th>\n",
       "      <td>chest gossypiboma after coronary surgery</td>\n",
       "      <td>[Medicine]</td>\n",
       "      <td>[1.76644828915596, -0.7848338391631842, -2.200995296239853, 0.1961185336112976, -1.6492455564439...</td>\n",
       "      <td>https://semanticscholar.org/paper/e9ae0ad51792adb0ee9c592246a31d46e5069c85</td>\n",
       "      <td>0.976515</td>\n",
       "    </tr>\n",
       "  </tbody>\n",
       "</table>\n",
       "</div>"
      ],
      "text/plain": [
       "                                                                                              title  \\\n",
       "0                                                                       the heart in trauma surgery   \n",
       "1                                                       abdominal complications after heart surgery   \n",
       "2                                                          abdominal complications of heart surgery   \n",
       "3  surgical correction of multivalvular defects in patients who had earlier undergone heart surgery   \n",
       "4                                                          chest gossypiboma after coronary surgery   \n",
       "\n",
       "  fieldsOfStudy  \\\n",
       "0    [Medicine]   \n",
       "1    [Medicine]   \n",
       "2    [Medicine]   \n",
       "3    [Medicine]   \n",
       "4    [Medicine]   \n",
       "\n",
       "                                                                                     title_wordVectors  \\\n",
       "0  [1.5268399516741433, -1.4051317373911538, -3.426393508911133, -0.8856724202632904, -1.1310723076...   \n",
       "1  [1.2948544472455978, -0.8977705985307693, -3.6044254302978516, -0.6642236970365047, -1.618820756...   \n",
       "2  [1.2948544472455978, -0.8977705985307693, -3.6044254302978516, -0.6642236970365047, -1.618820756...   \n",
       "3  [1.5213980376720428, -0.4742577647169431, -1.8778350444303618, -0.7537236445479922, -0.663172966...   \n",
       "4  [1.76644828915596, -0.7848338391631842, -2.200995296239853, 0.1961185336112976, -1.6492455564439...   \n",
       "\n",
       "                                                                        s2Url  \\\n",
       "0  https://semanticscholar.org/paper/ac2760ba8bb170729f089b8e999ff4407e550aa2   \n",
       "1  https://semanticscholar.org/paper/45186fe56c5ffd1a69c874a7177a873f62c341a2   \n",
       "2  https://semanticscholar.org/paper/04f5f3eb4c63afe60c8f2592f8833e1af0b4d34a   \n",
       "3  https://semanticscholar.org/paper/99bfc4901f4a8df115694beb8dc1f8f690914a88   \n",
       "4  https://semanticscholar.org/paper/e9ae0ad51792adb0ee9c592246a31d46e5069c85   \n",
       "\n",
       "      coSim  \n",
       "0  0.980482  \n",
       "1  0.977196  \n",
       "2  0.977196  \n",
       "3  0.976618  \n",
       "4  0.976515  "
      ]
     },
     "execution_count": 24,
     "metadata": {},
     "output_type": "execute_result"
    }
   ],
   "source": [
    "pd.set_option('max_colwidth', 100)\n",
    "#Let's test out the function\n",
    "results_pdf = search_articles(query_string = \"surgery heart chest\", model = w2VM, n =5)\n",
    "results_pdf"
   ]
  },
  {
   "cell_type": "code",
   "execution_count": 25,
   "metadata": {},
   "outputs": [
    {
     "data": {
      "text/html": [
       "<div>\n",
       "<style scoped>\n",
       "    .dataframe tbody tr th:only-of-type {\n",
       "        vertical-align: middle;\n",
       "    }\n",
       "\n",
       "    .dataframe tbody tr th {\n",
       "        vertical-align: top;\n",
       "    }\n",
       "\n",
       "    .dataframe thead th {\n",
       "        text-align: right;\n",
       "    }\n",
       "</style>\n",
       "<table border=\"1\" class=\"dataframe\">\n",
       "  <thead>\n",
       "    <tr style=\"text-align: right;\">\n",
       "      <th></th>\n",
       "      <th>title</th>\n",
       "      <th>fieldsOfStudy</th>\n",
       "      <th>title_wordVectors</th>\n",
       "      <th>s2Url</th>\n",
       "      <th>coSim</th>\n",
       "    </tr>\n",
       "  </thead>\n",
       "  <tbody>\n",
       "    <tr>\n",
       "      <th>0</th>\n",
       "      <td>parsing morphologically rich languages with mostly offtheshelf software and word vectors</td>\n",
       "      <td>[Computer Science]</td>\n",
       "      <td>[0.4211726420455508, -0.7609059280819362, -0.15865609380933973, -0.5252460042635599, -0.78695910...</td>\n",
       "      <td>https://semanticscholar.org/paper/03deaee586d61bbafb34fa7aba87dddd07050e2f</td>\n",
       "      <td>0.957930</td>\n",
       "    </tr>\n",
       "    <tr>\n",
       "      <th>1</th>\n",
       "      <td>are the grammatical sentences of a language a recursive set</td>\n",
       "      <td>[Computer Science]</td>\n",
       "      <td>[1.746489715576172, -0.9266925275325776, 0.06561576128005982, -1.1050312936306, -1.1029182851314...</td>\n",
       "      <td>https://semanticscholar.org/paper/0e3fb69bf3fe7d9c68c928a54d98916020edcc74</td>\n",
       "      <td>0.956906</td>\n",
       "    </tr>\n",
       "    <tr>\n",
       "      <th>2</th>\n",
       "      <td>bilingual word embeddings for phrasebased machine translation</td>\n",
       "      <td>[Computer Science]</td>\n",
       "      <td>[0.9805573796232541, -0.8996185561021168, 0.5172649870316187, -0.6948998967806498, -0.7572133690...</td>\n",
       "      <td>https://semanticscholar.org/paper/0d3233d858660aff451a6c2561a05378ed09725a</td>\n",
       "      <td>0.956366</td>\n",
       "    </tr>\n",
       "    <tr>\n",
       "      <th>3</th>\n",
       "      <td>permutations of contextfree etl and indexed languages</td>\n",
       "      <td>[Computer Science, Mathematics]</td>\n",
       "      <td>[0.8165256261825562, -0.5742671251296997, -0.07130123972892762, -0.5454598590731621, -0.49772427...</td>\n",
       "      <td>https://semanticscholar.org/paper/45f1fe9d8159c9b15868ecdbc72cf61272d2f26a</td>\n",
       "      <td>0.953800</td>\n",
       "    </tr>\n",
       "    <tr>\n",
       "      <th>4</th>\n",
       "      <td>the set of minimal words of a contextfree language is contextfree</td>\n",
       "      <td>[Mathematics, Computer Science]</td>\n",
       "      <td>[1.1505239804585774, -0.7077752687036991, -0.1750679761171341, -0.6008188699682553, -0.901705955...</td>\n",
       "      <td>https://semanticscholar.org/paper/be7967e0ba1af1df21251f6c6f58a02fcd98ed41</td>\n",
       "      <td>0.951448</td>\n",
       "    </tr>\n",
       "  </tbody>\n",
       "</table>\n",
       "</div>"
      ],
      "text/plain": [
       "                                                                                      title  \\\n",
       "0  parsing morphologically rich languages with mostly offtheshelf software and word vectors   \n",
       "1                               are the grammatical sentences of a language a recursive set   \n",
       "2                             bilingual word embeddings for phrasebased machine translation   \n",
       "3                                     permutations of contextfree etl and indexed languages   \n",
       "4                         the set of minimal words of a contextfree language is contextfree   \n",
       "\n",
       "                     fieldsOfStudy  \\\n",
       "0               [Computer Science]   \n",
       "1               [Computer Science]   \n",
       "2               [Computer Science]   \n",
       "3  [Computer Science, Mathematics]   \n",
       "4  [Mathematics, Computer Science]   \n",
       "\n",
       "                                                                                     title_wordVectors  \\\n",
       "0  [0.4211726420455508, -0.7609059280819362, -0.15865609380933973, -0.5252460042635599, -0.78695910...   \n",
       "1  [1.746489715576172, -0.9266925275325776, 0.06561576128005982, -1.1050312936306, -1.1029182851314...   \n",
       "2  [0.9805573796232541, -0.8996185561021168, 0.5172649870316187, -0.6948998967806498, -0.7572133690...   \n",
       "3  [0.8165256261825562, -0.5742671251296997, -0.07130123972892762, -0.5454598590731621, -0.49772427...   \n",
       "4  [1.1505239804585774, -0.7077752687036991, -0.1750679761171341, -0.6008188699682553, -0.901705955...   \n",
       "\n",
       "                                                                        s2Url  \\\n",
       "0  https://semanticscholar.org/paper/03deaee586d61bbafb34fa7aba87dddd07050e2f   \n",
       "1  https://semanticscholar.org/paper/0e3fb69bf3fe7d9c68c928a54d98916020edcc74   \n",
       "2  https://semanticscholar.org/paper/0d3233d858660aff451a6c2561a05378ed09725a   \n",
       "3  https://semanticscholar.org/paper/45f1fe9d8159c9b15868ecdbc72cf61272d2f26a   \n",
       "4  https://semanticscholar.org/paper/be7967e0ba1af1df21251f6c6f58a02fcd98ed41   \n",
       "\n",
       "      coSim  \n",
       "0  0.957930  \n",
       "1  0.956906  \n",
       "2  0.956366  \n",
       "3  0.953800  \n",
       "4  0.951448  "
      ]
     },
     "execution_count": 25,
     "metadata": {},
     "output_type": "execute_result"
    }
   ],
   "source": [
    "pd.set_option('max_colwidth', 100)\n",
    "#Let's test out the function\n",
    "results_pdf = search_articles(query_string = \"vector word language\", model = w2VM, n =5)\n",
    "results_pdf"
   ]
  },
  {
   "cell_type": "markdown",
   "metadata": {},
   "source": [
    "## External Data Integration"
   ]
  },
  {
   "cell_type": "markdown",
   "metadata": {},
   "source": [
    "### Mapping SJR"
   ]
  },
  {
   "cell_type": "code",
   "execution_count": 26,
   "metadata": {},
   "outputs": [],
   "source": [
    "journal_map = spark.read.csv('big_data_project/scimagojr_2017.csv', sep = ';',inferSchema=True, header=True )"
   ]
  },
  {
   "cell_type": "code",
   "execution_count": 27,
   "metadata": {},
   "outputs": [
    {
     "name": "stdout",
     "output_type": "stream",
     "text": [
      "root\n",
      " |-- Rank: integer (nullable = true)\n",
      " |-- Sourceid: long (nullable = true)\n",
      " |-- Title: string (nullable = true)\n",
      " |-- Type: string (nullable = true)\n",
      " |-- Issn: string (nullable = true)\n",
      " |-- SJR: string (nullable = true)\n",
      " |-- SJR Best Quartile: string (nullable = true)\n",
      " |-- H index: string (nullable = true)\n",
      " |-- Total Docs. (2017): integer (nullable = true)\n",
      " |-- Total Docs. (3years): integer (nullable = true)\n",
      " |-- Total Refs.: integer (nullable = true)\n",
      " |-- Total Cites (3years): integer (nullable = true)\n",
      " |-- Citable Docs. (3years): integer (nullable = true)\n",
      " |-- Cites / Doc. (2years): string (nullable = true)\n",
      " |-- Ref. / Doc.: string (nullable = true)\n",
      " |-- Country: string (nullable = true)\n",
      " |-- Publisher: string (nullable = true)\n",
      " |-- Coverage: string (nullable = true)\n",
      " |-- Categories: string (nullable = true)\n",
      "\n"
     ]
    }
   ],
   "source": [
    "journal_map.printSchema()"
   ]
  },
  {
   "cell_type": "code",
   "execution_count": 28,
   "metadata": {},
   "outputs": [],
   "source": [
    "#Renaming column so they dont have same name \n",
    "journal_map2 = journal_map.withColumnRenamed('Title', 'journal_name')"
   ]
  },
  {
   "cell_type": "code",
   "execution_count": 60,
   "metadata": {},
   "outputs": [
    {
     "data": {
      "text/html": [
       "<div>\n",
       "<style scoped>\n",
       "    .dataframe tbody tr th:only-of-type {\n",
       "        vertical-align: middle;\n",
       "    }\n",
       "\n",
       "    .dataframe tbody tr th {\n",
       "        vertical-align: top;\n",
       "    }\n",
       "\n",
       "    .dataframe thead th {\n",
       "        text-align: right;\n",
       "    }\n",
       "</style>\n",
       "<table border=\"1\" class=\"dataframe\">\n",
       "  <thead>\n",
       "    <tr style=\"text-align: right;\">\n",
       "      <th></th>\n",
       "      <th>Rank</th>\n",
       "      <th>Sourceid</th>\n",
       "      <th>journal_name</th>\n",
       "      <th>Type</th>\n",
       "      <th>Issn</th>\n",
       "      <th>SJR</th>\n",
       "      <th>SJR Best Quartile</th>\n",
       "      <th>H index</th>\n",
       "      <th>Total Docs. (2017)</th>\n",
       "      <th>Total Docs. (3years)</th>\n",
       "      <th>Total Refs.</th>\n",
       "      <th>Total Cites (3years)</th>\n",
       "      <th>Citable Docs. (3years)</th>\n",
       "      <th>Cites / Doc. (2years)</th>\n",
       "      <th>Ref. / Doc.</th>\n",
       "      <th>Country</th>\n",
       "      <th>Publisher</th>\n",
       "      <th>Coverage</th>\n",
       "      <th>Categories</th>\n",
       "    </tr>\n",
       "  </thead>\n",
       "  <tbody>\n",
       "    <tr>\n",
       "      <th>0</th>\n",
       "      <td>1</td>\n",
       "      <td>28773</td>\n",
       "      <td>CA - A Cancer Journal for Clinicians</td>\n",
       "      <td>journal</td>\n",
       "      <td>15424863, 00079235</td>\n",
       "      <td>61,786</td>\n",
       "      <td>Q1</td>\n",
       "      <td>144</td>\n",
       "      <td>43</td>\n",
       "      <td>130</td>\n",
       "      <td>3160</td>\n",
       "      <td>17496</td>\n",
       "      <td>109</td>\n",
       "      <td>206,80</td>\n",
       "      <td>73,49</td>\n",
       "      <td>United States</td>\n",
       "      <td>Wiley-Blackwell</td>\n",
       "      <td>1950-ongoing</td>\n",
       "      <td>Hematology (Q1); Oncology (Q1)</td>\n",
       "    </tr>\n",
       "    <tr>\n",
       "      <th>1</th>\n",
       "      <td>2</td>\n",
       "      <td>18991</td>\n",
       "      <td>Nature Reviews Genetics</td>\n",
       "      <td>journal</td>\n",
       "      <td>14710056, 14710064</td>\n",
       "      <td>34,896</td>\n",
       "      <td>Q1</td>\n",
       "      <td>320</td>\n",
       "      <td>108</td>\n",
       "      <td>430</td>\n",
       "      <td>7108</td>\n",
       "      <td>7677</td>\n",
       "      <td>168</td>\n",
       "      <td>40,83</td>\n",
       "      <td>65,81</td>\n",
       "      <td>United Kingdom</td>\n",
       "      <td>Nature Publishing Group</td>\n",
       "      <td>2000-ongoing</td>\n",
       "      <td>Genetics (Q1); Genetics (clinical) (Q1); Molec...</td>\n",
       "    </tr>\n",
       "    <tr>\n",
       "      <th>2</th>\n",
       "      <td>3</td>\n",
       "      <td>19434</td>\n",
       "      <td>MMWR. Recommendations and reports : Morbidity ...</td>\n",
       "      <td>journal</td>\n",
       "      <td>10575987, 15458601</td>\n",
       "      <td>34,638</td>\n",
       "      <td>Q1</td>\n",
       "      <td>134</td>\n",
       "      <td>2</td>\n",
       "      <td>16</td>\n",
       "      <td>184</td>\n",
       "      <td>1073</td>\n",
       "      <td>16</td>\n",
       "      <td>82,10</td>\n",
       "      <td>92,00</td>\n",
       "      <td>United States</td>\n",
       "      <td>Centers for Disease Control and Prevention (CDC)</td>\n",
       "      <td>1990-ongoing</td>\n",
       "      <td>Epidemiology (Q1); Health Information Manageme...</td>\n",
       "    </tr>\n",
       "    <tr>\n",
       "      <th>3</th>\n",
       "      <td>4</td>\n",
       "      <td>58530</td>\n",
       "      <td>National vital statistics reports : from the C...</td>\n",
       "      <td>journal</td>\n",
       "      <td>15518922, 15518930</td>\n",
       "      <td>33,557</td>\n",
       "      <td>Q1</td>\n",
       "      <td>89</td>\n",
       "      <td>6</td>\n",
       "      <td>33</td>\n",
       "      <td>207</td>\n",
       "      <td>1183</td>\n",
       "      <td>33</td>\n",
       "      <td>40,65</td>\n",
       "      <td>34,50</td>\n",
       "      <td>United States</td>\n",
       "      <td>US Department of Health and Human Services</td>\n",
       "      <td>1998-ongoing</td>\n",
       "      <td>Life-span and Life-course Studies (Q1)</td>\n",
       "    </tr>\n",
       "    <tr>\n",
       "      <th>4</th>\n",
       "      <td>5</td>\n",
       "      <td>20315</td>\n",
       "      <td>Nature Reviews Molecular Cell Biology</td>\n",
       "      <td>journal</td>\n",
       "      <td>14710072, 14710080</td>\n",
       "      <td>32,714</td>\n",
       "      <td>Q1</td>\n",
       "      <td>386</td>\n",
       "      <td>112</td>\n",
       "      <td>429</td>\n",
       "      <td>7986</td>\n",
       "      <td>9042</td>\n",
       "      <td>206</td>\n",
       "      <td>30,69</td>\n",
       "      <td>71,30</td>\n",
       "      <td>United Kingdom</td>\n",
       "      <td>Nature Publishing Group</td>\n",
       "      <td>2000-ongoing</td>\n",
       "      <td>Cell Biology (Q1); Molecular Biology (Q1)</td>\n",
       "    </tr>\n",
       "    <tr>\n",
       "      <th>5</th>\n",
       "      <td>6</td>\n",
       "      <td>29431</td>\n",
       "      <td>Quarterly Journal of Economics</td>\n",
       "      <td>journal</td>\n",
       "      <td>00335533, 15314650</td>\n",
       "      <td>29,602</td>\n",
       "      <td>Q1</td>\n",
       "      <td>228</td>\n",
       "      <td>43</td>\n",
       "      <td>121</td>\n",
       "      <td>2210</td>\n",
       "      <td>1366</td>\n",
       "      <td>120</td>\n",
       "      <td>8,90</td>\n",
       "      <td>51,40</td>\n",
       "      <td>United Kingdom</td>\n",
       "      <td>Oxford University Press</td>\n",
       "      <td>1973-1974, 1976-ongoing</td>\n",
       "      <td>Economics and Econometrics (Q1)</td>\n",
       "    </tr>\n",
       "    <tr>\n",
       "      <th>6</th>\n",
       "      <td>7</td>\n",
       "      <td>21318</td>\n",
       "      <td>Nature Reviews Immunology</td>\n",
       "      <td>journal</td>\n",
       "      <td>14741733</td>\n",
       "      <td>28,786</td>\n",
       "      <td>Q1</td>\n",
       "      <td>351</td>\n",
       "      <td>141</td>\n",
       "      <td>462</td>\n",
       "      <td>8241</td>\n",
       "      <td>8193</td>\n",
       "      <td>185</td>\n",
       "      <td>40,50</td>\n",
       "      <td>58,45</td>\n",
       "      <td>United Kingdom</td>\n",
       "      <td>Nature Publishing Group</td>\n",
       "      <td>2001-ongoing</td>\n",
       "      <td>Immunology (Q1); Medicine (miscellaneous) (Q1)</td>\n",
       "    </tr>\n",
       "    <tr>\n",
       "      <th>7</th>\n",
       "      <td>8</td>\n",
       "      <td>21100812243</td>\n",
       "      <td>Nature Reviews Materials</td>\n",
       "      <td>journal</td>\n",
       "      <td>20588437</td>\n",
       "      <td>28,630</td>\n",
       "      <td>Q1</td>\n",
       "      <td>61</td>\n",
       "      <td>91</td>\n",
       "      <td>104</td>\n",
       "      <td>7110</td>\n",
       "      <td>2823</td>\n",
       "      <td>58</td>\n",
       "      <td>48,67</td>\n",
       "      <td>78,13</td>\n",
       "      <td>United Kingdom</td>\n",
       "      <td>Nature Publishing Group</td>\n",
       "      <td>2016-ongoing</td>\n",
       "      <td>Biomaterials (Q1); Electronic, Optical and Mag...</td>\n",
       "    </tr>\n",
       "    <tr>\n",
       "      <th>8</th>\n",
       "      <td>9</td>\n",
       "      <td>18434</td>\n",
       "      <td>Cell</td>\n",
       "      <td>journal</td>\n",
       "      <td>00928674, 10974172</td>\n",
       "      <td>25,137</td>\n",
       "      <td>Q1</td>\n",
       "      <td>705</td>\n",
       "      <td>547</td>\n",
       "      <td>1980</td>\n",
       "      <td>27123</td>\n",
       "      <td>44674</td>\n",
       "      <td>1716</td>\n",
       "      <td>24,83</td>\n",
       "      <td>49,59</td>\n",
       "      <td>United States</td>\n",
       "      <td>Cell Press</td>\n",
       "      <td>1974-ongoing</td>\n",
       "      <td>Biochemistry, Genetics and Molecular Biology (...</td>\n",
       "    </tr>\n",
       "    <tr>\n",
       "      <th>9</th>\n",
       "      <td>10</td>\n",
       "      <td>19700180594</td>\n",
       "      <td>Handbook of International Economics</td>\n",
       "      <td>book series</td>\n",
       "      <td>15734404</td>\n",
       "      <td>25,020</td>\n",
       "      <td>Q1</td>\n",
       "      <td>10</td>\n",
       "      <td>0</td>\n",
       "      <td>15</td>\n",
       "      <td>0</td>\n",
       "      <td>186</td>\n",
       "      <td>0</td>\n",
       "      <td>0,00</td>\n",
       "      <td>0,00</td>\n",
       "      <td>Netherlands</td>\n",
       "      <td>North-Holland Publ Co</td>\n",
       "      <td>1984-1985, 1995, 2014-2015</td>\n",
       "      <td>Economics and Econometrics (Q1); Economics, Ec...</td>\n",
       "    </tr>\n",
       "    <tr>\n",
       "      <th>10</th>\n",
       "      <td>11</td>\n",
       "      <td>12464</td>\n",
       "      <td>Nature Reviews Cancer</td>\n",
       "      <td>journal</td>\n",
       "      <td>1474175X</td>\n",
       "      <td>23,530</td>\n",
       "      <td>Q1</td>\n",
       "      <td>396</td>\n",
       "      <td>120</td>\n",
       "      <td>402</td>\n",
       "      <td>10019</td>\n",
       "      <td>7976</td>\n",
       "      <td>198</td>\n",
       "      <td>39,38</td>\n",
       "      <td>83,49</td>\n",
       "      <td>United Kingdom</td>\n",
       "      <td>Nature Publishing Group</td>\n",
       "      <td>2001-ongoing</td>\n",
       "      <td>Cancer Research (Q1); Oncology (Q1)</td>\n",
       "    </tr>\n",
       "    <tr>\n",
       "      <th>11</th>\n",
       "      <td>12</td>\n",
       "      <td>23340</td>\n",
       "      <td>Chemical Reviews</td>\n",
       "      <td>journal</td>\n",
       "      <td>15206890, 00092665</td>\n",
       "      <td>23,414</td>\n",
       "      <td>Q1</td>\n",
       "      <td>609</td>\n",
       "      <td>278</td>\n",
       "      <td>869</td>\n",
       "      <td>105878</td>\n",
       "      <td>45565</td>\n",
       "      <td>829</td>\n",
       "      <td>52,95</td>\n",
       "      <td>380,86</td>\n",
       "      <td>United States</td>\n",
       "      <td>American Chemical Society</td>\n",
       "      <td>1924-ongoing</td>\n",
       "      <td>Chemistry (miscellaneous) (Q1)</td>\n",
       "    </tr>\n",
       "    <tr>\n",
       "      <th>12</th>\n",
       "      <td>13</td>\n",
       "      <td>18990</td>\n",
       "      <td>Nature Genetics</td>\n",
       "      <td>journal</td>\n",
       "      <td>10614036</td>\n",
       "      <td>22,243</td>\n",
       "      <td>Q1</td>\n",
       "      <td>527</td>\n",
       "      <td>292</td>\n",
       "      <td>815</td>\n",
       "      <td>13028</td>\n",
       "      <td>17747</td>\n",
       "      <td>695</td>\n",
       "      <td>23,60</td>\n",
       "      <td>44,62</td>\n",
       "      <td>United Kingdom</td>\n",
       "      <td>Nature Publishing Group</td>\n",
       "      <td>1992-ongoing</td>\n",
       "      <td>Genetics (Q1)</td>\n",
       "    </tr>\n",
       "    <tr>\n",
       "      <th>13</th>\n",
       "      <td>14</td>\n",
       "      <td>20651</td>\n",
       "      <td>Annual Review of Immunology</td>\n",
       "      <td>journal</td>\n",
       "      <td>15453278, 07320582</td>\n",
       "      <td>21,681</td>\n",
       "      <td>Q1</td>\n",
       "      <td>279</td>\n",
       "      <td>19</td>\n",
       "      <td>71</td>\n",
       "      <td>3515</td>\n",
       "      <td>2180</td>\n",
       "      <td>71</td>\n",
       "      <td>24,10</td>\n",
       "      <td>185,00</td>\n",
       "      <td>United States</td>\n",
       "      <td>Annual Reviews Inc.</td>\n",
       "      <td>1983-ongoing</td>\n",
       "      <td>Immunology (Q1); Immunology and Allergy (Q1)</td>\n",
       "    </tr>\n",
       "    <tr>\n",
       "      <th>14</th>\n",
       "      <td>15</td>\n",
       "      <td>20089</td>\n",
       "      <td>Vital and health statistics. Series 10, Data f...</td>\n",
       "      <td>journal</td>\n",
       "      <td>00831972</td>\n",
       "      <td>20,768</td>\n",
       "      <td>Q1</td>\n",
       "      <td>42</td>\n",
       "      <td>0</td>\n",
       "      <td>4</td>\n",
       "      <td>0</td>\n",
       "      <td>121</td>\n",
       "      <td>4</td>\n",
       "      <td>0,00</td>\n",
       "      <td>0,00</td>\n",
       "      <td>United States</td>\n",
       "      <td>U.S. Dept. of Health, Education and Welfare, P...</td>\n",
       "      <td>1963-1965, 1976-2000, 2002-2014</td>\n",
       "      <td>Medicine (miscellaneous) (Q1); Public Health, ...</td>\n",
       "    </tr>\n",
       "    <tr>\n",
       "      <th>15</th>\n",
       "      <td>16</td>\n",
       "      <td>5200152704</td>\n",
       "      <td>Nature Nanotechnology</td>\n",
       "      <td>journal</td>\n",
       "      <td>17483387</td>\n",
       "      <td>20,612</td>\n",
       "      <td>Q1</td>\n",
       "      <td>286</td>\n",
       "      <td>243</td>\n",
       "      <td>738</td>\n",
       "      <td>7561</td>\n",
       "      <td>19350</td>\n",
       "      <td>562</td>\n",
       "      <td>31,33</td>\n",
       "      <td>31,12</td>\n",
       "      <td>United Kingdom</td>\n",
       "      <td>Nature Publishing Group</td>\n",
       "      <td>2006-ongoing</td>\n",
       "      <td>Atomic and Molecular Physics, and Optics (Q1);...</td>\n",
       "    </tr>\n",
       "    <tr>\n",
       "      <th>16</th>\n",
       "      <td>17</td>\n",
       "      <td>21100778827</td>\n",
       "      <td>Nature Methods</td>\n",
       "      <td>journal</td>\n",
       "      <td>15487091, 15487105</td>\n",
       "      <td>19,939</td>\n",
       "      <td>Q1</td>\n",
       "      <td>257</td>\n",
       "      <td>288</td>\n",
       "      <td>1030</td>\n",
       "      <td>6258</td>\n",
       "      <td>13861</td>\n",
       "      <td>579</td>\n",
       "      <td>20,54</td>\n",
       "      <td>21,73</td>\n",
       "      <td>United Kingdom</td>\n",
       "      <td>Nature Publishing Group</td>\n",
       "      <td>2004-ongoing</td>\n",
       "      <td>Biochemistry (Q1); Biotechnology (Q1); Cell Bi...</td>\n",
       "    </tr>\n",
       "    <tr>\n",
       "      <th>17</th>\n",
       "      <td>18</td>\n",
       "      <td>19482</td>\n",
       "      <td>Econometrica</td>\n",
       "      <td>journal</td>\n",
       "      <td>00129682, 14680262</td>\n",
       "      <td>19,932</td>\n",
       "      <td>Q1</td>\n",
       "      <td>169</td>\n",
       "      <td>60</td>\n",
       "      <td>187</td>\n",
       "      <td>2591</td>\n",
       "      <td>977</td>\n",
       "      <td>179</td>\n",
       "      <td>4,01</td>\n",
       "      <td>43,18</td>\n",
       "      <td>United Kingdom</td>\n",
       "      <td>Blackwell Publishing Inc.</td>\n",
       "      <td>1974, 1977-1984, 1990, 1994-ongoing</td>\n",
       "      <td>Economics and Econometrics (Q1)</td>\n",
       "    </tr>\n",
       "    <tr>\n",
       "      <th>18</th>\n",
       "      <td>19</td>\n",
       "      <td>15847</td>\n",
       "      <td>New England Journal of Medicine</td>\n",
       "      <td>journal</td>\n",
       "      <td>00284793, 15334406</td>\n",
       "      <td>19,476</td>\n",
       "      <td>Q1</td>\n",
       "      <td>933</td>\n",
       "      <td>1493</td>\n",
       "      <td>5202</td>\n",
       "      <td>16409</td>\n",
       "      <td>81553</td>\n",
       "      <td>2018</td>\n",
       "      <td>43,72</td>\n",
       "      <td>10,99</td>\n",
       "      <td>United States</td>\n",
       "      <td>Massachusetts Medical Society</td>\n",
       "      <td>1945-ongoing</td>\n",
       "      <td>Medicine (miscellaneous) (Q1)</td>\n",
       "    </tr>\n",
       "    <tr>\n",
       "      <th>19</th>\n",
       "      <td>20</td>\n",
       "      <td>16801</td>\n",
       "      <td>Annual Review of Biochemistry</td>\n",
       "      <td>journal</td>\n",
       "      <td>15454509, 00664154</td>\n",
       "      <td>18,513</td>\n",
       "      <td>Q1</td>\n",
       "      <td>268</td>\n",
       "      <td>35</td>\n",
       "      <td>95</td>\n",
       "      <td>5103</td>\n",
       "      <td>2189</td>\n",
       "      <td>95</td>\n",
       "      <td>21,80</td>\n",
       "      <td>145,80</td>\n",
       "      <td>United States</td>\n",
       "      <td>Annual Reviews Inc.</td>\n",
       "      <td>1950-1960, 1962-ongoing</td>\n",
       "      <td>Biochemistry (Q1)</td>\n",
       "    </tr>\n",
       "    <tr>\n",
       "      <th>20</th>\n",
       "      <td>21</td>\n",
       "      <td>17500</td>\n",
       "      <td>Journal of Finance</td>\n",
       "      <td>journal</td>\n",
       "      <td>00221082, 15406261</td>\n",
       "      <td>18,318</td>\n",
       "      <td>Q1</td>\n",
       "      <td>264</td>\n",
       "      <td>64</td>\n",
       "      <td>226</td>\n",
       "      <td>3145</td>\n",
       "      <td>1615</td>\n",
       "      <td>218</td>\n",
       "      <td>5,61</td>\n",
       "      <td>49,14</td>\n",
       "      <td>United Kingdom</td>\n",
       "      <td>Blackwell Publishing Inc.</td>\n",
       "      <td>1946-ongoing</td>\n",
       "      <td>Accounting (Q1); Economics and Econometrics (Q...</td>\n",
       "    </tr>\n",
       "    <tr>\n",
       "      <th>21</th>\n",
       "      <td>22</td>\n",
       "      <td>17854</td>\n",
       "      <td>Nature Materials</td>\n",
       "      <td>journal</td>\n",
       "      <td>14764660, 14761122</td>\n",
       "      <td>18,263</td>\n",
       "      <td>Q1</td>\n",
       "      <td>403</td>\n",
       "      <td>237</td>\n",
       "      <td>809</td>\n",
       "      <td>7813</td>\n",
       "      <td>21775</td>\n",
       "      <td>634</td>\n",
       "      <td>30,36</td>\n",
       "      <td>32,97</td>\n",
       "      <td>United Kingdom</td>\n",
       "      <td>Nature Publishing Group</td>\n",
       "      <td>2002-ongoing</td>\n",
       "      <td>Chemistry (miscellaneous) (Q1); Condensed Matt...</td>\n",
       "    </tr>\n",
       "    <tr>\n",
       "      <th>22</th>\n",
       "      <td>23</td>\n",
       "      <td>16115</td>\n",
       "      <td>Nature Biotechnology</td>\n",
       "      <td>journal</td>\n",
       "      <td>10870156</td>\n",
       "      <td>18,252</td>\n",
       "      <td>Q1</td>\n",
       "      <td>399</td>\n",
       "      <td>341</td>\n",
       "      <td>1107</td>\n",
       "      <td>6346</td>\n",
       "      <td>14794</td>\n",
       "      <td>583</td>\n",
       "      <td>22,29</td>\n",
       "      <td>18,61</td>\n",
       "      <td>United Kingdom</td>\n",
       "      <td>Nature Publishing Group</td>\n",
       "      <td>1990-ongoing</td>\n",
       "      <td>Applied Microbiology and Biotechnology (Q1); B...</td>\n",
       "    </tr>\n",
       "    <tr>\n",
       "      <th>23</th>\n",
       "      <td>24</td>\n",
       "      <td>26651</td>\n",
       "      <td>Annual Review of Astronomy and Astrophysics</td>\n",
       "      <td>journal</td>\n",
       "      <td>15454282, 00664146</td>\n",
       "      <td>18,046</td>\n",
       "      <td>Q1</td>\n",
       "      <td>168</td>\n",
       "      <td>12</td>\n",
       "      <td>48</td>\n",
       "      <td>2999</td>\n",
       "      <td>1500</td>\n",
       "      <td>48</td>\n",
       "      <td>22,71</td>\n",
       "      <td>249,92</td>\n",
       "      <td>United States</td>\n",
       "      <td>Annual Reviews Inc.</td>\n",
       "      <td>1990-ongoing</td>\n",
       "      <td>Astronomy and Astrophysics (Q1); Space and Pla...</td>\n",
       "    </tr>\n",
       "    <tr>\n",
       "      <th>24</th>\n",
       "      <td>25</td>\n",
       "      <td>21206</td>\n",
       "      <td>Nature</td>\n",
       "      <td>journal</td>\n",
       "      <td>14764687, 00280836</td>\n",
       "      <td>17,875</td>\n",
       "      <td>Q1</td>\n",
       "      <td>1096</td>\n",
       "      <td>2720</td>\n",
       "      <td>7882</td>\n",
       "      <td>44093</td>\n",
       "      <td>119776</td>\n",
       "      <td>4463</td>\n",
       "      <td>26,04</td>\n",
       "      <td>16,21</td>\n",
       "      <td>United Kingdom</td>\n",
       "      <td>Nature Publishing Group</td>\n",
       "      <td>1869-ongoing</td>\n",
       "      <td>Multidisciplinary (Q1)</td>\n",
       "    </tr>\n",
       "    <tr>\n",
       "      <th>25</th>\n",
       "      <td>26</td>\n",
       "      <td>21100812579</td>\n",
       "      <td>Nature Energy</td>\n",
       "      <td>journal</td>\n",
       "      <td>20587546</td>\n",
       "      <td>17,765</td>\n",
       "      <td>Q1</td>\n",
       "      <td>61</td>\n",
       "      <td>175</td>\n",
       "      <td>138</td>\n",
       "      <td>4444</td>\n",
       "      <td>3669</td>\n",
       "      <td>107</td>\n",
       "      <td>34,29</td>\n",
       "      <td>25,39</td>\n",
       "      <td>United States</td>\n",
       "      <td>Springer Nature</td>\n",
       "      <td>2016-ongoing</td>\n",
       "      <td>Electronic, Optical and Magnetic Materials (Q1...</td>\n",
       "    </tr>\n",
       "    <tr>\n",
       "      <th>26</th>\n",
       "      <td>27</td>\n",
       "      <td>20313</td>\n",
       "      <td>Nature Reviews Microbiology</td>\n",
       "      <td>journal</td>\n",
       "      <td>17401526</td>\n",
       "      <td>17,634</td>\n",
       "      <td>Q1</td>\n",
       "      <td>250</td>\n",
       "      <td>145</td>\n",
       "      <td>429</td>\n",
       "      <td>7924</td>\n",
       "      <td>5894</td>\n",
       "      <td>200</td>\n",
       "      <td>29,27</td>\n",
       "      <td>54,65</td>\n",
       "      <td>United Kingdom</td>\n",
       "      <td>Nature Publishing Group</td>\n",
       "      <td>2003-ongoing</td>\n",
       "      <td>Immunology and Microbiology (miscellaneous)  (Q1)</td>\n",
       "    </tr>\n",
       "    <tr>\n",
       "      <th>27</th>\n",
       "      <td>28</td>\n",
       "      <td>23350</td>\n",
       "      <td>Chemical Society Reviews</td>\n",
       "      <td>journal</td>\n",
       "      <td>03060012, 14604744</td>\n",
       "      <td>17,633</td>\n",
       "      <td>Q1</td>\n",
       "      <td>432</td>\n",
       "      <td>307</td>\n",
       "      <td>1072</td>\n",
       "      <td>56152</td>\n",
       "      <td>43368</td>\n",
       "      <td>1017</td>\n",
       "      <td>40,86</td>\n",
       "      <td>182,91</td>\n",
       "      <td>United Kingdom</td>\n",
       "      <td>Royal Society of Chemistry</td>\n",
       "      <td>1972-ongoing</td>\n",
       "      <td>Chemistry (miscellaneous) (Q1)</td>\n",
       "    </tr>\n",
       "    <tr>\n",
       "      <th>28</th>\n",
       "      <td>29</td>\n",
       "      <td>29719</td>\n",
       "      <td>Reviews of Modern Physics</td>\n",
       "      <td>journal</td>\n",
       "      <td>00346861, 15390756</td>\n",
       "      <td>17,567</td>\n",
       "      <td>Q1</td>\n",
       "      <td>298</td>\n",
       "      <td>43</td>\n",
       "      <td>123</td>\n",
       "      <td>13494</td>\n",
       "      <td>4560</td>\n",
       "      <td>113</td>\n",
       "      <td>37,94</td>\n",
       "      <td>313,81</td>\n",
       "      <td>United States</td>\n",
       "      <td>American Physical Society</td>\n",
       "      <td>1929-ongoing</td>\n",
       "      <td>Physics and Astronomy (miscellaneous) (Q1)</td>\n",
       "    </tr>\n",
       "    <tr>\n",
       "      <th>29</th>\n",
       "      <td>30</td>\n",
       "      <td>17437</td>\n",
       "      <td>Nature Reviews Neuroscience</td>\n",
       "      <td>journal</td>\n",
       "      <td>14710048, 1471003X</td>\n",
       "      <td>17,110</td>\n",
       "      <td>Q1</td>\n",
       "      <td>375</td>\n",
       "      <td>124</td>\n",
       "      <td>427</td>\n",
       "      <td>8207</td>\n",
       "      <td>6264</td>\n",
       "      <td>204</td>\n",
       "      <td>28,65</td>\n",
       "      <td>66,19</td>\n",
       "      <td>United Kingdom</td>\n",
       "      <td>Nature Publishing Group</td>\n",
       "      <td>2000-ongoing</td>\n",
       "      <td>Neuroscience (miscellaneous) (Q1)</td>\n",
       "    </tr>\n",
       "    <tr>\n",
       "      <th>30</th>\n",
       "      <td>31</td>\n",
       "      <td>15819</td>\n",
       "      <td>Nature Medicine</td>\n",
       "      <td>journal</td>\n",
       "      <td>10788956</td>\n",
       "      <td>17,067</td>\n",
       "      <td>Q1</td>\n",
       "      <td>497</td>\n",
       "      <td>257</td>\n",
       "      <td>927</td>\n",
       "      <td>9189</td>\n",
       "      <td>16005</td>\n",
       "      <td>649</td>\n",
       "      <td>25,26</td>\n",
       "      <td>35,75</td>\n",
       "      <td>United Kingdom</td>\n",
       "      <td>Nature Publishing Group</td>\n",
       "      <td>1995-ongoing</td>\n",
       "      <td>Biochemistry, Genetics and Molecular Biology (...</td>\n",
       "    </tr>\n",
       "    <tr>\n",
       "      <th>31</th>\n",
       "      <td>32</td>\n",
       "      <td>5700165152</td>\n",
       "      <td>Nature Photonics</td>\n",
       "      <td>journal</td>\n",
       "      <td>17494885</td>\n",
       "      <td>16,462</td>\n",
       "      <td>Q1</td>\n",
       "      <td>266</td>\n",
       "      <td>189</td>\n",
       "      <td>635</td>\n",
       "      <td>5320</td>\n",
       "      <td>14698</td>\n",
       "      <td>448</td>\n",
       "      <td>27,88</td>\n",
       "      <td>28,15</td>\n",
       "      <td>United Kingdom</td>\n",
       "      <td>Nature Pub. Group</td>\n",
       "      <td>2007-ongoing</td>\n",
       "      <td>Atomic and Molecular Physics, and Optics (Q1);...</td>\n",
       "    </tr>\n",
       "    <tr>\n",
       "      <th>32</th>\n",
       "      <td>33</td>\n",
       "      <td>24404</td>\n",
       "      <td>Journal of Political Economy</td>\n",
       "      <td>journal</td>\n",
       "      <td>00223808, 1537534X</td>\n",
       "      <td>16,309</td>\n",
       "      <td>Q1</td>\n",
       "      <td>168</td>\n",
       "      <td>76</td>\n",
       "      <td>110</td>\n",
       "      <td>3113</td>\n",
       "      <td>588</td>\n",
       "      <td>103</td>\n",
       "      <td>5,29</td>\n",
       "      <td>40,96</td>\n",
       "      <td>United States</td>\n",
       "      <td>University of Chicago Press</td>\n",
       "      <td>1969, 1973-1974, 1979-1985, 1987-ongoing</td>\n",
       "      <td>Economics and Econometrics (Q1)</td>\n",
       "    </tr>\n",
       "    <tr>\n",
       "      <th>33</th>\n",
       "      <td>34</td>\n",
       "      <td>24004</td>\n",
       "      <td>Physiological Reviews</td>\n",
       "      <td>journal</td>\n",
       "      <td>15221210, 00319333</td>\n",
       "      <td>16,184</td>\n",
       "      <td>Q1</td>\n",
       "      <td>312</td>\n",
       "      <td>39</td>\n",
       "      <td>109</td>\n",
       "      <td>18472</td>\n",
       "      <td>3392</td>\n",
       "      <td>101</td>\n",
       "      <td>25,81</td>\n",
       "      <td>473,64</td>\n",
       "      <td>United States</td>\n",
       "      <td>American Physiological Society</td>\n",
       "      <td>1945-ongoing</td>\n",
       "      <td>Medicine (miscellaneous) (Q1); Molecular Biolo...</td>\n",
       "    </tr>\n",
       "    <tr>\n",
       "      <th>34</th>\n",
       "      <td>35</td>\n",
       "      <td>12354</td>\n",
       "      <td>The Lancet Oncology</td>\n",
       "      <td>journal</td>\n",
       "      <td>14702045, 14745488</td>\n",
       "      <td>16,085</td>\n",
       "      <td>Q1</td>\n",
       "      <td>274</td>\n",
       "      <td>624</td>\n",
       "      <td>1824</td>\n",
       "      <td>9635</td>\n",
       "      <td>19566</td>\n",
       "      <td>573</td>\n",
       "      <td>34,13</td>\n",
       "      <td>15,44</td>\n",
       "      <td>United Kingdom</td>\n",
       "      <td>The Lancet Publishing Group</td>\n",
       "      <td>2000-ongoing</td>\n",
       "      <td>Oncology (Q1)</td>\n",
       "    </tr>\n",
       "    <tr>\n",
       "      <th>35</th>\n",
       "      <td>36</td>\n",
       "      <td>17600155103</td>\n",
       "      <td>Living Reviews in European Governance</td>\n",
       "      <td>journal</td>\n",
       "      <td>1813856X</td>\n",
       "      <td>15,799</td>\n",
       "      <td>Q1</td>\n",
       "      <td>10</td>\n",
       "      <td>0</td>\n",
       "      <td>2</td>\n",
       "      <td>0</td>\n",
       "      <td>35</td>\n",
       "      <td>2</td>\n",
       "      <td>7,00</td>\n",
       "      <td>0,00</td>\n",
       "      <td>Austria</td>\n",
       "      <td>Institute for Advanced Studies, Department of ...</td>\n",
       "      <td>2009-2015</td>\n",
       "      <td>Political Science and International Relations ...</td>\n",
       "    </tr>\n",
       "    <tr>\n",
       "      <th>36</th>\n",
       "      <td>37</td>\n",
       "      <td>17436</td>\n",
       "      <td>Nature Neuroscience</td>\n",
       "      <td>journal</td>\n",
       "      <td>10976256</td>\n",
       "      <td>15,207</td>\n",
       "      <td>Q1</td>\n",
       "      <td>375</td>\n",
       "      <td>254</td>\n",
       "      <td>868</td>\n",
       "      <td>12475</td>\n",
       "      <td>13477</td>\n",
       "      <td>744</td>\n",
       "      <td>17,71</td>\n",
       "      <td>49,11</td>\n",
       "      <td>United Kingdom</td>\n",
       "      <td>Nature Publishing Group</td>\n",
       "      <td>1998-ongoing</td>\n",
       "      <td>Neuroscience (miscellaneous) (Q1)</td>\n",
       "    </tr>\n",
       "    <tr>\n",
       "      <th>37</th>\n",
       "      <td>38</td>\n",
       "      <td>16590</td>\n",
       "      <td>The Lancet</td>\n",
       "      <td>journal</td>\n",
       "      <td>01406736, 1474547X</td>\n",
       "      <td>14,934</td>\n",
       "      <td>Q1</td>\n",
       "      <td>700</td>\n",
       "      <td>1586</td>\n",
       "      <td>5637</td>\n",
       "      <td>27095</td>\n",
       "      <td>51370</td>\n",
       "      <td>1448</td>\n",
       "      <td>36,08</td>\n",
       "      <td>17,08</td>\n",
       "      <td>United Kingdom</td>\n",
       "      <td>The Lancet Publishing Group</td>\n",
       "      <td>1823-ongoing</td>\n",
       "      <td>Medicine (miscellaneous) (Q1)</td>\n",
       "    </tr>\n",
       "    <tr>\n",
       "      <th>38</th>\n",
       "      <td>39</td>\n",
       "      <td>17500155114</td>\n",
       "      <td>Energy and Environmental Sciences</td>\n",
       "      <td>journal</td>\n",
       "      <td>17545692</td>\n",
       "      <td>14,590</td>\n",
       "      <td>Q1</td>\n",
       "      <td>279</td>\n",
       "      <td>246</td>\n",
       "      <td>1037</td>\n",
       "      <td>15494</td>\n",
       "      <td>33224</td>\n",
       "      <td>1020</td>\n",
       "      <td>30,38</td>\n",
       "      <td>62,98</td>\n",
       "      <td>United Kingdom</td>\n",
       "      <td>Royal Society of Chemistry</td>\n",
       "      <td>2008-ongoing</td>\n",
       "      <td>Environmental Chemistry (Q1); Nuclear Energy a...</td>\n",
       "    </tr>\n",
       "    <tr>\n",
       "      <th>39</th>\n",
       "      <td>40</td>\n",
       "      <td>16161</td>\n",
       "      <td>Review of Financial Studies</td>\n",
       "      <td>journal</td>\n",
       "      <td>14657368, 08939454</td>\n",
       "      <td>14,237</td>\n",
       "      <td>Q1</td>\n",
       "      <td>157</td>\n",
       "      <td>120</td>\n",
       "      <td>274</td>\n",
       "      <td>6079</td>\n",
       "      <td>1499</td>\n",
       "      <td>272</td>\n",
       "      <td>4,56</td>\n",
       "      <td>50,66</td>\n",
       "      <td>United Kingdom</td>\n",
       "      <td>Oxford University Press</td>\n",
       "      <td>1996-ongoing</td>\n",
       "      <td>Accounting (Q1); Economics and Econometrics (Q...</td>\n",
       "    </tr>\n",
       "    <tr>\n",
       "      <th>40</th>\n",
       "      <td>41</td>\n",
       "      <td>23571</td>\n",
       "      <td>Science</td>\n",
       "      <td>journal</td>\n",
       "      <td>00368075</td>\n",
       "      <td>14,142</td>\n",
       "      <td>Q1</td>\n",
       "      <td>1058</td>\n",
       "      <td>2718</td>\n",
       "      <td>6168</td>\n",
       "      <td>36863</td>\n",
       "      <td>103204</td>\n",
       "      <td>4448</td>\n",
       "      <td>23,61</td>\n",
       "      <td>13,56</td>\n",
       "      <td>United States</td>\n",
       "      <td>American Association for the Advancement of Sc...</td>\n",
       "      <td>1880-ongoing</td>\n",
       "      <td>History and Philosophy of Science (Q1); Multid...</td>\n",
       "    </tr>\n",
       "    <tr>\n",
       "      <th>41</th>\n",
       "      <td>42</td>\n",
       "      <td>19014</td>\n",
       "      <td>Nature Cell Biology</td>\n",
       "      <td>journal</td>\n",
       "      <td>14657392</td>\n",
       "      <td>14,070</td>\n",
       "      <td>Q1</td>\n",
       "      <td>337</td>\n",
       "      <td>204</td>\n",
       "      <td>534</td>\n",
       "      <td>7521</td>\n",
       "      <td>7615</td>\n",
       "      <td>456</td>\n",
       "      <td>15,82</td>\n",
       "      <td>36,87</td>\n",
       "      <td>United Kingdom</td>\n",
       "      <td>Nature Publishing Group</td>\n",
       "      <td>1999-ongoing</td>\n",
       "      <td>Cell Biology (Q1)</td>\n",
       "    </tr>\n",
       "    <tr>\n",
       "      <th>42</th>\n",
       "      <td>43</td>\n",
       "      <td>21315</td>\n",
       "      <td>Nature Immunology</td>\n",
       "      <td>journal</td>\n",
       "      <td>15292908, 15292916</td>\n",
       "      <td>14,007</td>\n",
       "      <td>Q1</td>\n",
       "      <td>344</td>\n",
       "      <td>209</td>\n",
       "      <td>625</td>\n",
       "      <td>8307</td>\n",
       "      <td>8978</td>\n",
       "      <td>510</td>\n",
       "      <td>17,98</td>\n",
       "      <td>39,75</td>\n",
       "      <td>United Kingdom</td>\n",
       "      <td>Nature Publishing Group</td>\n",
       "      <td>2000-ongoing</td>\n",
       "      <td>Immunology (Q1)</td>\n",
       "    </tr>\n",
       "    <tr>\n",
       "      <th>43</th>\n",
       "      <td>44</td>\n",
       "      <td>18606</td>\n",
       "      <td>Molecular Cell</td>\n",
       "      <td>journal</td>\n",
       "      <td>10974164, 10972765</td>\n",
       "      <td>13,841</td>\n",
       "      <td>Q1</td>\n",
       "      <td>356</td>\n",
       "      <td>385</td>\n",
       "      <td>1202</td>\n",
       "      <td>19591</td>\n",
       "      <td>14789</td>\n",
       "      <td>1130</td>\n",
       "      <td>12,23</td>\n",
       "      <td>50,89</td>\n",
       "      <td>United States</td>\n",
       "      <td>Cell Press</td>\n",
       "      <td>1997-ongoing</td>\n",
       "      <td>Cell Biology (Q1); Molecular Biology (Q1)</td>\n",
       "    </tr>\n",
       "    <tr>\n",
       "      <th>44</th>\n",
       "      <td>45</td>\n",
       "      <td>12137</td>\n",
       "      <td>Journal of Statistical Software</td>\n",
       "      <td>journal</td>\n",
       "      <td>15487660</td>\n",
       "      <td>13,802</td>\n",
       "      <td>Q1</td>\n",
       "      <td>115</td>\n",
       "      <td>85</td>\n",
       "      <td>262</td>\n",
       "      <td>3460</td>\n",
       "      <td>4413</td>\n",
       "      <td>262</td>\n",
       "      <td>20,71</td>\n",
       "      <td>40,71</td>\n",
       "      <td>United States</td>\n",
       "      <td>University of California at Los Angeles</td>\n",
       "      <td>1996-ongoing</td>\n",
       "      <td>Software (Q1); Statistics and Probability (Q1)...</td>\n",
       "    </tr>\n",
       "    <tr>\n",
       "      <th>45</th>\n",
       "      <td>46</td>\n",
       "      <td>6100153018</td>\n",
       "      <td>Cell Stem Cell</td>\n",
       "      <td>journal</td>\n",
       "      <td>19345909</td>\n",
       "      <td>13,569</td>\n",
       "      <td>Q1</td>\n",
       "      <td>212</td>\n",
       "      <td>204</td>\n",
       "      <td>599</td>\n",
       "      <td>7538</td>\n",
       "      <td>8639</td>\n",
       "      <td>515</td>\n",
       "      <td>15,65</td>\n",
       "      <td>36,95</td>\n",
       "      <td>United States</td>\n",
       "      <td>Cell Press</td>\n",
       "      <td>2007-ongoing</td>\n",
       "      <td>Cell Biology (Q1); Genetics (Q1); Molecular Me...</td>\n",
       "    </tr>\n",
       "    <tr>\n",
       "      <th>46</th>\n",
       "      <td>47</td>\n",
       "      <td>18395</td>\n",
       "      <td>Annual Review of Cell and Developmental Biology</td>\n",
       "      <td>book series</td>\n",
       "      <td>15308995, 10810706</td>\n",
       "      <td>13,473</td>\n",
       "      <td>Q1</td>\n",
       "      <td>204</td>\n",
       "      <td>26</td>\n",
       "      <td>89</td>\n",
       "      <td>3378</td>\n",
       "      <td>1565</td>\n",
       "      <td>89</td>\n",
       "      <td>10,16</td>\n",
       "      <td>129,92</td>\n",
       "      <td>United States</td>\n",
       "      <td>Annual Reviews Inc.</td>\n",
       "      <td>1995-ongoing</td>\n",
       "      <td>Cell Biology (Q1); Developmental Biology (Q1)</td>\n",
       "    </tr>\n",
       "    <tr>\n",
       "      <th>47</th>\n",
       "      <td>48</td>\n",
       "      <td>20798</td>\n",
       "      <td>Immunity</td>\n",
       "      <td>journal</td>\n",
       "      <td>10974180, 10747613</td>\n",
       "      <td>13,393</td>\n",
       "      <td>Q1</td>\n",
       "      <td>355</td>\n",
       "      <td>241</td>\n",
       "      <td>764</td>\n",
       "      <td>11370</td>\n",
       "      <td>12360</td>\n",
       "      <td>728</td>\n",
       "      <td>14,77</td>\n",
       "      <td>47,18</td>\n",
       "      <td>United States</td>\n",
       "      <td>Cell Press</td>\n",
       "      <td>1994-ongoing</td>\n",
       "      <td>Immunology (Q1); Immunology and Allergy (Q1); ...</td>\n",
       "    </tr>\n",
       "    <tr>\n",
       "      <th>48</th>\n",
       "      <td>49</td>\n",
       "      <td>18100156701</td>\n",
       "      <td>Nature Chemistry</td>\n",
       "      <td>journal</td>\n",
       "      <td>17554330, 17554349</td>\n",
       "      <td>13,235</td>\n",
       "      <td>Q1</td>\n",
       "      <td>187</td>\n",
       "      <td>229</td>\n",
       "      <td>682</td>\n",
       "      <td>8241</td>\n",
       "      <td>10816</td>\n",
       "      <td>525</td>\n",
       "      <td>19,08</td>\n",
       "      <td>35,99</td>\n",
       "      <td>United Kingdom</td>\n",
       "      <td>Nature Publishing Group</td>\n",
       "      <td>2009-ongoing</td>\n",
       "      <td>Chemical Engineering (miscellaneous) (Q1); Che...</td>\n",
       "    </tr>\n",
       "    <tr>\n",
       "      <th>49</th>\n",
       "      <td>50</td>\n",
       "      <td>40944</td>\n",
       "      <td>Genome Biology</td>\n",
       "      <td>journal</td>\n",
       "      <td>1474760X, 14747596</td>\n",
       "      <td>12,740</td>\n",
       "      <td>Q1</td>\n",
       "      <td>207</td>\n",
       "      <td>244</td>\n",
       "      <td>840</td>\n",
       "      <td>13233</td>\n",
       "      <td>10990</td>\n",
       "      <td>752</td>\n",
       "      <td>11,71</td>\n",
       "      <td>54,23</td>\n",
       "      <td>United Kingdom</td>\n",
       "      <td>BioMed Central</td>\n",
       "      <td>2000-ongoing</td>\n",
       "      <td>Cell Biology (Q1); Ecology, Evolution, Behavio...</td>\n",
       "    </tr>\n",
       "  </tbody>\n",
       "</table>\n",
       "</div>"
      ],
      "text/plain": [
       "    Rank     Sourceid                                       journal_name  \\\n",
       "0      1        28773               CA - A Cancer Journal for Clinicians   \n",
       "1      2        18991                            Nature Reviews Genetics   \n",
       "2      3        19434  MMWR. Recommendations and reports : Morbidity ...   \n",
       "3      4        58530  National vital statistics reports : from the C...   \n",
       "4      5        20315              Nature Reviews Molecular Cell Biology   \n",
       "5      6        29431                     Quarterly Journal of Economics   \n",
       "6      7        21318                          Nature Reviews Immunology   \n",
       "7      8  21100812243                           Nature Reviews Materials   \n",
       "8      9        18434                                               Cell   \n",
       "9     10  19700180594                Handbook of International Economics   \n",
       "10    11        12464                              Nature Reviews Cancer   \n",
       "11    12        23340                                   Chemical Reviews   \n",
       "12    13        18990                                    Nature Genetics   \n",
       "13    14        20651                        Annual Review of Immunology   \n",
       "14    15        20089  Vital and health statistics. Series 10, Data f...   \n",
       "15    16   5200152704                              Nature Nanotechnology   \n",
       "16    17  21100778827                                     Nature Methods   \n",
       "17    18        19482                                       Econometrica   \n",
       "18    19        15847                    New England Journal of Medicine   \n",
       "19    20        16801                      Annual Review of Biochemistry   \n",
       "20    21        17500                                 Journal of Finance   \n",
       "21    22        17854                                   Nature Materials   \n",
       "22    23        16115                               Nature Biotechnology   \n",
       "23    24        26651        Annual Review of Astronomy and Astrophysics   \n",
       "24    25        21206                                             Nature   \n",
       "25    26  21100812579                                      Nature Energy   \n",
       "26    27        20313                        Nature Reviews Microbiology   \n",
       "27    28        23350                           Chemical Society Reviews   \n",
       "28    29        29719                          Reviews of Modern Physics   \n",
       "29    30        17437                        Nature Reviews Neuroscience   \n",
       "30    31        15819                                    Nature Medicine   \n",
       "31    32   5700165152                                   Nature Photonics   \n",
       "32    33        24404                       Journal of Political Economy   \n",
       "33    34        24004                              Physiological Reviews   \n",
       "34    35        12354                                The Lancet Oncology   \n",
       "35    36  17600155103              Living Reviews in European Governance   \n",
       "36    37        17436                                Nature Neuroscience   \n",
       "37    38        16590                                         The Lancet   \n",
       "38    39  17500155114                  Energy and Environmental Sciences   \n",
       "39    40        16161                        Review of Financial Studies   \n",
       "40    41        23571                                            Science   \n",
       "41    42        19014                                Nature Cell Biology   \n",
       "42    43        21315                                  Nature Immunology   \n",
       "43    44        18606                                     Molecular Cell   \n",
       "44    45        12137                    Journal of Statistical Software   \n",
       "45    46   6100153018                                     Cell Stem Cell   \n",
       "46    47        18395    Annual Review of Cell and Developmental Biology   \n",
       "47    48        20798                                           Immunity   \n",
       "48    49  18100156701                                   Nature Chemistry   \n",
       "49    50        40944                                     Genome Biology   \n",
       "\n",
       "           Type                Issn     SJR SJR Best Quartile H index  \\\n",
       "0       journal  15424863, 00079235  61,786                Q1     144   \n",
       "1       journal  14710056, 14710064  34,896                Q1     320   \n",
       "2       journal  10575987, 15458601  34,638                Q1     134   \n",
       "3       journal  15518922, 15518930  33,557                Q1      89   \n",
       "4       journal  14710072, 14710080  32,714                Q1     386   \n",
       "5       journal  00335533, 15314650  29,602                Q1     228   \n",
       "6       journal            14741733  28,786                Q1     351   \n",
       "7       journal            20588437  28,630                Q1      61   \n",
       "8       journal  00928674, 10974172  25,137                Q1     705   \n",
       "9   book series            15734404  25,020                Q1      10   \n",
       "10      journal            1474175X  23,530                Q1     396   \n",
       "11      journal  15206890, 00092665  23,414                Q1     609   \n",
       "12      journal            10614036  22,243                Q1     527   \n",
       "13      journal  15453278, 07320582  21,681                Q1     279   \n",
       "14      journal            00831972  20,768                Q1      42   \n",
       "15      journal            17483387  20,612                Q1     286   \n",
       "16      journal  15487091, 15487105  19,939                Q1     257   \n",
       "17      journal  00129682, 14680262  19,932                Q1     169   \n",
       "18      journal  00284793, 15334406  19,476                Q1     933   \n",
       "19      journal  15454509, 00664154  18,513                Q1     268   \n",
       "20      journal  00221082, 15406261  18,318                Q1     264   \n",
       "21      journal  14764660, 14761122  18,263                Q1     403   \n",
       "22      journal            10870156  18,252                Q1     399   \n",
       "23      journal  15454282, 00664146  18,046                Q1     168   \n",
       "24      journal  14764687, 00280836  17,875                Q1    1096   \n",
       "25      journal            20587546  17,765                Q1      61   \n",
       "26      journal            17401526  17,634                Q1     250   \n",
       "27      journal  03060012, 14604744  17,633                Q1     432   \n",
       "28      journal  00346861, 15390756  17,567                Q1     298   \n",
       "29      journal  14710048, 1471003X  17,110                Q1     375   \n",
       "30      journal            10788956  17,067                Q1     497   \n",
       "31      journal            17494885  16,462                Q1     266   \n",
       "32      journal  00223808, 1537534X  16,309                Q1     168   \n",
       "33      journal  15221210, 00319333  16,184                Q1     312   \n",
       "34      journal  14702045, 14745488  16,085                Q1     274   \n",
       "35      journal            1813856X  15,799                Q1      10   \n",
       "36      journal            10976256  15,207                Q1     375   \n",
       "37      journal  01406736, 1474547X  14,934                Q1     700   \n",
       "38      journal            17545692  14,590                Q1     279   \n",
       "39      journal  14657368, 08939454  14,237                Q1     157   \n",
       "40      journal            00368075  14,142                Q1    1058   \n",
       "41      journal            14657392  14,070                Q1     337   \n",
       "42      journal  15292908, 15292916  14,007                Q1     344   \n",
       "43      journal  10974164, 10972765  13,841                Q1     356   \n",
       "44      journal            15487660  13,802                Q1     115   \n",
       "45      journal            19345909  13,569                Q1     212   \n",
       "46  book series  15308995, 10810706  13,473                Q1     204   \n",
       "47      journal  10974180, 10747613  13,393                Q1     355   \n",
       "48      journal  17554330, 17554349  13,235                Q1     187   \n",
       "49      journal  1474760X, 14747596  12,740                Q1     207   \n",
       "\n",
       "    Total Docs. (2017)  Total Docs. (3years)  Total Refs.  \\\n",
       "0                   43                   130         3160   \n",
       "1                  108                   430         7108   \n",
       "2                    2                    16          184   \n",
       "3                    6                    33          207   \n",
       "4                  112                   429         7986   \n",
       "5                   43                   121         2210   \n",
       "6                  141                   462         8241   \n",
       "7                   91                   104         7110   \n",
       "8                  547                  1980        27123   \n",
       "9                    0                    15            0   \n",
       "10                 120                   402        10019   \n",
       "11                 278                   869       105878   \n",
       "12                 292                   815        13028   \n",
       "13                  19                    71         3515   \n",
       "14                   0                     4            0   \n",
       "15                 243                   738         7561   \n",
       "16                 288                  1030         6258   \n",
       "17                  60                   187         2591   \n",
       "18                1493                  5202        16409   \n",
       "19                  35                    95         5103   \n",
       "20                  64                   226         3145   \n",
       "21                 237                   809         7813   \n",
       "22                 341                  1107         6346   \n",
       "23                  12                    48         2999   \n",
       "24                2720                  7882        44093   \n",
       "25                 175                   138         4444   \n",
       "26                 145                   429         7924   \n",
       "27                 307                  1072        56152   \n",
       "28                  43                   123        13494   \n",
       "29                 124                   427         8207   \n",
       "30                 257                   927         9189   \n",
       "31                 189                   635         5320   \n",
       "32                  76                   110         3113   \n",
       "33                  39                   109        18472   \n",
       "34                 624                  1824         9635   \n",
       "35                   0                     2            0   \n",
       "36                 254                   868        12475   \n",
       "37                1586                  5637        27095   \n",
       "38                 246                  1037        15494   \n",
       "39                 120                   274         6079   \n",
       "40                2718                  6168        36863   \n",
       "41                 204                   534         7521   \n",
       "42                 209                   625         8307   \n",
       "43                 385                  1202        19591   \n",
       "44                  85                   262         3460   \n",
       "45                 204                   599         7538   \n",
       "46                  26                    89         3378   \n",
       "47                 241                   764        11370   \n",
       "48                 229                   682         8241   \n",
       "49                 244                   840        13233   \n",
       "\n",
       "    Total Cites (3years)  Citable Docs. (3years) Cites / Doc. (2years)  \\\n",
       "0                  17496                     109                206,80   \n",
       "1                   7677                     168                 40,83   \n",
       "2                   1073                      16                 82,10   \n",
       "3                   1183                      33                 40,65   \n",
       "4                   9042                     206                 30,69   \n",
       "5                   1366                     120                  8,90   \n",
       "6                   8193                     185                 40,50   \n",
       "7                   2823                      58                 48,67   \n",
       "8                  44674                    1716                 24,83   \n",
       "9                    186                       0                  0,00   \n",
       "10                  7976                     198                 39,38   \n",
       "11                 45565                     829                 52,95   \n",
       "12                 17747                     695                 23,60   \n",
       "13                  2180                      71                 24,10   \n",
       "14                   121                       4                  0,00   \n",
       "15                 19350                     562                 31,33   \n",
       "16                 13861                     579                 20,54   \n",
       "17                   977                     179                  4,01   \n",
       "18                 81553                    2018                 43,72   \n",
       "19                  2189                      95                 21,80   \n",
       "20                  1615                     218                  5,61   \n",
       "21                 21775                     634                 30,36   \n",
       "22                 14794                     583                 22,29   \n",
       "23                  1500                      48                 22,71   \n",
       "24                119776                    4463                 26,04   \n",
       "25                  3669                     107                 34,29   \n",
       "26                  5894                     200                 29,27   \n",
       "27                 43368                    1017                 40,86   \n",
       "28                  4560                     113                 37,94   \n",
       "29                  6264                     204                 28,65   \n",
       "30                 16005                     649                 25,26   \n",
       "31                 14698                     448                 27,88   \n",
       "32                   588                     103                  5,29   \n",
       "33                  3392                     101                 25,81   \n",
       "34                 19566                     573                 34,13   \n",
       "35                    35                       2                  7,00   \n",
       "36                 13477                     744                 17,71   \n",
       "37                 51370                    1448                 36,08   \n",
       "38                 33224                    1020                 30,38   \n",
       "39                  1499                     272                  4,56   \n",
       "40                103204                    4448                 23,61   \n",
       "41                  7615                     456                 15,82   \n",
       "42                  8978                     510                 17,98   \n",
       "43                 14789                    1130                 12,23   \n",
       "44                  4413                     262                 20,71   \n",
       "45                  8639                     515                 15,65   \n",
       "46                  1565                      89                 10,16   \n",
       "47                 12360                     728                 14,77   \n",
       "48                 10816                     525                 19,08   \n",
       "49                 10990                     752                 11,71   \n",
       "\n",
       "   Ref. / Doc.         Country  \\\n",
       "0        73,49   United States   \n",
       "1        65,81  United Kingdom   \n",
       "2        92,00   United States   \n",
       "3        34,50   United States   \n",
       "4        71,30  United Kingdom   \n",
       "5        51,40  United Kingdom   \n",
       "6        58,45  United Kingdom   \n",
       "7        78,13  United Kingdom   \n",
       "8        49,59   United States   \n",
       "9         0,00     Netherlands   \n",
       "10       83,49  United Kingdom   \n",
       "11      380,86   United States   \n",
       "12       44,62  United Kingdom   \n",
       "13      185,00   United States   \n",
       "14        0,00   United States   \n",
       "15       31,12  United Kingdom   \n",
       "16       21,73  United Kingdom   \n",
       "17       43,18  United Kingdom   \n",
       "18       10,99   United States   \n",
       "19      145,80   United States   \n",
       "20       49,14  United Kingdom   \n",
       "21       32,97  United Kingdom   \n",
       "22       18,61  United Kingdom   \n",
       "23      249,92   United States   \n",
       "24       16,21  United Kingdom   \n",
       "25       25,39   United States   \n",
       "26       54,65  United Kingdom   \n",
       "27      182,91  United Kingdom   \n",
       "28      313,81   United States   \n",
       "29       66,19  United Kingdom   \n",
       "30       35,75  United Kingdom   \n",
       "31       28,15  United Kingdom   \n",
       "32       40,96   United States   \n",
       "33      473,64   United States   \n",
       "34       15,44  United Kingdom   \n",
       "35        0,00         Austria   \n",
       "36       49,11  United Kingdom   \n",
       "37       17,08  United Kingdom   \n",
       "38       62,98  United Kingdom   \n",
       "39       50,66  United Kingdom   \n",
       "40       13,56   United States   \n",
       "41       36,87  United Kingdom   \n",
       "42       39,75  United Kingdom   \n",
       "43       50,89   United States   \n",
       "44       40,71   United States   \n",
       "45       36,95   United States   \n",
       "46      129,92   United States   \n",
       "47       47,18   United States   \n",
       "48       35,99  United Kingdom   \n",
       "49       54,23  United Kingdom   \n",
       "\n",
       "                                            Publisher  \\\n",
       "0                                     Wiley-Blackwell   \n",
       "1                             Nature Publishing Group   \n",
       "2    Centers for Disease Control and Prevention (CDC)   \n",
       "3          US Department of Health and Human Services   \n",
       "4                             Nature Publishing Group   \n",
       "5                             Oxford University Press   \n",
       "6                             Nature Publishing Group   \n",
       "7                             Nature Publishing Group   \n",
       "8                                          Cell Press   \n",
       "9                               North-Holland Publ Co   \n",
       "10                            Nature Publishing Group   \n",
       "11                          American Chemical Society   \n",
       "12                            Nature Publishing Group   \n",
       "13                                Annual Reviews Inc.   \n",
       "14  U.S. Dept. of Health, Education and Welfare, P...   \n",
       "15                            Nature Publishing Group   \n",
       "16                            Nature Publishing Group   \n",
       "17                          Blackwell Publishing Inc.   \n",
       "18                      Massachusetts Medical Society   \n",
       "19                                Annual Reviews Inc.   \n",
       "20                          Blackwell Publishing Inc.   \n",
       "21                            Nature Publishing Group   \n",
       "22                            Nature Publishing Group   \n",
       "23                                Annual Reviews Inc.   \n",
       "24                            Nature Publishing Group   \n",
       "25                                    Springer Nature   \n",
       "26                            Nature Publishing Group   \n",
       "27                         Royal Society of Chemistry   \n",
       "28                          American Physical Society   \n",
       "29                            Nature Publishing Group   \n",
       "30                            Nature Publishing Group   \n",
       "31                                  Nature Pub. Group   \n",
       "32                        University of Chicago Press   \n",
       "33                     American Physiological Society   \n",
       "34                        The Lancet Publishing Group   \n",
       "35  Institute for Advanced Studies, Department of ...   \n",
       "36                            Nature Publishing Group   \n",
       "37                        The Lancet Publishing Group   \n",
       "38                         Royal Society of Chemistry   \n",
       "39                            Oxford University Press   \n",
       "40  American Association for the Advancement of Sc...   \n",
       "41                            Nature Publishing Group   \n",
       "42                            Nature Publishing Group   \n",
       "43                                         Cell Press   \n",
       "44            University of California at Los Angeles   \n",
       "45                                         Cell Press   \n",
       "46                                Annual Reviews Inc.   \n",
       "47                                         Cell Press   \n",
       "48                            Nature Publishing Group   \n",
       "49                                     BioMed Central   \n",
       "\n",
       "                                    Coverage  \\\n",
       "0                               1950-ongoing   \n",
       "1                               2000-ongoing   \n",
       "2                               1990-ongoing   \n",
       "3                               1998-ongoing   \n",
       "4                               2000-ongoing   \n",
       "5                    1973-1974, 1976-ongoing   \n",
       "6                               2001-ongoing   \n",
       "7                               2016-ongoing   \n",
       "8                               1974-ongoing   \n",
       "9                 1984-1985, 1995, 2014-2015   \n",
       "10                              2001-ongoing   \n",
       "11                              1924-ongoing   \n",
       "12                              1992-ongoing   \n",
       "13                              1983-ongoing   \n",
       "14           1963-1965, 1976-2000, 2002-2014   \n",
       "15                              2006-ongoing   \n",
       "16                              2004-ongoing   \n",
       "17       1974, 1977-1984, 1990, 1994-ongoing   \n",
       "18                              1945-ongoing   \n",
       "19                   1950-1960, 1962-ongoing   \n",
       "20                              1946-ongoing   \n",
       "21                              2002-ongoing   \n",
       "22                              1990-ongoing   \n",
       "23                              1990-ongoing   \n",
       "24                              1869-ongoing   \n",
       "25                              2016-ongoing   \n",
       "26                              2003-ongoing   \n",
       "27                              1972-ongoing   \n",
       "28                              1929-ongoing   \n",
       "29                              2000-ongoing   \n",
       "30                              1995-ongoing   \n",
       "31                              2007-ongoing   \n",
       "32  1969, 1973-1974, 1979-1985, 1987-ongoing   \n",
       "33                              1945-ongoing   \n",
       "34                              2000-ongoing   \n",
       "35                                 2009-2015   \n",
       "36                              1998-ongoing   \n",
       "37                              1823-ongoing   \n",
       "38                              2008-ongoing   \n",
       "39                              1996-ongoing   \n",
       "40                              1880-ongoing   \n",
       "41                              1999-ongoing   \n",
       "42                              2000-ongoing   \n",
       "43                              1997-ongoing   \n",
       "44                              1996-ongoing   \n",
       "45                              2007-ongoing   \n",
       "46                              1995-ongoing   \n",
       "47                              1994-ongoing   \n",
       "48                              2009-ongoing   \n",
       "49                              2000-ongoing   \n",
       "\n",
       "                                           Categories  \n",
       "0                      Hematology (Q1); Oncology (Q1)  \n",
       "1   Genetics (Q1); Genetics (clinical) (Q1); Molec...  \n",
       "2   Epidemiology (Q1); Health Information Manageme...  \n",
       "3              Life-span and Life-course Studies (Q1)  \n",
       "4           Cell Biology (Q1); Molecular Biology (Q1)  \n",
       "5                     Economics and Econometrics (Q1)  \n",
       "6      Immunology (Q1); Medicine (miscellaneous) (Q1)  \n",
       "7   Biomaterials (Q1); Electronic, Optical and Mag...  \n",
       "8   Biochemistry, Genetics and Molecular Biology (...  \n",
       "9   Economics and Econometrics (Q1); Economics, Ec...  \n",
       "10                Cancer Research (Q1); Oncology (Q1)  \n",
       "11                     Chemistry (miscellaneous) (Q1)  \n",
       "12                                      Genetics (Q1)  \n",
       "13       Immunology (Q1); Immunology and Allergy (Q1)  \n",
       "14  Medicine (miscellaneous) (Q1); Public Health, ...  \n",
       "15  Atomic and Molecular Physics, and Optics (Q1);...  \n",
       "16  Biochemistry (Q1); Biotechnology (Q1); Cell Bi...  \n",
       "17                    Economics and Econometrics (Q1)  \n",
       "18                      Medicine (miscellaneous) (Q1)  \n",
       "19                                  Biochemistry (Q1)  \n",
       "20  Accounting (Q1); Economics and Econometrics (Q...  \n",
       "21  Chemistry (miscellaneous) (Q1); Condensed Matt...  \n",
       "22  Applied Microbiology and Biotechnology (Q1); B...  \n",
       "23  Astronomy and Astrophysics (Q1); Space and Pla...  \n",
       "24                             Multidisciplinary (Q1)  \n",
       "25  Electronic, Optical and Magnetic Materials (Q1...  \n",
       "26  Immunology and Microbiology (miscellaneous)  (Q1)  \n",
       "27                     Chemistry (miscellaneous) (Q1)  \n",
       "28         Physics and Astronomy (miscellaneous) (Q1)  \n",
       "29                  Neuroscience (miscellaneous) (Q1)  \n",
       "30  Biochemistry, Genetics and Molecular Biology (...  \n",
       "31  Atomic and Molecular Physics, and Optics (Q1);...  \n",
       "32                    Economics and Econometrics (Q1)  \n",
       "33  Medicine (miscellaneous) (Q1); Molecular Biolo...  \n",
       "34                                      Oncology (Q1)  \n",
       "35  Political Science and International Relations ...  \n",
       "36                  Neuroscience (miscellaneous) (Q1)  \n",
       "37                      Medicine (miscellaneous) (Q1)  \n",
       "38  Environmental Chemistry (Q1); Nuclear Energy a...  \n",
       "39  Accounting (Q1); Economics and Econometrics (Q...  \n",
       "40  History and Philosophy of Science (Q1); Multid...  \n",
       "41                                  Cell Biology (Q1)  \n",
       "42                                    Immunology (Q1)  \n",
       "43          Cell Biology (Q1); Molecular Biology (Q1)  \n",
       "44  Software (Q1); Statistics and Probability (Q1)...  \n",
       "45  Cell Biology (Q1); Genetics (Q1); Molecular Me...  \n",
       "46      Cell Biology (Q1); Developmental Biology (Q1)  \n",
       "47  Immunology (Q1); Immunology and Allergy (Q1); ...  \n",
       "48  Chemical Engineering (miscellaneous) (Q1); Che...  \n",
       "49  Cell Biology (Q1); Ecology, Evolution, Behavio...  "
      ]
     },
     "execution_count": 60,
     "metadata": {},
     "output_type": "execute_result"
    }
   ],
   "source": [
    "journal_map2.limit(50).toPandas()"
   ]
  },
  {
   "cell_type": "code",
   "execution_count": 29,
   "metadata": {},
   "outputs": [
    {
     "data": {
      "text/plain": [
       "33587"
      ]
     },
     "execution_count": 29,
     "metadata": {},
     "output_type": "execute_result"
    }
   ],
   "source": [
    "journal_map2.select('journal_name').distinct().count()"
   ]
  },
  {
   "cell_type": "code",
   "execution_count": 30,
   "metadata": {},
   "outputs": [],
   "source": [
    "#Reduce to only relevant columns\n",
    "journal_map2 = journal_map2.select('journal_name', 'SJR')"
   ]
  },
  {
   "cell_type": "code",
   "execution_count": 31,
   "metadata": {},
   "outputs": [],
   "source": [
    "joined_dfs = nlpdf.join(journal_map2, on = nlpdf.journalName == journal_map2.journal_name, how = 'left_outer')"
   ]
  },
  {
   "cell_type": "code",
   "execution_count": 41,
   "metadata": {},
   "outputs": [
    {
     "name": "stdout",
     "output_type": "stream",
     "text": [
      "+--------------------+--------------------+--------------------+-----+\n",
      "|         journalName|               venue|        journal_name|  SJR|\n",
      "+--------------------+--------------------+--------------------+-----+\n",
      "|  Acta Haematologica|  Acta Haematologica|  Acta Haematologica|0,575|\n",
      "|Journal of Applie...|                    |Journal of Applie...|0,646|\n",
      "|IEEE Journal on E...|IEEE Journal on E...|IEEE Journal on E...|0,619|\n",
      "|Journal of Clinic...|Journal of clinic...|Journal of Clinic...|0,722|\n",
      "|             Synapse|             Synapse|             Synapse|0,969|\n",
      "+--------------------+--------------------+--------------------+-----+\n",
      "only showing top 5 rows\n",
      "\n"
     ]
    }
   ],
   "source": [
    "joined_dfs.filter(~col('SJR').isNull()).select('journalName', 'venue', 'journal_name', 'SJR').show(5)"
   ]
  },
  {
   "cell_type": "code",
   "execution_count": 42,
   "metadata": {},
   "outputs": [
    {
     "name": "stdout",
     "output_type": "stream",
     "text": [
      "+-------+-------+------------------+\n",
      "|summary|    SJR|              SJR2|\n",
      "+-------+-------+------------------+\n",
      "|  count|1094906|           1094906|\n",
      "|   mean|   null|2.2636443939976623|\n",
      "| stddev|   null| 4.029927860053585|\n",
      "|    min|  0,100|               0.1|\n",
      "|    max|  9,791|            34.896|\n",
      "+-------+-------+------------------+\n",
      "\n"
     ]
    }
   ],
   "source": [
    "joined_dfs.withColumn('SJR2', (regexp_replace('SJR', \",\", \".\")).cast(FloatType())).select('SJR', 'SJR2').describe().show()\n",
    "#joined_dfs.withColumn('SJR2', (regexp_replace('SJR', \".\", \"\")).cast(FloatType())).select('SJR', 'SJR2').describe().show()"
   ]
  },
  {
   "cell_type": "code",
   "execution_count": 32,
   "metadata": {},
   "outputs": [],
   "source": [
    "joined_dfs = joined_dfs.withColumn('SJR', (regexp_replace('SJR', \",\", \".\")).cast(FloatType()))"
   ]
  },
  {
   "cell_type": "markdown",
   "metadata": {},
   "source": [
    "### Null Imputation"
   ]
  },
  {
   "cell_type": "markdown",
   "metadata": {},
   "source": [
    "Find percentile to fill "
   ]
  },
  {
   "cell_type": "code",
   "execution_count": 33,
   "metadata": {},
   "outputs": [
    {
     "name": "stdout",
     "output_type": "stream",
     "text": [
      "Before imputation : \n",
      "\n",
      "+-------+------------------+\n",
      "|summary|               SJR|\n",
      "+-------+------------------+\n",
      "|  count|             52112|\n",
      "|   mean|2.2736829872057815|\n",
      "| stddev| 4.040847356202027|\n",
      "|    min|               0.1|\n",
      "|    25%|             0.472|\n",
      "|    50%|             0.956|\n",
      "|    75%|             1.737|\n",
      "|    max|            34.896|\n",
      "+-------+------------------+\n",
      "\n",
      "After imputation : \n",
      "\n",
      "+-------+------------------+\n",
      "|summary|               SJR|\n",
      "+-------+------------------+\n",
      "|  count|            538035|\n",
      "|   mean|0.6483103760703426|\n",
      "| stddev| 1.365577901261689|\n",
      "|    min|               0.1|\n",
      "|    25%|             0.474|\n",
      "|    50%|             0.474|\n",
      "|    75%|             0.474|\n",
      "|    max|            34.896|\n",
      "+-------+------------------+\n",
      "\n"
     ]
    }
   ],
   "source": [
    "print('Before imputation : \\n')\n",
    "joined_dfs.select('SJR').summary().show()\n",
    "\n",
    "joined_dfs = joined_dfs.na.fill({'SJR': 0.474})\n",
    "\n",
    "print('After imputation : \\n')\n",
    "joined_dfs.select('SJR').summary().show()"
   ]
  },
  {
   "cell_type": "markdown",
   "metadata": {},
   "source": [
    "## Data Type Issues\n"
   ]
  },
  {
   "cell_type": "markdown",
   "metadata": {},
   "source": [
    "### Splitting authors column into authorname & authorID"
   ]
  },
  {
   "cell_type": "code",
   "execution_count": 34,
   "metadata": {},
   "outputs": [],
   "source": [
    "import pyspark.sql.functions as F\n",
    "joined_dfs = joined_dfs.withColumn('author_ids', F.col('authors.ids'))\n",
    "joined_dfs = joined_dfs.withColumn('author_names', F.col('authors.name'))"
   ]
  },
  {
   "cell_type": "markdown",
   "metadata": {},
   "source": [
    "### Counting number of authors "
   ]
  },
  {
   "cell_type": "code",
   "execution_count": 35,
   "metadata": {},
   "outputs": [
    {
     "name": "stdout",
     "output_type": "stream",
     "text": [
      "+--------------------+------------+\n",
      "|        author_names|author_count|\n",
      "+--------------------+------------+\n",
      "|       [Yang Li-pin]|           1|\n",
      "|[Mns Rn Community...|           2|\n",
      "|[Ya Jun Liu, Miao...|           8|\n",
      "|[Maria Auxiliador...|           1|\n",
      "|[Elena Fortunati,...|           9|\n",
      "+--------------------+------------+\n",
      "only showing top 5 rows\n",
      "\n"
     ]
    }
   ],
   "source": [
    "joined_dfs = joined_dfs.withColumn('author_count', word_count(joined_dfs['author_names']))\n",
    "\n",
    "joined_dfs.select('author_names' ,'author_count').show(5)"
   ]
  },
  {
   "cell_type": "markdown",
   "metadata": {},
   "source": [
    "## One Hot Encoding"
   ]
  },
  {
   "cell_type": "code",
   "execution_count": 39,
   "metadata": {},
   "outputs": [
    {
     "name": "stdout",
     "output_type": "stream",
     "text": [
      "+--------------------+---------+\n",
      "|       fieldsOfStudy|  sources|\n",
      "+--------------------+---------+\n",
      "|          [Business]|       []|\n",
      "|          [Medicine]|       []|\n",
      "| [Medicine, Biology]|[Medline]|\n",
      "|        [Philosophy]|       []|\n",
      "|[Medicine, Chemis...|[Medline]|\n",
      "+--------------------+---------+\n",
      "only showing top 5 rows\n",
      "\n"
     ]
    }
   ],
   "source": [
    "joined_dfs.select('fieldsOfStudy', 'sources').show(5)"
   ]
  },
  {
   "cell_type": "code",
   "execution_count": 49,
   "metadata": {},
   "outputs": [
    {
     "name": "stdout",
     "output_type": "stream",
     "text": [
      "+---------------+\n",
      "|        sources|\n",
      "+---------------+\n",
      "|      [Medline]|\n",
      "|         [DBLP]|\n",
      "|             []|\n",
      "|[Medline, DBLP]|\n",
      "|[DBLP, Medline]|\n",
      "+---------------+\n",
      "\n"
     ]
    }
   ],
   "source": [
    "joined_dfs.select('sources').distinct().show()"
   ]
  },
  {
   "cell_type": "markdown",
   "metadata": {},
   "source": [
    "### String Creation"
   ]
  },
  {
   "cell_type": "markdown",
   "metadata": {},
   "source": [
    "Unpack the arrays to creat strings"
   ]
  },
  {
   "cell_type": "code",
   "execution_count": 36,
   "metadata": {},
   "outputs": [],
   "source": [
    "#Defining function to unpack list intro string joined with ', ' \n",
    "udf_unpack = udf(lambda listt: ', '.join(listt), StringType())"
   ]
  },
  {
   "cell_type": "code",
   "execution_count": 37,
   "metadata": {},
   "outputs": [],
   "source": [
    "joined_dfs = joined_dfs.withColumn('fieldsOfStudy', udf_unpack(col('fieldsOfStudy')))\n",
    "joined_dfs = joined_dfs.withColumn('sources', udf_unpack(col('sources')))"
   ]
  },
  {
   "cell_type": "code",
   "execution_count": 38,
   "metadata": {},
   "outputs": [],
   "source": [
    "joined_dfs = joined_dfs.withColumn('sources', regexp_replace(col(\"sources\"), r\"^\\s*$\", \"no_source\"))\n",
    "joined_dfs = joined_dfs.withColumn('fieldsOfStudy', regexp_replace(col(\"fieldsOfStudy\"), r\"^\\s*$\", \"no_FoS\"))"
   ]
  },
  {
   "cell_type": "code",
   "execution_count": 53,
   "metadata": {},
   "outputs": [
    {
     "name": "stdout",
     "output_type": "stream",
     "text": [
      "+-------------+\n",
      "|      sources|\n",
      "+-------------+\n",
      "|Medline, DBLP|\n",
      "|      Medline|\n",
      "|         DBLP|\n",
      "|DBLP, Medline|\n",
      "|    no_source|\n",
      "+-------------+\n",
      "\n"
     ]
    }
   ],
   "source": [
    "joined_dfs.select('sources').distinct().show()"
   ]
  },
  {
   "cell_type": "markdown",
   "metadata": {},
   "source": [
    "### OHE Execution"
   ]
  },
  {
   "cell_type": "markdown",
   "metadata": {},
   "source": [
    "Using StringIndexer -> OneHotEncoderEstimator to encode fieldsOfStudy & sources "
   ]
  },
  {
   "cell_type": "code",
   "execution_count": 39,
   "metadata": {},
   "outputs": [
    {
     "name": "stdout",
     "output_type": "stream",
     "text": [
      "+-------------------+----------------+---------+-------------+\n",
      "|      fieldsOfStudy|fieldsOfStudyVec|  sources|   sourcesVec|\n",
      "+-------------------+----------------+---------+-------------+\n",
      "|           Business|(688,[19],[1.0])|no_source|(4,[0],[1.0])|\n",
      "|           Medicine| (688,[0],[1.0])|no_source|(4,[0],[1.0])|\n",
      "|  Medicine, Biology| (688,[9],[1.0])|  Medline|(4,[1],[1.0])|\n",
      "|         Philosophy|(688,[23],[1.0])|no_source|(4,[0],[1.0])|\n",
      "|Medicine, Chemistry|(688,[20],[1.0])|  Medline|(4,[1],[1.0])|\n",
      "+-------------------+----------------+---------+-------------+\n",
      "only showing top 5 rows\n",
      "\n"
     ]
    }
   ],
   "source": [
    "from pyspark.ml.feature import VectorAssembler\n",
    "from pyspark.ml import Pipeline\n",
    "from pyspark.ml.feature import StringIndexer, OneHotEncoderEstimator\n",
    "\n",
    "#convert relevant categorical into one hot encoded\n",
    "indexer1 = StringIndexer(inputCol=\"fieldsOfStudy\", outputCol=\"fieldsOfStudyIdx\").setHandleInvalid(\"skip\")\n",
    "indexer2 = StringIndexer(inputCol=\"sources\", outputCol=\"sourcesIdx\").setHandleInvalid(\"skip\")\n",
    "\n",
    "#gather all indexers as inputs to the One Hot Encoder\n",
    "inputs = [indexer1.getOutputCol(), indexer2.getOutputCol()]\n",
    "\n",
    "#create the one hot encoder\n",
    "encoder = OneHotEncoderEstimator(inputCols=inputs,  \\\n",
    "                                 outputCols=[\"fieldsOfStudyVec\", \"sourcesVec\"])\n",
    "\n",
    "#run it through a pipeline\n",
    "pipeline = Pipeline(stages=[indexer1, indexer2, encoder])\n",
    "encodedData = pipeline.fit(joined_dfs).transform(joined_dfs)\n",
    "\n",
    "#we have removed NAs so dont need to impute missing values.\n",
    "#pipeline = pipeline.na.fill(0) \n",
    "\n",
    "encodedData.select('fieldsOfStudy', 'fieldsOfStudyVec', 'sources', 'sourcesVec').show(5)"
   ]
  },
  {
   "cell_type": "markdown",
   "metadata": {},
   "source": [
    "## Features Processing"
   ]
  },
  {
   "cell_type": "markdown",
   "metadata": {},
   "source": [
    "Saving the relevant columns of the feature engineered dataframe"
   ]
  },
  {
   "cell_type": "code",
   "execution_count": 40,
   "metadata": {},
   "outputs": [],
   "source": [
    "drop_cols = ['authors','doi','doiUrl','entities','journalPages',\n",
    " 'journalVolume',\n",
    " 'pdfUrls',\n",
    " 'pmid',\n",
    " 's2PdfUrl',\n",
    " 's2Url','abstract_tokens',\n",
    " 'title_tokens',\n",
    " 'abstract_tokens_filtered',\n",
    " 'title_tokens_filtered',\n",
    " 'abstract_tokens_filtered_lem',\n",
    " 'title_tokens_filtered_lem',\n",
    " 'abstract_tokens_filtered_lem_count',\n",
    " 'title_tokens_filtered_lem_count']"
   ]
  },
  {
   "cell_type": "code",
   "execution_count": 41,
   "metadata": {},
   "outputs": [],
   "source": [
    "encodedData_save = encodedData.drop(*drop_cols)"
   ]
  },
  {
   "cell_type": "code",
   "execution_count": 42,
   "metadata": {},
   "outputs": [
    {
     "data": {
      "text/plain": [
       "12"
      ]
     },
     "execution_count": 42,
     "metadata": {},
     "output_type": "execute_result"
    }
   ],
   "source": [
    "encodedData_save.rdd.getNumPartitions()"
   ]
  },
  {
   "cell_type": "markdown",
   "metadata": {},
   "source": [
    "### Modeling Column Selection"
   ]
  },
  {
   "cell_type": "code",
   "execution_count": 44,
   "metadata": {},
   "outputs": [],
   "source": [
    "modeling_data = encodedData.select(\n",
    "    'id', 'year',\n",
    " 'inCitations_count',\n",
    " 'outCitations_count','abstract_wcount',\n",
    " 'title_wcount','abstract_tfidf',\n",
    " 'title_tfidf',\n",
    " 'SJR','author_count','fieldsOfStudyVec',\n",
    " 'sourcesVec', 'title_wordVectors')"
   ]
  },
  {
   "cell_type": "code",
   "execution_count": 45,
   "metadata": {},
   "outputs": [
    {
     "data": {
      "text/html": [
       "<div>\n",
       "<style scoped>\n",
       "    .dataframe tbody tr th:only-of-type {\n",
       "        vertical-align: middle;\n",
       "    }\n",
       "\n",
       "    .dataframe tbody tr th {\n",
       "        vertical-align: top;\n",
       "    }\n",
       "\n",
       "    .dataframe thead th {\n",
       "        text-align: right;\n",
       "    }\n",
       "</style>\n",
       "<table border=\"1\" class=\"dataframe\">\n",
       "  <thead>\n",
       "    <tr style=\"text-align: right;\">\n",
       "      <th></th>\n",
       "      <th>id</th>\n",
       "      <th>year</th>\n",
       "      <th>inCitations_count</th>\n",
       "      <th>outCitations_count</th>\n",
       "      <th>abstract_wcount</th>\n",
       "      <th>title_wcount</th>\n",
       "      <th>abstract_tfidf</th>\n",
       "      <th>title_tfidf</th>\n",
       "      <th>SJR</th>\n",
       "      <th>author_count</th>\n",
       "      <th>fieldsOfStudyVec</th>\n",
       "      <th>sourcesVec</th>\n",
       "      <th>title_wordVectors</th>\n",
       "    </tr>\n",
       "  </thead>\n",
       "  <tbody>\n",
       "    <tr>\n",
       "      <th>0</th>\n",
       "      <td>b9c27ac1bb8b3ec9d4faa06ed7163d002c8967bb</td>\n",
       "      <td>2014</td>\n",
       "      <td>0</td>\n",
       "      <td>0</td>\n",
       "      <td>61</td>\n",
       "      <td>9</td>\n",
       "      <td>(0.7508800220149985, 0.7063886882824916, 0.0, ...</td>\n",
       "      <td>(0.0, 0.0, 0.0, 0.0, 0.0, 0.0, 0.0, 0.0, 0.0, ...</td>\n",
       "      <td>0.474</td>\n",
       "      <td>1</td>\n",
       "      <td>(0.0, 0.0, 0.0, 0.0, 0.0, 0.0, 0.0, 0.0, 0.0, ...</td>\n",
       "      <td>(1.0, 0.0, 0.0, 0.0)</td>\n",
       "      <td>[1.4479601118299696, -0.6119445198112063, -0.8...</td>\n",
       "    </tr>\n",
       "    <tr>\n",
       "      <th>1</th>\n",
       "      <td>412b10a92babf350975dd98e58039891d792df6d</td>\n",
       "      <td>2013</td>\n",
       "      <td>0</td>\n",
       "      <td>0</td>\n",
       "      <td>197</td>\n",
       "      <td>10</td>\n",
       "      <td>(0.0, 0.0, 0.0, 3.6192665918253155, 0.94994839...</td>\n",
       "      <td>(0.0, 0.0, 0.0, 0.0, 0.0, 0.0, 0.0, 0.0, 0.0, ...</td>\n",
       "      <td>0.474</td>\n",
       "      <td>2</td>\n",
       "      <td>(1.0, 0.0, 0.0, 0.0, 0.0, 0.0, 0.0, 0.0, 0.0, ...</td>\n",
       "      <td>(1.0, 0.0, 0.0, 0.0)</td>\n",
       "      <td>[2.387523424625397, -0.6723115488886834, -1.00...</td>\n",
       "    </tr>\n",
       "    <tr>\n",
       "      <th>2</th>\n",
       "      <td>0de1cecd2ed49812f3a55e4b78edf9ffd292618c</td>\n",
       "      <td>2015</td>\n",
       "      <td>13</td>\n",
       "      <td>69</td>\n",
       "      <td>140</td>\n",
       "      <td>10</td>\n",
       "      <td>(2.2526400660449957, 0.0, 0.0, 0.0, 2.84984518...</td>\n",
       "      <td>(2.4396766183822676, 0.0, 0.0, 0.0, 0.0, 0.0, ...</td>\n",
       "      <td>0.474</td>\n",
       "      <td>8</td>\n",
       "      <td>(0.0, 0.0, 0.0, 0.0, 0.0, 0.0, 0.0, 0.0, 0.0, ...</td>\n",
       "      <td>(0.0, 1.0, 0.0, 0.0)</td>\n",
       "      <td>[0.5778246715664864, -0.42337707430124283, -1....</td>\n",
       "    </tr>\n",
       "    <tr>\n",
       "      <th>3</th>\n",
       "      <td>b87f8f3daaa92d3bc0ff09e3514c7e6bf581eb60</td>\n",
       "      <td>2009</td>\n",
       "      <td>0</td>\n",
       "      <td>0</td>\n",
       "      <td>90</td>\n",
       "      <td>5</td>\n",
       "      <td>(0.0, 1.4127773765649831, 0.8842521361762498, ...</td>\n",
       "      <td>(0.0, 0.0, 0.0, 0.0, 0.0, 0.0, 0.0, 0.0, 0.0, ...</td>\n",
       "      <td>0.474</td>\n",
       "      <td>1</td>\n",
       "      <td>(0.0, 0.0, 0.0, 0.0, 0.0, 0.0, 0.0, 0.0, 0.0, ...</td>\n",
       "      <td>(1.0, 0.0, 0.0, 0.0)</td>\n",
       "      <td>[-2.0366072177886965, -4.672249698638916, -2.4...</td>\n",
       "    </tr>\n",
       "    <tr>\n",
       "      <th>4</th>\n",
       "      <td>598567aa0229a6b3161157066c28080d905d00b4</td>\n",
       "      <td>2014</td>\n",
       "      <td>22</td>\n",
       "      <td>0</td>\n",
       "      <td>81</td>\n",
       "      <td>8</td>\n",
       "      <td>(0.7508800220149985, 1.4127773765649831, 0.0, ...</td>\n",
       "      <td>(0.0, 0.0, 0.0, 2.704558552165649, 0.0, 0.0, 0...</td>\n",
       "      <td>0.474</td>\n",
       "      <td>9</td>\n",
       "      <td>(0.0, 0.0, 0.0, 0.0, 0.0, 0.0, 0.0, 0.0, 0.0, ...</td>\n",
       "      <td>(0.0, 1.0, 0.0, 0.0)</td>\n",
       "      <td>[-3.1380852311849594, -1.6064074486494064, -0....</td>\n",
       "    </tr>\n",
       "  </tbody>\n",
       "</table>\n",
       "</div>"
      ],
      "text/plain": [
       "                                         id  year  inCitations_count  \\\n",
       "0  b9c27ac1bb8b3ec9d4faa06ed7163d002c8967bb  2014                  0   \n",
       "1  412b10a92babf350975dd98e58039891d792df6d  2013                  0   \n",
       "2  0de1cecd2ed49812f3a55e4b78edf9ffd292618c  2015                 13   \n",
       "3  b87f8f3daaa92d3bc0ff09e3514c7e6bf581eb60  2009                  0   \n",
       "4  598567aa0229a6b3161157066c28080d905d00b4  2014                 22   \n",
       "\n",
       "   outCitations_count  abstract_wcount  title_wcount  \\\n",
       "0                   0               61             9   \n",
       "1                   0              197            10   \n",
       "2                  69              140            10   \n",
       "3                   0               90             5   \n",
       "4                   0               81             8   \n",
       "\n",
       "                                      abstract_tfidf  \\\n",
       "0  (0.7508800220149985, 0.7063886882824916, 0.0, ...   \n",
       "1  (0.0, 0.0, 0.0, 3.6192665918253155, 0.94994839...   \n",
       "2  (2.2526400660449957, 0.0, 0.0, 0.0, 2.84984518...   \n",
       "3  (0.0, 1.4127773765649831, 0.8842521361762498, ...   \n",
       "4  (0.7508800220149985, 1.4127773765649831, 0.0, ...   \n",
       "\n",
       "                                         title_tfidf    SJR  author_count  \\\n",
       "0  (0.0, 0.0, 0.0, 0.0, 0.0, 0.0, 0.0, 0.0, 0.0, ...  0.474             1   \n",
       "1  (0.0, 0.0, 0.0, 0.0, 0.0, 0.0, 0.0, 0.0, 0.0, ...  0.474             2   \n",
       "2  (2.4396766183822676, 0.0, 0.0, 0.0, 0.0, 0.0, ...  0.474             8   \n",
       "3  (0.0, 0.0, 0.0, 0.0, 0.0, 0.0, 0.0, 0.0, 0.0, ...  0.474             1   \n",
       "4  (0.0, 0.0, 0.0, 2.704558552165649, 0.0, 0.0, 0...  0.474             9   \n",
       "\n",
       "                                    fieldsOfStudyVec            sourcesVec  \\\n",
       "0  (0.0, 0.0, 0.0, 0.0, 0.0, 0.0, 0.0, 0.0, 0.0, ...  (1.0, 0.0, 0.0, 0.0)   \n",
       "1  (1.0, 0.0, 0.0, 0.0, 0.0, 0.0, 0.0, 0.0, 0.0, ...  (1.0, 0.0, 0.0, 0.0)   \n",
       "2  (0.0, 0.0, 0.0, 0.0, 0.0, 0.0, 0.0, 0.0, 0.0, ...  (0.0, 1.0, 0.0, 0.0)   \n",
       "3  (0.0, 0.0, 0.0, 0.0, 0.0, 0.0, 0.0, 0.0, 0.0, ...  (1.0, 0.0, 0.0, 0.0)   \n",
       "4  (0.0, 0.0, 0.0, 0.0, 0.0, 0.0, 0.0, 0.0, 0.0, ...  (0.0, 1.0, 0.0, 0.0)   \n",
       "\n",
       "                                   title_wordVectors  \n",
       "0  [1.4479601118299696, -0.6119445198112063, -0.8...  \n",
       "1  [2.387523424625397, -0.6723115488886834, -1.00...  \n",
       "2  [0.5778246715664864, -0.42337707430124283, -1....  \n",
       "3  [-2.0366072177886965, -4.672249698638916, -2.4...  \n",
       "4  [-3.1380852311849594, -1.6064074486494064, -0....  "
      ]
     },
     "execution_count": 45,
     "metadata": {},
     "output_type": "execute_result"
    }
   ],
   "source": [
    "pdf_final = modeling_data.limit(5).toPandas()\n",
    "pdf_final"
   ]
  },
  {
   "cell_type": "markdown",
   "metadata": {},
   "source": [
    "### Vector Assembly"
   ]
  },
  {
   "cell_type": "code",
   "execution_count": 46,
   "metadata": {},
   "outputs": [],
   "source": [
    "from pyspark.ml.feature import VectorAssembler\n",
    "#gather feature vector and identify features\n",
    "assembler = VectorAssembler(inputCols = ['year', 'outCitations_count','abstract_wcount','title_wcount','abstract_tfidf',\\\n",
    "                                         'title_tfidf','SJR','author_count','fieldsOfStudyVec', 'sourcesVec', \\\n",
    "                                         'title_wordVectors'], \\\n",
    "                            outputCol = 'features')\n",
    "\n",
    "\n",
    "modeling_data = assembler.transform(modeling_data)"
   ]
  },
  {
   "cell_type": "markdown",
   "metadata": {},
   "source": [
    "# Machine Learning - (In Citations)"
   ]
  },
  {
   "cell_type": "markdown",
   "metadata": {},
   "source": [
    "## Logistic Regression"
   ]
  },
  {
   "cell_type": "markdown",
   "metadata": {},
   "source": [
    "### Build Classes"
   ]
  },
  {
   "cell_type": "code",
   "execution_count": 51,
   "metadata": {},
   "outputs": [],
   "source": [
    "from pyspark.sql import functions as f\n",
    "modeling_data = modeling_data.withColumn('binary_class', f.when(f.col('inCitations_count')==0,0).otherwise(1))\n",
    "\n",
    "from pyspark.ml.classification import LogisticRegression, LogisticRegressionModel\n",
    "\n",
    "train_df, test_df = modeling_data.randomSplit([.8,.2],seed=100)"
   ]
  },
  {
   "cell_type": "code",
   "execution_count": 8,
   "metadata": {},
   "outputs": [
    {
     "name": "stdout",
     "output_type": "stream",
     "text": [
      "Train Length =  9042363\n",
      "Test Length =  2258549\n"
     ]
    }
   ],
   "source": [
    "print('Train Length = ', train_df.count())\n",
    "print('Test Length = ', test_df.count())"
   ]
  },
  {
   "cell_type": "markdown",
   "metadata": {},
   "source": [
    "### Set Model Paramters"
   ]
  },
  {
   "cell_type": "code",
   "execution_count": 52,
   "metadata": {},
   "outputs": [],
   "source": [
    "# Set parameters for Logistic Regression\n",
    "lgr = LogisticRegression(maxIter=5, featuresCol = 'features', labelCol='binary_class')"
   ]
  },
  {
   "cell_type": "markdown",
   "metadata": {},
   "source": [
    "### Train  Model"
   ]
  },
  {
   "cell_type": "code",
   "execution_count": 53,
   "metadata": {},
   "outputs": [],
   "source": [
    "# Fit the model to the data.\n",
    "lgrm = lgr.fit(train_df)"
   ]
  },
  {
   "cell_type": "markdown",
   "metadata": {},
   "source": [
    "### Prediction"
   ]
  },
  {
   "cell_type": "code",
   "execution_count": 54,
   "metadata": {},
   "outputs": [],
   "source": [
    "# Given a dataset, predict each point's label, and show the results.\n",
    "predictions = lgrm.transform(test_df)"
   ]
  },
  {
   "cell_type": "code",
   "execution_count": 69,
   "metadata": {},
   "outputs": [],
   "source": [
    "predictions_train = lgrm.transform(train_df)"
   ]
  },
  {
   "cell_type": "markdown",
   "metadata": {},
   "source": [
    "### Evaluations"
   ]
  },
  {
   "cell_type": "code",
   "execution_count": 55,
   "metadata": {},
   "outputs": [
    {
     "name": "stdout",
     "output_type": "stream",
     "text": [
      "0.7857142857142857\n",
      "0.6914285714285714\n"
     ]
    }
   ],
   "source": [
    "from pyspark.ml.evaluation import MulticlassClassificationEvaluator\n",
    "#print evaluation metrics\n",
    "evaluator = MulticlassClassificationEvaluator(labelCol=\"binary_class\", predictionCol=\"prediction\")\n",
    "print(evaluator.evaluate(predictions, {evaluator.metricName: \"accuracy\"}))\n",
    "print(evaluator.evaluate(predictions, {evaluator.metricName: \"f1\"}))"
   ]
  },
  {
   "cell_type": "code",
   "execution_count": null,
   "metadata": {},
   "outputs": [],
   "source": [
    "print(\"The area under ROC for train set is {}\".format(evaluator.evaluate(predictions_train)))\n",
    "print(\"The area under ROC for test set is {}\".format(evaluator.evaluate(predictions)))"
   ]
  },
  {
   "cell_type": "code",
   "execution_count": 76,
   "metadata": {},
   "outputs": [
    {
     "name": "stdout",
     "output_type": "stream",
     "text": [
      "Accurary for train is =  0.925\n",
      "Area under ROC for train is =  0.98005698005698\n"
     ]
    }
   ],
   "source": [
    "summary = lgrm.summary\n",
    "\n",
    "print('Accurary for train is = ', summary.accuracy)\n",
    "print('Area under ROC for train is = ', summary.areaUnderROC)\n"
   ]
  },
  {
   "cell_type": "code",
   "execution_count": 78,
   "metadata": {},
   "outputs": [
    {
     "name": "stdout",
     "output_type": "stream",
     "text": [
      "The Accuracy for train set is 0.9256813417190777\n",
      "The Accuracy for test set is 0.6914285714285714\n",
      "----------------------------------------------------------------------------------------------------\n",
      "The F-1 for train set is 0.9256813417190777\n",
      "The F-1 for test set is 0.6914285714285714\n"
     ]
    }
   ],
   "source": [
    "from pyspark.ml.evaluation import BinaryClassificationEvaluator\n",
    "#evaluator=BinaryClassificationEvaluator(rawPredictionCol=”rawPrediction”,labelCol=”Outcome”)\n",
    "print(\"The Accuracy for train set is {}\".format(evaluator.evaluate(predictions_train)))\n",
    "print(\"The Accuracy for test set is {}\".format(evaluator.evaluate(predictions)))\n",
    "print(\"-\"*100)\n",
    "print(\"The F-1 for train set is {}\".format(evaluator.evaluate(predictions_train, {evaluator.metricName: \"accuracy\"})))\n",
    "print(\"The F-1 for test set is {}\".format(evaluator.evaluate(predictions, {evaluator.metricName: \"accuracy\"})))"
   ]
  },
  {
   "cell_type": "code",
   "execution_count": 72,
   "metadata": {},
   "outputs": [
    {
     "name": "stdout",
     "output_type": "stream",
     "text": [
      "+------------+--------------------+----------+--------------------+\n",
      "|binary_class|       rawPrediction|prediction|         probability|\n",
      "+------------+--------------------+----------+--------------------+\n",
      "|           0|[6.76282181993886...|       0.0|[0.99884537205792...|\n",
      "|           1|[3.93557287176143...|       0.0|[0.98083978006400...|\n",
      "|           0|[3.56186820882025...|       0.0|[0.97239776533612...|\n",
      "|           1|[6.22420844670929...|       0.0|[0.99802302499646...|\n",
      "|           1|[5.58264371551792...|       0.0|[0.99625149902803...|\n",
      "+------------+--------------------+----------+--------------------+\n",
      "only showing top 5 rows\n",
      "\n"
     ]
    }
   ],
   "source": [
    "#Looking at first few cases\n",
    "predictions.select(\"binary_class\",\"rawPrediction\",\"prediction\",\"probability\").show(5)"
   ]
  },
  {
   "cell_type": "markdown",
   "metadata": {},
   "source": [
    "### Model Parameters"
   ]
  },
  {
   "cell_type": "code",
   "execution_count": 60,
   "metadata": {},
   "outputs": [
    {
     "data": {
      "text/plain": [
       "SparseVector(948, {0: -0.0007, 1: 0.0203, 2: -0.0005, 3: 0.0066, 4: -0.0572, 5: -0.0067, 6: -0.025, 7: 0.0593, 8: -0.1418, 9: -0.0286, 10: -0.1, 11: -0.0375, 12: -0.0094, 13: -0.0518, 14: 0.0505, 15: 0.0143, 16: 0.0955, 17: -0.0298, 18: 0.0504, 19: -0.0689, 20: 0.0139, 21: -0.0291, 22: -0.0309, 23: -0.0409, 24: -0.0593, 25: 0.0128, 26: -0.0355, 27: 0.1215, 28: 0.0835, 29: -0.0276, 30: -0.05, 31: -0.0143, 32: -0.0463, 33: 0.0241, 34: -0.0548, 35: 0.0511, 36: -0.114, 37: -0.1459, 38: -0.0788, 39: -0.119, 40: 0.0608, 41: -0.0809, 42: -0.0417, 43: -0.1277, 44: 0.0293, 45: 0.0047, 46: -0.1008, 47: -0.0121, 48: -0.0736, 49: 0.1011, 50: -0.1746, 51: -0.0165, 52: 0.157, 53: -0.0175, 54: -0.042, 55: 0.0452, 56: 0.0601, 57: -0.0779, 58: 0.004, 59: 0.0816, 60: -0.035, 61: 0.1975, 62: 0.011, 63: -0.1218, 64: -0.0469, 65: -0.1313, 66: -0.0111, 67: 0.0246, 68: -0.0021, 69: -0.0652, 70: 0.0452, 71: 0.016, 72: 0.0045, 73: -0.1854, 74: -0.026, 75: -0.1158, 76: 0.068, 77: -0.1178, 78: -0.0378, 79: -0.0433, 80: 0.1114, 81: 0.0163, 82: -0.0587, 83: 0.021, 84: -0.0193, 85: -0.0632, 86: -0.0653, 87: 0.0167, 88: 0.0171, 89: 0.0473, 90: -0.0826, 91: 0.0104, 92: -0.0248, 93: -0.0215, 94: 0.0043, 95: -0.0531, 96: -0.0179, 97: 0.0502, 98: 0.0003, 99: -0.0195, 100: 0.0157, 101: 0.016, 102: -0.0357, 103: -0.0361, 104: -0.1077, 105: 0.0971, 106: 0.004, 107: -0.1555, 108: -0.0712, 109: 0.2803, 110: -0.143, 111: -0.1309, 112: 0.1559, 113: -0.1198, 114: 0.1116, 115: 0.084, 116: -0.1317, 117: 0.0946, 119: -0.1579, 120: 0.0044, 121: 0.0766, 122: 0.0039, 124: 0.0047, 125: 0.084, 126: 0.1655, 127: 0.2063, 128: -0.0406, 129: -0.1848, 131: -0.1449, 132: -0.1442, 133: 0.004, 134: -0.1613, 135: 0.1482, 136: -0.1567, 137: 0.004, 138: -0.1581, 139: -0.147, 140: 0.1695, 141: -0.1339, 142: 0.0242, 143: 0.0426, 144: -0.1051, 145: -0.0351, 146: -0.0599, 147: -0.0388, 148: -0.177, 150: 0.0034, 151: 0.137, 152: 0.2838, 153: 0.0518, 154: -0.038, 155: 0.2737, 156: -0.153, 157: 0.0362, 158: -0.0398, 159: 0.1625, 160: 0.3208, 161: 0.0901, 162: 0.1404, 163: -0.1416, 164: 0.3197, 165: 0.0734, 166: 0.2895, 167: -0.0385, 169: -0.1404, 170: -0.1336, 171: 0.0754, 172: 0.0037, 173: 0.068, 174: 0.0849, 175: 0.0788, 176: 0.0661, 177: -0.1553, 178: -0.0462, 179: -0.1453, 180: 0.1441, 181: 0.0819, 182: -0.1431, 183: 0.1517, 184: 0.0041, 185: -0.1707, 186: -0.1423, 187: -0.0616, 188: 0.0787, 189: 0.311, 190: -0.0217, 191: -0.1323, 192: -0.0539, 193: 0.0044, 194: 0.2153, 195: -0.1614, 196: -0.1458, 197: -0.0191, 198: 0.149, 199: -0.0622, 200: 0.0412, 201: 0.2687, 202: -0.1436, 203: -0.1638, 204: -0.0183, 205: 0.0506, 206: 0.3543, 207: -0.4191, 208: 0.2178, 209: 0.2095, 210: 0.2081, 211: -0.3867, 212: -0.3785, 213: 0.2072, 215: 0.7808, 216: 0.2088, 218: -0.376, 219: -0.3861, 220: -0.3863, 221: -0.3763, 222: 0.7824, 223: -0.376, 224: 0.7835, 225: -0.376, 227: -0.3805, 228: 0.781, 230: -0.3867, 894: -0.3362, 895: 0.4222, 896: -0.3761, 898: -0.1205, 899: -0.0823, 900: -0.2865, 901: -0.1532, 902: -0.1853, 903: 0.0831, 904: -0.0999, 905: 0.2195, 906: -0.2094, 907: 0.086, 908: 0.014, 909: -0.0179, 910: 0.1394, 911: -0.0137, 912: -0.106, 913: 0.0587, 914: 0.0782, 915: 0.1736, 916: 0.1516, 917: -0.1119, 918: 0.0427, 919: 0.0924, 920: 0.2123, 921: 0.1809, 922: 0.2358, 923: -0.1256, 924: 0.1006, 925: -0.1248, 926: 0.0081, 927: 0.1769, 928: -0.1074, 929: -0.0102, 930: 0.2526, 931: -0.0009, 932: -0.1766, 933: -0.0196, 934: -0.1222, 935: 0.2725, 936: 0.0068, 937: -0.2709, 938: -0.1088, 939: 0.1495, 940: -0.0133, 941: 0.1275, 942: -0.1794, 943: -0.009, 944: 0.1145, 945: -0.0558, 946: -0.1272, 947: -0.1056})"
      ]
     },
     "execution_count": 60,
     "metadata": {},
     "output_type": "execute_result"
    }
   ],
   "source": [
    "lgrm.coefficients"
   ]
  },
  {
   "cell_type": "code",
   "execution_count": 74,
   "metadata": {
    "scrolled": true
   },
   "outputs": [
    {
     "data": {
      "text/plain": [
       "[0.07692307692307693, 0.07407407407407407]"
      ]
     },
     "execution_count": 74,
     "metadata": {},
     "output_type": "execute_result"
    }
   ],
   "source": [
    "summary.falsePositiveRateByLabel"
   ]
  },
  {
   "cell_type": "markdown",
   "metadata": {},
   "source": [
    "## Linear Regression"
   ]
  },
  {
   "cell_type": "markdown",
   "metadata": {},
   "source": [
    "### Train Model"
   ]
  },
  {
   "cell_type": "code",
   "execution_count": 48,
   "metadata": {},
   "outputs": [],
   "source": [
    "train_df, test_df = modeling_data.randomSplit([.7,.3],seed=100)"
   ]
  },
  {
   "cell_type": "code",
   "execution_count": 79,
   "metadata": {},
   "outputs": [
    {
     "name": "stdout",
     "output_type": "stream",
     "text": [
      "Coefficients: [7.605314146598465e-05,0.02126875438873086,0.0,0.0,-0.09717637658842729,0.0,0.0,0.0,0.0,-0.1007207211691633,0.0,0.0,0.0,0.0,0.0,0.0,0.0,0.0,0.10151171596710952,0.0,0.0,0.0,0.0,0.0,0.0,0.0,0.0,0.056724720532019976,0.0,0.0,0.0,0.0,-0.016339881214798666,0.0,0.0,0.0,0.0,0.0,-0.03573362832578906,0.0,0.0,0.0,0.0,0.0,0.0,0.0,-0.12488981608379021,0.0,0.0,0.0,0.0,0.0,0.12748259690449038,0.0,0.0,0.0,0.14140372026672063,0.0,0.0,0.0,0.0,0.0,0.0,0.0,0.0,0.0,0.0,0.0,0.0,0.0,0.0,0.0,0.0,0.0,0.0,0.0,0.0,0.0,0.0,0.0,0.0,0.0,0.0,0.0,0.0,-0.08012973525615243,0.0,0.0,0.0,0.0,0.0,0.0,0.0,0.0,0.0,0.0,0.0,0.0,0.0,0.05167210295557288,0.0,0.0,0.0,0.0,0.0,0.0,0.0,-0.31765741568011296,0.0,0.0,0.0,0.0,0.0,0.0,0.0,0.0,0.0,0.0,0.0,0.0,0.0,0.0,0.0,0.0,0.0,0.0,0.002270977425235093,0.6166732434929431,0.0,0.0,0.0,0.0,-0.19325884452968847,0.2482196011562018,-0.13582940650591188,0.0,0.0,0.0,-0.23269249163639208,0.0,0.0,0.0,0.0,0.0,0.0,0.0,0.0,0.0,0.0,0.0,0.0,0.0,0.0,0.0,0.0,0.0,0.0,0.0,0.015656021478736428,0.8496340837561515,0.0,0.0,0.0,0.0,0.0,0.0,0.0,-0.01654068019076566,0.0,-0.11423177231483461,0.0,0.0,0.0,0.0,0.0,0.0,0.0,0.0,0.0,0.0,0.0,0.0,-0.07745621844427951,0.0,0.0,-0.0642553897882301,0.0,0.0,0.0,0.5435522215869053,0.0,0.0,0.0,0.0,0.0,0.0,0.0,0.0,0.0,0.0,0.0,0.0,0.0,0.0,0.0,0.0,0.8761140193168812,0.0,0.0,0.0,0.0,0.0,0.0,0.0,0.0,0.0,0.0,0.0,0.0,0.0,0.0,0.0,0.0,0.0,0.0,0.0,0.0,-0.6107993669969527,0.0,0.0,0.0,0.0,0.0,0.0,0.0,0.0,0.0,0.0,0.0,0.0,0.0,0.0,0.0,0.0,0.0,0.0,0.0,0.0,0.0,0.0,0.0,0.0,0.0,0.0,0.0,0.0,0.0,0.0,0.0,0.0,0.0,0.0,0.0,0.0,0.0,0.0,0.0,0.0,0.0,0.0,0.0,0.0,0.0,0.0,0.0,0.0,0.0,0.0,0.0,0.0,0.0,0.0,0.0,0.0,0.0,0.0,0.0,0.0,0.0,0.0,0.0,0.0,0.0,0.0,0.0,0.0,0.0,0.0,0.0,0.0,0.0,0.0,0.0,0.0,0.0,0.0,0.0,0.0,0.0,0.0,0.0,0.0,0.0,0.0,0.0,0.0,0.0,0.0,0.0,0.0,0.0,0.0,0.0,0.0,0.0,0.0,0.0,0.0,0.0,0.0,0.0,0.0,0.0,0.0,0.0,0.0,0.0,0.0,0.0,0.0,0.0,0.0,0.0,0.0,0.0,0.0,0.0,0.0,0.0,0.0,0.0,0.0,0.0,0.0,0.0,0.0,0.0,0.0,0.0,0.0,0.0,0.0,0.0,0.0,0.0,0.0,0.0,0.0,0.0,0.0,0.0,0.0,0.0,0.0,0.0,0.0,0.0,0.0,0.0,0.0,0.0,0.0,0.0,0.0,0.0,0.0,0.0,0.0,0.0,0.0,0.0,0.0,0.0,0.0,0.0,0.0,0.0,0.0,0.0,0.0,0.0,0.0,0.0,0.0,0.0,0.0,0.0,0.0,0.0,0.0,0.0,0.0,0.0,0.0,0.0,0.0,0.0,0.0,0.0,0.0,0.0,0.0,0.0,0.0,0.0,0.0,0.0,0.0,0.0,0.0,0.0,0.0,0.0,0.0,0.0,0.0,0.0,0.0,0.0,0.0,0.0,0.0,0.0,0.0,0.0,0.0,0.0,0.0,0.0,0.0,0.0,0.0,0.0,0.0,0.0,0.0,0.0,0.0,0.0,0.0,0.0,0.0,0.0,0.0,0.0,0.0,0.0,0.0,0.0,0.0,0.0,0.0,0.0,0.0,0.0,0.0,0.0,0.0,0.0,0.0,0.0,0.0,0.0,0.0,0.0,0.0,0.0,0.0,0.0,0.0,0.0,0.0,0.0,0.0,0.0,0.0,0.0,0.0,0.0,0.0,0.0,0.0,0.0,0.0,0.0,0.0,0.0,0.0,0.0,0.0,0.0,0.0,0.0,0.0,0.0,0.0,0.0,0.0,0.0,0.0,0.0,0.0,0.0,0.0,0.0,0.0,0.0,0.0,0.0,0.0,0.0,0.0,0.0,0.0,0.0,0.0,0.0,0.0,0.0,0.0,0.0,0.0,0.0,0.0,0.0,0.0,0.0,0.0,0.0,0.0,0.0,0.0,0.0,0.0,0.0,0.0,0.0,0.0,0.0,0.0,0.0,0.0,0.0,0.0,0.0,0.0,0.0,0.0,0.0,0.0,0.0,0.0,0.0,0.0,0.0,0.0,0.0,0.0,0.0,0.0,0.0,0.0,0.0,0.0,0.0,0.0,0.0,0.0,0.0,0.0,0.0,0.0,0.0,0.0,0.0,0.0,0.0,0.0,0.0,0.0,0.0,0.0,0.0,0.0,0.0,0.0,0.0,0.0,0.0,0.0,0.0,0.0,0.0,0.0,0.0,0.0,0.0,0.0,0.0,0.0,0.0,0.0,0.0,0.0,0.0,0.0,0.0,0.0,0.0,0.0,0.0,0.0,0.0,0.0,0.0,0.0,0.0,0.0,0.0,0.0,0.0,0.0,0.0,0.0,0.0,0.0,0.0,0.0,0.0,0.0,0.0,0.0,0.0,0.0,0.0,0.0,0.0,0.0,0.0,0.0,0.0,0.0,0.0,0.0,0.0,0.0,0.0,0.0,0.0,0.0,0.0,0.0,0.0,0.0,0.0,0.0,0.0,0.0,0.0,0.0,0.0,0.0,0.0,0.0,0.0,0.0,0.0,0.0,0.0,0.0,0.0,0.0,0.0,0.0,0.0,0.0,0.0,0.0,0.0,0.0,0.0,0.0,0.0,0.0,0.0,0.0,0.0,0.0,0.0,0.0,0.0,0.0,0.0,0.0,0.0,0.0,0.0,0.0,0.0,0.0,0.0,0.0,0.0,0.0,0.0,0.0,0.0,0.0,0.0,0.0,0.0,0.0,0.0,0.0,0.0,0.0,0.0,0.0,0.0,0.0,0.0,0.0,0.0,0.0,0.0,0.0,0.0,0.0,0.0,0.0,0.0,0.0,0.0,0.0,0.0,0.0,0.0,0.0,0.0,0.0,0.0,0.0,0.0,0.0,0.0,0.0,0.0,0.0,0.0,0.0,0.0,0.0,0.0,0.0,0.0,0.0,0.0,0.0,0.0,0.0,0.0,0.0,0.0,0.0,0.0,0.0,0.0,0.0,0.0,0.0,0.0,0.0,0.0,0.0,0.0,0.0,0.0,0.0,0.0,0.0,0.0,0.0,0.0,0.0,0.0,0.0,0.0,0.0,0.0,0.0,0.0,0.0,0.0,0.0,0.0,0.0,0.0,0.0,0.0,0.0,0.0,0.0,0.0,0.0,0.0,0.0,0.0,0.0,0.0,0.0,0.0,0.0,0.0,0.0,0.0,0.0,0.0,0.0,0.0,0.0,0.0,0.0,0.0,0.0,0.0,0.0,0.0,0.0,0.0,0.0,0.0,0.0,0.0,0.0,0.0,0.0,0.0,0.0,0.0,0.0,0.0,0.0,0.0,0.0,0.0,0.0,0.0,0.0,0.0,0.0,0.0,0.0,0.0,0.0,0.0,0.0,0.0,0.0,0.0,0.0,0.0,0.0,0.0,0.0,0.0,0.0,0.0,0.0,0.0,0.0,0.0,0.0,0.0,0.0,-0.5436344949689229,0.7197823699953309,0.0,0.0,0.0,0.0,-0.0864878205394704,0.0,0.0,0.0,-0.01962336994297925,0.10497994690519784,-0.03960426536167324,0.0,0.0,0.0,0.0,0.0,0.0,0.0,0.0,0.20966183000414151,0.0,-0.11405098170070493,0.0,0.0,0.0,0.07683614043515628,0.057175833977832956,0.0,0.1424317444144489,0.0,-0.018807287141273995,0.0,0.0,0.0,0.15639752892169376,0.0,0.0,0.0,0.0,0.5787583972379485,0.0,-0.11462239739087121,0.0,0.0,0.0,0.0,-0.08450130945332068,0.0,0.19693597774012392,0.0,0.0,0.0]\n",
      "Intercept: 1.2220753265837871\n",
      "RMSE: 0.994727\n",
      "r2: 0.910271\n"
     ]
    }
   ],
   "source": [
    "from pyspark.ml.regression import LinearRegression\n",
    "\n",
    "#Elastic Net\n",
    "lr = LinearRegression(featuresCol = 'features', labelCol='inCitations_count', regParam=0.3, elasticNetParam=0.8, maxIter=10)\n",
    "lrm = lr.fit(train_df)\n",
    "\n",
    "#coefficients\n",
    "print(\"Coefficients: \" + str(lrm.coefficients))\n",
    "print(\"Intercept: \" + str(lrm.intercept))\n",
    "\n",
    "#model summary\n",
    "print(\"RMSE: %f\" % lrm.summary.rootMeanSquaredError)\n",
    "print(\"r2: %f\" % lrm.summary.r2)"
   ]
  },
  {
   "cell_type": "markdown",
   "metadata": {},
   "source": [
    "### Predictions"
   ]
  },
  {
   "cell_type": "code",
   "execution_count": 80,
   "metadata": {},
   "outputs": [],
   "source": [
    "#make predictions\n",
    "predictions = lrm.transform(test_df)"
   ]
  },
  {
   "cell_type": "markdown",
   "metadata": {},
   "source": [
    "### Evaluations"
   ]
  },
  {
   "cell_type": "code",
   "execution_count": 86,
   "metadata": {},
   "outputs": [],
   "source": [
    "#Get some summary stats\n",
    "coef = np.append(list(lrm.coefficients),lrm.intercept)\n",
    "Summary= lrm.summary"
   ]
  },
  {
   "cell_type": "code",
   "execution_count": 89,
   "metadata": {},
   "outputs": [
    {
     "name": "stdout",
     "output_type": "stream",
     "text": [
      "RMSE: 2.323\n",
      "MSE: 5.397\n",
      "MAE: 1.752\n",
      "r2: -1.146\n"
     ]
    }
   ],
   "source": [
    "from pyspark.ml.evaluation import RegressionEvaluator\n",
    "eval = RegressionEvaluator(labelCol=\"inCitations_count\", predictionCol=\"prediction\", metricName=\"rmse\")\n",
    "\n",
    "# Root Mean Square Error\n",
    "rmse = eval.evaluate(predictions)\n",
    "print(\"RMSE: %.3f\" % rmse)\n",
    "\n",
    "# Mean Square Error\n",
    "mse = eval.evaluate(predictions, {eval.metricName: \"mse\"})\n",
    "print(\"MSE: %.3f\" % mse)\n",
    "\n",
    "# Mean Absolute Error\n",
    "mae = eval.evaluate(predictions, {eval.metricName: \"mae\"})\n",
    "print(\"MAE: %.3f\" % mae)\n",
    "\n",
    "# r2 - coefficient of determination\n",
    "r2 = eval.evaluate(predictions, {eval.metricName: \"r2\"})\n",
    "print(\"r2: %.3f\" %r2)"
   ]
  },
  {
   "cell_type": "markdown",
   "metadata": {},
   "source": [
    "# Appendix"
   ]
  },
  {
   "cell_type": "code",
   "execution_count": 74,
   "metadata": {
    "scrolled": true
   },
   "outputs": [
    {
     "name": "stdout",
     "output_type": "stream",
     "text": [
      "+-------+-----------------+------------------+-----------------+-----------------+\n",
      "|summary|inCitations_count|outCitations_count|  abstract_wcount|     title_wcount|\n",
      "+-------+-----------------+------------------+-----------------+-----------------+\n",
      "|  count|          9980999|           9980999|          9980999|          9980999|\n",
      "|   mean|3.534729739978934|3.5169331246301097|52.31906465475049|7.195430236993311|\n",
      "| stddev|33.82246627659463|14.105878711775079|70.56536328977172|4.034703276166936|\n",
      "|    min|                0|                 0|                0|                0|\n",
      "|    max|            36091|              2497|             1266|               40|\n",
      "+-------+-----------------+------------------+-----------------+-----------------+\n",
      "\n"
     ]
    }
   ],
   "source": [
    "encodedData.select('inCitations_count', 'outCitations_count', 'abstract_wcount','title_wcount').describe().show()"
   ]
  },
  {
   "cell_type": "code",
   "execution_count": 188,
   "metadata": {},
   "outputs": [
    {
     "name": "stdout",
     "output_type": "stream",
     "text": [
      "+----------------------+----------------------+----------------------+----------------------+------------------------+\n",
      "|min(inCitations_count)|max(inCitations_count)|avg(inCitations_count)|sum(inCitations_count)|count(inCitations_count)|\n",
      "+----------------------+----------------------+----------------------+----------------------+------------------------+\n",
      "|0                     |36091                 |3.5324064204140146    |35242780              |9976989                 |\n",
      "+----------------------+----------------------+----------------------+----------------------+------------------------+\n",
      "\n"
     ]
    }
   ],
   "source": [
    "from pyspark.sql import functions as F\n",
    "\n",
    "spark_df3.agg(F.min(spark_df3.inCitations_count),F.max(spark_df3.inCitations_count), \\\n",
    "              F.avg(spark_df3.inCitations_count),F.sum(spark_df3.inCitations_count), \\\n",
    "             F.count(spark_df3.inCitations_count)).show(truncate = False)"
   ]
  }
 ],
 "metadata": {
  "kernelspec": {
   "display_name": "Python 3",
   "language": "python",
   "name": "python3"
  },
  "language_info": {
   "codemirror_mode": {
    "name": "ipython",
    "version": 3
   },
   "file_extension": ".py",
   "mimetype": "text/x-python",
   "name": "python",
   "nbconvert_exporter": "python",
   "pygments_lexer": "ipython3",
   "version": "3.7.5"
  },
  "toc": {
   "base_numbering": 1,
   "nav_menu": {},
   "number_sections": true,
   "sideBar": true,
   "skip_h1_title": false,
   "title_cell": "Table of Contents",
   "title_sidebar": "Contents",
   "toc_cell": false,
   "toc_position": {
    "height": "calc(100% - 180px)",
    "left": "10px",
    "top": "150px",
    "width": "349.091px"
   },
   "toc_section_display": true,
   "toc_window_display": true
  }
 },
 "nbformat": 4,
 "nbformat_minor": 4
}
