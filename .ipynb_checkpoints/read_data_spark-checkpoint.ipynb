{
 "cells": [
  {
   "cell_type": "markdown",
   "metadata": {},
   "source": [
    "## Reading Data from HDFS\n",
    "\n",
    "Datasource: Semantic Scholar Open Research Corpus\n",
    "\n",
    "Description: Semantic Scholar's records for research papers published in all fields provided as an easy-to-use JSON archive.\n",
    "\n",
    "### Attribute Definitions\n",
    "1. id  string = S2 generated research paper ID.\n",
    "- title  string = Research paper title.\n",
    "- paperAbstract  string = Extracted abstract of the paper.\n",
    "- entities  list = Extracted list of relevant entities or topics.\n",
    "- s2Url  string = URL to S2 research paper details page.\n",
    "- s2PdfUrl  string = URL to PDF on S2 if available.\n",
    "- pdfUrls  list = URLs related to this PDF scraped from the web.\n",
    "- authors  list = List of authors with an S2 generated author ID and name.\n",
    "- inCitations  list = List of S2 paper IDs which cited this paper.\n",
    "- outCitations  list = List of S2 paper IDs which this paper cited\n",
    "- year  int = Year this paper was published as integer.\n",
    "- venue  string = Extracted publication venue for this paper.\n",
    "- journalName  string = Name of the journal that published this paper.\n",
    "- journalVolume  string = The volume of the journal where this paper was published.\n",
    "- journalPages  string = The pages of the journal where this paper was published.\n",
    "- sources  list = Identifies papers sourced from DBLP or Medline.\n",
    "- doi  string = Digital Object Identifier registered at doi.org.\n",
    "- doiUrl  string = DOI link for registered objects.\n",
    "- pmid  string = Unique identifier used by PubMed.\n",
    "- fieldsOfStudy  list = Zero or more fields of study this paper addresses.`"
   ]
  },
  {
   "cell_type": "code",
   "execution_count": 2,
   "metadata": {},
   "outputs": [],
   "source": [
    "import pandas as pd \n",
    "import json\n",
    "import matplotlib.pyplot as plt \n",
    "\n",
    "#Graph network imports\n",
    "from graphframes import *\n",
    "from pyspark import *\n",
    "from pyspark.sql import *\n",
    "\n",
    "from pyspark.sql.functions import udf #user defined function\n",
    "from pyspark.sql.types import * #Import types == IntegerType, StringType etc.\n"
   ]
  },
  {
   "cell_type": "code",
   "execution_count": 3,
   "metadata": {},
   "outputs": [],
   "source": [
    "#import statements\n",
    "from pyspark.sql import SparkSession\n",
    "\n",
    "spark = SparkSession.builder.enableHiveSupport().appName('ReadWriteData').getOrCreate()\n",
    "sc = spark.sparkContext"
   ]
  },
  {
   "cell_type": "code",
   "execution_count": 4,
   "metadata": {},
   "outputs": [
    {
     "name": "stdout",
     "output_type": "stream",
     "text": [
      "WARNING: log4j.properties is not found. HADOOP_CONF_DIR may be incomplete.\n",
      "Java HotSpot(TM) 64-Bit Server VM warning: ignoring option MaxPermSize=512M; support was removed in 8.0\n",
      "Found 10 items\n",
      "-rw-r--r--   3 nazihkalo nazihkalo 1592749572 2020-02-11 10:25 big_data_project/unzipped_files/s2-corpus-000\n",
      "-rw-r--r--   3 nazihkalo nazihkalo 1592820732 2020-02-11 10:24 big_data_project/unzipped_files/s2-corpus-001\n",
      "-rw-r--r--   3 nazihkalo nazihkalo 1595233436 2020-02-11 10:24 big_data_project/unzipped_files/s2-corpus-002\n",
      "-rw-r--r--   3 nazihkalo nazihkalo 1597066383 2020-02-11 10:24 big_data_project/unzipped_files/s2-corpus-003\n",
      "-rw-r--r--   3 nazihkalo nazihkalo 1601510198 2020-02-11 10:24 big_data_project/unzipped_files/s2-corpus-004\n",
      "-rw-r--r--   3 nazihkalo nazihkalo 1593588156 2020-02-11 10:25 big_data_project/unzipped_files/s2-corpus-005\n",
      "-rw-r--r--   3 nazihkalo nazihkalo 1596634329 2020-02-11 10:23 big_data_project/unzipped_files/s2-corpus-006\n",
      "-rw-r--r--   3 nazihkalo nazihkalo 1596512143 2020-02-11 10:25 big_data_project/unzipped_files/s2-corpus-007\n",
      "-rw-r--r--   3 nazihkalo nazihkalo 1595234796 2020-02-11 10:25 big_data_project/unzipped_files/s2-corpus-008\n",
      "-rw-r--r--   3 nazihkalo nazihkalo 1596753944 2020-02-11 10:25 big_data_project/unzipped_files/s2-corpus-009\n"
     ]
    }
   ],
   "source": [
    "!hdfs dfs -ls big_data_project/unzipped_files/"
   ]
  },
  {
   "cell_type": "code",
   "execution_count": 5,
   "metadata": {},
   "outputs": [
    {
     "data": {
      "text/plain": [
       "{'MKL_NUM_THREADS': '1', 'OPENBLAS_NUM_THREADS': '1', 'PYTHONHASHSEED': '0'}"
      ]
     },
     "execution_count": 5,
     "metadata": {},
     "output_type": "execute_result"
    }
   ],
   "source": [
    "sc.environment"
   ]
  },
  {
   "cell_type": "markdown",
   "metadata": {},
   "source": [
    "## Reading all 10 json files listed above "
   ]
  },
  {
   "cell_type": "code",
   "execution_count": 6,
   "metadata": {},
   "outputs": [],
   "source": [
    "spark_df = spark.read.json('big_data_project/unzipped_files/')"
   ]
  },
  {
   "cell_type": "markdown",
   "metadata": {},
   "source": [
    "#### Counting number of records/articles"
   ]
  },
  {
   "cell_type": "code",
   "execution_count": 5,
   "metadata": {},
   "outputs": [
    {
     "data": {
      "text/plain": [
       "9976989"
      ]
     },
     "execution_count": 5,
     "metadata": {},
     "output_type": "execute_result"
    }
   ],
   "source": [
    "spark_df.count()"
   ]
  },
  {
   "cell_type": "markdown",
   "metadata": {},
   "source": [
    "#### Looking at the schema & summary stats"
   ]
  },
  {
   "cell_type": "code",
   "execution_count": 6,
   "metadata": {},
   "outputs": [
    {
     "name": "stdout",
     "output_type": "stream",
     "text": [
      "root\n",
      " |-- authors: array (nullable = true)\n",
      " |    |-- element: struct (containsNull = true)\n",
      " |    |    |-- ids: array (nullable = true)\n",
      " |    |    |    |-- element: string (containsNull = true)\n",
      " |    |    |-- name: string (nullable = true)\n",
      " |-- doi: string (nullable = true)\n",
      " |-- doiUrl: string (nullable = true)\n",
      " |-- entities: array (nullable = true)\n",
      " |    |-- element: string (containsNull = true)\n",
      " |-- fieldsOfStudy: array (nullable = true)\n",
      " |    |-- element: string (containsNull = true)\n",
      " |-- id: string (nullable = true)\n",
      " |-- inCitations: array (nullable = true)\n",
      " |    |-- element: string (containsNull = true)\n",
      " |-- journalName: string (nullable = true)\n",
      " |-- journalPages: string (nullable = true)\n",
      " |-- journalVolume: string (nullable = true)\n",
      " |-- outCitations: array (nullable = true)\n",
      " |    |-- element: string (containsNull = true)\n",
      " |-- paperAbstract: string (nullable = true)\n",
      " |-- pdfUrls: array (nullable = true)\n",
      " |    |-- element: string (containsNull = true)\n",
      " |-- pmid: string (nullable = true)\n",
      " |-- s2PdfUrl: string (nullable = true)\n",
      " |-- s2Url: string (nullable = true)\n",
      " |-- sources: array (nullable = true)\n",
      " |    |-- element: string (containsNull = true)\n",
      " |-- title: string (nullable = true)\n",
      " |-- venue: string (nullable = true)\n",
      " |-- year: long (nullable = true)\n",
      "\n"
     ]
    }
   ],
   "source": [
    "spark_df.printSchema()"
   ]
  },
  {
   "cell_type": "code",
   "execution_count": 14,
   "metadata": {},
   "outputs": [
    {
     "data": {
      "text/plain": [
       "[('authors', 'array<struct<ids:array<string>,name:string>>'),\n",
       " ('doi', 'string'),\n",
       " ('doiUrl', 'string'),\n",
       " ('entities', 'array<string>'),\n",
       " ('fieldsOfStudy', 'array<string>'),\n",
       " ('id', 'string'),\n",
       " ('inCitations', 'array<string>'),\n",
       " ('journalName', 'string'),\n",
       " ('journalPages', 'string'),\n",
       " ('journalVolume', 'string'),\n",
       " ('outCitations', 'array<string>'),\n",
       " ('paperAbstract', 'string'),\n",
       " ('pdfUrls', 'array<string>'),\n",
       " ('pmid', 'string'),\n",
       " ('s2PdfUrl', 'string'),\n",
       " ('s2Url', 'string'),\n",
       " ('sources', 'array<string>'),\n",
       " ('title', 'string'),\n",
       " ('venue', 'string'),\n",
       " ('year', 'bigint')]"
      ]
     },
     "execution_count": 14,
     "metadata": {},
     "output_type": "execute_result"
    }
   ],
   "source": [
    "spark_df.dtypes"
   ]
  },
  {
   "cell_type": "code",
   "execution_count": 15,
   "metadata": {},
   "outputs": [],
   "source": [
    "# spark_df.summary()"
   ]
  },
  {
   "cell_type": "markdown",
   "metadata": {},
   "source": [
    "### Checking if any NaN rows "
   ]
  },
  {
   "cell_type": "code",
   "execution_count": 7,
   "metadata": {},
   "outputs": [
    {
     "name": "stdout",
     "output_type": "stream",
     "text": [
      "Total Null rows =  192481\n",
      "Nulls as pct of total = 1.93%\n"
     ]
    }
   ],
   "source": [
    "#Calculating total number of NAN rows\n",
    "row_count = spark_df.count()\n",
    "null_row_count = row_count - spark_df.dropna().count()\n",
    "print(\"Total Null rows = \", null_row_count)\n",
    "print(\"Nulls as pct of total = {}%\".format(round((null_row_count/row_count)*100, 2)))"
   ]
  },
  {
   "cell_type": "code",
   "execution_count": 55,
   "metadata": {},
   "outputs": [
    {
     "data": {
      "text/plain": [
       "2180"
      ]
     },
     "execution_count": 55,
     "metadata": {},
     "output_type": "execute_result"
    }
   ],
   "source": [
    "spark_df.select('fieldsOfStudy').distinct().count()"
   ]
  },
  {
   "cell_type": "code",
   "execution_count": 56,
   "metadata": {},
   "outputs": [
    {
     "name": "stdout",
     "output_type": "stream",
     "text": [
      "+-------------------+-------+\n",
      "|      fieldsOfStudy|  count|\n",
      "+-------------------+-------+\n",
      "|         [Medicine]|1797410|\n",
      "|                 []|1270796|\n",
      "|        [Chemistry]| 647360|\n",
      "| [Computer Science]| 605115|\n",
      "|      [Engineering]| 532338|\n",
      "|          [Biology]| 493352|\n",
      "|          [Physics]| 456051|\n",
      "|[Materials Science]| 427580|\n",
      "|       [Psychology]| 354488|\n",
      "|          [History]| 312121|\n",
      "|        [Sociology]| 299245|\n",
      "|              [Art]| 292479|\n",
      "|      [Mathematics]| 269465|\n",
      "|[Political Science]| 268942|\n",
      "|        [Geography]| 250747|\n",
      "|        [Economics]| 198698|\n",
      "|[Medicine, Biology]| 189729|\n",
      "|         [Business]| 184848|\n",
      "|[Biology, Medicine]| 170081|\n",
      "|          [Geology]| 166235|\n",
      "+-------------------+-------+\n",
      "only showing top 20 rows\n",
      "\n"
     ]
    }
   ],
   "source": [
    "spark_df.groupby('fieldsOfStudy').count().sort(\"count\").orderBy([\"count\"], ascending=[0]).show(20)"
   ]
  },
  {
   "cell_type": "code",
   "execution_count": 57,
   "metadata": {},
   "outputs": [
    {
     "data": {
      "text/plain": [
       "86"
      ]
     },
     "execution_count": 57,
     "metadata": {},
     "output_type": "execute_result"
    }
   ],
   "source": [
    "spark_df.select('year').distinct().count()"
   ]
  },
  {
   "cell_type": "markdown",
   "metadata": {},
   "source": [
    "## Creating column that counts the inCitations = how many times this paper was cited"
   ]
  },
  {
   "cell_type": "code",
   "execution_count": 7,
   "metadata": {},
   "outputs": [],
   "source": [
    "from pyspark.sql.functions import udf #user defined function\n",
    "from pyspark.sql.types import * #Import types == IntegerType, StringType etc.\n",
    "\n",
    "length = udf(lambda listt: len(listt), IntegerType())"
   ]
  },
  {
   "cell_type": "code",
   "execution_count": 8,
   "metadata": {},
   "outputs": [],
   "source": [
    "spark_df2 = spark_df.withColumn('inCitations_count', length(spark_df['inCitations']))"
   ]
  },
  {
   "cell_type": "code",
   "execution_count": 9,
   "metadata": {
    "scrolled": true
   },
   "outputs": [
    {
     "name": "stdout",
     "output_type": "stream",
     "text": [
      "+-----------------+--------------------+\n",
      "|inCitations_count|         inCitations|\n",
      "+-----------------+--------------------+\n",
      "|                0|                  []|\n",
      "|                0|                  []|\n",
      "|                0|                  []|\n",
      "|               13|[8ecaab2a03953fa5...|\n",
      "|                0|                  []|\n",
      "|                0|                  []|\n",
      "|                0|                  []|\n",
      "|                0|                  []|\n",
      "|               22|[ecec08f5ca15e07d...|\n",
      "|                2|[2da3df885d1f032d...|\n",
      "+-----------------+--------------------+\n",
      "only showing top 10 rows\n",
      "\n"
     ]
    }
   ],
   "source": [
    "spark_df2.select('inCitations_count', 'inCitations').show(10)"
   ]
  },
  {
   "cell_type": "markdown",
   "metadata": {},
   "source": [
    "## Creating column that counts the outCitations = how many other papers this paper cited"
   ]
  },
  {
   "cell_type": "code",
   "execution_count": 10,
   "metadata": {},
   "outputs": [
    {
     "name": "stdout",
     "output_type": "stream",
     "text": [
      "+------------------+--------------------+\n",
      "|outCitations_count|        outCitations|\n",
      "+------------------+--------------------+\n",
      "|                 0|                  []|\n",
      "|                 0|                  []|\n",
      "|                 0|                  []|\n",
      "|                69|[cf5cdba6424524ee...|\n",
      "|                 0|                  []|\n",
      "|                 0|                  []|\n",
      "|                 0|                  []|\n",
      "|                 0|                  []|\n",
      "|                 0|                  []|\n",
      "|                 0|                  []|\n",
      "+------------------+--------------------+\n",
      "only showing top 10 rows\n",
      "\n"
     ]
    }
   ],
   "source": [
    "spark_df2 = spark_df2.withColumn('outCitations_count', length(spark_df2['outCitations']))\n",
    "spark_df2.select('outCitations_count', 'outCitations').show(10)"
   ]
  },
  {
   "cell_type": "code",
   "execution_count": 14,
   "metadata": {},
   "outputs": [],
   "source": [
    "#Counting distinct values in each column\n",
    "from pyspark.sql.functions import countDistinct, col\n",
    "\n",
    "distinct_pdf = spark_df2.agg(*(countDistinct(col(c)).alias(c) for c in spark_df2.columns)).collect()\n",
    "\n",
    "distinct_pdf = pd.DataFrame(pd.DataFrame(distinct_pdf, columns = spark_df2.columns).stack(0)).rename({0:'distinct_cnt'}, axis = 1)"
   ]
  },
  {
   "cell_type": "code",
   "execution_count": 66,
   "metadata": {},
   "outputs": [
    {
     "data": {
      "text/html": [
       "<div>\n",
       "<style scoped>\n",
       "    .dataframe tbody tr th:only-of-type {\n",
       "        vertical-align: middle;\n",
       "    }\n",
       "\n",
       "    .dataframe tbody tr th {\n",
       "        vertical-align: top;\n",
       "    }\n",
       "\n",
       "    .dataframe thead th {\n",
       "        text-align: right;\n",
       "    }\n",
       "</style>\n",
       "<table border=\"1\" class=\"dataframe\">\n",
       "  <thead>\n",
       "    <tr style=\"text-align: right;\">\n",
       "      <th></th>\n",
       "      <th></th>\n",
       "      <th>distinct_cnt</th>\n",
       "    </tr>\n",
       "  </thead>\n",
       "  <tbody>\n",
       "    <tr>\n",
       "      <th rowspan=\"22\" valign=\"top\">0</th>\n",
       "      <th>entities</th>\n",
       "      <td>1</td>\n",
       "    </tr>\n",
       "    <tr>\n",
       "      <th>s2PdfUrl</th>\n",
       "      <td>1</td>\n",
       "    </tr>\n",
       "    <tr>\n",
       "      <th>sources</th>\n",
       "      <td>5</td>\n",
       "    </tr>\n",
       "    <tr>\n",
       "      <th>year</th>\n",
       "      <td>85</td>\n",
       "    </tr>\n",
       "    <tr>\n",
       "      <th>outCitations_count</th>\n",
       "      <td>678</td>\n",
       "    </tr>\n",
       "    <tr>\n",
       "      <th>inCitations_count</th>\n",
       "      <td>1654</td>\n",
       "    </tr>\n",
       "    <tr>\n",
       "      <th>fieldsOfStudy</th>\n",
       "      <td>2180</td>\n",
       "    </tr>\n",
       "    <tr>\n",
       "      <th>journalName</th>\n",
       "      <td>50554</td>\n",
       "    </tr>\n",
       "    <tr>\n",
       "      <th>venue</th>\n",
       "      <td>61054</td>\n",
       "    </tr>\n",
       "    <tr>\n",
       "      <th>journalVolume</th>\n",
       "      <td>77493</td>\n",
       "    </tr>\n",
       "    <tr>\n",
       "      <th>journalPages</th>\n",
       "      <td>411597</td>\n",
       "    </tr>\n",
       "    <tr>\n",
       "      <th>outCitations</th>\n",
       "      <td>1572215</td>\n",
       "    </tr>\n",
       "    <tr>\n",
       "      <th>pmid</th>\n",
       "      <td>1692355</td>\n",
       "    </tr>\n",
       "    <tr>\n",
       "      <th>pdfUrls</th>\n",
       "      <td>1783133</td>\n",
       "    </tr>\n",
       "    <tr>\n",
       "      <th>inCitations</th>\n",
       "      <td>2846805</td>\n",
       "    </tr>\n",
       "    <tr>\n",
       "      <th>doiUrl</th>\n",
       "      <td>4886396</td>\n",
       "    </tr>\n",
       "    <tr>\n",
       "      <th>doi</th>\n",
       "      <td>4886420</td>\n",
       "    </tr>\n",
       "    <tr>\n",
       "      <th>paperAbstract</th>\n",
       "      <td>5525030</td>\n",
       "    </tr>\n",
       "    <tr>\n",
       "      <th>authors</th>\n",
       "      <td>8375458</td>\n",
       "    </tr>\n",
       "    <tr>\n",
       "      <th>title</th>\n",
       "      <td>9915513</td>\n",
       "    </tr>\n",
       "    <tr>\n",
       "      <th>s2Url</th>\n",
       "      <td>9976989</td>\n",
       "    </tr>\n",
       "    <tr>\n",
       "      <th>id</th>\n",
       "      <td>9976989</td>\n",
       "    </tr>\n",
       "  </tbody>\n",
       "</table>\n",
       "</div>"
      ],
      "text/plain": [
       "                      distinct_cnt\n",
       "0 entities                       1\n",
       "  s2PdfUrl                       1\n",
       "  sources                        5\n",
       "  year                          85\n",
       "  outCitations_count           678\n",
       "  inCitations_count           1654\n",
       "  fieldsOfStudy               2180\n",
       "  journalName                50554\n",
       "  venue                      61054\n",
       "  journalVolume              77493\n",
       "  journalPages              411597\n",
       "  outCitations             1572215\n",
       "  pmid                     1692355\n",
       "  pdfUrls                  1783133\n",
       "  inCitations              2846805\n",
       "  doiUrl                   4886396\n",
       "  doi                      4886420\n",
       "  paperAbstract            5525030\n",
       "  authors                  8375458\n",
       "  title                    9915513\n",
       "  s2Url                    9976989\n",
       "  id                       9976989"
      ]
     },
     "execution_count": 66,
     "metadata": {},
     "output_type": "execute_result"
    }
   ],
   "source": [
    "distinct_pdf.sort_values('distinct_cnt')"
   ]
  },
  {
   "cell_type": "markdown",
   "metadata": {},
   "source": [
    "## Creating column that for length of abstract"
   ]
  },
  {
   "cell_type": "code",
   "execution_count": 67,
   "metadata": {},
   "outputs": [
    {
     "data": {
      "text/plain": [
       "'The problem of budgetary overrun in real estate projects has been enterprises attach great importance.In this paper,we analyze the cause of budgetary overrun in real estate projects in view of building materials,equipment investment and construction;secondly,from the construction costs of the standardized management,enterprise system management and other aspects,we super effective countermeasures to control the budgetary overrun in real estate projects;finally,taking an example of a real estate project in Hunan Province,in detail we analyze the causes and control measures of budgetary overrun in real estate projects.The study can be implemented to provide guidance for similar projects.'"
      ]
     },
     "execution_count": 67,
     "metadata": {},
     "output_type": "execute_result"
    }
   ],
   "source": [
    "spark_df2.select('paperAbstract').limit(1).collect()[0][0]"
   ]
  },
  {
   "cell_type": "markdown",
   "metadata": {},
   "source": [
    "## Tokenize the abstract & title"
   ]
  },
  {
   "cell_type": "code",
   "execution_count": 68,
   "metadata": {},
   "outputs": [],
   "source": [
    "# word_count = udf(lambda string: len(nltk.word_tokenize(string)), IntegerType()) ## OLD SOLUTION \n",
    "from pyspark.ml.feature import HashingTF, IDF, Tokenizer\n",
    "\n",
    "#tokenize words\n",
    "tokenizer = Tokenizer(inputCol=\"paperAbstract\", outputCol=\"abstract_tokens\")\n",
    "spark_df2 = tokenizer.transform(spark_df2)\n",
    "\n",
    "tokenizer = Tokenizer(inputCol=\"title\", outputCol=\"title_tokens\")\n",
    "spark_df2 = tokenizer.transform(spark_df2)"
   ]
  },
  {
   "cell_type": "markdown",
   "metadata": {},
   "source": [
    "## Remove Stopwords"
   ]
  },
  {
   "cell_type": "code",
   "execution_count": 69,
   "metadata": {},
   "outputs": [],
   "source": [
    "from pyspark.ml.feature import StopWordsRemover\n",
    "\n",
    "#remove stop words\n",
    "remover = StopWordsRemover(inputCol=\"abstract_tokens\", outputCol=\"abstract_tokens_filtered\")\n",
    "spark_df2 = remover.transform(spark_df2)\n",
    "\n",
    "#remove stop words\n",
    "remover = StopWordsRemover(inputCol=\"title_tokens\", outputCol=\"title_tokens_filtered\")\n",
    "spark_df2 = remover.transform(spark_df2)"
   ]
  },
  {
   "cell_type": "markdown",
   "metadata": {},
   "source": [
    "## Create wcount columns"
   ]
  },
  {
   "cell_type": "code",
   "execution_count": 72,
   "metadata": {},
   "outputs": [
    {
     "name": "stdout",
     "output_type": "stream",
     "text": [
      "+-------------------------------+------------+------------------------+---------------+\n",
      "|          title_tokens_filtered|title_wcount|abstract_tokens_filtered|abstract_wcount|\n",
      "+-------------------------------+------------+------------------------+---------------+\n",
      "|           [cause, analysis,...|           9|    [problem, budgeta...|             61|\n",
      "|           [clair, comme, lu...|          21|                      []|              1|\n",
      "|           [unexpected, deat...|          10|    [aims, objectives...|            229|\n",
      "|           [rna-seq, analysi...|          10|    [mitogen-activate...|            147|\n",
      "|           [temporal, trends...|          11|                      []|              1|\n",
      "|[激動期における企業とqc-2-消...|           1|                      []|              1|\n",
      "|           [application, ium...|           6|                      []|              1|\n",
      "|           [constituição, lé...|           6|    [o, lexico, despe...|            121|\n",
      "|           [nano-biocomposit...|           8|    [ternary, nano-bi...|             84|\n",
      "|           [feasibility, two...|           9|    [background, aim,...|            157|\n",
      "+-------------------------------+------------+------------------------+---------------+\n",
      "only showing top 10 rows\n",
      "\n"
     ]
    }
   ],
   "source": [
    "from pyspark.sql.functions import udf \n",
    "\n",
    "word_count = udf(lambda tokens: len(tokens), IntegerType()) \n",
    "\n",
    "spark_df2 = spark_df2.withColumn('abstract_wcount', word_count(spark_df2['abstract_tokens_filtered']))\n",
    "spark_df2 = spark_df2.withColumn('title_wcount', word_count(spark_df2['title_tokens_filtered']))\n",
    "\n",
    "spark_df2.select('title_tokens_filtered', 'title_wcount', 'abstract_tokens_filtered', 'abstract_wcount').show(10)"
   ]
  },
  {
   "cell_type": "markdown",
   "metadata": {},
   "source": [
    "## TFIDF for abstract and word2vec for title"
   ]
  },
  {
   "cell_type": "code",
   "execution_count": 73,
   "metadata": {},
   "outputs": [],
   "source": [
    "#Maps a sequence of terms to their term frequencies using the hashing trick. \n",
    "#alternatively, CountVectorizer can also be used to get term frequency vectors\n",
    "hashingTF = HashingTF(inputCol=\"abstract_tokens_filtered\", outputCol=\"abstract_tokens_filtered_count\")\n",
    "featurizedData = hashingTF.transform(spark_df2)\n",
    "\n",
    "idf = IDF(inputCol=\"abstract_tokens_filtered_count\", outputCol=\"abstract_tfidf\")\n",
    "idfModel = idf.fit(featurizedData)\n",
    "nlpdf = idfModel.transform(featurizedData)"
   ]
  },
  {
   "cell_type": "code",
   "execution_count": 76,
   "metadata": {},
   "outputs": [
    {
     "name": "stdout",
     "output_type": "stream",
     "text": [
      "+------------------------------+--------------------+\n",
      "|abstract_tokens_filtered_count|      abstract_tfidf|\n",
      "+------------------------------+--------------------+\n",
      "|          (262144,[728,7453...|(262144,[728,7453...|\n",
      "|          (262144,[249180],...|(262144,[249180],...|\n",
      "|          (262144,[666,4799...|(262144,[666,4799...|\n",
      "|          (262144,[1164,388...|(262144,[1164,388...|\n",
      "|          (262144,[249180],...|(262144,[249180],...|\n",
      "+------------------------------+--------------------+\n",
      "only showing top 5 rows\n",
      "\n"
     ]
    }
   ],
   "source": [
    "nlpdf.select(\"abstract_tokens_filtered_count\", \"abstract_tfidf\").show(5)"
   ]
  },
  {
   "cell_type": "code",
   "execution_count": null,
   "metadata": {},
   "outputs": [],
   "source": [
    "# Learn a mapping from words to Vectors\n",
    "from pyspark.ml.feature import Word2Vec\n",
    "word2Vec = Word2Vec(vectorSize=100, minCount=0, inputCol=\"title_tokens_filtered\", outputCol=\"title_wordVectors\")\n",
    "w2VM = word2Vec.fit(nlpdf)\n",
    "nlpdf = w2VM.transform(nlpdf)"
   ]
  },
  {
   "cell_type": "code",
   "execution_count": null,
   "metadata": {},
   "outputs": [],
   "source": [
    "nlpdf.select(\"title_tokens_filtered\", \"wordVectors\").show(2)"
   ]
  },
  {
   "cell_type": "code",
   "execution_count": null,
   "metadata": {},
   "outputs": [],
   "source": [
    "nlpdf.write.csv('nlpdf.csv')"
   ]
  },
  {
   "cell_type": "code",
   "execution_count": 36,
   "metadata": {},
   "outputs": [
    {
     "data": {
      "text/plain": [
       "50554"
      ]
     },
     "execution_count": 36,
     "metadata": {},
     "output_type": "execute_result"
    }
   ],
   "source": [
    "spark_df2.select('journalName').distinct().count()"
   ]
  },
  {
   "cell_type": "code",
   "execution_count": 40,
   "metadata": {},
   "outputs": [
    {
     "name": "stdout",
     "output_type": "stream",
     "text": [
      "+---------------------------------------------------------------------------+\n",
      "|journalName                                                                |\n",
      "+---------------------------------------------------------------------------+\n",
      "|1996 IEEE Nuclear Science Symposium. Conference Record                     |\n",
      "|Language, speech, and hearing services in schools                          |\n",
      "|QRB. Quality review bulletin                                               |\n",
      "|The Plant cell                                                             |\n",
      "|Clinical Neurophysiology                                                   |\n",
      "|Public Choice                                                              |\n",
      "|American journal of physiology. Heart and circulatory physiology           |\n",
      "|Empirica                                                                   |\n",
      "|Phytomedicine : international journal of phytotherapy and phytopharmacology|\n",
      "|Toxicon : official journal of the International Society on Toxinology      |\n",
      "+---------------------------------------------------------------------------+\n",
      "only showing top 10 rows\n",
      "\n"
     ]
    }
   ],
   "source": [
    "spark_df2.select('journalName').distinct().show(10, False)"
   ]
  },
  {
   "cell_type": "code",
   "execution_count": 34,
   "metadata": {},
   "outputs": [
    {
     "name": "stdout",
     "output_type": "stream",
     "text": [
      "+---------------+\n",
      "|        sources|\n",
      "+---------------+\n",
      "|      [Medline]|\n",
      "|         [DBLP]|\n",
      "|             []|\n",
      "|[Medline, DBLP]|\n",
      "|[DBLP, Medline]|\n",
      "+---------------+\n",
      "\n"
     ]
    }
   ],
   "source": [
    "spark_df2.select(['sources']).distinct().show()"
   ]
  },
  {
   "cell_type": "markdown",
   "metadata": {},
   "source": [
    "## Fixing some dtypes\n"
   ]
  },
  {
   "cell_type": "code",
   "execution_count": 50,
   "metadata": {},
   "outputs": [
    {
     "data": {
      "text/plain": [
       "[('authors', 'array<struct<ids:array<string>,name:string>>'),\n",
       " ('doi', 'string'),\n",
       " ('doiUrl', 'string'),\n",
       " ('entities', 'array<string>'),\n",
       " ('fieldsOfStudy', 'array<string>'),\n",
       " ('id', 'string'),\n",
       " ('inCitations', 'array<string>'),\n",
       " ('journalName', 'string'),\n",
       " ('journalPages', 'string'),\n",
       " ('journalVolume', 'string'),\n",
       " ('outCitations', 'array<string>'),\n",
       " ('paperAbstract', 'string'),\n",
       " ('pdfUrls', 'array<string>'),\n",
       " ('pmid', 'string'),\n",
       " ('s2PdfUrl', 'string'),\n",
       " ('s2Url', 'string'),\n",
       " ('sources', 'array<string>'),\n",
       " ('title', 'string'),\n",
       " ('venue', 'string'),\n",
       " ('year', 'bigint'),\n",
       " ('inCitations_count', 'int'),\n",
       " ('outCitations_count', 'int'),\n",
       " ('abstract_tokens', 'array<string>'),\n",
       " ('title_tokens', 'array<string>'),\n",
       " ('abstract_tokens_filtered', 'array<string>'),\n",
       " ('title_tokens_filtered', 'array<string>'),\n",
       " ('abstract_wcount', 'int'),\n",
       " ('title_wcount', 'int')]"
      ]
     },
     "execution_count": 50,
     "metadata": {},
     "output_type": "execute_result"
    }
   ],
   "source": [
    "spark_df2.dtypes"
   ]
  },
  {
   "cell_type": "code",
   "execution_count": 51,
   "metadata": {},
   "outputs": [],
   "source": [
    "import pyspark.sql.functions as F\n",
    "spark_df2 = spark_df2.withColumn('author_ids', F.col('authors.ids'))\n",
    "spark_df2 = spark_df2.withColumn('author_names', F.col('authors.name'))"
   ]
  },
  {
   "cell_type": "markdown",
   "metadata": {},
   "source": [
    "#### Dropping 'authors' in favor of author_ids, author_names"
   ]
  },
  {
   "cell_type": "code",
   "execution_count": 54,
   "metadata": {},
   "outputs": [],
   "source": [
    "spark_df3 = spark_df2.drop('authors', 'paper') ### ONLY DROPPING AUTHORS SINCE WILL BE USING CITATIONS FORGRAPH\n",
    "\n",
    "# spark_df3 = spark_df2.drop('authors', 'outCitations', 'inCitations')"
   ]
  },
  {
   "cell_type": "markdown",
   "metadata": {},
   "source": [
    "#### Entities is empty so let's drop it "
   ]
  },
  {
   "cell_type": "code",
   "execution_count": 27,
   "metadata": {},
   "outputs": [
    {
     "data": {
      "text/plain": [
       "1"
      ]
     },
     "execution_count": 27,
     "metadata": {},
     "output_type": "execute_result"
    }
   ],
   "source": [
    "spark_df3.select('entities').distinct().count()"
   ]
  },
  {
   "cell_type": "code",
   "execution_count": 84,
   "metadata": {},
   "outputs": [
    {
     "name": "stdout",
     "output_type": "stream",
     "text": [
      "root\n",
      " |-- doi: string (nullable = true)\n",
      " |-- doiUrl: string (nullable = true)\n",
      " |-- fieldsOfStudy: array (nullable = true)\n",
      " |    |-- element: string (containsNull = true)\n",
      " |-- id: string (nullable = true)\n",
      " |-- inCitations: array (nullable = true)\n",
      " |    |-- element: string (containsNull = true)\n",
      " |-- journalName: string (nullable = true)\n",
      " |-- journalPages: string (nullable = true)\n",
      " |-- journalVolume: string (nullable = true)\n",
      " |-- outCitations: array (nullable = true)\n",
      " |    |-- element: string (containsNull = true)\n",
      " |-- paperAbstract: string (nullable = true)\n",
      " |-- pdfUrls: array (nullable = true)\n",
      " |    |-- element: string (containsNull = true)\n",
      " |-- pmid: string (nullable = true)\n",
      " |-- s2PdfUrl: string (nullable = true)\n",
      " |-- s2Url: string (nullable = true)\n",
      " |-- sources: array (nullable = true)\n",
      " |    |-- element: string (containsNull = true)\n",
      " |-- title: string (nullable = true)\n",
      " |-- venue: string (nullable = true)\n",
      " |-- year: long (nullable = true)\n",
      " |-- inCitations_count: integer (nullable = true)\n",
      " |-- outCitations_count: integer (nullable = true)\n",
      " |-- abstract_tokens: array (nullable = true)\n",
      " |    |-- element: string (containsNull = true)\n",
      " |-- title_tokens: array (nullable = true)\n",
      " |    |-- element: string (containsNull = true)\n",
      " |-- abstract_tokens_filtered: array (nullable = true)\n",
      " |    |-- element: string (containsNull = true)\n",
      " |-- title_tokens_filtered: array (nullable = true)\n",
      " |    |-- element: string (containsNull = true)\n",
      " |-- abstract_wcount: integer (nullable = true)\n",
      " |-- title_wcount: integer (nullable = true)\n",
      " |-- author_ids: array (nullable = true)\n",
      " |    |-- element: array (containsNull = true)\n",
      " |    |    |-- element: string (containsNull = true)\n",
      " |-- author_names: array (nullable = true)\n",
      " |    |-- element: string (containsNull = true)\n",
      "\n"
     ]
    }
   ],
   "source": [
    "spark_df3.printSchema()"
   ]
  },
  {
   "cell_type": "code",
   "execution_count": 55,
   "metadata": {},
   "outputs": [],
   "source": [
    "spark_df3 = spark_df3.drop('entities')"
   ]
  },
  {
   "cell_type": "code",
   "execution_count": 59,
   "metadata": {},
   "outputs": [
    {
     "name": "stdout",
     "output_type": "stream",
     "text": [
      "+-------+------------------+------------------+-----------------+------------------+\n",
      "|summary| inCitations_count|outCitations_count|  abstract_wcount|      title_wcount|\n",
      "+-------+------------------+------------------+-----------------+------------------+\n",
      "|  count|           9976989|           9976989|          9976989|           9976989|\n",
      "|   mean|3.5324064204140146|3.5152323010479414|59.83794188807866|10.674855109091531|\n",
      "| stddev| 33.82536069151524|14.103704720854711|82.27236804994295|5.6160200930786335|\n",
      "|    min|                 0|                 0|                0|                 1|\n",
      "|    max|             36091|              2497|             4868|               181|\n",
      "+-------+------------------+------------------+-----------------+------------------+\n",
      "\n"
     ]
    }
   ],
   "source": [
    "spark_df3.select('inCitations_count', 'outCitations_count', 'abstract_wcount','title_wcount').describe().show()"
   ]
  },
  {
   "cell_type": "markdown",
   "metadata": {},
   "source": [
    "### Now let's unpack the arrays and turn them into strings"
   ]
  },
  {
   "cell_type": "code",
   "execution_count": 60,
   "metadata": {},
   "outputs": [],
   "source": [
    "#Defining function to unpack list intro string joined with ', ' \n",
    "udf_unpack = udf(lambda listt: ', '.join(listt), StringType())"
   ]
  },
  {
   "cell_type": "code",
   "execution_count": 74,
   "metadata": {},
   "outputs": [
    {
     "data": {
      "text/plain": [
       "9976989"
      ]
     },
     "execution_count": 74,
     "metadata": {},
     "output_type": "execute_result"
    }
   ],
   "source": [
    "spark_df3.count()"
   ]
  },
  {
   "cell_type": "code",
   "execution_count": 80,
   "metadata": {},
   "outputs": [],
   "source": [
    "pdf_temp = spark_df3.limit(5).toPandas()"
   ]
  },
  {
   "cell_type": "code",
   "execution_count": 85,
   "metadata": {},
   "outputs": [
    {
     "data": {
      "text/plain": [
       "Index(['doi', 'doiUrl', 'fieldsOfStudy', 'id', 'inCitations', 'journalName',\n",
       "       'journalPages', 'journalVolume', 'outCitations', 'paperAbstract',\n",
       "       'pdfUrls', 'pmid', 's2PdfUrl', 's2Url', 'sources', 'title', 'venue',\n",
       "       'year', 'inCitations_count', 'outCitations_count', 'abstract_tokens',\n",
       "       'title_tokens', 'abstract_tokens_filtered', 'title_tokens_filtered',\n",
       "       'abstract_wcount', 'title_wcount', 'author_ids', 'author_names'],\n",
       "      dtype='object')"
      ]
     },
     "execution_count": 85,
     "metadata": {},
     "output_type": "execute_result"
    }
   ],
   "source": [
    "pdf_temp.columns"
   ]
  },
  {
   "cell_type": "code",
   "execution_count": 88,
   "metadata": {},
   "outputs": [
    {
     "data": {
      "text/html": [
       "<div>\n",
       "<style scoped>\n",
       "    .dataframe tbody tr th:only-of-type {\n",
       "        vertical-align: middle;\n",
       "    }\n",
       "\n",
       "    .dataframe tbody tr th {\n",
       "        vertical-align: top;\n",
       "    }\n",
       "\n",
       "    .dataframe thead th {\n",
       "        text-align: right;\n",
       "    }\n",
       "</style>\n",
       "<table border=\"1\" class=\"dataframe\">\n",
       "  <thead>\n",
       "    <tr style=\"text-align: right;\">\n",
       "      <th></th>\n",
       "      <th>doi</th>\n",
       "      <th>doiUrl</th>\n",
       "      <th>fieldsOfStudy</th>\n",
       "      <th>id</th>\n",
       "      <th>inCitations</th>\n",
       "      <th>journalName</th>\n",
       "      <th>journalPages</th>\n",
       "      <th>journalVolume</th>\n",
       "      <th>outCitations</th>\n",
       "      <th>paperAbstract</th>\n",
       "      <th>pdfUrls</th>\n",
       "      <th>pmid</th>\n",
       "      <th>s2PdfUrl</th>\n",
       "      <th>s2Url</th>\n",
       "      <th>sources</th>\n",
       "      <th>title</th>\n",
       "      <th>venue</th>\n",
       "      <th>year</th>\n",
       "      <th>inCitations_count</th>\n",
       "      <th>outCitations_count</th>\n",
       "      <th>abstract_tokens</th>\n",
       "      <th>title_tokens</th>\n",
       "      <th>abstract_tokens_filtered</th>\n",
       "      <th>title_tokens_filtered</th>\n",
       "      <th>abstract_wcount</th>\n",
       "      <th>title_wcount</th>\n",
       "      <th>author_ids</th>\n",
       "      <th>author_names</th>\n",
       "    </tr>\n",
       "  </thead>\n",
       "  <tbody>\n",
       "    <tr>\n",
       "      <th>0</th>\n",
       "      <td></td>\n",
       "      <td></td>\n",
       "      <td>[Business]</td>\n",
       "      <td>b9c27ac1bb8b3ec9d4faa06ed7163d002c8967bb</td>\n",
       "      <td>[]</td>\n",
       "      <td></td>\n",
       "      <td></td>\n",
       "      <td></td>\n",
       "      <td>[]</td>\n",
       "      <td>The problem of budgetary overrun in real estat...</td>\n",
       "      <td>[]</td>\n",
       "      <td></td>\n",
       "      <td></td>\n",
       "      <td>https://semanticscholar.org/paper/b9c27ac1bb8b...</td>\n",
       "      <td>[]</td>\n",
       "      <td>Cause Analysis and Control Measures of Budgeta...</td>\n",
       "      <td></td>\n",
       "      <td>2014</td>\n",
       "      <td>0</td>\n",
       "      <td>0</td>\n",
       "      <td>[the, problem, of, budgetary, overrun, in, rea...</td>\n",
       "      <td>[cause, analysis, and, control, measures, of, ...</td>\n",
       "      <td>[problem, budgetary, overrun, real, estate, pr...</td>\n",
       "      <td>[cause, analysis, control, measures, budgetary...</td>\n",
       "      <td>61</td>\n",
       "      <td>12</td>\n",
       "      <td>[[52602509]]</td>\n",
       "      <td>[Yang Li-pin]</td>\n",
       "    </tr>\n",
       "    <tr>\n",
       "      <th>1</th>\n",
       "      <td></td>\n",
       "      <td></td>\n",
       "      <td>[History]</td>\n",
       "      <td>91cac7b12800a6238d6bb3bcdf338f8a1556b912</td>\n",
       "      <td>[]</td>\n",
       "      <td></td>\n",
       "      <td></td>\n",
       "      <td></td>\n",
       "      <td>[]</td>\n",
       "      <td></td>\n",
       "      <td>[]</td>\n",
       "      <td></td>\n",
       "      <td></td>\n",
       "      <td>https://semanticscholar.org/paper/91cac7b12800...</td>\n",
       "      <td>[]</td>\n",
       "      <td>Clair comme lune / un texte de Sandra V. Feder...</td>\n",
       "      <td></td>\n",
       "      <td>2016</td>\n",
       "      <td>0</td>\n",
       "      <td>0</td>\n",
       "      <td>[]</td>\n",
       "      <td>[clair, comme, lune, /, un, texte, de, sandra,...</td>\n",
       "      <td>[]</td>\n",
       "      <td>[clair, comme, lune, /, un, texte, de, sandra,...</td>\n",
       "      <td>1</td>\n",
       "      <td>21</td>\n",
       "      <td>[[122800702], [122800702], [120166569], [83466...</td>\n",
       "      <td>[Sandra V. . Auteur du texte Feder, Sandra V. ...</td>\n",
       "    </tr>\n",
       "    <tr>\n",
       "      <th>2</th>\n",
       "      <td>10.1111/jocn.12477</td>\n",
       "      <td>https://doi.org/10.1111/jocn.12477</td>\n",
       "      <td>[Medicine]</td>\n",
       "      <td>412b10a92babf350975dd98e58039891d792df6d</td>\n",
       "      <td>[]</td>\n",
       "      <td></td>\n",
       "      <td></td>\n",
       "      <td></td>\n",
       "      <td>[]</td>\n",
       "      <td>Aims and objectives \\nTo explore nurses’ narra...</td>\n",
       "      <td>[]</td>\n",
       "      <td></td>\n",
       "      <td></td>\n",
       "      <td>https://semanticscholar.org/paper/412b10a92bab...</td>\n",
       "      <td>[]</td>\n",
       "      <td>Unexpected deaths in medical wards during nigh...</td>\n",
       "      <td></td>\n",
       "      <td>2013</td>\n",
       "      <td>0</td>\n",
       "      <td>0</td>\n",
       "      <td>[aims, and, objectives, , to, explore, nurses’...</td>\n",
       "      <td>[unexpected, deaths, in, medical, wards, durin...</td>\n",
       "      <td>[aims, objectives, , explore, nurses’, narrati...</td>\n",
       "      <td>[unexpected, deaths, medical, wards, night, sh...</td>\n",
       "      <td>229</td>\n",
       "      <td>14</td>\n",
       "      <td>[[1392355377], [1392355366]]</td>\n",
       "      <td>[Mns Rn Community Nurse Marco Petean Bns, Mns ...</td>\n",
       "    </tr>\n",
       "    <tr>\n",
       "      <th>3</th>\n",
       "      <td>10.1371/journal.pone.0143128</td>\n",
       "      <td>https://doi.org/10.1371/journal.pone.0143128</td>\n",
       "      <td>[Medicine, Biology]</td>\n",
       "      <td>0de1cecd2ed49812f3a55e4b78edf9ffd292618c</td>\n",
       "      <td>[8ecaab2a03953fa5cf08ab5db2bb49c16d90527d, 8ea...</td>\n",
       "      <td></td>\n",
       "      <td>551 - 60</td>\n",
       "      <td>10</td>\n",
       "      <td>[cf5cdba6424524ee9a5b6522d2c3e0bd1968116a, d4a...</td>\n",
       "      <td>The mitogen-activated protein kinase (MAPK) ca...</td>\n",
       "      <td>[http://ftp.ncbi.nlm.nih.gov/pub/pmc/46/8e/pon...</td>\n",
       "      <td>26599013</td>\n",
       "      <td></td>\n",
       "      <td>https://semanticscholar.org/paper/0de1cecd2ed4...</td>\n",
       "      <td>[Medline]</td>\n",
       "      <td>RNA-Seq Analysis Reveals MAPKKK Family Members...</td>\n",
       "      <td>PloS one</td>\n",
       "      <td>2015</td>\n",
       "      <td>13</td>\n",
       "      <td>69</td>\n",
       "      <td>[the, mitogen-activated, protein, kinase, (map...</td>\n",
       "      <td>[rna-seq, analysis, reveals, mapkkk, family, m...</td>\n",
       "      <td>[mitogen-activated, protein, kinase, (mapk), c...</td>\n",
       "      <td>[rna-seq, analysis, reveals, mapkkk, family, m...</td>\n",
       "      <td>147</td>\n",
       "      <td>12</td>\n",
       "      <td>[[47909706], [21555447], [4751875], [2381066],...</td>\n",
       "      <td>[Ya Jun Liu, Miaoyi Zhou, Zhaoxu Gao, Wen Ren,...</td>\n",
       "    </tr>\n",
       "    <tr>\n",
       "      <th>4</th>\n",
       "      <td>10.1016/S0735-1097(12)60473-2</td>\n",
       "      <td>https://doi.org/10.1016/S0735-1097%2812%2960473-2</td>\n",
       "      <td>[Medicine]</td>\n",
       "      <td>1d9fee40f59bf00eb85ac8dd0e75d0514648c7a7</td>\n",
       "      <td>[]</td>\n",
       "      <td></td>\n",
       "      <td></td>\n",
       "      <td></td>\n",
       "      <td>[]</td>\n",
       "      <td></td>\n",
       "      <td>[]</td>\n",
       "      <td></td>\n",
       "      <td></td>\n",
       "      <td>https://semanticscholar.org/paper/1d9fee40f59b...</td>\n",
       "      <td>[]</td>\n",
       "      <td>Temporal Trends and Factors Predicting the Use...</td>\n",
       "      <td></td>\n",
       "      <td>2012</td>\n",
       "      <td>0</td>\n",
       "      <td>0</td>\n",
       "      <td>[]</td>\n",
       "      <td>[temporal, trends, and, factors, predicting, t...</td>\n",
       "      <td>[]</td>\n",
       "      <td>[temporal, trends, factors, predicting, use, t...</td>\n",
       "      <td>1</td>\n",
       "      <td>15</td>\n",
       "      <td>[[47264369], [6544742], [50261568], [35095263]...</td>\n",
       "      <td>[Awsan Noman, Mohaned Egred, Ioakim Spyridopou...</td>\n",
       "    </tr>\n",
       "  </tbody>\n",
       "</table>\n",
       "</div>"
      ],
      "text/plain": [
       "                             doi  \\\n",
       "0                                  \n",
       "1                                  \n",
       "2             10.1111/jocn.12477   \n",
       "3   10.1371/journal.pone.0143128   \n",
       "4  10.1016/S0735-1097(12)60473-2   \n",
       "\n",
       "                                              doiUrl        fieldsOfStudy  \\\n",
       "0                                                              [Business]   \n",
       "1                                                               [History]   \n",
       "2                 https://doi.org/10.1111/jocn.12477           [Medicine]   \n",
       "3       https://doi.org/10.1371/journal.pone.0143128  [Medicine, Biology]   \n",
       "4  https://doi.org/10.1016/S0735-1097%2812%2960473-2           [Medicine]   \n",
       "\n",
       "                                         id  \\\n",
       "0  b9c27ac1bb8b3ec9d4faa06ed7163d002c8967bb   \n",
       "1  91cac7b12800a6238d6bb3bcdf338f8a1556b912   \n",
       "2  412b10a92babf350975dd98e58039891d792df6d   \n",
       "3  0de1cecd2ed49812f3a55e4b78edf9ffd292618c   \n",
       "4  1d9fee40f59bf00eb85ac8dd0e75d0514648c7a7   \n",
       "\n",
       "                                         inCitations journalName journalPages  \\\n",
       "0                                                 []                            \n",
       "1                                                 []                            \n",
       "2                                                 []                            \n",
       "3  [8ecaab2a03953fa5cf08ab5db2bb49c16d90527d, 8ea...                 551 - 60   \n",
       "4                                                 []                            \n",
       "\n",
       "  journalVolume                                       outCitations  \\\n",
       "0                                                               []   \n",
       "1                                                               []   \n",
       "2                                                               []   \n",
       "3            10  [cf5cdba6424524ee9a5b6522d2c3e0bd1968116a, d4a...   \n",
       "4                                                               []   \n",
       "\n",
       "                                       paperAbstract  \\\n",
       "0  The problem of budgetary overrun in real estat...   \n",
       "1                                                      \n",
       "2  Aims and objectives \\nTo explore nurses’ narra...   \n",
       "3  The mitogen-activated protein kinase (MAPK) ca...   \n",
       "4                                                      \n",
       "\n",
       "                                             pdfUrls      pmid s2PdfUrl  \\\n",
       "0                                                 []                      \n",
       "1                                                 []                      \n",
       "2                                                 []                      \n",
       "3  [http://ftp.ncbi.nlm.nih.gov/pub/pmc/46/8e/pon...  26599013            \n",
       "4                                                 []                      \n",
       "\n",
       "                                               s2Url    sources  \\\n",
       "0  https://semanticscholar.org/paper/b9c27ac1bb8b...         []   \n",
       "1  https://semanticscholar.org/paper/91cac7b12800...         []   \n",
       "2  https://semanticscholar.org/paper/412b10a92bab...         []   \n",
       "3  https://semanticscholar.org/paper/0de1cecd2ed4...  [Medline]   \n",
       "4  https://semanticscholar.org/paper/1d9fee40f59b...         []   \n",
       "\n",
       "                                               title     venue  year  \\\n",
       "0  Cause Analysis and Control Measures of Budgeta...            2014   \n",
       "1  Clair comme lune / un texte de Sandra V. Feder...            2016   \n",
       "2  Unexpected deaths in medical wards during nigh...            2013   \n",
       "3  RNA-Seq Analysis Reveals MAPKKK Family Members...  PloS one  2015   \n",
       "4  Temporal Trends and Factors Predicting the Use...            2012   \n",
       "\n",
       "   inCitations_count  outCitations_count  \\\n",
       "0                  0                   0   \n",
       "1                  0                   0   \n",
       "2                  0                   0   \n",
       "3                 13                  69   \n",
       "4                  0                   0   \n",
       "\n",
       "                                     abstract_tokens  \\\n",
       "0  [the, problem, of, budgetary, overrun, in, rea...   \n",
       "1                                                 []   \n",
       "2  [aims, and, objectives, , to, explore, nurses’...   \n",
       "3  [the, mitogen-activated, protein, kinase, (map...   \n",
       "4                                                 []   \n",
       "\n",
       "                                        title_tokens  \\\n",
       "0  [cause, analysis, and, control, measures, of, ...   \n",
       "1  [clair, comme, lune, /, un, texte, de, sandra,...   \n",
       "2  [unexpected, deaths, in, medical, wards, durin...   \n",
       "3  [rna-seq, analysis, reveals, mapkkk, family, m...   \n",
       "4  [temporal, trends, and, factors, predicting, t...   \n",
       "\n",
       "                            abstract_tokens_filtered  \\\n",
       "0  [problem, budgetary, overrun, real, estate, pr...   \n",
       "1                                                 []   \n",
       "2  [aims, objectives, , explore, nurses’, narrati...   \n",
       "3  [mitogen-activated, protein, kinase, (mapk), c...   \n",
       "4                                                 []   \n",
       "\n",
       "                               title_tokens_filtered  abstract_wcount  \\\n",
       "0  [cause, analysis, control, measures, budgetary...               61   \n",
       "1  [clair, comme, lune, /, un, texte, de, sandra,...                1   \n",
       "2  [unexpected, deaths, medical, wards, night, sh...              229   \n",
       "3  [rna-seq, analysis, reveals, mapkkk, family, m...              147   \n",
       "4  [temporal, trends, factors, predicting, use, t...                1   \n",
       "\n",
       "   title_wcount                                         author_ids  \\\n",
       "0            12                                       [[52602509]]   \n",
       "1            21  [[122800702], [122800702], [120166569], [83466...   \n",
       "2            14                       [[1392355377], [1392355366]]   \n",
       "3            12  [[47909706], [21555447], [4751875], [2381066],...   \n",
       "4            15  [[47264369], [6544742], [50261568], [35095263]...   \n",
       "\n",
       "                                        author_names  \n",
       "0                                      [Yang Li-pin]  \n",
       "1  [Sandra V. . Auteur du texte Feder, Sandra V. ...  \n",
       "2  [Mns Rn Community Nurse Marco Petean Bns, Mns ...  \n",
       "3  [Ya Jun Liu, Miaoyi Zhou, Zhaoxu Gao, Wen Ren,...  \n",
       "4  [Awsan Noman, Mohaned Egred, Ioakim Spyridopou...  "
      ]
     },
     "execution_count": 88,
     "metadata": {},
     "output_type": "execute_result"
    }
   ],
   "source": [
    "pd.set_option('display.max_columns', None)\n",
    "pdf_temp.head()"
   ]
  },
  {
   "cell_type": "code",
   "execution_count": 93,
   "metadata": {},
   "outputs": [
    {
     "name": "stdout",
     "output_type": "stream",
     "text": [
      "+-------------------------------------------------------------------------------+----------------------+----------------------+----------------------+----------------------+------------------------+\n",
      "|journalName                                                                    |min(inCitations_count)|max(inCitations_count)|avg(inCitations_count)|sum(inCitations_count)|count(inCitations_count)|\n",
      "+-------------------------------------------------------------------------------+----------------------+----------------------+----------------------+----------------------+------------------------+\n",
      "|                                                                               |0                     |36091                 |1.8491256946141696    |14359981              |7765822                 |\n",
      "|Nature                                                                         |0                     |8234                  |15.034860284012826    |328211                |21830                   |\n",
      "|Science                                                                        |0                     |5065                  |31.754250712852468    |300681                |9469                    |\n",
      "|The Journal of biological chemistry                                            |0                     |1200                  |27.48729184925504     |250904                |9128                    |\n",
      "|ArXiv                                                                          |0                     |12221                 |8.842853812077408     |75854                 |8578                    |\n",
      "|Proceedings of the National Academy of Sciences of the United States of America|0                     |5779                  |47.98749177090191     |364465                |7595                    |\n",
      "|The Lancet                                                                     |0                     |2130                  |14.663386396526773    |101324                |6910                    |\n",
      "|British medical journal                                                        |0                     |435                   |1.9031931069437404    |11265                 |5919                    |\n",
      "|Biochimica et biophysica acta                                                  |0                     |762                   |10.671597633136095    |57712                 |5408                    |\n",
      "|Physical review letters                                                        |0                     |2505                  |13.400407747196738    |65729                 |4905                    |\n",
      "|Biochemical and biophysical research communications                            |0                     |799                   |11.514249525015833    |54543                 |4737                    |\n",
      "|The New England journal of medicine                                            |0                     |3386                  |31.32010096374484     |136493                |4358                    |\n",
      "|BMJ                                                                            |0                     |3526                  |11.673018113385085    |49622                 |4251                    |\n",
      "|JAMA                                                                           |0                     |3045                  |18.284634146341464    |74967                 |4100                    |\n",
      "|Journal of immunology                                                          |0                     |765                   |27.320043691971602    |100046                |3662                    |\n",
      "|Nursing standard (Royal College of Nursing (Great Britain) : 1987)             |0                     |48                    |0.3313186813186813    |1206                  |3640                    |\n",
      "|Biochemistry                                                                   |0                     |542                   |12.637954987496526    |45484                 |3599                    |\n",
      "|Journal of the American Chemical Society                                       |0                     |344                   |8.665578635014837     |29203                 |3370                    |\n",
      "|Brain Research                                                                 |0                     |616                   |13.897755610972569    |44584                 |3208                    |\n",
      "|The Biochemical journal                                                        |0                     |1980                  |12.223890339425587    |37454                 |3064                    |\n",
      "+-------------------------------------------------------------------------------+----------------------+----------------------+----------------------+----------------------+------------------------+\n",
      "only showing top 20 rows\n",
      "\n"
     ]
    }
   ],
   "source": [
    "spark_df3.groupby('journalName').agg(F.min(spark_df3.inCitations_count),F.max(spark_df3.inCitations_count), \\\n",
    "              F.avg(spark_df3.inCitations_count),F.sum(spark_df3.inCitations_count), \\\n",
    "             F.count(spark_df3.inCitations_count)).sort('count(inCitations_count)', ascending = False).show(truncate = False)"
   ]
  },
  {
   "cell_type": "code",
   "execution_count": null,
   "metadata": {},
   "outputs": [],
   "source": [
    "pdf[:20]"
   ]
  },
  {
   "cell_type": "code",
   "execution_count": 89,
   "metadata": {},
   "outputs": [
    {
     "data": {
      "image/png": "[encoded data removed]",
      "text/plain": [
       "<Figure size 432x288 with 1 Axes>"
      ]
     },
     "metadata": {},
     "output_type": "display_data"
    }
   ],
   "source": [
    "fields_count = spark_df3.groupby('journalName').count().sort('count', ascending = False)\n",
    "#convert Pyspark dataframe to Pandas dataframe for plotting\n",
    "pdf = fields_count.toPandas()\n",
    "pdf[:20].plot(kind= 'bar', x='journalName')\n",
    "plt.show()"
   ]
  },
  {
   "cell_type": "code",
   "execution_count": 75,
   "metadata": {},
   "outputs": [],
   "source": [
    "from pyspark.ml.feature import VectorAssembler\n",
    "from pyspark.ml import Pipeline\n",
    "from pyspark.ml.feature import StringIndexer, OneHotEncoderEstimator\n",
    "from pyspark.sql.functions import explode \n",
    "\n",
    "spark_temp = spark_df3.select('id', explode('fieldsOfStudy').alias('fieldsOfStudy'))\n",
    "\n",
    "indexer = StringIndexer(inputCol=\"fieldsOfStudy\", outputCol=\"fieldsOfStudyIdx\").setHandleInvalid(\"skip\")\n",
    "onehotenc = OneHotEncoderEstimator(inputCols=indexer.getOutputCol(), outputCols=\"fieldsOfStudyVec\")\n",
    "\n",
    "#run it through a pipeline\n",
    "pipeline = Pipeline(stages=[indexer, onehotenc])\n",
    "encodedData = pipeline.fit(spark_temp).transform(spark_temp)\n",
    "\n",
    "encodedData.show()"
   ]
  },
  {
   "cell_type": "code",
   "execution_count": 76,
   "metadata": {},
   "outputs": [],
   "source": [
    "OneHotEncoderEstimator(inputCols='fieldsOfStudyIdx',  \\\n",
    "                                 outputCols=\"fieldsOfStudyVec\")\n",
    "\n",
    "indexedData = indexedData.select(\"Violations\", \"label\")\n",
    "indexedData.show(10)"
   ]
  },
  {
   "cell_type": "code",
   "execution_count": 30,
   "metadata": {},
   "outputs": [],
   "source": [
    "spark_df3 = spark_df3.withColumn('fieldsOfStudy', udf_unpack(spark_df3['fieldsOfStudy']))"
   ]
  },
  {
   "cell_type": "code",
   "execution_count": 32,
   "metadata": {},
   "outputs": [],
   "source": [
    "spark_df3 = spark_df3.withColumn('pdfUrls', udf_unpack(spark_df3['pdfUrls']))"
   ]
  },
  {
   "cell_type": "code",
   "execution_count": 33,
   "metadata": {
    "scrolled": true
   },
   "outputs": [
    {
     "name": "stdout",
     "output_type": "stream",
     "text": [
      "root\n",
      " |-- doi: string (nullable = true)\n",
      " |-- doiUrl: string (nullable = true)\n",
      " |-- fieldsOfStudy: string (nullable = true)\n",
      " |-- id: string (nullable = true)\n",
      " |-- inCitations: array (nullable = true)\n",
      " |    |-- element: string (containsNull = true)\n",
      " |-- journalName: string (nullable = true)\n",
      " |-- journalPages: string (nullable = true)\n",
      " |-- journalVolume: string (nullable = true)\n",
      " |-- outCitations: array (nullable = true)\n",
      " |    |-- element: string (containsNull = true)\n",
      " |-- paperAbstract: string (nullable = true)\n",
      " |-- pdfUrls: string (nullable = true)\n",
      " |-- pmid: string (nullable = true)\n",
      " |-- s2PdfUrl: string (nullable = true)\n",
      " |-- s2Url: string (nullable = true)\n",
      " |-- sources: string (nullable = true)\n",
      " |-- title: string (nullable = true)\n",
      " |-- venue: string (nullable = true)\n",
      " |-- year: long (nullable = true)\n",
      " |-- inCitations_count: integer (nullable = true)\n",
      " |-- outCitations_count: integer (nullable = true)\n",
      " |-- paperAbstract_wcount: integer (nullable = true)\n",
      " |-- title_wcount: integer (nullable = true)\n",
      " |-- author_ids: array (nullable = true)\n",
      " |    |-- element: array (containsNull = true)\n",
      " |    |    |-- element: string (containsNull = true)\n",
      " |-- author_names: array (nullable = true)\n",
      " |    |-- element: string (containsNull = true)\n",
      "\n"
     ]
    }
   ],
   "source": [
    "spark_df3.printSchema()"
   ]
  },
  {
   "cell_type": "code",
   "execution_count": 169,
   "metadata": {},
   "outputs": [
    {
     "data": {
      "text/plain": [
       "5"
      ]
     },
     "execution_count": 169,
     "metadata": {},
     "output_type": "execute_result"
    }
   ],
   "source": [
    "spark_df3.select('sources').distinct().count()"
   ]
  },
  {
   "cell_type": "code",
   "execution_count": 31,
   "metadata": {},
   "outputs": [],
   "source": [
    "spark_df3 = spark_df3.withColumn('sources', udf_unpack(spark_df3['sources']))"
   ]
  },
  {
   "cell_type": "markdown",
   "metadata": {},
   "source": [
    "##  Encoding some categoricals "
   ]
  },
  {
   "cell_type": "code",
   "execution_count": 44,
   "metadata": {},
   "outputs": [
    {
     "name": "stdout",
     "output_type": "stream",
     "text": [
      "+-------+-------+-------+--------+-------------+-------+-----------+-----------+------------+-------------+------------+-------------+-------+-------+--------+-------+-------+-------+-----+----+-----------------+------------------+---------------+------------+------------------------+---------------------+---------------+------------+\n",
      "|authors|    doi| doiUrl|entities|fieldsOfStudy|     id|inCitations|journalName|journalPages|journalVolume|outCitations|paperAbstract|pdfUrls|   pmid|s2PdfUrl|  s2Url|sources|  title|venue|year|inCitations_count|outCitations_count|abstract_tokens|title_tokens|abstract_tokens_filtered|title_tokens_filtered|abstract_wcount|title_wcount|\n",
      "+-------+-------+-------+--------+-------------+-------+-----------+-----------+------------+-------------+------------+-------------+-------+-------+--------+-------+-------+-------+-----+----+-----------------+------------------+---------------+------------+------------------------+---------------------+---------------+------------+\n",
      "|8375458|4886420|4886396|       1|         2180|9976989|    2846805|      50554|      411597|        77493|     1572215|      5525030|1783133|1692355|       1|9976989|      5|9915513|61054|  85|             1654|               678|        5524847|     9907755|                 5524719|              9900434|           1611|          81|\n",
      "+-------+-------+-------+--------+-------------+-------+-----------+-----------+------------+-------------+------------+-------------+-------+-------+--------+-------+-------+-------+-----+----+-----------------+------------------+---------------+------------+------------------------+---------------------+---------------+------------+\n",
      "\n"
     ]
    }
   ],
   "source": [
    "#Counting distinct values in each column\n",
    "from pyspark.sql.functions import countDistinct, col\n",
    "\n",
    "spark_df2.agg(*(countDistinct(col(c)).alias(c) for c in spark_df2.columns)).show()"
   ]
  },
  {
   "cell_type": "markdown",
   "metadata": {},
   "source": [
    "### Creating Vertices"
   ]
  },
  {
   "cell_type": "code",
   "execution_count": 43,
   "metadata": {},
   "outputs": [],
   "source": [
    "vertices = spark_df3.select('id', 'title', 'year', 'fieldsOfStudy', 'paperAbstract')"
   ]
  },
  {
   "cell_type": "code",
   "execution_count": 59,
   "metadata": {},
   "outputs": [
    {
     "name": "stdout",
     "output_type": "stream",
     "text": [
      "+--------------------+--------------------+----+-----------------+--------------------+\n",
      "|                  id|               title|year|    fieldsOfStudy|       paperAbstract|\n",
      "+--------------------+--------------------+----+-----------------+--------------------+\n",
      "|b9c27ac1bb8b3ec9d...|Cause Analysis an...|2014|         Business|The problem of bu...|\n",
      "|91cac7b12800a6238...|Clair comme lune ...|2016|          History|                    |\n",
      "|412b10a92babf3509...|Unexpected deaths...|2013|         Medicine|Aims and objectiv...|\n",
      "|0de1cecd2ed49812f...|RNA-Seq Analysis ...|2015|Medicine, Biology|The mitogen-activ...|\n",
      "|1d9fee40f59bf00eb...|Temporal Trends a...|2012|         Medicine|                    |\n",
      "+--------------------+--------------------+----+-----------------+--------------------+\n",
      "only showing top 5 rows\n",
      "\n"
     ]
    }
   ],
   "source": [
    "vertices.show(5)"
   ]
  },
  {
   "cell_type": "markdown",
   "metadata": {},
   "source": [
    "### Creating Edges"
   ]
  },
  {
   "cell_type": "code",
   "execution_count": 83,
   "metadata": {},
   "outputs": [
    {
     "name": "stdout",
     "output_type": "stream",
     "text": [
      "+--------------------+--------------------+--------------------+\n",
      "|                  id|         inCitations|        outCitations|\n",
      "+--------------------+--------------------+--------------------+\n",
      "|b9c27ac1bb8b3ec9d...|                  []|                  []|\n",
      "|91cac7b12800a6238...|                  []|                  []|\n",
      "|412b10a92babf3509...|                  []|                  []|\n",
      "|0de1cecd2ed49812f...|[8ecaab2a03953fa5...|[cf5cdba6424524ee...|\n",
      "|1d9fee40f59bf00eb...|                  []|                  []|\n",
      "|5e33c40c33d9e4753...|                  []|                  []|\n",
      "|d477d10c48912335d...|                  []|                  []|\n",
      "|b87f8f3daaa92d3bc...|                  []|                  []|\n",
      "|598567aa0229a6b31...|[ecec08f5ca15e07d...|                  []|\n",
      "|b790f30e811445a68...|[2da3df885d1f032d...|                  []|\n",
      "|69a00b492e0ba6e25...|                  []|                  []|\n",
      "|6b75f9994d131b2ee...|[ac89cd3e34dbc788...|                  []|\n",
      "|9eda969296439bf4c...|                  []|[411f288349de96c0...|\n",
      "|47bee8ebe530dc4ff...|[e5951f7aa9eef9c4...|[3dc9587f4b564c90...|\n",
      "|79ac36d7f74cf8d83...|                  []|                  []|\n",
      "|e079322082ef30858...|                  []|                  []|\n",
      "|c5bf1145b594c518b...|                  []|[0742fa40bf9be455...|\n",
      "|bd72c9e0434214845...|                  []|                  []|\n",
      "|d125a6c2adbfa1932...|                  []|                  []|\n",
      "|4acf97f40b5e9b991...|                  []|                  []|\n",
      "+--------------------+--------------------+--------------------+\n",
      "only showing top 20 rows\n",
      "\n"
     ]
    }
   ],
   "source": [
    "spark_df3.select('id', 'inCitations', 'outCitations').show()"
   ]
  },
  {
   "cell_type": "code",
   "execution_count": 51,
   "metadata": {},
   "outputs": [],
   "source": [
    "from pyspark.sql.functions import explode\n",
    "from pyspark.sql.functions import lit\n",
    "\n",
    "#Getting the inCitations id -> (cited) -> article id \n",
    "edges = spark_df3.select(explode('inCitations').alias('src'), spark_df3.id.alias('dst')).withColumn('type', lit('cited'))\n",
    "\n",
    "#Getting the article id -> (cited) -> outCitations id\n",
    "edges2 = spark_df3.select(spark_df3.id.alias('src'), explode('outCitations').alias('dst')).withColumn('type', lit('cited'))\n",
    "\n",
    "#Union of these two \n",
    "edges_total = edges.union(edges2)"
   ]
  },
  {
   "cell_type": "code",
   "execution_count": 57,
   "metadata": {},
   "outputs": [
    {
     "name": "stdout",
     "output_type": "stream",
     "text": [
      "+----------------------------------------+----------------------------------------+-----+\n",
      "|src                                     |dst                                     |type |\n",
      "+----------------------------------------+----------------------------------------+-----+\n",
      "|8ecaab2a03953fa5cf08ab5db2bb49c16d90527d|0de1cecd2ed49812f3a55e4b78edf9ffd292618c|cited|\n",
      "|8ea68d48d5595730f082f625a2ad759f934411cf|0de1cecd2ed49812f3a55e4b78edf9ffd292618c|cited|\n",
      "|766a2b4d54b541c737f6a6ec81ad487b56dc83ed|0de1cecd2ed49812f3a55e4b78edf9ffd292618c|cited|\n",
      "|8479962401362c07f2d6cbff871a11cbd7a4913f|0de1cecd2ed49812f3a55e4b78edf9ffd292618c|cited|\n",
      "|a0ab0cf6c8fe0b1e50407576ba5b80f0f3f58476|0de1cecd2ed49812f3a55e4b78edf9ffd292618c|cited|\n",
      "+----------------------------------------+----------------------------------------+-----+\n",
      "only showing top 5 rows\n",
      "\n"
     ]
    }
   ],
   "source": [
    "edges_total.show(5, truncate=False)"
   ]
  },
  {
   "cell_type": "code",
   "execution_count": 60,
   "metadata": {},
   "outputs": [
    {
     "name": "stdout",
     "output_type": "stream",
     "text": [
      "+--------------------+------+\n",
      "|                  id|degree|\n",
      "+--------------------+------+\n",
      "|0527b65da84f42a39...|    28|\n",
      "|a830e94246ea34694...|    12|\n",
      "|61fa386d2187bebaf...|     6|\n",
      "|4bebbb2592590a23c...|     1|\n",
      "|ff6007e947ed35055...|     5|\n",
      "|16d5358ed974cdefc...|     2|\n",
      "|ba562608abe6a7e81...|     1|\n",
      "|19f599b95b54304ec...|    21|\n",
      "|5e5ce011e6f57a24d...|     1|\n",
      "|6ccc8a7f7c1362cb9...|     2|\n",
      "|5c8faef8512d3ac63...|     6|\n",
      "|932a7e026b2acd162...|    20|\n",
      "|ca82c02aef19b1e64...|    40|\n",
      "|7d306abf7ff739313...|     8|\n",
      "|d23cb008042ae46a8...|    63|\n",
      "|dc19d325198236660...|    67|\n",
      "|56f289078d090d0ea...|     2|\n",
      "|2227a64a2d770f06d...|    29|\n",
      "|3c0b62bc2d1d09a0c...|     7|\n",
      "|6e1516a2c25889ffd...|     3|\n",
      "+--------------------+------+\n",
      "only showing top 20 rows\n",
      "\n"
     ]
    }
   ],
   "source": [
    "g = GraphFrame(vertices, edges_total)\n",
    "## Take a look at the DataFrames\n",
    "# g.vertices.show()\n",
    "# g.edges.show()\n",
    "## Check the number of edges of each vertex\n",
    "g.degrees.show()"
   ]
  },
  {
   "cell_type": "markdown",
   "metadata": {},
   "source": [
    "#### indegree = The number of edges directed into a vertex in a directed graph."
   ]
  },
  {
   "cell_type": "code",
   "execution_count": 61,
   "metadata": {},
   "outputs": [
    {
     "name": "stdout",
     "output_type": "stream",
     "text": [
      "+--------------------+--------+\n",
      "|                  id|inDegree|\n",
      "+--------------------+--------+\n",
      "|83730969c0686b1d1...|   38079|\n",
      "|abd1c342495432171...|   32420|\n",
      "|13d4c2f76a7c1a4d0...|   20763|\n",
      "|a512385be058b1e2e...|   17634|\n",
      "|a411f6a0e6473137a...|   17370|\n",
      "|87f40e6f3022adbc1...|   12898|\n",
      "|73679f1ba00de9e73...|   11428|\n",
      "|e6dd0e6cf076b1207...|   11276|\n",
      "|d2860a370a0386c57...|   10815|\n",
      "|6a17ebeeb80cd696b...|    9429|\n",
      "|6da2a9ffa23a59523...|    9197|\n",
      "|10d6778bc45aebcd5...|    9120|\n",
      "|490020c0d4fa1eb85...|    9028|\n",
      "|fc448a7db5a2fac24...|    8676|\n",
      "|54205667c1f65a320...|    8611|\n",
      "|cc90910b6e31fe44c...|    8231|\n",
      "|a42d6065d0b1a31c5...|    8182|\n",
      "|6889e5a22598521d8...|    7656|\n",
      "|0e68beebb4c7ccbd9...|    7486|\n",
      "|9f649b234f5ebf207...|    7350|\n",
      "+--------------------+--------+\n",
      "only showing top 20 rows\n",
      "\n"
     ]
    }
   ],
   "source": [
    "g.inDegrees.filter(\"inDegree >= 10\").sort(\"inDegree\", ascending=False).show()"
   ]
  },
  {
   "cell_type": "code",
   "execution_count": 62,
   "metadata": {},
   "outputs": [
    {
     "data": {
      "text/plain": [
       "[Row(id='83730969c0686b1d185bcca39f9b5743fa53ebc1')]"
      ]
     },
     "execution_count": 62,
     "metadata": {},
     "output_type": "execute_result"
    }
   ],
   "source": [
    "g.inDegrees.filter(\"inDegree >= 10\").sort(\"inDegree\", ascending=False).select('id').take(1)"
   ]
  },
  {
   "cell_type": "code",
   "execution_count": 65,
   "metadata": {},
   "outputs": [
    {
     "name": "stdout",
     "output_type": "stream",
     "text": [
      "+----------------------------------------+--------------------------------------------------------+----+----------------+----------------------------------------------------------------------------------------------------------------------------------------------------------------------------------------------------------------------------------------------------------------------------------------------------------------------------------------------------------------------------------------------------------------------------------------------------------------------------------------------------------------------------------------------------------------------------------------------------------------------------------------------------------------------------------------------------------------------------------------+\n",
      "|id                                      |title                                                   |year|fieldsOfStudy   |paperAbstract                                                                                                                                                                                                                                                                                                                                                                                                                                                                                                                                                                                                                                                                                                                           |\n",
      "+----------------------------------------+--------------------------------------------------------+----+----------------+----------------------------------------------------------------------------------------------------------------------------------------------------------------------------------------------------------------------------------------------------------------------------------------------------------------------------------------------------------------------------------------------------------------------------------------------------------------------------------------------------------------------------------------------------------------------------------------------------------------------------------------------------------------------------------------------------------------------------------------+\n",
      "|83730969c0686b1d185bcca39f9b5743fa53ebc1|R: A language and environment for statistical computing.|2014|Computer Science|Copyright (©) 1999–2012 R Foundation for Statistical Computing. Permission is granted to make and distribute verbatim copies of this manual provided the copyright notice and this permission notice are preserved on all copies. Permission is granted to copy and distribute modified versions of this manual under the conditions for verbatim copying, provided that the entire resulting derived work is distributed under the terms of a permission notice identical to this one. Permission is granted to copy and distribute translations of this manual into another language, under the above conditions for modified versions, except that this permission notice may be stated in a translation approved by the R Core Team.|\n",
      "+----------------------------------------+--------------------------------------------------------+----+----------------+----------------------------------------------------------------------------------------------------------------------------------------------------------------------------------------------------------------------------------------------------------------------------------------------------------------------------------------------------------------------------------------------------------------------------------------------------------------------------------------------------------------------------------------------------------------------------------------------------------------------------------------------------------------------------------------------------------------------------------------+\n",
      "\n"
     ]
    }
   ],
   "source": [
    "g.vertices.filter('id == \"83730969c0686b1d185bcca39f9b5743fa53ebc1\"').show(truncate = False)"
   ]
  },
  {
   "cell_type": "markdown",
   "metadata": {},
   "source": [
    "## Journal Name"
   ]
  },
  {
   "cell_type": "code",
   "execution_count": 170,
   "metadata": {},
   "outputs": [
    {
     "data": {
      "text/plain": [
       "50554"
      ]
     },
     "execution_count": 170,
     "metadata": {},
     "output_type": "execute_result"
    }
   ],
   "source": [
    "spark_df3.select('journalName').distinct().count()"
   ]
  },
  {
   "cell_type": "code",
   "execution_count": 148,
   "metadata": {},
   "outputs": [],
   "source": [
    "# from pyspark.sql.functions import explode\n",
    "# id_authors = spark_df2.select(explode('author_ids'))\n",
    "# spark_df2.select('author_names', explode('author_names')).show()"
   ]
  },
  {
   "cell_type": "code",
   "execution_count": 86,
   "metadata": {},
   "outputs": [],
   "source": [
    "# #Convert the list + string into string\n",
    "# spark_df3 = spark_df3.withColumn(\"entities\", spark_df3[\"entities\"].cast(StringType()))\n",
    "# spark_df3 = spark_df3.withColumn(\"fieldsOfStudy\", spark_df3[\"fieldsOfStudy\"].cast(StringType()))\n",
    "# spark_df3 = spark_df3.withColumn(\"pdfUrls\", spark_df3[\"pdfUrls\"].cast(StringType()))\n",
    "# spark_df3 = spark_df3.withColumn(\"sources\", spark_df3[\"sources\"].cast(StringType()))"
   ]
  },
  {
   "cell_type": "code",
   "execution_count": 155,
   "metadata": {},
   "outputs": [
    {
     "data": {
      "image/png": "[encoded data removed]",
      "text/plain": [
       "<Figure size 432x288 with 1 Axes>"
      ]
     },
     "metadata": {},
     "output_type": "display_data"
    }
   ],
   "source": [
    "fields_count = spark_df3.groupby('fieldsOfStudy').count().sort('count', ascending = False)\n",
    "#convert Pyspark dataframe to Pandas dataframe for plotting\n",
    "pdf = fields_count.toPandas()\n",
    "pdf[:20].plot(kind= 'bar', x='fieldsOfStudy')\n",
    "plt.show()"
   ]
  },
  {
   "cell_type": "markdown",
   "metadata": {},
   "source": [
    "#### Nans by column"
   ]
  },
  {
   "cell_type": "code",
   "execution_count": 171,
   "metadata": {},
   "outputs": [],
   "source": [
    "# from pyspark.sql.functions import isnan, when, count, col\n",
    "\n",
    "# spark_df3.select([count(when(isnan(c), c)).alias(c) for c in spark_df3.columns]).show()"
   ]
  },
  {
   "cell_type": "markdown",
   "metadata": {},
   "source": [
    "# DISTRIBUTION OF inCitations_count"
   ]
  },
  {
   "cell_type": "code",
   "execution_count": 176,
   "metadata": {},
   "outputs": [],
   "source": [
    "import pandas as pd\n",
    "import matplotlib.pyplot as plt\n",
    "\n",
    "# Doing the heavy lifting in Spark. We could leverage the `histogram` function from the RDD api\n",
    "\n",
    "inCitations_count_histogram = spark_df3.select('inCitations_count').rdd.flatMap(lambda x: x).histogram(11)"
   ]
  },
  {
   "cell_type": "code",
   "execution_count": 175,
   "metadata": {},
   "outputs": [
    {
     "data": {
      "text/plain": [
       "<matplotlib.axes._subplots.AxesSubplot at 0x7fe8371e5908>"
      ]
     },
     "execution_count": 175,
     "metadata": {},
     "output_type": "execute_result"
    },
    {
     "data": {
      "image/png": "[encoded data removed]",
      "text/plain": [
       "<Figure size 432x288 with 1 Axes>"
      ]
     },
     "metadata": {},
     "output_type": "display_data"
    }
   ],
   "source": [
    "# Loading the Computed Histogram into a Pandas Dataframe for plotting\n",
    "pd.DataFrame(\n",
    "    list(zip(*inCitations_count_histogram)), \n",
    "    columns=['bin', 'frequency']\n",
    ").set_index(\n",
    "    'bin'\n",
    ").plot(kind='bar')"
   ]
  },
  {
   "cell_type": "code",
   "execution_count": 188,
   "metadata": {},
   "outputs": [
    {
     "name": "stdout",
     "output_type": "stream",
     "text": [
      "+----------------------+----------------------+----------------------+----------------------+------------------------+\n",
      "|min(inCitations_count)|max(inCitations_count)|avg(inCitations_count)|sum(inCitations_count)|count(inCitations_count)|\n",
      "+----------------------+----------------------+----------------------+----------------------+------------------------+\n",
      "|0                     |36091                 |3.5324064204140146    |35242780              |9976989                 |\n",
      "+----------------------+----------------------+----------------------+----------------------+------------------------+\n",
      "\n"
     ]
    }
   ],
   "source": [
    "from pyspark.sql import functions as F\n",
    "\n",
    "spark_df3.agg(F.min(spark_df3.inCitations_count),F.max(spark_df3.inCitations_count), \\\n",
    "              F.avg(spark_df3.inCitations_count),F.sum(spark_df3.inCitations_count), \\\n",
    "             F.count(spark_df3.inCitations_count)).show(truncate = False)"
   ]
  },
  {
   "cell_type": "code",
   "execution_count": 189,
   "metadata": {},
   "outputs": [
    {
     "data": {
      "text/plain": [
       "9976989"
      ]
     },
     "execution_count": 189,
     "metadata": {},
     "output_type": "execute_result"
    }
   ],
   "source": [
    "spark_df3.count()"
   ]
  },
  {
   "cell_type": "code",
   "execution_count": 190,
   "metadata": {},
   "outputs": [
    {
     "ename": "AnalysisException",
     "evalue": "'CSV data source does not support array<string> data type.;'",
     "output_type": "error",
     "traceback": [
      "\u001b[0;31m---------------------------------------------------------------------------\u001b[0m",
      "\u001b[0;31mPy4JJavaError\u001b[0m                             Traceback (most recent call last)",
      "\u001b[0;32m/opt/cloudera/parcels/CDH/lib/spark/python/lib/pyspark.zip/pyspark/sql/utils.py\u001b[0m in \u001b[0;36mdeco\u001b[0;34m(*a, **kw)\u001b[0m\n\u001b[1;32m     62\u001b[0m         \u001b[0;32mtry\u001b[0m\u001b[0;34m:\u001b[0m\u001b[0;34m\u001b[0m\u001b[0;34m\u001b[0m\u001b[0m\n\u001b[0;32m---> 63\u001b[0;31m             \u001b[0;32mreturn\u001b[0m \u001b[0mf\u001b[0m\u001b[0;34m(\u001b[0m\u001b[0;34m*\u001b[0m\u001b[0ma\u001b[0m\u001b[0;34m,\u001b[0m \u001b[0;34m**\u001b[0m\u001b[0mkw\u001b[0m\u001b[0;34m)\u001b[0m\u001b[0;34m\u001b[0m\u001b[0;34m\u001b[0m\u001b[0m\n\u001b[0m\u001b[1;32m     64\u001b[0m         \u001b[0;32mexcept\u001b[0m \u001b[0mpy4j\u001b[0m\u001b[0;34m.\u001b[0m\u001b[0mprotocol\u001b[0m\u001b[0;34m.\u001b[0m\u001b[0mPy4JJavaError\u001b[0m \u001b[0;32mas\u001b[0m \u001b[0me\u001b[0m\u001b[0;34m:\u001b[0m\u001b[0;34m\u001b[0m\u001b[0;34m\u001b[0m\u001b[0m\n",
      "\u001b[0;32m/opt/cloudera/parcels/CDH/lib/spark/python/lib/py4j-0.10.7-src.zip/py4j/protocol.py\u001b[0m in \u001b[0;36mget_return_value\u001b[0;34m(answer, gateway_client, target_id, name)\u001b[0m\n\u001b[1;32m    327\u001b[0m                     \u001b[0;34m\"An error occurred while calling {0}{1}{2}.\\n\"\u001b[0m\u001b[0;34m.\u001b[0m\u001b[0;34m\u001b[0m\u001b[0;34m\u001b[0m\u001b[0m\n\u001b[0;32m--> 328\u001b[0;31m                     format(target_id, \".\", name), value)\n\u001b[0m\u001b[1;32m    329\u001b[0m             \u001b[0;32melse\u001b[0m\u001b[0;34m:\u001b[0m\u001b[0;34m\u001b[0m\u001b[0;34m\u001b[0m\u001b[0m\n",
      "\u001b[0;31mPy4JJavaError\u001b[0m: An error occurred while calling o1513.csv.\n: org.apache.spark.sql.AnalysisException: CSV data source does not support array<string> data type.;\n\tat org.apache.spark.sql.execution.datasources.DataSourceUtils$$anonfun$verifySchema$1.apply(DataSourceUtils.scala:49)\n\tat org.apache.spark.sql.execution.datasources.DataSourceUtils$$anonfun$verifySchema$1.apply(DataSourceUtils.scala:47)\n\tat scala.collection.Iterator$class.foreach(Iterator.scala:891)\n\tat scala.collection.AbstractIterator.foreach(Iterator.scala:1334)\n\tat scala.collection.IterableLike$class.foreach(IterableLike.scala:72)\n\tat org.apache.spark.sql.types.StructType.foreach(StructType.scala:99)\n\tat org.apache.spark.sql.execution.datasources.DataSourceUtils$.verifySchema(DataSourceUtils.scala:47)\n\tat org.apache.spark.sql.execution.datasources.DataSourceUtils$.verifyWriteSchema(DataSourceUtils.scala:32)\n\tat org.apache.spark.sql.execution.datasources.FileFormatWriter$.write(FileFormatWriter.scala:100)\n\tat org.apache.spark.sql.execution.datasources.InsertIntoHadoopFsRelationCommand.run(InsertIntoHadoopFsRelationCommand.scala:159)\n\tat org.apache.spark.sql.execution.command.DataWritingCommandExec.sideEffectResult$lzycompute(commands.scala:104)\n\tat org.apache.spark.sql.execution.command.DataWritingCommandExec.sideEffectResult(commands.scala:102)\n\tat org.apache.spark.sql.execution.command.DataWritingCommandExec.doExecute(commands.scala:122)\n\tat org.apache.spark.sql.execution.SparkPlan$$anonfun$execute$1.apply(SparkPlan.scala:131)\n\tat org.apache.spark.sql.execution.SparkPlan$$anonfun$execute$1.apply(SparkPlan.scala:127)\n\tat org.apache.spark.sql.execution.SparkPlan$$anonfun$executeQuery$1.apply(SparkPlan.scala:155)\n\tat org.apache.spark.rdd.RDDOperationScope$.withScope(RDDOperationScope.scala:151)\n\tat org.apache.spark.sql.execution.SparkPlan.executeQuery(SparkPlan.scala:152)\n\tat org.apache.spark.sql.execution.SparkPlan.execute(SparkPlan.scala:127)\n\tat org.apache.spark.sql.execution.QueryExecution.toRdd$lzycompute(QueryExecution.scala:80)\n\tat org.apache.spark.sql.execution.QueryExecution.toRdd(QueryExecution.scala:80)\n\tat org.apache.spark.sql.DataFrameWriter$$anonfun$runCommand$1.apply(DataFrameWriter.scala:668)\n\tat org.apache.spark.sql.DataFrameWriter$$anonfun$runCommand$1.apply(DataFrameWriter.scala:668)\n\tat org.apache.spark.sql.execution.SQLExecution$$anonfun$withNewExecutionId$1.apply(SQLExecution.scala:78)\n\tat org.apache.spark.sql.execution.SQLExecution$.withSQLConfPropagated(SQLExecution.scala:125)\n\tat org.apache.spark.sql.execution.SQLExecution$.withNewExecutionId(SQLExecution.scala:73)\n\tat org.apache.spark.sql.DataFrameWriter.runCommand(DataFrameWriter.scala:668)\n\tat org.apache.spark.sql.DataFrameWriter.saveToV1Source(DataFrameWriter.scala:276)\n\tat org.apache.spark.sql.DataFrameWriter.save(DataFrameWriter.scala:270)\n\tat org.apache.spark.sql.DataFrameWriter.save(DataFrameWriter.scala:228)\n\tat org.apache.spark.sql.DataFrameWriter.csv(DataFrameWriter.scala:656)\n\tat sun.reflect.NativeMethodAccessorImpl.invoke0(Native Method)\n\tat sun.reflect.NativeMethodAccessorImpl.invoke(NativeMethodAccessorImpl.java:62)\n\tat sun.reflect.DelegatingMethodAccessorImpl.invoke(DelegatingMethodAccessorImpl.java:43)\n\tat java.lang.reflect.Method.invoke(Method.java:498)\n\tat py4j.reflection.MethodInvoker.invoke(MethodInvoker.java:244)\n\tat py4j.reflection.ReflectionEngine.invoke(ReflectionEngine.java:357)\n\tat py4j.Gateway.invoke(Gateway.java:282)\n\tat py4j.commands.AbstractCommand.invokeMethod(AbstractCommand.java:132)\n\tat py4j.commands.CallCommand.execute(CallCommand.java:79)\n\tat py4j.GatewayConnection.run(GatewayConnection.java:238)\n\tat java.lang.Thread.run(Thread.java:748)\n",
      "\nDuring handling of the above exception, another exception occurred:\n",
      "\u001b[0;31mAnalysisException\u001b[0m                         Traceback (most recent call last)",
      "\u001b[0;32m<ipython-input-190-d9650b621ebf>\u001b[0m in \u001b[0;36m<module>\u001b[0;34m()\u001b[0m\n\u001b[0;32m----> 1\u001b[0;31m \u001b[0mspark_df3\u001b[0m\u001b[0;34m.\u001b[0m\u001b[0mwrite\u001b[0m\u001b[0;34m.\u001b[0m\u001b[0mcsv\u001b[0m\u001b[0;34m(\u001b[0m\u001b[0;34m'corpus0_to_9.csv'\u001b[0m\u001b[0;34m)\u001b[0m\u001b[0;34m\u001b[0m\u001b[0;34m\u001b[0m\u001b[0m\n\u001b[0m",
      "\u001b[0;32m/opt/cloudera/parcels/CDH/lib/spark/python/lib/pyspark.zip/pyspark/sql/readwriter.py\u001b[0m in \u001b[0;36mcsv\u001b[0;34m(self, path, mode, compression, sep, quote, escape, header, nullValue, escapeQuotes, quoteAll, dateFormat, timestampFormat, ignoreLeadingWhiteSpace, ignoreTrailingWhiteSpace, charToEscapeQuoteEscaping, encoding, emptyValue)\u001b[0m\n\u001b[1;32m    927\u001b[0m                        \u001b[0mcharToEscapeQuoteEscaping\u001b[0m\u001b[0;34m=\u001b[0m\u001b[0mcharToEscapeQuoteEscaping\u001b[0m\u001b[0;34m,\u001b[0m\u001b[0;34m\u001b[0m\u001b[0;34m\u001b[0m\u001b[0m\n\u001b[1;32m    928\u001b[0m                        encoding=encoding, emptyValue=emptyValue)\n\u001b[0;32m--> 929\u001b[0;31m         \u001b[0mself\u001b[0m\u001b[0;34m.\u001b[0m\u001b[0m_jwrite\u001b[0m\u001b[0;34m.\u001b[0m\u001b[0mcsv\u001b[0m\u001b[0;34m(\u001b[0m\u001b[0mpath\u001b[0m\u001b[0;34m)\u001b[0m\u001b[0;34m\u001b[0m\u001b[0;34m\u001b[0m\u001b[0m\n\u001b[0m\u001b[1;32m    930\u001b[0m \u001b[0;34m\u001b[0m\u001b[0m\n\u001b[1;32m    931\u001b[0m     \u001b[0;34m@\u001b[0m\u001b[0msince\u001b[0m\u001b[0;34m(\u001b[0m\u001b[0;36m1.5\u001b[0m\u001b[0;34m)\u001b[0m\u001b[0;34m\u001b[0m\u001b[0;34m\u001b[0m\u001b[0m\n",
      "\u001b[0;32m/opt/cloudera/parcels/CDH/lib/spark/python/lib/py4j-0.10.7-src.zip/py4j/java_gateway.py\u001b[0m in \u001b[0;36m__call__\u001b[0;34m(self, *args)\u001b[0m\n\u001b[1;32m   1255\u001b[0m         \u001b[0manswer\u001b[0m \u001b[0;34m=\u001b[0m \u001b[0mself\u001b[0m\u001b[0;34m.\u001b[0m\u001b[0mgateway_client\u001b[0m\u001b[0;34m.\u001b[0m\u001b[0msend_command\u001b[0m\u001b[0;34m(\u001b[0m\u001b[0mcommand\u001b[0m\u001b[0;34m)\u001b[0m\u001b[0;34m\u001b[0m\u001b[0;34m\u001b[0m\u001b[0m\n\u001b[1;32m   1256\u001b[0m         return_value = get_return_value(\n\u001b[0;32m-> 1257\u001b[0;31m             answer, self.gateway_client, self.target_id, self.name)\n\u001b[0m\u001b[1;32m   1258\u001b[0m \u001b[0;34m\u001b[0m\u001b[0m\n\u001b[1;32m   1259\u001b[0m         \u001b[0;32mfor\u001b[0m \u001b[0mtemp_arg\u001b[0m \u001b[0;32min\u001b[0m \u001b[0mtemp_args\u001b[0m\u001b[0;34m:\u001b[0m\u001b[0;34m\u001b[0m\u001b[0;34m\u001b[0m\u001b[0m\n",
      "\u001b[0;32m/opt/cloudera/parcels/CDH/lib/spark/python/lib/pyspark.zip/pyspark/sql/utils.py\u001b[0m in \u001b[0;36mdeco\u001b[0;34m(*a, **kw)\u001b[0m\n\u001b[1;32m     67\u001b[0m                                              e.java_exception.getStackTrace()))\n\u001b[1;32m     68\u001b[0m             \u001b[0;32mif\u001b[0m \u001b[0ms\u001b[0m\u001b[0;34m.\u001b[0m\u001b[0mstartswith\u001b[0m\u001b[0;34m(\u001b[0m\u001b[0;34m'org.apache.spark.sql.AnalysisException: '\u001b[0m\u001b[0;34m)\u001b[0m\u001b[0;34m:\u001b[0m\u001b[0;34m\u001b[0m\u001b[0;34m\u001b[0m\u001b[0m\n\u001b[0;32m---> 69\u001b[0;31m                 \u001b[0;32mraise\u001b[0m \u001b[0mAnalysisException\u001b[0m\u001b[0;34m(\u001b[0m\u001b[0ms\u001b[0m\u001b[0;34m.\u001b[0m\u001b[0msplit\u001b[0m\u001b[0;34m(\u001b[0m\u001b[0;34m': '\u001b[0m\u001b[0;34m,\u001b[0m \u001b[0;36m1\u001b[0m\u001b[0;34m)\u001b[0m\u001b[0;34m[\u001b[0m\u001b[0;36m1\u001b[0m\u001b[0;34m]\u001b[0m\u001b[0;34m,\u001b[0m \u001b[0mstackTrace\u001b[0m\u001b[0;34m)\u001b[0m\u001b[0;34m\u001b[0m\u001b[0;34m\u001b[0m\u001b[0m\n\u001b[0m\u001b[1;32m     70\u001b[0m             \u001b[0;32mif\u001b[0m \u001b[0ms\u001b[0m\u001b[0;34m.\u001b[0m\u001b[0mstartswith\u001b[0m\u001b[0;34m(\u001b[0m\u001b[0;34m'org.apache.spark.sql.catalyst.analysis'\u001b[0m\u001b[0;34m)\u001b[0m\u001b[0;34m:\u001b[0m\u001b[0;34m\u001b[0m\u001b[0;34m\u001b[0m\u001b[0m\n\u001b[1;32m     71\u001b[0m                 \u001b[0;32mraise\u001b[0m \u001b[0mAnalysisException\u001b[0m\u001b[0;34m(\u001b[0m\u001b[0ms\u001b[0m\u001b[0;34m.\u001b[0m\u001b[0msplit\u001b[0m\u001b[0;34m(\u001b[0m\u001b[0;34m': '\u001b[0m\u001b[0;34m,\u001b[0m \u001b[0;36m1\u001b[0m\u001b[0;34m)\u001b[0m\u001b[0;34m[\u001b[0m\u001b[0;36m1\u001b[0m\u001b[0;34m]\u001b[0m\u001b[0;34m,\u001b[0m \u001b[0mstackTrace\u001b[0m\u001b[0;34m)\u001b[0m\u001b[0;34m\u001b[0m\u001b[0;34m\u001b[0m\u001b[0m\n",
      "\u001b[0;31mAnalysisException\u001b[0m: 'CSV data source does not support array<string> data type.;'"
     ]
    }
   ],
   "source": [
    "spark_df3.write.csv('corpus0_to_9.csv')"
   ]
  },
  {
   "cell_type": "code",
   "execution_count": 174,
   "metadata": {},
   "outputs": [],
   "source": [
    "# spark_df4.write.format('parquet').save('all_papers_csv')"
   ]
  },
  {
   "cell_type": "code",
   "execution_count": null,
   "metadata": {},
   "outputs": [],
   "source": []
  },
  {
   "cell_type": "markdown",
   "metadata": {},
   "source": [
    "# HIVE"
   ]
  },
  {
   "cell_type": "code",
   "execution_count": 14,
   "metadata": {},
   "outputs": [],
   "source": [
    "from pyspark.sql import HiveContext\n",
    "hive_context = HiveContext(sc)"
   ]
  },
  {
   "cell_type": "code",
   "execution_count": 15,
   "metadata": {},
   "outputs": [
    {
     "name": "stdout",
     "output_type": "stream",
     "text": [
      "+-------------+\n",
      "| databaseName|\n",
      "+-------------+\n",
      "|     aamorris|\n",
      "|    ababikova|\n",
      "|          abb|\n",
      "|      abertin|\n",
      "| abhishekchat|\n",
      "|      achenad|\n",
      "|  adeshghadge|\n",
      "|      adetola|\n",
      "| adhamsuliman|\n",
      "|   aditilakra|\n",
      "|       aghose|\n",
      "|       ahphan|\n",
      "|      airline|\n",
      "|       alphan|\n",
      "|       aluong|\n",
      "|alvinharyanto|\n",
      "|       amant3|\n",
      "|    amiparikh|\n",
      "|amoliterno945|\n",
      "|     andmoral|\n",
      "+-------------+\n",
      "only showing top 20 rows\n",
      "\n"
     ]
    }
   ],
   "source": [
    "#show databaes\n",
    "spark.sql('show databases').show()"
   ]
  },
  {
   "cell_type": "code",
   "execution_count": null,
   "metadata": {},
   "outputs": [],
   "source": []
  }
 ],
 "metadata": {
  "kernelspec": {
   "display_name": "pySpark",
   "language": "python",
   "name": "pyspark"
  },
  "language_info": {
   "codemirror_mode": {
    "name": "ipython",
    "version": 3
   },
   "file_extension": ".py",
   "mimetype": "text/x-python",
   "name": "python",
   "nbconvert_exporter": "python",
   "pygments_lexer": "ipython3",
   "version": "3.6.8"
  }
 },
 "nbformat": 4,
 "nbformat_minor": 2
}
