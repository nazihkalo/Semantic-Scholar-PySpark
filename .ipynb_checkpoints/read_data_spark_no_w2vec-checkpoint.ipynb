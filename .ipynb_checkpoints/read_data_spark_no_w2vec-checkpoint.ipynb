{
 "cells": [
  {
   "cell_type": "markdown",
   "metadata": {},
   "source": [
    "## Reading Data from HDFS\n",
    "\n",
    "Datasource: Semantic Scholar Open Research Corpus\n",
    "\n",
    "Description: Semantic Scholar's records for research papers published in all fields provided as an easy-to-use JSON archive.\n",
    "\n",
    "### Attribute Definitions\n",
    "1. id  string = S2 generated research paper ID.\n",
    "- title  string = Research paper title.\n",
    "- paperAbstract  string = Extracted abstract of the paper.\n",
    "- entities  list = Extracted list of relevant entities or topics.\n",
    "- s2Url  string = URL to S2 research paper details page.\n",
    "- s2PdfUrl  string = URL to PDF on S2 if available.\n",
    "- pdfUrls  list = URLs related to this PDF scraped from the web.\n",
    "- authors  list = List of authors with an S2 generated author ID and name.\n",
    "- inCitations  list = List of S2 paper IDs which cited this paper.\n",
    "- outCitations  list = List of S2 paper IDs which this paper cited\n",
    "- year  int = Year this paper was published as integer.\n",
    "- venue  string = Extracted publication venue for this paper.\n",
    "- journalName  string = Name of the journal that published this paper.\n",
    "- journalVolume  string = The volume of the journal where this paper was published.\n",
    "- journalPages  string = The pages of the journal where this paper was published.\n",
    "- sources  list = Identifies papers sourced from DBLP or Medline.\n",
    "- doi  string = Digital Object Identifier registered at doi.org.\n",
    "- doiUrl  string = DOI link for registered objects.\n",
    "- pmid  string = Unique identifier used by PubMed.\n",
    "- fieldsOfStudy  list = Zero or more fields of study this paper addresses.`"
   ]
  },
  {
   "cell_type": "code",
   "execution_count": 1,
   "metadata": {},
   "outputs": [],
   "source": [
    "import pandas as pd \n",
    "import json\n",
    "import matplotlib.pyplot as plt \n",
    "\n",
    "#Graph network imports\n",
    "from graphframes import *\n",
    "from pyspark import *\n",
    "from pyspark.sql import *\n",
    "import numpy as np\n",
    "from pyspark.ml.linalg import *\n",
    "from pyspark.ml.linalg import *\n",
    "from pyspark.sql.types import * \n",
    "from pyspark.sql.functions import *\n",
    "\n",
    "from pyspark.sql.functions import udf #user defined function\n",
    "from pyspark.sql.types import * #Import types == IntegerType, StringType etc.\n",
    "\n",
    "import nltk"
   ]
  },
  {
   "cell_type": "code",
   "execution_count": 2,
   "metadata": {},
   "outputs": [],
   "source": [
    "#import statements\n",
    "from pyspark.sql import SparkSession\n",
    "\n",
    "#create Spark session\n",
    "spark = SparkSession.builder.enableHiveSupport().appName('Final_project_read_write').getOrCreate()\n",
    "\n",
    "conf = spark.sparkContext._conf.setAll([('spark.executor.memory', '15g'), ('spark.app.name', 'Spark Updated Conf'), ('spark.executor.cores', '10'), ('spark.cores.max', '10'), ('spark.driver.memory','20g')])\n",
    "\n",
    "#print spark configuration settings\n",
    "#spark.sparkContext.getConf().getAll()"
   ]
  },
  {
   "cell_type": "code",
   "execution_count": 3,
   "metadata": {},
   "outputs": [
    {
     "name": "stdout",
     "output_type": "stream",
     "text": [
      "WARNING: log4j.properties is not found. HADOOP_CONF_DIR may be incomplete.\n",
      "Java HotSpot(TM) 64-Bit Server VM warning: ignoring option MaxPermSize=512M; support was removed in 8.0\n",
      "Found 10 items\n",
      "-rw-r--r--   3 nazihkalo nazihkalo 1592749572 2020-02-11 10:25 big_data_project/unzipped_files/s2-corpus-000\n",
      "-rw-r--r--   3 nazihkalo nazihkalo 1592820732 2020-02-11 10:24 big_data_project/unzipped_files/s2-corpus-001\n",
      "-rw-r--r--   3 nazihkalo nazihkalo 1595233436 2020-02-11 10:24 big_data_project/unzipped_files/s2-corpus-002\n",
      "-rw-r--r--   3 nazihkalo nazihkalo 1597066383 2020-02-11 10:24 big_data_project/unzipped_files/s2-corpus-003\n",
      "-rw-r--r--   3 nazihkalo nazihkalo 1601510198 2020-02-11 10:24 big_data_project/unzipped_files/s2-corpus-004\n",
      "-rw-r--r--   3 nazihkalo nazihkalo 1593588156 2020-02-11 10:25 big_data_project/unzipped_files/s2-corpus-005\n",
      "-rw-r--r--   3 nazihkalo nazihkalo 1596634329 2020-02-11 10:23 big_data_project/unzipped_files/s2-corpus-006\n",
      "-rw-r--r--   3 nazihkalo nazihkalo 1596512143 2020-02-11 10:25 big_data_project/unzipped_files/s2-corpus-007\n",
      "-rw-r--r--   3 nazihkalo nazihkalo 1595234796 2020-02-11 10:25 big_data_project/unzipped_files/s2-corpus-008\n",
      "-rw-r--r--   3 nazihkalo nazihkalo 1596753944 2020-02-11 10:25 big_data_project/unzipped_files/s2-corpus-009\n"
     ]
    }
   ],
   "source": [
    "!hdfs dfs -ls big_data_project/unzipped_files/"
   ]
  },
  {
   "cell_type": "code",
   "execution_count": 4,
   "metadata": {},
   "outputs": [
    {
     "data": {
      "text/plain": [
       "{'MKL_NUM_THREADS': '1', 'OPENBLAS_NUM_THREADS': '1', 'PYTHONHASHSEED': '0'}"
      ]
     },
     "execution_count": 4,
     "metadata": {},
     "output_type": "execute_result"
    }
   ],
   "source": [
    "sc.environment"
   ]
  },
  {
   "cell_type": "markdown",
   "metadata": {},
   "source": [
    "## Reading all 10 json files listed above "
   ]
  },
  {
   "cell_type": "code",
   "execution_count": 5,
   "metadata": {},
   "outputs": [],
   "source": [
    "spark_df = spark.read.json('big_data_project/unzipped_files/')"
   ]
  },
  {
   "cell_type": "markdown",
   "metadata": {},
   "source": [
    "#### Counting number of records/articles"
   ]
  },
  {
   "cell_type": "code",
   "execution_count": 6,
   "metadata": {},
   "outputs": [
    {
     "data": {
      "text/plain": [
       "9976989"
      ]
     },
     "execution_count": 6,
     "metadata": {},
     "output_type": "execute_result"
    }
   ],
   "source": [
    "spark_df.count()"
   ]
  },
  {
   "cell_type": "markdown",
   "metadata": {},
   "source": [
    "#### Looking at the schema & summary stats"
   ]
  },
  {
   "cell_type": "code",
   "execution_count": 7,
   "metadata": {},
   "outputs": [
    {
     "name": "stdout",
     "output_type": "stream",
     "text": [
      "root\n",
      " |-- authors: array (nullable = true)\n",
      " |    |-- element: struct (containsNull = true)\n",
      " |    |    |-- ids: array (nullable = true)\n",
      " |    |    |    |-- element: string (containsNull = true)\n",
      " |    |    |-- name: string (nullable = true)\n",
      " |-- doi: string (nullable = true)\n",
      " |-- doiUrl: string (nullable = true)\n",
      " |-- entities: array (nullable = true)\n",
      " |    |-- element: string (containsNull = true)\n",
      " |-- fieldsOfStudy: array (nullable = true)\n",
      " |    |-- element: string (containsNull = true)\n",
      " |-- id: string (nullable = true)\n",
      " |-- inCitations: array (nullable = true)\n",
      " |    |-- element: string (containsNull = true)\n",
      " |-- journalName: string (nullable = true)\n",
      " |-- journalPages: string (nullable = true)\n",
      " |-- journalVolume: string (nullable = true)\n",
      " |-- outCitations: array (nullable = true)\n",
      " |    |-- element: string (containsNull = true)\n",
      " |-- paperAbstract: string (nullable = true)\n",
      " |-- pdfUrls: array (nullable = true)\n",
      " |    |-- element: string (containsNull = true)\n",
      " |-- pmid: string (nullable = true)\n",
      " |-- s2PdfUrl: string (nullable = true)\n",
      " |-- s2Url: string (nullable = true)\n",
      " |-- sources: array (nullable = true)\n",
      " |    |-- element: string (containsNull = true)\n",
      " |-- title: string (nullable = true)\n",
      " |-- venue: string (nullable = true)\n",
      " |-- year: long (nullable = true)\n",
      "\n"
     ]
    }
   ],
   "source": [
    "spark_df.printSchema()"
   ]
  },
  {
   "cell_type": "code",
   "execution_count": 8,
   "metadata": {},
   "outputs": [
    {
     "data": {
      "text/plain": [
       "[('authors', 'array<struct<ids:array<string>,name:string>>'),\n",
       " ('doi', 'string'),\n",
       " ('doiUrl', 'string'),\n",
       " ('entities', 'array<string>'),\n",
       " ('fieldsOfStudy', 'array<string>'),\n",
       " ('id', 'string'),\n",
       " ('inCitations', 'array<string>'),\n",
       " ('journalName', 'string'),\n",
       " ('journalPages', 'string'),\n",
       " ('journalVolume', 'string'),\n",
       " ('outCitations', 'array<string>'),\n",
       " ('paperAbstract', 'string'),\n",
       " ('pdfUrls', 'array<string>'),\n",
       " ('pmid', 'string'),\n",
       " ('s2PdfUrl', 'string'),\n",
       " ('s2Url', 'string'),\n",
       " ('sources', 'array<string>'),\n",
       " ('title', 'string'),\n",
       " ('venue', 'string'),\n",
       " ('year', 'bigint')]"
      ]
     },
     "execution_count": 8,
     "metadata": {},
     "output_type": "execute_result"
    }
   ],
   "source": [
    "spark_df.dtypes"
   ]
  },
  {
   "cell_type": "code",
   "execution_count": 11,
   "metadata": {},
   "outputs": [
    {
     "name": "stdout",
     "output_type": "stream",
     "text": [
      "+--------------------+--------------------+--------------------+--------+-------------------+--------------------+--------------------+-----------+------------+-------------+--------------------+--------------------+--------------------+--------+--------+--------------------+---------+--------------------+--------+----+\n",
      "|             authors|                 doi|              doiUrl|entities|      fieldsOfStudy|                  id|         inCitations|journalName|journalPages|journalVolume|        outCitations|       paperAbstract|             pdfUrls|    pmid|s2PdfUrl|               s2Url|  sources|               title|   venue|year|\n",
      "+--------------------+--------------------+--------------------+--------+-------------------+--------------------+--------------------+-----------+------------+-------------+--------------------+--------------------+--------------------+--------+--------+--------------------+---------+--------------------+--------+----+\n",
      "|[[[52602509], Yan...|                    |                    |      []|         [Business]|b9c27ac1bb8b3ec9d...|                  []|           |            |             |                  []|The problem of bu...|                  []|        |        |https://semantics...|       []|Cause Analysis an...|        |2014|\n",
      "|[[[122800702], Sa...|                    |                    |      []|          [History]|91cac7b12800a6238...|                  []|           |            |             |                  []|                    |                  []|        |        |https://semantics...|       []|Clair comme lune ...|        |2016|\n",
      "|[[[1392355377], M...|  10.1111/jocn.12477|https://doi.org/1...|      []|         [Medicine]|412b10a92babf3509...|                  []|           |            |             |                  []|Aims and objectiv...|                  []|        |        |https://semantics...|       []|Unexpected deaths...|        |2013|\n",
      "|[[[47909706], Ya ...|10.1371/journal.p...|https://doi.org/1...|      []|[Medicine, Biology]|0de1cecd2ed49812f...|[8ecaab2a03953fa5...|           |    551 - 60|           10|[cf5cdba6424524ee...|The mitogen-activ...|[http://ftp.ncbi....|26599013|        |https://semantics...|[Medline]|RNA-Seq Analysis ...|PloS one|2015|\n",
      "|[[[47264369], Aws...|10.1016/S0735-109...|https://doi.org/1...|      []|         [Medicine]|1d9fee40f59bf00eb...|                  []|           |            |             |                  []|                    |                  []|        |        |https://semantics...|       []|Temporal Trends a...|        |2012|\n",
      "+--------------------+--------------------+--------------------+--------+-------------------+--------------------+--------------------+-----------+------------+-------------+--------------------+--------------------+--------------------+--------+--------+--------------------+---------+--------------------+--------+----+\n",
      "only showing top 5 rows\n",
      "\n"
     ]
    }
   ],
   "source": [
    "spark_df.show(5)"
   ]
  },
  {
   "cell_type": "code",
   "execution_count": 9,
   "metadata": {},
   "outputs": [],
   "source": [
    "# spark_df.summary()"
   ]
  },
  {
   "cell_type": "markdown",
   "metadata": {},
   "source": [
    "### Checking if any NaN rows "
   ]
  },
  {
   "cell_type": "code",
   "execution_count": 12,
   "metadata": {},
   "outputs": [
    {
     "data": {
      "text/plain": [
       "9784508"
      ]
     },
     "execution_count": 12,
     "metadata": {},
     "output_type": "execute_result"
    }
   ],
   "source": [
    "spark_df.dropna().count()"
   ]
  },
  {
   "cell_type": "code",
   "execution_count": 14,
   "metadata": {},
   "outputs": [
    {
     "name": "stdout",
     "output_type": "stream",
     "text": [
      "Total Null rows =  192481\n",
      "Nulls as pct of total = 1.92924939578464%\n"
     ]
    }
   ],
   "source": [
    "#Calculating total number of NAN rows\n",
    "row_count = spark_df.count()\n",
    "null_row_count = row_count - spark_df.dropna().count()\n",
    "print(\"Total Null rows = \", null_row_count)\n",
    "print(\"Nulls as pct of total = {}%\".format((null_row_count/row_count)*100))"
   ]
  },
  {
   "cell_type": "code",
   "execution_count": 15,
   "metadata": {},
   "outputs": [
    {
     "data": {
      "text/plain": [
       "2180"
      ]
     },
     "execution_count": 15,
     "metadata": {},
     "output_type": "execute_result"
    }
   ],
   "source": [
    "spark_df.select('fieldsOfStudy').distinct().count()"
   ]
  },
  {
   "cell_type": "code",
   "execution_count": 16,
   "metadata": {},
   "outputs": [
    {
     "name": "stdout",
     "output_type": "stream",
     "text": [
      "+-------------------+-------+\n",
      "|      fieldsOfStudy|  count|\n",
      "+-------------------+-------+\n",
      "|         [Medicine]|1797410|\n",
      "|                 []|1270796|\n",
      "|        [Chemistry]| 647360|\n",
      "| [Computer Science]| 605115|\n",
      "|      [Engineering]| 532338|\n",
      "|          [Biology]| 493352|\n",
      "|          [Physics]| 456051|\n",
      "|[Materials Science]| 427580|\n",
      "|       [Psychology]| 354488|\n",
      "|          [History]| 312121|\n",
      "|        [Sociology]| 299245|\n",
      "|              [Art]| 292479|\n",
      "|      [Mathematics]| 269465|\n",
      "|[Political Science]| 268942|\n",
      "|        [Geography]| 250747|\n",
      "|        [Economics]| 198698|\n",
      "|[Medicine, Biology]| 189729|\n",
      "|         [Business]| 184848|\n",
      "|[Biology, Medicine]| 170081|\n",
      "|          [Geology]| 166235|\n",
      "+-------------------+-------+\n",
      "only showing top 20 rows\n",
      "\n"
     ]
    }
   ],
   "source": [
    "spark_df.groupby('fieldsOfStudy').count().sort(\"count\").orderBy([\"count\"], ascending=[0]).show(20)"
   ]
  },
  {
   "cell_type": "code",
   "execution_count": 17,
   "metadata": {},
   "outputs": [
    {
     "data": {
      "text/plain": [
       "86"
      ]
     },
     "execution_count": 17,
     "metadata": {},
     "output_type": "execute_result"
    }
   ],
   "source": [
    "spark_df.select('year').distinct().count()"
   ]
  },
  {
   "cell_type": "markdown",
   "metadata": {},
   "source": [
    "## Creating column that counts the inCitations = how many times this paper was cited"
   ]
  },
  {
   "cell_type": "code",
   "execution_count": 18,
   "metadata": {},
   "outputs": [],
   "source": [
    "from pyspark.sql.functions import udf #user defined function\n",
    "from pyspark.sql.types import * #Import types == IntegerType, StringType etc.\n",
    "\n",
    "length = udf(lambda listt: len(listt), IntegerType())"
   ]
  },
  {
   "cell_type": "code",
   "execution_count": 19,
   "metadata": {},
   "outputs": [],
   "source": [
    "spark_df2 = spark_df.withColumn('inCitations_count', length(spark_df['inCitations']))"
   ]
  },
  {
   "cell_type": "code",
   "execution_count": 20,
   "metadata": {
    "scrolled": true
   },
   "outputs": [
    {
     "name": "stdout",
     "output_type": "stream",
     "text": [
      "+-----------------+--------------------+\n",
      "|inCitations_count|         inCitations|\n",
      "+-----------------+--------------------+\n",
      "|                0|                  []|\n",
      "|                0|                  []|\n",
      "|                0|                  []|\n",
      "|               13|[8ecaab2a03953fa5...|\n",
      "|                0|                  []|\n",
      "|                0|                  []|\n",
      "|                0|                  []|\n",
      "|                0|                  []|\n",
      "|               22|[ecec08f5ca15e07d...|\n",
      "|                2|[2da3df885d1f032d...|\n",
      "+-----------------+--------------------+\n",
      "only showing top 10 rows\n",
      "\n"
     ]
    }
   ],
   "source": [
    "spark_df2.select('inCitations_count', 'inCitations').show(10)"
   ]
  },
  {
   "cell_type": "markdown",
   "metadata": {},
   "source": [
    "## Creating column that counts the outCitations = how many other papers this paper cited"
   ]
  },
  {
   "cell_type": "code",
   "execution_count": 21,
   "metadata": {},
   "outputs": [
    {
     "name": "stdout",
     "output_type": "stream",
     "text": [
      "+------------------+--------------------+\n",
      "|outCitations_count|        outCitations|\n",
      "+------------------+--------------------+\n",
      "|                 0|                  []|\n",
      "|                 0|                  []|\n",
      "|                 0|                  []|\n",
      "|                69|[cf5cdba6424524ee...|\n",
      "|                 0|                  []|\n",
      "|                 0|                  []|\n",
      "|                 0|                  []|\n",
      "|                 0|                  []|\n",
      "|                 0|                  []|\n",
      "|                 0|                  []|\n",
      "+------------------+--------------------+\n",
      "only showing top 10 rows\n",
      "\n"
     ]
    }
   ],
   "source": [
    "spark_df2 = spark_df2.withColumn('outCitations_count', length(spark_df2['outCitations']))\n",
    "spark_df2.select('outCitations_count', 'outCitations').show(10)"
   ]
  },
  {
   "cell_type": "code",
   "execution_count": 22,
   "metadata": {},
   "outputs": [],
   "source": [
    "#Counting distinct values in each column\n",
    "from pyspark.sql.functions import countDistinct, col\n",
    "\n",
    "distinct_pdf = spark_df2.agg(*(countDistinct(col(c)).alias(c) for c in spark_df2.columns)).collect()\n",
    "\n",
    "distinct_pdf = pd.DataFrame(pd.DataFrame(distinct_pdf, columns = spark_df2.columns).stack(0)).rename({0:'distinct_cnt'}, axis = 1)"
   ]
  },
  {
   "cell_type": "code",
   "execution_count": 23,
   "metadata": {},
   "outputs": [
    {
     "data": {
      "text/html": [
       "<div>\n",
       "<style scoped>\n",
       "    .dataframe tbody tr th:only-of-type {\n",
       "        vertical-align: middle;\n",
       "    }\n",
       "\n",
       "    .dataframe tbody tr th {\n",
       "        vertical-align: top;\n",
       "    }\n",
       "\n",
       "    .dataframe thead th {\n",
       "        text-align: right;\n",
       "    }\n",
       "</style>\n",
       "<table border=\"1\" class=\"dataframe\">\n",
       "  <thead>\n",
       "    <tr style=\"text-align: right;\">\n",
       "      <th></th>\n",
       "      <th></th>\n",
       "      <th>distinct_cnt</th>\n",
       "    </tr>\n",
       "  </thead>\n",
       "  <tbody>\n",
       "    <tr>\n",
       "      <th rowspan=\"22\" valign=\"top\">0</th>\n",
       "      <th>entities</th>\n",
       "      <td>1</td>\n",
       "    </tr>\n",
       "    <tr>\n",
       "      <th>s2PdfUrl</th>\n",
       "      <td>1</td>\n",
       "    </tr>\n",
       "    <tr>\n",
       "      <th>sources</th>\n",
       "      <td>5</td>\n",
       "    </tr>\n",
       "    <tr>\n",
       "      <th>year</th>\n",
       "      <td>85</td>\n",
       "    </tr>\n",
       "    <tr>\n",
       "      <th>outCitations_count</th>\n",
       "      <td>678</td>\n",
       "    </tr>\n",
       "    <tr>\n",
       "      <th>inCitations_count</th>\n",
       "      <td>1654</td>\n",
       "    </tr>\n",
       "    <tr>\n",
       "      <th>fieldsOfStudy</th>\n",
       "      <td>2180</td>\n",
       "    </tr>\n",
       "    <tr>\n",
       "      <th>journalName</th>\n",
       "      <td>50554</td>\n",
       "    </tr>\n",
       "    <tr>\n",
       "      <th>venue</th>\n",
       "      <td>61054</td>\n",
       "    </tr>\n",
       "    <tr>\n",
       "      <th>journalVolume</th>\n",
       "      <td>77493</td>\n",
       "    </tr>\n",
       "    <tr>\n",
       "      <th>journalPages</th>\n",
       "      <td>411597</td>\n",
       "    </tr>\n",
       "    <tr>\n",
       "      <th>outCitations</th>\n",
       "      <td>1572215</td>\n",
       "    </tr>\n",
       "    <tr>\n",
       "      <th>pmid</th>\n",
       "      <td>1692355</td>\n",
       "    </tr>\n",
       "    <tr>\n",
       "      <th>pdfUrls</th>\n",
       "      <td>1783133</td>\n",
       "    </tr>\n",
       "    <tr>\n",
       "      <th>inCitations</th>\n",
       "      <td>2846805</td>\n",
       "    </tr>\n",
       "    <tr>\n",
       "      <th>doiUrl</th>\n",
       "      <td>4886396</td>\n",
       "    </tr>\n",
       "    <tr>\n",
       "      <th>doi</th>\n",
       "      <td>4886420</td>\n",
       "    </tr>\n",
       "    <tr>\n",
       "      <th>paperAbstract</th>\n",
       "      <td>5525030</td>\n",
       "    </tr>\n",
       "    <tr>\n",
       "      <th>authors</th>\n",
       "      <td>8375458</td>\n",
       "    </tr>\n",
       "    <tr>\n",
       "      <th>title</th>\n",
       "      <td>9915513</td>\n",
       "    </tr>\n",
       "    <tr>\n",
       "      <th>s2Url</th>\n",
       "      <td>9976989</td>\n",
       "    </tr>\n",
       "    <tr>\n",
       "      <th>id</th>\n",
       "      <td>9976989</td>\n",
       "    </tr>\n",
       "  </tbody>\n",
       "</table>\n",
       "</div>"
      ],
      "text/plain": [
       "                      distinct_cnt\n",
       "0 entities                       1\n",
       "  s2PdfUrl                       1\n",
       "  sources                        5\n",
       "  year                          85\n",
       "  outCitations_count           678\n",
       "  inCitations_count           1654\n",
       "  fieldsOfStudy               2180\n",
       "  journalName                50554\n",
       "  venue                      61054\n",
       "  journalVolume              77493\n",
       "  journalPages              411597\n",
       "  outCitations             1572215\n",
       "  pmid                     1692355\n",
       "  pdfUrls                  1783133\n",
       "  inCitations              2846805\n",
       "  doiUrl                   4886396\n",
       "  doi                      4886420\n",
       "  paperAbstract            5525030\n",
       "  authors                  8375458\n",
       "  title                    9915513\n",
       "  s2Url                    9976989\n",
       "  id                       9976989"
      ]
     },
     "execution_count": 23,
     "metadata": {},
     "output_type": "execute_result"
    }
   ],
   "source": [
    "distinct_pdf.sort_values('distinct_cnt')"
   ]
  },
  {
   "cell_type": "markdown",
   "metadata": {},
   "source": [
    "Let's look at a sample abstract"
   ]
  },
  {
   "cell_type": "code",
   "execution_count": 24,
   "metadata": {},
   "outputs": [
    {
     "data": {
      "text/plain": [
       "'The problem of budgetary overrun in real estate projects has been enterprises attach great importance.In this paper,we analyze the cause of budgetary overrun in real estate projects in view of building materials,equipment investment and construction;secondly,from the construction costs of the standardized management,enterprise system management and other aspects,we super effective countermeasures to control the budgetary overrun in real estate projects;finally,taking an example of a real estate project in Hunan Province,in detail we analyze the causes and control measures of budgetary overrun in real estate projects.The study can be implemented to provide guidance for similar projects.'"
      ]
     },
     "execution_count": 24,
     "metadata": {},
     "output_type": "execute_result"
    }
   ],
   "source": [
    "spark_df2.select('paperAbstract').limit(1).collect()[0][0]"
   ]
  },
  {
   "cell_type": "markdown",
   "metadata": {},
   "source": [
    "## Tokenize the abstract & title"
   ]
  },
  {
   "cell_type": "code",
   "execution_count": 25,
   "metadata": {},
   "outputs": [],
   "source": [
    "from pyspark.sql.functions import udf, col, lower, regexp_replace\n",
    "from pyspark.ml.feature import Tokenizer, StopWordsRemover\n",
    "from nltk.stem.snowball import SnowballStemmer\n",
    "\n",
    "# Clean text\n",
    "spark_df2 = spark_df2.withColumn('paperAbstract', (lower(regexp_replace('paperAbstract', \"[^a-zA-Z\\\\s]\", \"\"))))\n",
    "spark_df2 = spark_df2.withColumn('title', (lower(regexp_replace('title', \"[^a-zA-Z\\\\s]\", \"\"))))\n",
    "\n",
    "# word_count = udf(lambda string: len(nltk.word_tokenize(string)), IntegerType()) ## OLD SOLUTION \n",
    "from pyspark.ml.feature import HashingTF, IDF, Tokenizer\n",
    "\n",
    "#tokenize words\n",
    "tokenizer = Tokenizer(inputCol=\"paperAbstract\", outputCol=\"abstract_tokens\")\n",
    "spark_df2 = tokenizer.transform(spark_df2)\n",
    "\n",
    "tokenizer = Tokenizer(inputCol=\"title\", outputCol=\"title_tokens\")\n",
    "spark_df2 = tokenizer.transform(spark_df2)"
   ]
  },
  {
   "cell_type": "markdown",
   "metadata": {},
   "source": [
    "## Remove Stopwords"
   ]
  },
  {
   "cell_type": "code",
   "execution_count": 26,
   "metadata": {},
   "outputs": [],
   "source": [
    "from pyspark.ml.feature import StopWordsRemover\n",
    "\n",
    "#remove stop words\n",
    "remover = StopWordsRemover(inputCol=\"abstract_tokens\", outputCol=\"abstract_tokens_filtered\")\n",
    "spark_df2 = remover.transform(spark_df2)\n",
    "\n",
    "#remove stop words\n",
    "remover = StopWordsRemover(inputCol=\"title_tokens\", outputCol=\"title_tokens_filtered\")\n",
    "spark_df2 = remover.transform(spark_df2)"
   ]
  },
  {
   "cell_type": "markdown",
   "metadata": {},
   "source": [
    "## Filter short words"
   ]
  },
  {
   "cell_type": "code",
   "execution_count": 27,
   "metadata": {},
   "outputs": [],
   "source": [
    "# Filter length word > 3\n",
    "filter_length_udf = udf(lambda row: [x for x in row if len(x) >= 3], ArrayType(StringType()))\n",
    "\n",
    "spark_df2 = spark_df2.withColumn('abstract_tokens_filtered', filter_length_udf(col('abstract_tokens_filtered')))\n",
    "spark_df2 = spark_df2.withColumn('title_tokens_filtered', filter_length_udf(col('title_tokens_filtered')))"
   ]
  },
  {
   "cell_type": "markdown",
   "metadata": {},
   "source": [
    "## Lemmetize words"
   ]
  },
  {
   "cell_type": "code",
   "execution_count": 28,
   "metadata": {},
   "outputs": [
    {
     "name": "stdout",
     "output_type": "stream",
     "text": [
      "[nltk_data] Downloading package wordnet to\n",
      "[nltk_data]     /home/nazihkalo/nltk_data...\n",
      "[nltk_data]   Package wordnet is already up-to-date!\n"
     ]
    }
   ],
   "source": [
    "from nltk import WordNetLemmatizer\n",
    "nltk.download('wordnet')\n",
    "lemmatizer = WordNetLemmatizer()\n",
    "def lemmatizationFunct(x):\n",
    "    finalLem = [lemmatizer.lemmatize(s) for s in x]\n",
    "    return finalLem\n",
    "\n",
    "lemmetize_udf = udf(lambda tokens: lemmatizationFunct(tokens), ArrayType(StringType())) \n",
    "\n",
    "spark_df2 = spark_df2.withColumn('abstract_tokens_filtered_lem', lemmetize_udf(spark_df2['abstract_tokens_filtered']))\n",
    "spark_df2 = spark_df2.withColumn('title_tokens_filtered_lem', lemmetize_udf(spark_df2['title_tokens_filtered']))"
   ]
  },
  {
   "cell_type": "markdown",
   "metadata": {},
   "source": [
    "## Create wcount columns"
   ]
  },
  {
   "cell_type": "code",
   "execution_count": 29,
   "metadata": {},
   "outputs": [
    {
     "name": "stdout",
     "output_type": "stream",
     "text": [
      "+-------------------------+------------+----------------------------+---------------+\n",
      "|title_tokens_filtered_lem|title_wcount|abstract_tokens_filtered_lem|abstract_wcount|\n",
      "+-------------------------+------------+----------------------------+---------------+\n",
      "|     [cause, analysis,...|           9|        [problem, budgeta...|             61|\n",
      "|     [clair, comme, lu...|          14|                          []|              0|\n",
      "|     [unexpected, deat...|          10|        [aim, objective, ...|            197|\n",
      "|     [rnaseq, analysis...|          10|        [mitogenactivated...|            140|\n",
      "|     [temporal, trend,...|          11|                          []|              0|\n",
      "|                       []|           0|                          []|              0|\n",
      "|     [application, ium...|           6|                          []|              0|\n",
      "|     [constituio, lxic...|           5|        [lexico, desperta...|             90|\n",
      "|     [nanobiocomposite...|           8|        [ternary, nanobio...|             81|\n",
      "|     [feasibility, two...|           9|        [background, aim,...|            127|\n",
      "+-------------------------+------------+----------------------------+---------------+\n",
      "only showing top 10 rows\n",
      "\n"
     ]
    }
   ],
   "source": [
    "from pyspark.sql.functions import udf \n",
    "\n",
    "word_count = udf(lambda tokens: len(tokens), IntegerType()) \n",
    "\n",
    "spark_df2 = spark_df2.withColumn('abstract_wcount', word_count(spark_df2['abstract_tokens_filtered_lem']))\n",
    "spark_df2 = spark_df2.withColumn('title_wcount', word_count(spark_df2['title_tokens_filtered_lem']))\n",
    "\n",
    "spark_df2.select('title_tokens_filtered_lem', 'title_wcount', 'abstract_tokens_filtered_lem', 'abstract_wcount').show(10)"
   ]
  },
  {
   "cell_type": "markdown",
   "metadata": {},
   "source": [
    "## TFIDF for abstract and title"
   ]
  },
  {
   "cell_type": "code",
   "execution_count": 30,
   "metadata": {},
   "outputs": [],
   "source": [
    "#Maps a sequence of terms to their term frequencies using the hashing trick. \n",
    "hashingTF1 = HashingTF(inputCol=\"abstract_tokens_filtered_lem\", outputCol=\"abstract_tokens_filtered_lem_count\")\n",
    "hashingTF2 = HashingTF(inputCol=\"title_tokens_filtered_lem\", outputCol=\"title_tokens_filtered_lem_count\")\n",
    "featurizedData = hashingTF1.transform(spark_df2)\n",
    "featurizedData = hashingTF2.transform(featurizedData)\n",
    "\n",
    "#Getting IDF\n",
    "idf = IDF(inputCol=\"abstract_tokens_filtered_lem_count\", outputCol=\"abstract_tfidf\")\n",
    "idf2 = IDF(inputCol=\"title_tokens_filtered_lem_count\", outputCol=\"title_tfidf\")\n",
    "\n",
    "idfModel = idf.fit(featurizedData)\n",
    "spark_df3 = idfModel.transform(featurizedData)\n",
    "idfModel = idf2.fit(spark_df3)\n",
    "spark_df3 = idfModel.transform(spark_df3)\n"
   ]
  },
  {
   "cell_type": "code",
   "execution_count": 31,
   "metadata": {},
   "outputs": [
    {
     "name": "stdout",
     "output_type": "stream",
     "text": [
      "+-------------------------+--------------------+----------------------------+--------------------+\n",
      "|title_tokens_filtered_lem|         title_tfidf|abstract_tokens_filtered_lem|      abstract_tfidf|\n",
      "+-------------------------+--------------------+----------------------------+--------------------+\n",
      "|     [cause, analysis,...|(262144,[14898,10...|        [problem, budgeta...|(262144,[14898,31...|\n",
      "|     [clair, comme, lu...|(262144,[19604,34...|                          []|      (262144,[],[])|\n",
      "|     [unexpected, deat...|(262144,[5595,660...|        [aim, objective, ...|(262144,[3824,559...|\n",
      "|     [rnaseq, analysis...|(262144,[15207,63...|        [mitogenactivated...|(262144,[3888,685...|\n",
      "|     [temporal, trend,...|(262144,[20908,32...|                          []|      (262144,[],[])|\n",
      "+-------------------------+--------------------+----------------------------+--------------------+\n",
      "only showing top 5 rows\n",
      "\n"
     ]
    }
   ],
   "source": [
    "spark_df3.select('title_tokens_filtered_lem',\"title_tfidf\",'abstract_tokens_filtered_lem', \"abstract_tfidf\").show(5)"
   ]
  },
  {
   "cell_type": "markdown",
   "metadata": {},
   "source": [
    "## Word2Vec Loading model: 2 failed attempts- gensim & pyspark model"
   ]
  },
  {
   "cell_type": "code",
   "execution_count": 32,
   "metadata": {},
   "outputs": [
    {
     "name": "stdout",
     "output_type": "stream",
     "text": [
      "model.getVectors().count() = 14173\n",
      "Time taken to train the word2Vec model: 2.430572183333333 mins\n"
     ]
    }
   ],
   "source": [
    "import datetime\n",
    "# Learn a mapping from words to Vectors\n",
    "timestart = datetime.datetime.now()\n",
    "\n",
    "from pyspark.ml.feature import Word2Vec\n",
    "word2Vec = Word2Vec(windowSize = 5, vectorSize=50, minCount=500, \\\n",
    "                    numPartitions=10, inputCol=\"title_tokens_filtered_lem\", outputCol=\"title_wordVectors\")\n",
    "w2VM = word2Vec.fit(spark_df3)\n",
    "nlpdf = w2VM.transform(spark_df3)\n",
    "\n",
    "# PRINT HOW MUCH TIME IT TOOK TO RUN THE CELL\n",
    "timeend = datetime.datetime.now()\n",
    "timedelta = (timeend - timestart).total_seconds() / 60\n",
    "print(\"model.getVectors().count() = {}\".format(w2VM.getVectors().count()))\n",
    "print(\"Time taken to train the word2Vec model: \" + str(timedelta) + \" mins\")"
   ]
  },
  {
   "cell_type": "code",
   "execution_count": 33,
   "metadata": {},
   "outputs": [],
   "source": [
    "w2VM.save('word2vec_model_v50_min500_ws5')"
   ]
  },
  {
   "cell_type": "code",
   "execution_count": 34,
   "metadata": {},
   "outputs": [
    {
     "data": {
      "text/html": [
       "<div>\n",
       "<style scoped>\n",
       "    .dataframe tbody tr th:only-of-type {\n",
       "        vertical-align: middle;\n",
       "    }\n",
       "\n",
       "    .dataframe tbody tr th {\n",
       "        vertical-align: top;\n",
       "    }\n",
       "\n",
       "    .dataframe thead th {\n",
       "        text-align: right;\n",
       "    }\n",
       "</style>\n",
       "<table border=\"1\" class=\"dataframe\">\n",
       "  <thead>\n",
       "    <tr style=\"text-align: right;\">\n",
       "      <th></th>\n",
       "      <th>title_tokens_filtered_lem</th>\n",
       "      <th>title_wordVectors</th>\n",
       "    </tr>\n",
       "  </thead>\n",
       "  <tbody>\n",
       "    <tr>\n",
       "      <th>0</th>\n",
       "      <td>[cause, analysis, control, measure, budgetary,...</td>\n",
       "      <td>[-0.5131504601902431, -0.4942763480875227, 1.4...</td>\n",
       "    </tr>\n",
       "    <tr>\n",
       "      <th>1</th>\n",
       "      <td>[clair, comme, lune, texte, sandra, feder, ill...</td>\n",
       "      <td>[-0.511157146521977, 0.4205438366958073, 0.114...</td>\n",
       "    </tr>\n",
       "    <tr>\n",
       "      <th>2</th>\n",
       "      <td>[unexpected, death, medical, ward, night, shif...</td>\n",
       "      <td>[-0.06628441959619523, -0.6808652728796005, 0....</td>\n",
       "    </tr>\n",
       "    <tr>\n",
       "      <th>3</th>\n",
       "      <td>[rnaseq, analysis, reveals, mapkkk, family, me...</td>\n",
       "      <td>[-1.1154624477028847, 0.04023271352052689, -0....</td>\n",
       "    </tr>\n",
       "    <tr>\n",
       "      <th>4</th>\n",
       "      <td>[temporal, trend, factor, predicting, use, thr...</td>\n",
       "      <td>[0.1117502748966217, -0.695119781927629, 1.879...</td>\n",
       "    </tr>\n",
       "  </tbody>\n",
       "</table>\n",
       "</div>"
      ],
      "text/plain": [
       "                           title_tokens_filtered_lem  \\\n",
       "0  [cause, analysis, control, measure, budgetary,...   \n",
       "1  [clair, comme, lune, texte, sandra, feder, ill...   \n",
       "2  [unexpected, death, medical, ward, night, shif...   \n",
       "3  [rnaseq, analysis, reveals, mapkkk, family, me...   \n",
       "4  [temporal, trend, factor, predicting, use, thr...   \n",
       "\n",
       "                                   title_wordVectors  \n",
       "0  [-0.5131504601902431, -0.4942763480875227, 1.4...  \n",
       "1  [-0.511157146521977, 0.4205438366958073, 0.114...  \n",
       "2  [-0.06628441959619523, -0.6808652728796005, 0....  \n",
       "3  [-1.1154624477028847, 0.04023271352052689, -0....  \n",
       "4  [0.1117502748966217, -0.695119781927629, 1.879...  "
      ]
     },
     "execution_count": 34,
     "metadata": {},
     "output_type": "execute_result"
    }
   ],
   "source": [
    "w2v_pdf = nlpdf.select('title_tokens_filtered_lem','title_wordVectors').limit(5).toPandas()\n",
    "\n",
    "w2v_pdf.head()"
   ]
  },
  {
   "cell_type": "code",
   "execution_count": 35,
   "metadata": {},
   "outputs": [
    {
     "name": "stdout",
     "output_type": "stream",
     "text": [
      "words = \n",
      " ['cause', 'analysis', 'control', 'measure', 'budgetary', 'overrun', 'contemporary', 'estate', 'project']\n",
      "\n",
      "wordvector = \n",
      " [-0.5131504601902431,-0.4942763480875227,1.4551570680406358,1.1178659266895716,0.2359011305703057,-1.0497278140650854,0.6716381013393402,-1.75537637869517,0.046507080396016434,-0.5046158267392052,0.762064516544342,-0.019456326961517334,-0.11661965317196316,0.5606789721382989,0.2459344532754686,0.4041700892978244,-1.2590456853310266,0.7985428124666214,-1.6017301910453372,-0.027074545621871948,1.0152494990163379,0.8104184998406304,-0.5046284794807434,0.43439510133531356,-0.9483143902487224,0.2568034993277656,-0.10435153709517585,0.300687829653422,0.32654528650972575,-0.14927792217996386,1.4431013531155055,-0.26107835272947943,0.36547625395986766,0.6194568806224399,0.855299390024609,-0.4651802248424954,-1.5475021799405415,0.04354015986124674,-0.3665302486883269,-0.48445167144139606,0.0061527084973123335,0.6260736766788694,0.4160140189859602,-0.02192432681719462,1.716097440984514,-0.9715822405285305,0.7327766219774882,-0.8039933774206373,0.3440427780151367,0.8597946812709172]\n"
     ]
    }
   ],
   "source": [
    "print('words = \\n', w2v_pdf.iloc[0,0])\n",
    "print('\\nwordvector = \\n', w2v_pdf.iloc[0,1])"
   ]
  },
  {
   "cell_type": "code",
   "execution_count": 128,
   "metadata": {},
   "outputs": [],
   "source": [
    "test_terms = w2VM.getVectors().filter((col('word') == 'incident') | (col('word') == 'event')).collect()\n",
    "#w2VM.getVectors().first().vector"
   ]
  },
  {
   "cell_type": "code",
   "execution_count": 158,
   "metadata": {},
   "outputs": [],
   "source": [
    "def cos_sim(a,b):\n",
    "    return float(np.dot(a, b) / (np.linalg.norm(a) * np.linalg.norm(b)))\n",
    "\n",
    "cos_sim_udf = udf(lambda x, y: cos_sim(x,y), FloatType())"
   ]
  },
  {
   "cell_type": "code",
   "execution_count": 157,
   "metadata": {},
   "outputs": [
    {
     "data": {
      "text/plain": [
       "0.8148302086304097"
      ]
     },
     "execution_count": 157,
     "metadata": {},
     "output_type": "execute_result"
    }
   ],
   "source": [
    "cos_sim(test_terms[0].vector, test_terms[1].vector)"
   ]
  },
  {
   "cell_type": "code",
   "execution_count": 115,
   "metadata": {},
   "outputs": [
    {
     "data": {
      "text/plain": [
       "[('event', 0.8148302435874939),\n",
       " ('baseline', 0.7913722991943359),\n",
       " ('sickness', 0.7755866050720215),\n",
       " ('morbidity', 0.7463832497596741),\n",
       " ('waiting', 0.7460590600967407)]"
      ]
     },
     "execution_count": 115,
     "metadata": {},
     "output_type": "execute_result"
    }
   ],
   "source": [
    "w2VM.findSynonymsArray('incident', 5)"
   ]
  },
  {
   "cell_type": "code",
   "execution_count": 162,
   "metadata": {},
   "outputs": [],
   "source": [
    "\n",
    "coll = cos_sim_udf(array([lit(v) for v in test_terms[0].vector]), \\\n",
    "            array([lit(v) for v in test_terms[1].vector]))\n"
   ]
  },
  {
   "cell_type": "code",
   "execution_count": 168,
   "metadata": {},
   "outputs": [
    {
     "data": {
      "text/plain": [
       "Column<b'<lambda>(array(-1.4135029315948486, -0.008624415844678879, 1.2140793800354004, -1.8567863702774048, 2.437103748321533, -0.11892496049404144, -2.7120814323425293, 0.4474911093711853, 0.8807857632637024, 1.3831881284713745, 1.9629560708999634, 0.1760571151971817, 0.6771154999732971, 0.9552804827690125, -0.5254846811294556, 1.2863832712173462, 1.2638404369354248, 1.119626522064209, 1.2641879320144653, -0.6995944976806641, 0.4184196889400482, -0.786975085735321, 2.2565484046936035, -0.11487414687871933, ... 26 more fields), array(-1.0543463230133057, -0.5626320242881775, 1.6828505992889404, -1.7820003032684326, 2.4455902576446533, 0.06304009258747101, -1.482363224029541, 1.1752467155456543, 1.9883323907852173, 0.9629970192909241, 1.353745937347412, 0.21402402222156525, 2.288827419281006, 0.9350121021270752, -0.6093250513076782, 0.375243604183197, 0.3302777409553528, 0.7147708535194397, 0.5790965557098389, -0.5335889458656311, 1.4040014743804932, 0.0982133150100708, 1.5089995861053467, 0.8208590745925903, ... 26 more fields))[array][0]'>"
      ]
     },
     "execution_count": 168,
     "metadata": {},
     "output_type": "execute_result"
    }
   ],
   "source": [
    "coll"
   ]
  },
  {
   "cell_type": "code",
   "execution_count": 149,
   "metadata": {},
   "outputs": [],
   "source": [
    "static_array = test_terms[0].vector"
   ]
  },
  {
   "cell_type": "code",
   "execution_count": 171,
   "metadata": {},
   "outputs": [
    {
     "name": "stdout",
     "output_type": "stream",
     "text": [
      "+---------------+--------------------+----------+\n",
      "|           word|              vector|     coSim|\n",
      "+---------------+--------------------+----------+\n",
      "|       incident|[-1.4135029315948...|       1.0|\n",
      "|          event|[-1.0543463230133...| 0.8148302|\n",
      "|       baseline|[-0.4684939384460...| 0.7913723|\n",
      "|       sickness|[-0.6365463137626...|0.77558655|\n",
      "|      morbidity|[-0.3282577991485...| 0.7463833|\n",
      "|        waiting|[-1.5830460786819...|0.74605906|\n",
      "|       accident|[-0.5611081719398...|0.73592585|\n",
      "|     cumulative|[-0.0725718364119...|0.73549616|\n",
      "|          crash|[-0.5570912957191...| 0.7273719|\n",
      "|         burden|[-1.8719997406005...| 0.7246494|\n",
      "|hospitalization|[-1.8758287429809...|0.71920043|\n",
      "|         stroke|[-3.7460350990295...| 0.7145015|\n",
      "|      mortality|[-1.8260400295257...| 0.7124914|\n",
      "|         extent|[-0.4867479801177...|0.71128744|\n",
      "|      complaint|[-1.4734418392181...|0.70825344|\n",
      "|      admission|[-2.3375346660614...| 0.7004896|\n",
      "|     vulnerable|[-0.8727873563766...|0.69644785|\n",
      "|        elderly|[-1.5048546791076...|0.69305176|\n",
      "|   occupational|[-1.0991233587265...|  0.690515|\n",
      "|  resuscitation|[-3.0366845130920...| 0.6904518|\n",
      "+---------------+--------------------+----------+\n",
      "only showing top 20 rows\n",
      "\n"
     ]
    }
   ],
   "source": [
    "w2VM.getVectors().withColumn(\"coSim\", cos_sim_udf(col(\"vector\"), array([lit(v) for v in static_array])))\\\n",
    ".orderBy('coSim',ascending = False).show()"
   ]
  },
  {
   "cell_type": "code",
   "execution_count": 176,
   "metadata": {},
   "outputs": [
    {
     "name": "stdout",
     "output_type": "stream",
     "text": [
      "+-------------------------+--------------------+-----+\n",
      "|title_tokens_filtered_lem|   title_wordVectors|coSim|\n",
      "+-------------------------+--------------------+-----+\n",
      "|      [curragh, incident]|[-0.7067514657974...|  1.0|\n",
      "|     [cowm, quarry, in...|[-0.4711676438649...|  1.0|\n",
      "|     [salisbury, incid...|[-0.7067514657974...|  1.0|\n",
      "|     [thalidomide, inc...|[-0.7067514657974...|  1.0|\n",
      "|     [incident, politi...|[-0.7067514657974...|  1.0|\n",
      "|     [tasmanian, incid...|[-0.7067514657974...|  1.0|\n",
      "|     [intracardiac, dr...|[-0.2355838219324...|  1.0|\n",
      "|      [incident, aughrim]|[-0.7067514657974...|  1.0|\n",
      "|        [incident, vichy]|[-0.7067514657974...|  1.0|\n",
      "|     [comrade, liu, di...|[-0.2827005863189...|  1.0|\n",
      "|     [jazz, perfume, i...|[-0.4711676438649...|  1.0|\n",
      "|     [secteur, bocca, ...|[-0.3533757328987...|  1.0|\n",
      "|     [hanford, reacto,...|[-0.4711676438649...|  1.0|\n",
      "|     [taoka, otsu, inc...|[-0.3533757328987...|  1.0|\n",
      "|     [contains, vulgar...|[-0.4711676438649...|  1.0|\n",
      "|      [seekonk, incident]|[-0.7067514657974...|  1.0|\n",
      "|     [pork, chop, inci...|[-0.4711676438649...|  1.0|\n",
      "|          [goa, incident]|[-0.7067514657974...|  1.0|\n",
      "|       [mosley, incident]|[-0.7067514657974...|  1.0|\n",
      "|     [jazz, perfume, i...|[-0.4711676438649...|  1.0|\n",
      "+-------------------------+--------------------+-----+\n",
      "only showing top 20 rows\n",
      "\n"
     ]
    }
   ],
   "source": [
    "nlpdf.select('title_tokens_filtered_lem','title_wordVectors')\\\n",
    "    .withColumn(\"coSim\", cos_sim_udf(col(\"title_wordVectors\"), array([lit(v) for v in static_array])))\\\n",
    "    .dropna()\\\n",
    "    .orderBy('coSim',ascending = False).show()"
   ]
  },
  {
   "cell_type": "code",
   "execution_count": 30,
   "metadata": {},
   "outputs": [],
   "source": [
    "# # Create embedding index from file in .txt format. First line contains \n",
    "# # dictionary size and embedding dim. Fields are space separated\n",
    "# import numpy as np \n",
    "# def get_embeddings(file_name):\n",
    "#     embeddings_index = {}\n",
    "#     with open(file_name, encoding='utf-8') as f:\n",
    "#         for line in f:\n",
    "#             values = line.rstrip().split(' ')\n",
    "#             if len(values) > 2:\n",
    "#                 embeddings_index[values[0]] = np.asarray(values[1:], dtype=\"float32\")\n",
    "#     return embeddings_index\n",
    "\n",
    "# embeddings_path = 'file:///'\n",
    "# embeddings_index = get_embeddings('/project/msca/kadochnikov/wordvec/glove.6B.300d.txt')\n",
    "\n",
    "# embeddings_dim = len(next(iter(embeddings_index.values())))\n",
    "# embeddings_dim\n",
    "\n",
    "# embeddings_index.get('scholar')\n",
    "\n",
    "# def title2vec(title, vocabulary = embeddings_index.keys(), proxy ='unknown'):\n",
    "#     try:\n",
    "#         vecs = np.array([embeddings_index.get(str(i)) if str(i) in vocabulary else proxy for i in title])\n",
    "#         mean_vec = np.mean(vecs, axis = 0).tolist()\n",
    "#     except:\n",
    "#         mean_vec = [0]*300\n",
    "#     return mean_vec\n",
    "\n",
    "# title2vec_udf = udf(lambda title: title2vec(title, ), ArrayType(FloatType()))"
   ]
  },
  {
   "cell_type": "code",
   "execution_count": 121,
   "metadata": {},
   "outputs": [],
   "source": [
    "# from pyspark.ml.feature import Word2Vec\n",
    "# loadedWord2Vec = Word2Vec.load('file:///' +'project/msca/kadochnikov/wordvec/glove.6B.300d.txt')\n",
    "# #Word2Vec.load('file:///' +'project/msca/kadochnikov/wordvec/GoogleNews-vectors-negative300.bin')"
   ]
  },
  {
   "cell_type": "code",
   "execution_count": 128,
   "metadata": {},
   "outputs": [],
   "source": [
    "# import time\n",
    "# start_time = time.time()\n",
    "\n",
    "# from gensim.models import KeyedVectors\n",
    "# model_google = KeyedVectors.load_word2vec_format('file:///'+'/project/msca/kadochnikov/wordvec/GoogleNews-vectors-negative300.bin', binary=True)\n",
    "\n",
    "# print(\"Load time {} seconds\".format(time.time() - start_time))\n",
    "\n",
    "# import numpy as np\n",
    "# def title2vec(title):\n",
    "#     try:\n",
    "#         vecs = np.array([model_google[str(i)] for i in title])\n",
    "#         mean_vec = np.mean(vecs, axis = 0).tolist()\n",
    "#     except:\n",
    "#         mean_vec = [0]*300\n",
    "#     return mean_vec\n",
    "\n",
    "# title2vec_udf = udf(lambda title: title2vec(title), ArrayType(FloatType()))\n",
    "\n",
    "# spark_df2.limit(10).withColumn('vecs', title2vec_udf(col('title_tokens_filtered_lem'))).show()\n",
    "# res = title2vec(spark_df2.select('title_tokens_filtered_lem').take(1)[0][0])\n",
    "\n"
   ]
  },
  {
   "cell_type": "markdown",
   "metadata": {},
   "source": [
    "## Mapping SJR to journal name "
   ]
  },
  {
   "cell_type": "code",
   "execution_count": 36,
   "metadata": {},
   "outputs": [],
   "source": [
    "journal_map = spark.read.csv('big_data_project/scimagojr_2017.csv', sep = ';',inferSchema=True, header=True )"
   ]
  },
  {
   "cell_type": "code",
   "execution_count": 37,
   "metadata": {},
   "outputs": [
    {
     "name": "stdout",
     "output_type": "stream",
     "text": [
      "root\n",
      " |-- Rank: integer (nullable = true)\n",
      " |-- Sourceid: long (nullable = true)\n",
      " |-- Title: string (nullable = true)\n",
      " |-- Type: string (nullable = true)\n",
      " |-- Issn: string (nullable = true)\n",
      " |-- SJR: string (nullable = true)\n",
      " |-- SJR Best Quartile: string (nullable = true)\n",
      " |-- H index: string (nullable = true)\n",
      " |-- Total Docs. (2017): integer (nullable = true)\n",
      " |-- Total Docs. (3years): integer (nullable = true)\n",
      " |-- Total Refs.: integer (nullable = true)\n",
      " |-- Total Cites (3years): integer (nullable = true)\n",
      " |-- Citable Docs. (3years): integer (nullable = true)\n",
      " |-- Cites / Doc. (2years): string (nullable = true)\n",
      " |-- Ref. / Doc.: string (nullable = true)\n",
      " |-- Country: string (nullable = true)\n",
      " |-- Publisher: string (nullable = true)\n",
      " |-- Coverage: string (nullable = true)\n",
      " |-- Categories: string (nullable = true)\n",
      "\n"
     ]
    }
   ],
   "source": [
    "journal_map.printSchema()"
   ]
  },
  {
   "cell_type": "code",
   "execution_count": 38,
   "metadata": {},
   "outputs": [],
   "source": [
    "#Renaming column so they dont have same name \n",
    "journal_map2 = journal_map.withColumnRenamed('Title', 'journal_name')"
   ]
  },
  {
   "cell_type": "code",
   "execution_count": 39,
   "metadata": {},
   "outputs": [
    {
     "data": {
      "text/plain": [
       "50554"
      ]
     },
     "execution_count": 39,
     "metadata": {},
     "output_type": "execute_result"
    }
   ],
   "source": [
    "nlpdf.select('journalName').distinct().count()"
   ]
  },
  {
   "cell_type": "code",
   "execution_count": 40,
   "metadata": {},
   "outputs": [],
   "source": [
    "joined_dfs = nlpdf.join(journal_map2, on = spark_df.journalName == journal_map2.journal_name, how = 'left_outer')"
   ]
  },
  {
   "cell_type": "code",
   "execution_count": 41,
   "metadata": {},
   "outputs": [
    {
     "name": "stdout",
     "output_type": "stream",
     "text": [
      "+-----------+--------+------------+----+\n",
      "|journalName|   venue|journal_name| SJR|\n",
      "+-----------+--------+------------+----+\n",
      "|           |        |        null|null|\n",
      "|           |        |        null|null|\n",
      "|           |        |        null|null|\n",
      "|           |PloS one|        null|null|\n",
      "|           |        |        null|null|\n",
      "+-----------+--------+------------+----+\n",
      "only showing top 5 rows\n",
      "\n"
     ]
    }
   ],
   "source": [
    "joined_dfs.select('journalName', 'venue', 'journal_name', 'SJR').show(5)"
   ]
  },
  {
   "cell_type": "markdown",
   "metadata": {},
   "source": [
    "### Find 25 percentile to fill "
   ]
  },
  {
   "cell_type": "code",
   "execution_count": 42,
   "metadata": {},
   "outputs": [
    {
     "data": {
      "text/plain": [
       "124"
      ]
     },
     "execution_count": 42,
     "metadata": {},
     "output_type": "execute_result"
    }
   ],
   "source": [
    "SJR = journal_map.toPandas()[['SJR']]\n",
    "SJR_fillna_val = int(SJR.apply(lambda x: x.str.replace(',','')).dropna().astype(int).quantile(0.25)[0])\n",
    "SJR_fillna_val"
   ]
  },
  {
   "cell_type": "code",
   "execution_count": 43,
   "metadata": {},
   "outputs": [],
   "source": [
    "joined_dfs = joined_dfs.drop('SJR Best Quartile', 'H index', 'Total Docs. (2017)', 'Total Docs. (3years)', \n",
    "                'Total Refs.', 'Total Cites (3years)', 'Citable Docs. (3years)', 'Cites / Doc. (2years)', \n",
    "                'Ref. / Doc.', 'Country', 'Publisher','Coverage', 'Categories', 'journal_name', 'Type', 'Issn',\n",
    "                            'Rank', 'Sourceid')"
   ]
  },
  {
   "cell_type": "code",
   "execution_count": 44,
   "metadata": {},
   "outputs": [],
   "source": [
    "joined_dfs = joined_dfs.na.fill({'SJR': SJR_fillna_val})"
   ]
  },
  {
   "cell_type": "code",
   "execution_count": 45,
   "metadata": {},
   "outputs": [],
   "source": [
    "joined_dfs = joined_dfs.withColumn(\"SJR\", joined_dfs[\"SJR\"].cast(IntegerType()))"
   ]
  },
  {
   "cell_type": "markdown",
   "metadata": {},
   "source": [
    "## Fixing some dtypes\n"
   ]
  },
  {
   "cell_type": "code",
   "execution_count": 46,
   "metadata": {},
   "outputs": [
    {
     "data": {
      "text/plain": [
       "[('authors', 'array<struct<ids:array<string>,name:string>>'),\n",
       " ('doi', 'string'),\n",
       " ('doiUrl', 'string'),\n",
       " ('entities', 'array<string>'),\n",
       " ('fieldsOfStudy', 'array<string>'),\n",
       " ('id', 'string'),\n",
       " ('inCitations', 'array<string>'),\n",
       " ('journalName', 'string'),\n",
       " ('journalPages', 'string'),\n",
       " ('journalVolume', 'string'),\n",
       " ('outCitations', 'array<string>'),\n",
       " ('paperAbstract', 'string'),\n",
       " ('pdfUrls', 'array<string>'),\n",
       " ('pmid', 'string'),\n",
       " ('s2PdfUrl', 'string'),\n",
       " ('s2Url', 'string'),\n",
       " ('sources', 'array<string>'),\n",
       " ('title', 'string'),\n",
       " ('venue', 'string'),\n",
       " ('year', 'bigint'),\n",
       " ('inCitations_count', 'int'),\n",
       " ('outCitations_count', 'int'),\n",
       " ('abstract_tokens', 'array<string>'),\n",
       " ('title_tokens', 'array<string>'),\n",
       " ('abstract_tokens_filtered', 'array<string>'),\n",
       " ('title_tokens_filtered', 'array<string>'),\n",
       " ('abstract_tokens_filtered_lem', 'array<string>'),\n",
       " ('title_tokens_filtered_lem', 'array<string>'),\n",
       " ('abstract_wcount', 'int'),\n",
       " ('title_wcount', 'int'),\n",
       " ('abstract_tokens_filtered_lem_count', 'vector'),\n",
       " ('title_tokens_filtered_lem_count', 'vector'),\n",
       " ('abstract_tfidf', 'vector'),\n",
       " ('title_tfidf', 'vector'),\n",
       " ('title_wordVectors', 'vector'),\n",
       " ('SJR', 'int')]"
      ]
     },
     "execution_count": 46,
     "metadata": {},
     "output_type": "execute_result"
    }
   ],
   "source": [
    "joined_dfs.dtypes"
   ]
  },
  {
   "cell_type": "markdown",
   "metadata": {},
   "source": [
    "### Splitting authors column into authorname & authorID"
   ]
  },
  {
   "cell_type": "code",
   "execution_count": 47,
   "metadata": {},
   "outputs": [],
   "source": [
    "import pyspark.sql.functions as F\n",
    "joined_dfs = joined_dfs.withColumn('author_ids', F.col('authors.ids'))\n",
    "joined_dfs = joined_dfs.withColumn('author_names', F.col('authors.name'))"
   ]
  },
  {
   "cell_type": "markdown",
   "metadata": {},
   "source": [
    "### Counting number of authors "
   ]
  },
  {
   "cell_type": "code",
   "execution_count": 48,
   "metadata": {},
   "outputs": [
    {
     "name": "stdout",
     "output_type": "stream",
     "text": [
      "+--------------------+------------+\n",
      "|        author_names|author_count|\n",
      "+--------------------+------------+\n",
      "|       [Yang Li-pin]|           1|\n",
      "|[Sandra V. . Aute...|           4|\n",
      "|[Mns Rn Community...|           2|\n",
      "|[Ya Jun Liu, Miao...|           8|\n",
      "|[Awsan Noman, Moh...|           5|\n",
      "+--------------------+------------+\n",
      "only showing top 5 rows\n",
      "\n"
     ]
    }
   ],
   "source": [
    "joined_dfs = joined_dfs.withColumn('author_count', word_count(joined_dfs['author_names']))\n",
    "\n",
    "joined_dfs.select('author_names' ,'author_count').show(5)"
   ]
  },
  {
   "cell_type": "markdown",
   "metadata": {},
   "source": [
    "## ONE HOT ENCODING CATEGORICALS"
   ]
  },
  {
   "cell_type": "code",
   "execution_count": 46,
   "metadata": {},
   "outputs": [
    {
     "name": "stdout",
     "output_type": "stream",
     "text": [
      "+-------------------+---------+\n",
      "|      fieldsOfStudy|  sources|\n",
      "+-------------------+---------+\n",
      "|         [Business]|       []|\n",
      "|          [History]|       []|\n",
      "|         [Medicine]|       []|\n",
      "|[Medicine, Biology]|[Medline]|\n",
      "|         [Medicine]|       []|\n",
      "+-------------------+---------+\n",
      "only showing top 5 rows\n",
      "\n"
     ]
    }
   ],
   "source": [
    "joined_dfs.select('fieldsOfStudy', 'sources').show(5)"
   ]
  },
  {
   "cell_type": "code",
   "execution_count": 47,
   "metadata": {},
   "outputs": [
    {
     "name": "stdout",
     "output_type": "stream",
     "text": [
      "+---------------+\n",
      "|        sources|\n",
      "+---------------+\n",
      "|      [Medline]|\n",
      "|         [DBLP]|\n",
      "|             []|\n",
      "|[Medline, DBLP]|\n",
      "|[DBLP, Medline]|\n",
      "+---------------+\n",
      "\n"
     ]
    }
   ],
   "source": [
    "joined_dfs.select('sources').distinct().show()"
   ]
  },
  {
   "cell_type": "markdown",
   "metadata": {},
   "source": [
    "### Now let's unpack the arrays and turn them into strings"
   ]
  },
  {
   "cell_type": "code",
   "execution_count": 49,
   "metadata": {},
   "outputs": [],
   "source": [
    "#Defining function to unpack list intro string joined with ', ' \n",
    "udf_unpack = udf(lambda listt: ', '.join(listt), StringType())"
   ]
  },
  {
   "cell_type": "code",
   "execution_count": 50,
   "metadata": {},
   "outputs": [],
   "source": [
    "joined_dfs = joined_dfs.withColumn('fieldsOfStudy', udf_unpack(col('fieldsOfStudy')))\n",
    "joined_dfs = joined_dfs.withColumn('sources', udf_unpack(col('sources')))"
   ]
  },
  {
   "cell_type": "code",
   "execution_count": 51,
   "metadata": {},
   "outputs": [],
   "source": [
    "joined_dfs = joined_dfs.withColumn('sources', regexp_replace(col(\"sources\"), r\"^\\s*$\", \"no_source\"))\n",
    "joined_dfs = joined_dfs.withColumn('fieldsOfStudy', regexp_replace(col(\"fieldsOfStudy\"), r\"^\\s*$\", \"no_FoS\"))"
   ]
  },
  {
   "cell_type": "code",
   "execution_count": 52,
   "metadata": {},
   "outputs": [
    {
     "name": "stdout",
     "output_type": "stream",
     "text": [
      "+-------------+\n",
      "|      sources|\n",
      "+-------------+\n",
      "|Medline, DBLP|\n",
      "|      Medline|\n",
      "|         DBLP|\n",
      "|DBLP, Medline|\n",
      "|    no_source|\n",
      "+-------------+\n",
      "\n"
     ]
    }
   ],
   "source": [
    "joined_dfs.select('sources').distinct().show()"
   ]
  },
  {
   "cell_type": "code",
   "execution_count": 53,
   "metadata": {},
   "outputs": [
    {
     "name": "stdout",
     "output_type": "stream",
     "text": [
      "+--------------------+--------------------+--------------------+--------+-----------------+--------------------+--------------------+-----------+------------+-------------+--------------------+--------------------+--------------------+--------+--------+--------------------+---------+--------------------+--------+----+-----------------+------------------+--------------------+--------------------+------------------------+---------------------+----------------------------+-------------------------+---------------+------------+----------------------------------+-------------------------------+--------------------+--------------------+--------------------+---+--------------------+--------------------+------------+----------------+----------+-----------------+-------------+\n",
      "|             authors|                 doi|              doiUrl|entities|    fieldsOfStudy|                  id|         inCitations|journalName|journalPages|journalVolume|        outCitations|       paperAbstract|             pdfUrls|    pmid|s2PdfUrl|               s2Url|  sources|               title|   venue|year|inCitations_count|outCitations_count|     abstract_tokens|        title_tokens|abstract_tokens_filtered|title_tokens_filtered|abstract_tokens_filtered_lem|title_tokens_filtered_lem|abstract_wcount|title_wcount|abstract_tokens_filtered_lem_count|title_tokens_filtered_lem_count|      abstract_tfidf|         title_tfidf|   title_wordVectors|SJR|          author_ids|        author_names|author_count|fieldsOfStudyIdx|sourcesIdx| fieldsOfStudyVec|   sourcesVec|\n",
      "+--------------------+--------------------+--------------------+--------+-----------------+--------------------+--------------------+-----------+------------+-------------+--------------------+--------------------+--------------------+--------+--------+--------------------+---------+--------------------+--------+----+-----------------+------------------+--------------------+--------------------+------------------------+---------------------+----------------------------+-------------------------+---------------+------------+----------------------------------+-------------------------------+--------------------+--------------------+--------------------+---+--------------------+--------------------+------------+----------------+----------+-----------------+-------------+\n",
      "|[[[52602509], Yan...|                    |                    |      []|         Business|b9c27ac1bb8b3ec9d...|                  []|           |            |             |                  []|the problem of bu...|                  []|        |        |https://semantics...|no_source|cause analysis an...|        |2014|                0|                 0|[the, problem, of...|[cause, analysis,...|    [problem, budgeta...| [cause, analysis,...|        [problem, budgeta...|     [cause, analysis,...|             61|           9|              (262144,[14898,31...|           (262144,[14898,10...|(262144,[14898,31...|(262144,[14898,10...|[-0.5131504601902...|124|        [[52602509]]|       [Yang Li-pin]|           1|            17.0|       0.0|(2179,[17],[1.0])|(4,[0],[1.0])|\n",
      "|[[[122800702], Sa...|                    |                    |      []|          History|91cac7b12800a6238...|                  []|           |            |             |                  []|                    |                  []|        |        |https://semantics...|no_source|clair comme lune ...|        |2016|                0|                 0|                  []|[clair, comme, lu...|                      []| [clair, comme, lu...|                          []|     [clair, comme, lu...|              0|          14|                    (262144,[],[])|           (262144,[19604,34...|      (262144,[],[])|(262144,[19604,34...|[-0.5111571465219...|124|[[122800702], [12...|[Sandra V. . Aute...|           4|             9.0|       0.0| (2179,[9],[1.0])|(4,[0],[1.0])|\n",
      "|[[[1392355377], M...|  10.1111/jocn.12477|https://doi.org/1...|      []|         Medicine|412b10a92babf3509...|                  []|           |            |             |                  []|aims and objectiv...|                  []|        |        |https://semantics...|no_source|unexpected deaths...|        |2013|                0|                 0|[aims, and, objec...|[unexpected, deat...|    [aims, objectives...| [unexpected, deat...|        [aim, objective, ...|     [unexpected, deat...|            197|          10|              (262144,[3824,559...|           (262144,[5595,660...|(262144,[3824,559...|(262144,[5595,660...|[-0.0662844195961...|124|[[1392355377], [1...|[Mns Rn Community...|           2|             0.0|       0.0| (2179,[0],[1.0])|(4,[0],[1.0])|\n",
      "|[[[47909706], Ya ...|10.1371/journal.p...|https://doi.org/1...|      []|Medicine, Biology|0de1cecd2ed49812f...|[8ecaab2a03953fa5...|           |    551 - 60|           10|[cf5cdba6424524ee...|the mitogenactiva...|[http://ftp.ncbi....|26599013|        |https://semantics...|  Medline|rnaseq analysis r...|PloS one|2015|               13|                69|[the, mitogenacti...|[rnaseq, analysis...|    [mitogenactivated...| [rnaseq, analysis...|        [mitogenactivated...|     [rnaseq, analysis...|            140|          10|              (262144,[3888,685...|           (262144,[15207,63...|(262144,[3888,685...|(262144,[15207,63...|[-1.1154624477028...|124|[[47909706], [215...|[Ya Jun Liu, Miao...|           8|            16.0|       1.0|(2179,[16],[1.0])|(4,[1],[1.0])|\n",
      "|[[[47264369], Aws...|10.1016/S0735-109...|https://doi.org/1...|      []|         Medicine|1d9fee40f59bf00eb...|                  []|           |            |             |                  []|                    |                  []|        |        |https://semantics...|no_source|temporal trends a...|        |2012|                0|                 0|                  []|[temporal, trends...|                      []| [temporal, trends...|                          []|     [temporal, trend,...|              0|          11|                    (262144,[],[])|           (262144,[20908,32...|      (262144,[],[])|(262144,[20908,32...|[0.11175027489662...|124|[[47264369], [654...|[Awsan Noman, Moh...|           5|             0.0|       0.0| (2179,[0],[1.0])|(4,[0],[1.0])|\n",
      "+--------------------+--------------------+--------------------+--------+-----------------+--------------------+--------------------+-----------+------------+-------------+--------------------+--------------------+--------------------+--------+--------+--------------------+---------+--------------------+--------+----+-----------------+------------------+--------------------+--------------------+------------------------+---------------------+----------------------------+-------------------------+---------------+------------+----------------------------------+-------------------------------+--------------------+--------------------+--------------------+---+--------------------+--------------------+------------+----------------+----------+-----------------+-------------+\n",
      "only showing top 5 rows\n",
      "\n"
     ]
    }
   ],
   "source": [
    "from pyspark.ml.feature import VectorAssembler\n",
    "from pyspark.ml import Pipeline\n",
    "from pyspark.ml.feature import StringIndexer, OneHotEncoderEstimator\n",
    "\n",
    "#convert relevant categorical into one hot encoded\n",
    "indexer1 = StringIndexer(inputCol=\"fieldsOfStudy\", outputCol=\"fieldsOfStudyIdx\").setHandleInvalid(\"skip\")\n",
    "indexer2 = StringIndexer(inputCol=\"sources\", outputCol=\"sourcesIdx\").setHandleInvalid(\"skip\")\n",
    "\n",
    "#gather all indexers as inputs to the One Hot Encoder\n",
    "inputs = [indexer1.getOutputCol(), indexer2.getOutputCol()]\n",
    "\n",
    "#create the one hot encoder\n",
    "encoder = OneHotEncoderEstimator(inputCols=inputs,  \\\n",
    "                                 outputCols=[\"fieldsOfStudyVec\", \"sourcesVec\"])\n",
    "\n",
    "#run it through a pipeline\n",
    "pipeline = Pipeline(stages=[indexer1, indexer2, encoder])\n",
    "encodedData = pipeline.fit(joined_dfs).transform(joined_dfs)\n",
    "\n",
    "#we have removed NAs so dont need to impute missing values.\n",
    "#pipeline = pipeline.na.fill(0) \n",
    "\n",
    "encodedData.show(5)"
   ]
  },
  {
   "cell_type": "markdown",
   "metadata": {},
   "source": [
    "## SELECTING COLUMNS FOR MODELING"
   ]
  },
  {
   "cell_type": "code",
   "execution_count": 54,
   "metadata": {},
   "outputs": [],
   "source": [
    "modeling_data = encodedData.select(\n",
    "    'id', 'year',\n",
    " 'inCitations_count',\n",
    " 'outCitations_count','abstract_wcount',\n",
    " 'title_wcount','abstract_tfidf',\n",
    " 'title_tfidf',\n",
    " 'SJR','author_count','fieldsOfStudyVec',\n",
    " 'sourcesVec', 'title_wordVectors')"
   ]
  },
  {
   "cell_type": "code",
   "execution_count": 55,
   "metadata": {},
   "outputs": [
    {
     "data": {
      "text/html": [
       "<div>\n",
       "<style scoped>\n",
       "    .dataframe tbody tr th:only-of-type {\n",
       "        vertical-align: middle;\n",
       "    }\n",
       "\n",
       "    .dataframe tbody tr th {\n",
       "        vertical-align: top;\n",
       "    }\n",
       "\n",
       "    .dataframe thead th {\n",
       "        text-align: right;\n",
       "    }\n",
       "</style>\n",
       "<table border=\"1\" class=\"dataframe\">\n",
       "  <thead>\n",
       "    <tr style=\"text-align: right;\">\n",
       "      <th></th>\n",
       "      <th>id</th>\n",
       "      <th>year</th>\n",
       "      <th>inCitations_count</th>\n",
       "      <th>outCitations_count</th>\n",
       "      <th>abstract_wcount</th>\n",
       "      <th>title_wcount</th>\n",
       "      <th>abstract_tfidf</th>\n",
       "      <th>title_tfidf</th>\n",
       "      <th>SJR</th>\n",
       "      <th>author_count</th>\n",
       "      <th>fieldsOfStudyVec</th>\n",
       "      <th>sourcesVec</th>\n",
       "      <th>title_wordVectors</th>\n",
       "    </tr>\n",
       "  </thead>\n",
       "  <tbody>\n",
       "    <tr>\n",
       "      <th>0</th>\n",
       "      <td>b9c27ac1bb8b3ec9d4faa06ed7163d002c8967bb</td>\n",
       "      <td>2014</td>\n",
       "      <td>0</td>\n",
       "      <td>0</td>\n",
       "      <td>61</td>\n",
       "      <td>9</td>\n",
       "      <td>(0.0, 0.0, 0.0, 0.0, 0.0, 0.0, 0.0, 0.0, 0.0, ...</td>\n",
       "      <td>(0.0, 0.0, 0.0, 0.0, 0.0, 0.0, 0.0, 0.0, 0.0, ...</td>\n",
       "      <td>124</td>\n",
       "      <td>1</td>\n",
       "      <td>(0.0, 0.0, 0.0, 0.0, 0.0, 0.0, 0.0, 0.0, 0.0, ...</td>\n",
       "      <td>(1.0, 0.0, 0.0, 0.0)</td>\n",
       "      <td>[-0.38373208294312156, 0.34186492363611853, 0....</td>\n",
       "    </tr>\n",
       "    <tr>\n",
       "      <th>1</th>\n",
       "      <td>91cac7b12800a6238d6bb3bcdf338f8a1556b912</td>\n",
       "      <td>2016</td>\n",
       "      <td>0</td>\n",
       "      <td>0</td>\n",
       "      <td>0</td>\n",
       "      <td>14</td>\n",
       "      <td>(0.0, 0.0, 0.0, 0.0, 0.0, 0.0, 0.0, 0.0, 0.0, ...</td>\n",
       "      <td>(0.0, 0.0, 0.0, 0.0, 0.0, 0.0, 0.0, 0.0, 0.0, ...</td>\n",
       "      <td>124</td>\n",
       "      <td>4</td>\n",
       "      <td>(0.0, 0.0, 0.0, 0.0, 0.0, 0.0, 0.0, 0.0, 0.0, ...</td>\n",
       "      <td>(1.0, 0.0, 0.0, 0.0)</td>\n",
       "      <td>[-1.823535817010062, -0.9715813568660191, -1.2...</td>\n",
       "    </tr>\n",
       "    <tr>\n",
       "      <th>2</th>\n",
       "      <td>412b10a92babf350975dd98e58039891d792df6d</td>\n",
       "      <td>2013</td>\n",
       "      <td>0</td>\n",
       "      <td>0</td>\n",
       "      <td>197</td>\n",
       "      <td>10</td>\n",
       "      <td>(0.0, 0.0, 0.0, 0.0, 0.0, 0.0, 0.0, 0.0, 0.0, ...</td>\n",
       "      <td>(0.0, 0.0, 0.0, 0.0, 0.0, 0.0, 0.0, 0.0, 0.0, ...</td>\n",
       "      <td>124</td>\n",
       "      <td>2</td>\n",
       "      <td>(1.0, 0.0, 0.0, 0.0, 0.0, 0.0, 0.0, 0.0, 0.0, ...</td>\n",
       "      <td>(1.0, 0.0, 0.0, 0.0)</td>\n",
       "      <td>[-0.9904607474803925, 0.5073053002357483, 1.85...</td>\n",
       "    </tr>\n",
       "    <tr>\n",
       "      <th>3</th>\n",
       "      <td>0de1cecd2ed49812f3a55e4b78edf9ffd292618c</td>\n",
       "      <td>2015</td>\n",
       "      <td>13</td>\n",
       "      <td>69</td>\n",
       "      <td>140</td>\n",
       "      <td>10</td>\n",
       "      <td>(0.0, 0.0, 0.0, 0.0, 0.0, 0.0, 0.0, 0.0, 0.0, ...</td>\n",
       "      <td>(0.0, 0.0, 0.0, 0.0, 0.0, 0.0, 0.0, 0.0, 0.0, ...</td>\n",
       "      <td>124</td>\n",
       "      <td>8</td>\n",
       "      <td>(0.0, 0.0, 0.0, 0.0, 0.0, 0.0, 0.0, 0.0, 0.0, ...</td>\n",
       "      <td>(0.0, 1.0, 0.0, 0.0)</td>\n",
       "      <td>[1.2772655487060547, 2.0660125970840455, 1.053...</td>\n",
       "    </tr>\n",
       "    <tr>\n",
       "      <th>4</th>\n",
       "      <td>1d9fee40f59bf00eb85ac8dd0e75d0514648c7a7</td>\n",
       "      <td>2012</td>\n",
       "      <td>0</td>\n",
       "      <td>0</td>\n",
       "      <td>0</td>\n",
       "      <td>11</td>\n",
       "      <td>(0.0, 0.0, 0.0, 0.0, 0.0, 0.0, 0.0, 0.0, 0.0, ...</td>\n",
       "      <td>(0.0, 0.0, 0.0, 0.0, 0.0, 0.0, 0.0, 0.0, 0.0, ...</td>\n",
       "      <td>124</td>\n",
       "      <td>5</td>\n",
       "      <td>(1.0, 0.0, 0.0, 0.0, 0.0, 0.0, 0.0, 0.0, 0.0, ...</td>\n",
       "      <td>(1.0, 0.0, 0.0, 0.0)</td>\n",
       "      <td>[-0.1645142219283364, 1.3447277735580099, 0.51...</td>\n",
       "    </tr>\n",
       "  </tbody>\n",
       "</table>\n",
       "</div>"
      ],
      "text/plain": [
       "                                         id  year  inCitations_count  \\\n",
       "0  b9c27ac1bb8b3ec9d4faa06ed7163d002c8967bb  2014                  0   \n",
       "1  91cac7b12800a6238d6bb3bcdf338f8a1556b912  2016                  0   \n",
       "2  412b10a92babf350975dd98e58039891d792df6d  2013                  0   \n",
       "3  0de1cecd2ed49812f3a55e4b78edf9ffd292618c  2015                 13   \n",
       "4  1d9fee40f59bf00eb85ac8dd0e75d0514648c7a7  2012                  0   \n",
       "\n",
       "   outCitations_count  abstract_wcount  title_wcount  \\\n",
       "0                   0               61             9   \n",
       "1                   0                0            14   \n",
       "2                   0              197            10   \n",
       "3                  69              140            10   \n",
       "4                   0                0            11   \n",
       "\n",
       "                                      abstract_tfidf  \\\n",
       "0  (0.0, 0.0, 0.0, 0.0, 0.0, 0.0, 0.0, 0.0, 0.0, ...   \n",
       "1  (0.0, 0.0, 0.0, 0.0, 0.0, 0.0, 0.0, 0.0, 0.0, ...   \n",
       "2  (0.0, 0.0, 0.0, 0.0, 0.0, 0.0, 0.0, 0.0, 0.0, ...   \n",
       "3  (0.0, 0.0, 0.0, 0.0, 0.0, 0.0, 0.0, 0.0, 0.0, ...   \n",
       "4  (0.0, 0.0, 0.0, 0.0, 0.0, 0.0, 0.0, 0.0, 0.0, ...   \n",
       "\n",
       "                                         title_tfidf  SJR  author_count  \\\n",
       "0  (0.0, 0.0, 0.0, 0.0, 0.0, 0.0, 0.0, 0.0, 0.0, ...  124             1   \n",
       "1  (0.0, 0.0, 0.0, 0.0, 0.0, 0.0, 0.0, 0.0, 0.0, ...  124             4   \n",
       "2  (0.0, 0.0, 0.0, 0.0, 0.0, 0.0, 0.0, 0.0, 0.0, ...  124             2   \n",
       "3  (0.0, 0.0, 0.0, 0.0, 0.0, 0.0, 0.0, 0.0, 0.0, ...  124             8   \n",
       "4  (0.0, 0.0, 0.0, 0.0, 0.0, 0.0, 0.0, 0.0, 0.0, ...  124             5   \n",
       "\n",
       "                                    fieldsOfStudyVec            sourcesVec  \\\n",
       "0  (0.0, 0.0, 0.0, 0.0, 0.0, 0.0, 0.0, 0.0, 0.0, ...  (1.0, 0.0, 0.0, 0.0)   \n",
       "1  (0.0, 0.0, 0.0, 0.0, 0.0, 0.0, 0.0, 0.0, 0.0, ...  (1.0, 0.0, 0.0, 0.0)   \n",
       "2  (1.0, 0.0, 0.0, 0.0, 0.0, 0.0, 0.0, 0.0, 0.0, ...  (1.0, 0.0, 0.0, 0.0)   \n",
       "3  (0.0, 0.0, 0.0, 0.0, 0.0, 0.0, 0.0, 0.0, 0.0, ...  (0.0, 1.0, 0.0, 0.0)   \n",
       "4  (1.0, 0.0, 0.0, 0.0, 0.0, 0.0, 0.0, 0.0, 0.0, ...  (1.0, 0.0, 0.0, 0.0)   \n",
       "\n",
       "                                   title_wordVectors  \n",
       "0  [-0.38373208294312156, 0.34186492363611853, 0....  \n",
       "1  [-1.823535817010062, -0.9715813568660191, -1.2...  \n",
       "2  [-0.9904607474803925, 0.5073053002357483, 1.85...  \n",
       "3  [1.2772655487060547, 2.0660125970840455, 1.053...  \n",
       "4  [-0.1645142219283364, 1.3447277735580099, 0.51...  "
      ]
     },
     "execution_count": 55,
     "metadata": {},
     "output_type": "execute_result"
    }
   ],
   "source": [
    "pdf_final = modeling_data.limit(5).toPandas()\n",
    "pdf_final"
   ]
  },
  {
   "cell_type": "code",
   "execution_count": 55,
   "metadata": {},
   "outputs": [],
   "source": [
    "from pyspark.ml.feature import VectorAssembler\n",
    "#gather feature vector and identify features\n",
    "assembler = VectorAssembler(inputCols = ['year', 'outCitations_count','abstract_wcount','title_wcount','abstract_tfidf',\\\n",
    "                                         'title_tfidf','SJR','author_count','fieldsOfStudyVec', 'sourcesVec', \\\n",
    "                                         'title_wordVectors'], \\\n",
    "                            outputCol = 'features')\n",
    "\n",
    "\n",
    "modeling_data = assembler.transform(modeling_data)"
   ]
  },
  {
   "cell_type": "code",
   "execution_count": 66,
   "metadata": {},
   "outputs": [
    {
     "data": {
      "text/plain": [
       "['id',\n",
       " 'year',\n",
       " 'inCitations_count',\n",
       " 'outCitations_count',\n",
       " 'abstract_wcount',\n",
       " 'title_wcount',\n",
       " 'abstract_tfidf',\n",
       " 'title_tfidf',\n",
       " 'SJR',\n",
       " 'author_count',\n",
       " 'fieldsOfStudyVec',\n",
       " 'sourcesVec',\n",
       " 'title_wordVectors',\n",
       " 'features']"
      ]
     },
     "execution_count": 66,
     "metadata": {},
     "output_type": "execute_result"
    }
   ],
   "source": [
    "modeling_data.columns"
   ]
  },
  {
   "cell_type": "code",
   "execution_count": 56,
   "metadata": {},
   "outputs": [
    {
     "ename": "Py4JJavaError",
     "evalue": "An error occurred while calling o978.showString.\n: org.apache.spark.SparkException: Job aborted due to stage failure: Task 0 in stage 81.0 failed 4 times, most recent failure: Lost task 0.3 in stage 81.0 (TID 4198, hd03.rcc.local, executor 486): org.apache.spark.SparkException: Failed to execute user defined function($anonfun$4: (struct<year_double_VectorAssembler_204f1b780323:double,outCitations_count_double_VectorAssembler_204f1b780323:double,abstract_wcount_double_VectorAssembler_204f1b780323:double,title_wcount_double_VectorAssembler_204f1b780323:double,abstract_tfidf:struct<type:tinyint,size:int,indices:array<int>,values:array<double>>,title_tfidf:struct<type:tinyint,size:int,indices:array<int>,values:array<double>>,SJR_double_VectorAssembler_204f1b780323:double,author_count_double_VectorAssembler_204f1b780323:double,fieldsOfStudyVec:struct<type:tinyint,size:int,indices:array<int>,values:array<double>>,sourcesVec:struct<type:tinyint,size:int,indices:array<int>,values:array<double>>,title_wordVectors:struct<type:tinyint,size:int,indices:array<int>,values:array<double>>>) => struct<type:tinyint,size:int,indices:array<int>,values:array<double>>)\n\tat org.apache.spark.sql.catalyst.expressions.GeneratedClass$GeneratedIteratorForCodegenStage5.sort_addToSorter_0$(Unknown Source)\n\tat org.apache.spark.sql.catalyst.expressions.GeneratedClass$GeneratedIteratorForCodegenStage5.processNext(Unknown Source)\n\tat org.apache.spark.sql.execution.BufferedRowIterator.hasNext(BufferedRowIterator.java:43)\n\tat org.apache.spark.sql.execution.WholeStageCodegenExec$$anonfun$11$$anon$1.hasNext(WholeStageCodegenExec.scala:624)\n\tat org.apache.spark.sql.execution.SparkPlan$$anonfun$2.apply(SparkPlan.scala:255)\n\tat org.apache.spark.sql.execution.SparkPlan$$anonfun$2.apply(SparkPlan.scala:247)\n\tat org.apache.spark.rdd.RDD$$anonfun$mapPartitionsInternal$1$$anonfun$apply$24.apply(RDD.scala:836)\n\tat org.apache.spark.rdd.RDD$$anonfun$mapPartitionsInternal$1$$anonfun$apply$24.apply(RDD.scala:836)\n\tat org.apache.spark.rdd.MapPartitionsRDD.compute(MapPartitionsRDD.scala:52)\n\tat org.apache.spark.rdd.RDD.computeOrReadCheckpoint(RDD.scala:324)\n\tat org.apache.spark.rdd.RDD.iterator(RDD.scala:288)\n\tat org.apache.spark.rdd.MapPartitionsRDD.compute(MapPartitionsRDD.scala:52)\n\tat org.apache.spark.rdd.RDD.computeOrReadCheckpoint(RDD.scala:324)\n\tat org.apache.spark.rdd.RDD.iterator(RDD.scala:288)\n\tat org.apache.spark.scheduler.ResultTask.runTask(ResultTask.scala:90)\n\tat org.apache.spark.scheduler.Task.run(Task.scala:121)\n\tat org.apache.spark.executor.Executor$TaskRunner$$anonfun$11.apply(Executor.scala:407)\n\tat org.apache.spark.util.Utils$.tryWithSafeFinally(Utils.scala:1408)\n\tat org.apache.spark.executor.Executor$TaskRunner.run(Executor.scala:413)\n\tat java.util.concurrent.ThreadPoolExecutor.runWorker(ThreadPoolExecutor.java:1149)\n\tat java.util.concurrent.ThreadPoolExecutor$Worker.run(ThreadPoolExecutor.java:624)\n\tat java.lang.Thread.run(Thread.java:748)\nCaused by: org.apache.spark.SparkException: Encountered null while assembling a row with handleInvalid = \"keep\". Consider\nremoving nulls from dataset or using handleInvalid = \"keep\" or \"skip\".\n\tat org.apache.spark.ml.feature.VectorAssembler$$anonfun$assemble$1.apply(VectorAssembler.scala:287)\n\tat org.apache.spark.ml.feature.VectorAssembler$$anonfun$assemble$1.apply(VectorAssembler.scala:255)\n\tat scala.collection.IndexedSeqOptimized$class.foreach(IndexedSeqOptimized.scala:33)\n\tat scala.collection.mutable.WrappedArray.foreach(WrappedArray.scala:35)\n\tat org.apache.spark.ml.feature.VectorAssembler$.assemble(VectorAssembler.scala:255)\n\tat org.apache.spark.ml.feature.VectorAssembler$$anonfun$4.apply(VectorAssembler.scala:144)\n\tat org.apache.spark.ml.feature.VectorAssembler$$anonfun$4.apply(VectorAssembler.scala:143)\n\t... 22 more\n\nDriver stacktrace:\n\tat org.apache.spark.scheduler.DAGScheduler.org$apache$spark$scheduler$DAGScheduler$$failJobAndIndependentStages(DAGScheduler.scala:1890)\n\tat org.apache.spark.scheduler.DAGScheduler$$anonfun$abortStage$1.apply(DAGScheduler.scala:1878)\n\tat org.apache.spark.scheduler.DAGScheduler$$anonfun$abortStage$1.apply(DAGScheduler.scala:1877)\n\tat scala.collection.mutable.ResizableArray$class.foreach(ResizableArray.scala:59)\n\tat scala.collection.mutable.ArrayBuffer.foreach(ArrayBuffer.scala:48)\n\tat org.apache.spark.scheduler.DAGScheduler.abortStage(DAGScheduler.scala:1877)\n\tat org.apache.spark.scheduler.DAGScheduler$$anonfun$handleTaskSetFailed$1.apply(DAGScheduler.scala:929)\n\tat org.apache.spark.scheduler.DAGScheduler$$anonfun$handleTaskSetFailed$1.apply(DAGScheduler.scala:929)\n\tat scala.Option.foreach(Option.scala:257)\n\tat org.apache.spark.scheduler.DAGScheduler.handleTaskSetFailed(DAGScheduler.scala:929)\n\tat org.apache.spark.scheduler.DAGSchedulerEventProcessLoop.doOnReceive(DAGScheduler.scala:2111)\n\tat org.apache.spark.scheduler.DAGSchedulerEventProcessLoop.onReceive(DAGScheduler.scala:2060)\n\tat org.apache.spark.scheduler.DAGSchedulerEventProcessLoop.onReceive(DAGScheduler.scala:2049)\n\tat org.apache.spark.util.EventLoop$$anon$1.run(EventLoop.scala:49)\n\tat org.apache.spark.scheduler.DAGScheduler.runJob(DAGScheduler.scala:740)\n\tat org.apache.spark.SparkContext.runJob(SparkContext.scala:2081)\n\tat org.apache.spark.SparkContext.runJob(SparkContext.scala:2102)\n\tat org.apache.spark.SparkContext.runJob(SparkContext.scala:2121)\n\tat org.apache.spark.sql.execution.SparkPlan.executeTake(SparkPlan.scala:365)\n\tat org.apache.spark.sql.execution.CollectLimitExec.executeCollect(limit.scala:38)\n\tat org.apache.spark.sql.Dataset.org$apache$spark$sql$Dataset$$collectFromPlan(Dataset.scala:3383)\n\tat org.apache.spark.sql.Dataset$$anonfun$head$1.apply(Dataset.scala:2544)\n\tat org.apache.spark.sql.Dataset$$anonfun$head$1.apply(Dataset.scala:2544)\n\tat org.apache.spark.sql.Dataset$$anonfun$53.apply(Dataset.scala:3364)\n\tat org.apache.spark.sql.execution.SQLExecution$$anonfun$withNewExecutionId$1.apply(SQLExecution.scala:78)\n\tat org.apache.spark.sql.execution.SQLExecution$.withSQLConfPropagated(SQLExecution.scala:125)\n\tat org.apache.spark.sql.execution.SQLExecution$.withNewExecutionId(SQLExecution.scala:73)\n\tat org.apache.spark.sql.Dataset.withAction(Dataset.scala:3363)\n\tat org.apache.spark.sql.Dataset.head(Dataset.scala:2544)\n\tat org.apache.spark.sql.Dataset.take(Dataset.scala:2758)\n\tat org.apache.spark.sql.Dataset.getRows(Dataset.scala:254)\n\tat org.apache.spark.sql.Dataset.showString(Dataset.scala:291)\n\tat sun.reflect.NativeMethodAccessorImpl.invoke0(Native Method)\n\tat sun.reflect.NativeMethodAccessorImpl.invoke(NativeMethodAccessorImpl.java:62)\n\tat sun.reflect.DelegatingMethodAccessorImpl.invoke(DelegatingMethodAccessorImpl.java:43)\n\tat java.lang.reflect.Method.invoke(Method.java:498)\n\tat py4j.reflection.MethodInvoker.invoke(MethodInvoker.java:244)\n\tat py4j.reflection.ReflectionEngine.invoke(ReflectionEngine.java:357)\n\tat py4j.Gateway.invoke(Gateway.java:282)\n\tat py4j.commands.AbstractCommand.invokeMethod(AbstractCommand.java:132)\n\tat py4j.commands.CallCommand.execute(CallCommand.java:79)\n\tat py4j.GatewayConnection.run(GatewayConnection.java:238)\n\tat java.lang.Thread.run(Thread.java:748)\nCaused by: org.apache.spark.SparkException: Failed to execute user defined function($anonfun$4: (struct<year_double_VectorAssembler_204f1b780323:double,outCitations_count_double_VectorAssembler_204f1b780323:double,abstract_wcount_double_VectorAssembler_204f1b780323:double,title_wcount_double_VectorAssembler_204f1b780323:double,abstract_tfidf:struct<type:tinyint,size:int,indices:array<int>,values:array<double>>,title_tfidf:struct<type:tinyint,size:int,indices:array<int>,values:array<double>>,SJR_double_VectorAssembler_204f1b780323:double,author_count_double_VectorAssembler_204f1b780323:double,fieldsOfStudyVec:struct<type:tinyint,size:int,indices:array<int>,values:array<double>>,sourcesVec:struct<type:tinyint,size:int,indices:array<int>,values:array<double>>,title_wordVectors:struct<type:tinyint,size:int,indices:array<int>,values:array<double>>>) => struct<type:tinyint,size:int,indices:array<int>,values:array<double>>)\n\tat org.apache.spark.sql.catalyst.expressions.GeneratedClass$GeneratedIteratorForCodegenStage5.sort_addToSorter_0$(Unknown Source)\n\tat org.apache.spark.sql.catalyst.expressions.GeneratedClass$GeneratedIteratorForCodegenStage5.processNext(Unknown Source)\n\tat org.apache.spark.sql.execution.BufferedRowIterator.hasNext(BufferedRowIterator.java:43)\n\tat org.apache.spark.sql.execution.WholeStageCodegenExec$$anonfun$11$$anon$1.hasNext(WholeStageCodegenExec.scala:624)\n\tat org.apache.spark.sql.execution.SparkPlan$$anonfun$2.apply(SparkPlan.scala:255)\n\tat org.apache.spark.sql.execution.SparkPlan$$anonfun$2.apply(SparkPlan.scala:247)\n\tat org.apache.spark.rdd.RDD$$anonfun$mapPartitionsInternal$1$$anonfun$apply$24.apply(RDD.scala:836)\n\tat org.apache.spark.rdd.RDD$$anonfun$mapPartitionsInternal$1$$anonfun$apply$24.apply(RDD.scala:836)\n\tat org.apache.spark.rdd.MapPartitionsRDD.compute(MapPartitionsRDD.scala:52)\n\tat org.apache.spark.rdd.RDD.computeOrReadCheckpoint(RDD.scala:324)\n\tat org.apache.spark.rdd.RDD.iterator(RDD.scala:288)\n\tat org.apache.spark.rdd.MapPartitionsRDD.compute(MapPartitionsRDD.scala:52)\n\tat org.apache.spark.rdd.RDD.computeOrReadCheckpoint(RDD.scala:324)\n\tat org.apache.spark.rdd.RDD.iterator(RDD.scala:288)\n\tat org.apache.spark.scheduler.ResultTask.runTask(ResultTask.scala:90)\n\tat org.apache.spark.scheduler.Task.run(Task.scala:121)\n\tat org.apache.spark.executor.Executor$TaskRunner$$anonfun$11.apply(Executor.scala:407)\n\tat org.apache.spark.util.Utils$.tryWithSafeFinally(Utils.scala:1408)\n\tat org.apache.spark.executor.Executor$TaskRunner.run(Executor.scala:413)\n\tat java.util.concurrent.ThreadPoolExecutor.runWorker(ThreadPoolExecutor.java:1149)\n\tat java.util.concurrent.ThreadPoolExecutor$Worker.run(ThreadPoolExecutor.java:624)\n\t... 1 more\nCaused by: org.apache.spark.SparkException: Encountered null while assembling a row with handleInvalid = \"keep\". Consider\nremoving nulls from dataset or using handleInvalid = \"keep\" or \"skip\".\n\tat org.apache.spark.ml.feature.VectorAssembler$$anonfun$assemble$1.apply(VectorAssembler.scala:287)\n\tat org.apache.spark.ml.feature.VectorAssembler$$anonfun$assemble$1.apply(VectorAssembler.scala:255)\n\tat scala.collection.IndexedSeqOptimized$class.foreach(IndexedSeqOptimized.scala:33)\n\tat scala.collection.mutable.WrappedArray.foreach(WrappedArray.scala:35)\n\tat org.apache.spark.ml.feature.VectorAssembler$.assemble(VectorAssembler.scala:255)\n\tat org.apache.spark.ml.feature.VectorAssembler$$anonfun$4.apply(VectorAssembler.scala:144)\n\tat org.apache.spark.ml.feature.VectorAssembler$$anonfun$4.apply(VectorAssembler.scala:143)\n\t... 22 more\n",
     "output_type": "error",
     "traceback": [
      "\u001b[0;31m---------------------------------------------------------------------------\u001b[0m",
      "\u001b[0;31mPy4JJavaError\u001b[0m                             Traceback (most recent call last)",
      "\u001b[0;32m<ipython-input-56-541d18f10b2e>\u001b[0m in \u001b[0;36m<module>\u001b[0;34m()\u001b[0m\n\u001b[1;32m      1\u001b[0m \u001b[0;31m#split data into train and test\u001b[0m\u001b[0;34m\u001b[0m\u001b[0;34m\u001b[0m\u001b[0;34m\u001b[0m\u001b[0m\n\u001b[1;32m      2\u001b[0m \u001b[0mtrain_df\u001b[0m\u001b[0;34m,\u001b[0m \u001b[0mtest_df\u001b[0m \u001b[0;34m=\u001b[0m \u001b[0mmodeling_data\u001b[0m\u001b[0;34m.\u001b[0m\u001b[0mrandomSplit\u001b[0m\u001b[0;34m(\u001b[0m\u001b[0;34m[\u001b[0m\u001b[0;36m0.8\u001b[0m\u001b[0;34m,\u001b[0m \u001b[0;36m0.2\u001b[0m\u001b[0;34m]\u001b[0m\u001b[0;34m,\u001b[0m \u001b[0mseed\u001b[0m\u001b[0;34m=\u001b[0m\u001b[0;36m42\u001b[0m\u001b[0;34m)\u001b[0m\u001b[0;34m\u001b[0m\u001b[0;34m\u001b[0m\u001b[0m\n\u001b[0;32m----> 3\u001b[0;31m \u001b[0mtrain_df\u001b[0m\u001b[0;34m.\u001b[0m\u001b[0mshow\u001b[0m\u001b[0;34m(\u001b[0m\u001b[0;36m1\u001b[0m\u001b[0;34m)\u001b[0m\u001b[0;34m\u001b[0m\u001b[0;34m\u001b[0m\u001b[0m\n\u001b[0m",
      "\u001b[0;32m/opt/cloudera/parcels/CDH/lib/spark/python/lib/pyspark.zip/pyspark/sql/dataframe.py\u001b[0m in \u001b[0;36mshow\u001b[0;34m(self, n, truncate, vertical)\u001b[0m\n\u001b[1;32m    376\u001b[0m         \"\"\"\n\u001b[1;32m    377\u001b[0m         \u001b[0;32mif\u001b[0m \u001b[0misinstance\u001b[0m\u001b[0;34m(\u001b[0m\u001b[0mtruncate\u001b[0m\u001b[0;34m,\u001b[0m \u001b[0mbool\u001b[0m\u001b[0;34m)\u001b[0m \u001b[0;32mand\u001b[0m \u001b[0mtruncate\u001b[0m\u001b[0;34m:\u001b[0m\u001b[0;34m\u001b[0m\u001b[0;34m\u001b[0m\u001b[0m\n\u001b[0;32m--> 378\u001b[0;31m             \u001b[0mprint\u001b[0m\u001b[0;34m(\u001b[0m\u001b[0mself\u001b[0m\u001b[0;34m.\u001b[0m\u001b[0m_jdf\u001b[0m\u001b[0;34m.\u001b[0m\u001b[0mshowString\u001b[0m\u001b[0;34m(\u001b[0m\u001b[0mn\u001b[0m\u001b[0;34m,\u001b[0m \u001b[0;36m20\u001b[0m\u001b[0;34m,\u001b[0m \u001b[0mvertical\u001b[0m\u001b[0;34m)\u001b[0m\u001b[0;34m)\u001b[0m\u001b[0;34m\u001b[0m\u001b[0;34m\u001b[0m\u001b[0m\n\u001b[0m\u001b[1;32m    379\u001b[0m         \u001b[0;32melse\u001b[0m\u001b[0;34m:\u001b[0m\u001b[0;34m\u001b[0m\u001b[0;34m\u001b[0m\u001b[0m\n\u001b[1;32m    380\u001b[0m             \u001b[0mprint\u001b[0m\u001b[0;34m(\u001b[0m\u001b[0mself\u001b[0m\u001b[0;34m.\u001b[0m\u001b[0m_jdf\u001b[0m\u001b[0;34m.\u001b[0m\u001b[0mshowString\u001b[0m\u001b[0;34m(\u001b[0m\u001b[0mn\u001b[0m\u001b[0;34m,\u001b[0m \u001b[0mint\u001b[0m\u001b[0;34m(\u001b[0m\u001b[0mtruncate\u001b[0m\u001b[0;34m)\u001b[0m\u001b[0;34m,\u001b[0m \u001b[0mvertical\u001b[0m\u001b[0;34m)\u001b[0m\u001b[0;34m)\u001b[0m\u001b[0;34m\u001b[0m\u001b[0;34m\u001b[0m\u001b[0m\n",
      "\u001b[0;32m/opt/cloudera/parcels/CDH/lib/spark/python/lib/py4j-0.10.7-src.zip/py4j/java_gateway.py\u001b[0m in \u001b[0;36m__call__\u001b[0;34m(self, *args)\u001b[0m\n\u001b[1;32m   1255\u001b[0m         \u001b[0manswer\u001b[0m \u001b[0;34m=\u001b[0m \u001b[0mself\u001b[0m\u001b[0;34m.\u001b[0m\u001b[0mgateway_client\u001b[0m\u001b[0;34m.\u001b[0m\u001b[0msend_command\u001b[0m\u001b[0;34m(\u001b[0m\u001b[0mcommand\u001b[0m\u001b[0;34m)\u001b[0m\u001b[0;34m\u001b[0m\u001b[0;34m\u001b[0m\u001b[0m\n\u001b[1;32m   1256\u001b[0m         return_value = get_return_value(\n\u001b[0;32m-> 1257\u001b[0;31m             answer, self.gateway_client, self.target_id, self.name)\n\u001b[0m\u001b[1;32m   1258\u001b[0m \u001b[0;34m\u001b[0m\u001b[0m\n\u001b[1;32m   1259\u001b[0m         \u001b[0;32mfor\u001b[0m \u001b[0mtemp_arg\u001b[0m \u001b[0;32min\u001b[0m \u001b[0mtemp_args\u001b[0m\u001b[0;34m:\u001b[0m\u001b[0;34m\u001b[0m\u001b[0;34m\u001b[0m\u001b[0m\n",
      "\u001b[0;32m/opt/cloudera/parcels/CDH/lib/spark/python/lib/pyspark.zip/pyspark/sql/utils.py\u001b[0m in \u001b[0;36mdeco\u001b[0;34m(*a, **kw)\u001b[0m\n\u001b[1;32m     61\u001b[0m     \u001b[0;32mdef\u001b[0m \u001b[0mdeco\u001b[0m\u001b[0;34m(\u001b[0m\u001b[0;34m*\u001b[0m\u001b[0ma\u001b[0m\u001b[0;34m,\u001b[0m \u001b[0;34m**\u001b[0m\u001b[0mkw\u001b[0m\u001b[0;34m)\u001b[0m\u001b[0;34m:\u001b[0m\u001b[0;34m\u001b[0m\u001b[0;34m\u001b[0m\u001b[0m\n\u001b[1;32m     62\u001b[0m         \u001b[0;32mtry\u001b[0m\u001b[0;34m:\u001b[0m\u001b[0;34m\u001b[0m\u001b[0;34m\u001b[0m\u001b[0m\n\u001b[0;32m---> 63\u001b[0;31m             \u001b[0;32mreturn\u001b[0m \u001b[0mf\u001b[0m\u001b[0;34m(\u001b[0m\u001b[0;34m*\u001b[0m\u001b[0ma\u001b[0m\u001b[0;34m,\u001b[0m \u001b[0;34m**\u001b[0m\u001b[0mkw\u001b[0m\u001b[0;34m)\u001b[0m\u001b[0;34m\u001b[0m\u001b[0;34m\u001b[0m\u001b[0m\n\u001b[0m\u001b[1;32m     64\u001b[0m         \u001b[0;32mexcept\u001b[0m \u001b[0mpy4j\u001b[0m\u001b[0;34m.\u001b[0m\u001b[0mprotocol\u001b[0m\u001b[0;34m.\u001b[0m\u001b[0mPy4JJavaError\u001b[0m \u001b[0;32mas\u001b[0m \u001b[0me\u001b[0m\u001b[0;34m:\u001b[0m\u001b[0;34m\u001b[0m\u001b[0;34m\u001b[0m\u001b[0m\n\u001b[1;32m     65\u001b[0m             \u001b[0ms\u001b[0m \u001b[0;34m=\u001b[0m \u001b[0me\u001b[0m\u001b[0;34m.\u001b[0m\u001b[0mjava_exception\u001b[0m\u001b[0;34m.\u001b[0m\u001b[0mtoString\u001b[0m\u001b[0;34m(\u001b[0m\u001b[0;34m)\u001b[0m\u001b[0;34m\u001b[0m\u001b[0;34m\u001b[0m\u001b[0m\n",
      "\u001b[0;32m/opt/cloudera/parcels/CDH/lib/spark/python/lib/py4j-0.10.7-src.zip/py4j/protocol.py\u001b[0m in \u001b[0;36mget_return_value\u001b[0;34m(answer, gateway_client, target_id, name)\u001b[0m\n\u001b[1;32m    326\u001b[0m                 raise Py4JJavaError(\n\u001b[1;32m    327\u001b[0m                     \u001b[0;34m\"An error occurred while calling {0}{1}{2}.\\n\"\u001b[0m\u001b[0;34m.\u001b[0m\u001b[0;34m\u001b[0m\u001b[0;34m\u001b[0m\u001b[0m\n\u001b[0;32m--> 328\u001b[0;31m                     format(target_id, \".\", name), value)\n\u001b[0m\u001b[1;32m    329\u001b[0m             \u001b[0;32melse\u001b[0m\u001b[0;34m:\u001b[0m\u001b[0;34m\u001b[0m\u001b[0;34m\u001b[0m\u001b[0m\n\u001b[1;32m    330\u001b[0m                 raise Py4JError(\n",
      "\u001b[0;31mPy4JJavaError\u001b[0m: An error occurred while calling o978.showString.\n: org.apache.spark.SparkException: Job aborted due to stage failure: Task 0 in stage 81.0 failed 4 times, most recent failure: Lost task 0.3 in stage 81.0 (TID 4198, hd03.rcc.local, executor 486): org.apache.spark.SparkException: Failed to execute user defined function($anonfun$4: (struct<year_double_VectorAssembler_204f1b780323:double,outCitations_count_double_VectorAssembler_204f1b780323:double,abstract_wcount_double_VectorAssembler_204f1b780323:double,title_wcount_double_VectorAssembler_204f1b780323:double,abstract_tfidf:struct<type:tinyint,size:int,indices:array<int>,values:array<double>>,title_tfidf:struct<type:tinyint,size:int,indices:array<int>,values:array<double>>,SJR_double_VectorAssembler_204f1b780323:double,author_count_double_VectorAssembler_204f1b780323:double,fieldsOfStudyVec:struct<type:tinyint,size:int,indices:array<int>,values:array<double>>,sourcesVec:struct<type:tinyint,size:int,indices:array<int>,values:array<double>>,title_wordVectors:struct<type:tinyint,size:int,indices:array<int>,values:array<double>>>) => struct<type:tinyint,size:int,indices:array<int>,values:array<double>>)\n\tat org.apache.spark.sql.catalyst.expressions.GeneratedClass$GeneratedIteratorForCodegenStage5.sort_addToSorter_0$(Unknown Source)\n\tat org.apache.spark.sql.catalyst.expressions.GeneratedClass$GeneratedIteratorForCodegenStage5.processNext(Unknown Source)\n\tat org.apache.spark.sql.execution.BufferedRowIterator.hasNext(BufferedRowIterator.java:43)\n\tat org.apache.spark.sql.execution.WholeStageCodegenExec$$anonfun$11$$anon$1.hasNext(WholeStageCodegenExec.scala:624)\n\tat org.apache.spark.sql.execution.SparkPlan$$anonfun$2.apply(SparkPlan.scala:255)\n\tat org.apache.spark.sql.execution.SparkPlan$$anonfun$2.apply(SparkPlan.scala:247)\n\tat org.apache.spark.rdd.RDD$$anonfun$mapPartitionsInternal$1$$anonfun$apply$24.apply(RDD.scala:836)\n\tat org.apache.spark.rdd.RDD$$anonfun$mapPartitionsInternal$1$$anonfun$apply$24.apply(RDD.scala:836)\n\tat org.apache.spark.rdd.MapPartitionsRDD.compute(MapPartitionsRDD.scala:52)\n\tat org.apache.spark.rdd.RDD.computeOrReadCheckpoint(RDD.scala:324)\n\tat org.apache.spark.rdd.RDD.iterator(RDD.scala:288)\n\tat org.apache.spark.rdd.MapPartitionsRDD.compute(MapPartitionsRDD.scala:52)\n\tat org.apache.spark.rdd.RDD.computeOrReadCheckpoint(RDD.scala:324)\n\tat org.apache.spark.rdd.RDD.iterator(RDD.scala:288)\n\tat org.apache.spark.scheduler.ResultTask.runTask(ResultTask.scala:90)\n\tat org.apache.spark.scheduler.Task.run(Task.scala:121)\n\tat org.apache.spark.executor.Executor$TaskRunner$$anonfun$11.apply(Executor.scala:407)\n\tat org.apache.spark.util.Utils$.tryWithSafeFinally(Utils.scala:1408)\n\tat org.apache.spark.executor.Executor$TaskRunner.run(Executor.scala:413)\n\tat java.util.concurrent.ThreadPoolExecutor.runWorker(ThreadPoolExecutor.java:1149)\n\tat java.util.concurrent.ThreadPoolExecutor$Worker.run(ThreadPoolExecutor.java:624)\n\tat java.lang.Thread.run(Thread.java:748)\nCaused by: org.apache.spark.SparkException: Encountered null while assembling a row with handleInvalid = \"keep\". Consider\nremoving nulls from dataset or using handleInvalid = \"keep\" or \"skip\".\n\tat org.apache.spark.ml.feature.VectorAssembler$$anonfun$assemble$1.apply(VectorAssembler.scala:287)\n\tat org.apache.spark.ml.feature.VectorAssembler$$anonfun$assemble$1.apply(VectorAssembler.scala:255)\n\tat scala.collection.IndexedSeqOptimized$class.foreach(IndexedSeqOptimized.scala:33)\n\tat scala.collection.mutable.WrappedArray.foreach(WrappedArray.scala:35)\n\tat org.apache.spark.ml.feature.VectorAssembler$.assemble(VectorAssembler.scala:255)\n\tat org.apache.spark.ml.feature.VectorAssembler$$anonfun$4.apply(VectorAssembler.scala:144)\n\tat org.apache.spark.ml.feature.VectorAssembler$$anonfun$4.apply(VectorAssembler.scala:143)\n\t... 22 more\n\nDriver stacktrace:\n\tat org.apache.spark.scheduler.DAGScheduler.org$apache$spark$scheduler$DAGScheduler$$failJobAndIndependentStages(DAGScheduler.scala:1890)\n\tat org.apache.spark.scheduler.DAGScheduler$$anonfun$abortStage$1.apply(DAGScheduler.scala:1878)\n\tat org.apache.spark.scheduler.DAGScheduler$$anonfun$abortStage$1.apply(DAGScheduler.scala:1877)\n\tat scala.collection.mutable.ResizableArray$class.foreach(ResizableArray.scala:59)\n\tat scala.collection.mutable.ArrayBuffer.foreach(ArrayBuffer.scala:48)\n\tat org.apache.spark.scheduler.DAGScheduler.abortStage(DAGScheduler.scala:1877)\n\tat org.apache.spark.scheduler.DAGScheduler$$anonfun$handleTaskSetFailed$1.apply(DAGScheduler.scala:929)\n\tat org.apache.spark.scheduler.DAGScheduler$$anonfun$handleTaskSetFailed$1.apply(DAGScheduler.scala:929)\n\tat scala.Option.foreach(Option.scala:257)\n\tat org.apache.spark.scheduler.DAGScheduler.handleTaskSetFailed(DAGScheduler.scala:929)\n\tat org.apache.spark.scheduler.DAGSchedulerEventProcessLoop.doOnReceive(DAGScheduler.scala:2111)\n\tat org.apache.spark.scheduler.DAGSchedulerEventProcessLoop.onReceive(DAGScheduler.scala:2060)\n\tat org.apache.spark.scheduler.DAGSchedulerEventProcessLoop.onReceive(DAGScheduler.scala:2049)\n\tat org.apache.spark.util.EventLoop$$anon$1.run(EventLoop.scala:49)\n\tat org.apache.spark.scheduler.DAGScheduler.runJob(DAGScheduler.scala:740)\n\tat org.apache.spark.SparkContext.runJob(SparkContext.scala:2081)\n\tat org.apache.spark.SparkContext.runJob(SparkContext.scala:2102)\n\tat org.apache.spark.SparkContext.runJob(SparkContext.scala:2121)\n\tat org.apache.spark.sql.execution.SparkPlan.executeTake(SparkPlan.scala:365)\n\tat org.apache.spark.sql.execution.CollectLimitExec.executeCollect(limit.scala:38)\n\tat org.apache.spark.sql.Dataset.org$apache$spark$sql$Dataset$$collectFromPlan(Dataset.scala:3383)\n\tat org.apache.spark.sql.Dataset$$anonfun$head$1.apply(Dataset.scala:2544)\n\tat org.apache.spark.sql.Dataset$$anonfun$head$1.apply(Dataset.scala:2544)\n\tat org.apache.spark.sql.Dataset$$anonfun$53.apply(Dataset.scala:3364)\n\tat org.apache.spark.sql.execution.SQLExecution$$anonfun$withNewExecutionId$1.apply(SQLExecution.scala:78)\n\tat org.apache.spark.sql.execution.SQLExecution$.withSQLConfPropagated(SQLExecution.scala:125)\n\tat org.apache.spark.sql.execution.SQLExecution$.withNewExecutionId(SQLExecution.scala:73)\n\tat org.apache.spark.sql.Dataset.withAction(Dataset.scala:3363)\n\tat org.apache.spark.sql.Dataset.head(Dataset.scala:2544)\n\tat org.apache.spark.sql.Dataset.take(Dataset.scala:2758)\n\tat org.apache.spark.sql.Dataset.getRows(Dataset.scala:254)\n\tat org.apache.spark.sql.Dataset.showString(Dataset.scala:291)\n\tat sun.reflect.NativeMethodAccessorImpl.invoke0(Native Method)\n\tat sun.reflect.NativeMethodAccessorImpl.invoke(NativeMethodAccessorImpl.java:62)\n\tat sun.reflect.DelegatingMethodAccessorImpl.invoke(DelegatingMethodAccessorImpl.java:43)\n\tat java.lang.reflect.Method.invoke(Method.java:498)\n\tat py4j.reflection.MethodInvoker.invoke(MethodInvoker.java:244)\n\tat py4j.reflection.ReflectionEngine.invoke(ReflectionEngine.java:357)\n\tat py4j.Gateway.invoke(Gateway.java:282)\n\tat py4j.commands.AbstractCommand.invokeMethod(AbstractCommand.java:132)\n\tat py4j.commands.CallCommand.execute(CallCommand.java:79)\n\tat py4j.GatewayConnection.run(GatewayConnection.java:238)\n\tat java.lang.Thread.run(Thread.java:748)\nCaused by: org.apache.spark.SparkException: Failed to execute user defined function($anonfun$4: (struct<year_double_VectorAssembler_204f1b780323:double,outCitations_count_double_VectorAssembler_204f1b780323:double,abstract_wcount_double_VectorAssembler_204f1b780323:double,title_wcount_double_VectorAssembler_204f1b780323:double,abstract_tfidf:struct<type:tinyint,size:int,indices:array<int>,values:array<double>>,title_tfidf:struct<type:tinyint,size:int,indices:array<int>,values:array<double>>,SJR_double_VectorAssembler_204f1b780323:double,author_count_double_VectorAssembler_204f1b780323:double,fieldsOfStudyVec:struct<type:tinyint,size:int,indices:array<int>,values:array<double>>,sourcesVec:struct<type:tinyint,size:int,indices:array<int>,values:array<double>>,title_wordVectors:struct<type:tinyint,size:int,indices:array<int>,values:array<double>>>) => struct<type:tinyint,size:int,indices:array<int>,values:array<double>>)\n\tat org.apache.spark.sql.catalyst.expressions.GeneratedClass$GeneratedIteratorForCodegenStage5.sort_addToSorter_0$(Unknown Source)\n\tat org.apache.spark.sql.catalyst.expressions.GeneratedClass$GeneratedIteratorForCodegenStage5.processNext(Unknown Source)\n\tat org.apache.spark.sql.execution.BufferedRowIterator.hasNext(BufferedRowIterator.java:43)\n\tat org.apache.spark.sql.execution.WholeStageCodegenExec$$anonfun$11$$anon$1.hasNext(WholeStageCodegenExec.scala:624)\n\tat org.apache.spark.sql.execution.SparkPlan$$anonfun$2.apply(SparkPlan.scala:255)\n\tat org.apache.spark.sql.execution.SparkPlan$$anonfun$2.apply(SparkPlan.scala:247)\n\tat org.apache.spark.rdd.RDD$$anonfun$mapPartitionsInternal$1$$anonfun$apply$24.apply(RDD.scala:836)\n\tat org.apache.spark.rdd.RDD$$anonfun$mapPartitionsInternal$1$$anonfun$apply$24.apply(RDD.scala:836)\n\tat org.apache.spark.rdd.MapPartitionsRDD.compute(MapPartitionsRDD.scala:52)\n\tat org.apache.spark.rdd.RDD.computeOrReadCheckpoint(RDD.scala:324)\n\tat org.apache.spark.rdd.RDD.iterator(RDD.scala:288)\n\tat org.apache.spark.rdd.MapPartitionsRDD.compute(MapPartitionsRDD.scala:52)\n\tat org.apache.spark.rdd.RDD.computeOrReadCheckpoint(RDD.scala:324)\n\tat org.apache.spark.rdd.RDD.iterator(RDD.scala:288)\n\tat org.apache.spark.scheduler.ResultTask.runTask(ResultTask.scala:90)\n\tat org.apache.spark.scheduler.Task.run(Task.scala:121)\n\tat org.apache.spark.executor.Executor$TaskRunner$$anonfun$11.apply(Executor.scala:407)\n\tat org.apache.spark.util.Utils$.tryWithSafeFinally(Utils.scala:1408)\n\tat org.apache.spark.executor.Executor$TaskRunner.run(Executor.scala:413)\n\tat java.util.concurrent.ThreadPoolExecutor.runWorker(ThreadPoolExecutor.java:1149)\n\tat java.util.concurrent.ThreadPoolExecutor$Worker.run(ThreadPoolExecutor.java:624)\n\t... 1 more\nCaused by: org.apache.spark.SparkException: Encountered null while assembling a row with handleInvalid = \"keep\". Consider\nremoving nulls from dataset or using handleInvalid = \"keep\" or \"skip\".\n\tat org.apache.spark.ml.feature.VectorAssembler$$anonfun$assemble$1.apply(VectorAssembler.scala:287)\n\tat org.apache.spark.ml.feature.VectorAssembler$$anonfun$assemble$1.apply(VectorAssembler.scala:255)\n\tat scala.collection.IndexedSeqOptimized$class.foreach(IndexedSeqOptimized.scala:33)\n\tat scala.collection.mutable.WrappedArray.foreach(WrappedArray.scala:35)\n\tat org.apache.spark.ml.feature.VectorAssembler$.assemble(VectorAssembler.scala:255)\n\tat org.apache.spark.ml.feature.VectorAssembler$$anonfun$4.apply(VectorAssembler.scala:144)\n\tat org.apache.spark.ml.feature.VectorAssembler$$anonfun$4.apply(VectorAssembler.scala:143)\n\t... 22 more\n"
     ]
    }
   ],
   "source": [
    "#split data into train and test\n",
    "train_df, test_df = modeling_data.randomSplit([0.8, 0.2], seed=42)\n",
    "train_df.show(1)"
   ]
  },
  {
   "cell_type": "code",
   "execution_count": null,
   "metadata": {},
   "outputs": [],
   "source": [
    "print('Train Length = ', train_df.count())\n",
    "print('Test Length = ', test_df.count())"
   ]
  },
  {
   "cell_type": "code",
   "execution_count": null,
   "metadata": {},
   "outputs": [],
   "source": [
    "%%time\n",
    "from pyspark.ml.regression import LinearRegression\n",
    "\n",
    "#Elastic Net\n",
    "lr = LinearRegression(featuresCol = 'features', labelCol='inCitations_count', regParam=0.3, maxIter=10)\n",
    "lrm = lr.fit(train_df)\n",
    "\n",
    "#coefficients\n",
    "print(\"Coefficients: \" + str(lrm.coefficients))\n",
    "print(\"Intercept: \" + str(lrm.intercept))\n",
    "\n",
    "#model summary\n",
    "print(\"RMSE: %f\" % lrm.summary.rootMeanSquaredError)\n",
    "print(\"r2: %f\" % lrm.summary.r2)\n",
    "\n",
    "#p-values are not provided in this model for the solver being used\n",
    "#print(\"pValues: \" + str(lrm.summary.pValues))"
   ]
  },
  {
   "cell_type": "code",
   "execution_count": null,
   "metadata": {},
   "outputs": [],
   "source": [
    "# drop_cols = \n",
    "# ['authors','doi','doiUrl','entities','journalPages',\n",
    "#  'journalVolume','paperAbstract',\n",
    "#  'pdfUrls',\n",
    "#  'pmid',\n",
    "#  's2PdfUrl',\n",
    "#  's2Url','title','abstract_tokens',\n",
    "#  'title_tokens',\n",
    "#  'abstract_tokens_filtered',\n",
    "#  'title_tokens_filtered',\n",
    "#  'abstract_tokens_filtered_lem',\n",
    "#  'title_tokens_filtered_lem',\n",
    "#  'abstract_tokens_filtered_lem_count',\n",
    "#  'title_tokens_filtered_lem_count',\n",
    "#  'author_ids',\n",
    "#  'author_names']"
   ]
  },
  {
   "cell_type": "code",
   "execution_count": 58,
   "metadata": {},
   "outputs": [
    {
     "ename": "Py4JJavaError",
     "evalue": "An error occurred while calling o1026.save.\n: org.apache.spark.SparkException: Job aborted.\n\tat org.apache.spark.sql.execution.datasources.FileFormatWriter$.write(FileFormatWriter.scala:198)\n\tat org.apache.spark.sql.execution.datasources.InsertIntoHadoopFsRelationCommand.run(InsertIntoHadoopFsRelationCommand.scala:159)\n\tat org.apache.spark.sql.execution.command.DataWritingCommandExec.sideEffectResult$lzycompute(commands.scala:104)\n\tat org.apache.spark.sql.execution.command.DataWritingCommandExec.sideEffectResult(commands.scala:102)\n\tat org.apache.spark.sql.execution.command.DataWritingCommandExec.doExecute(commands.scala:122)\n\tat org.apache.spark.sql.execution.SparkPlan$$anonfun$execute$1.apply(SparkPlan.scala:131)\n\tat org.apache.spark.sql.execution.SparkPlan$$anonfun$execute$1.apply(SparkPlan.scala:127)\n\tat org.apache.spark.sql.execution.SparkPlan$$anonfun$executeQuery$1.apply(SparkPlan.scala:155)\n\tat org.apache.spark.rdd.RDDOperationScope$.withScope(RDDOperationScope.scala:151)\n\tat org.apache.spark.sql.execution.SparkPlan.executeQuery(SparkPlan.scala:152)\n\tat org.apache.spark.sql.execution.SparkPlan.execute(SparkPlan.scala:127)\n\tat org.apache.spark.sql.execution.QueryExecution.toRdd$lzycompute(QueryExecution.scala:80)\n\tat org.apache.spark.sql.execution.QueryExecution.toRdd(QueryExecution.scala:80)\n\tat org.apache.spark.sql.DataFrameWriter$$anonfun$runCommand$1.apply(DataFrameWriter.scala:668)\n\tat org.apache.spark.sql.DataFrameWriter$$anonfun$runCommand$1.apply(DataFrameWriter.scala:668)\n\tat org.apache.spark.sql.execution.SQLExecution$$anonfun$withNewExecutionId$1.apply(SQLExecution.scala:78)\n\tat org.apache.spark.sql.execution.SQLExecution$.withSQLConfPropagated(SQLExecution.scala:125)\n\tat org.apache.spark.sql.execution.SQLExecution$.withNewExecutionId(SQLExecution.scala:73)\n\tat org.apache.spark.sql.DataFrameWriter.runCommand(DataFrameWriter.scala:668)\n\tat org.apache.spark.sql.DataFrameWriter.saveToV1Source(DataFrameWriter.scala:276)\n\tat org.apache.spark.sql.DataFrameWriter.save(DataFrameWriter.scala:270)\n\tat org.apache.spark.sql.DataFrameWriter.save(DataFrameWriter.scala:228)\n\tat sun.reflect.NativeMethodAccessorImpl.invoke0(Native Method)\n\tat sun.reflect.NativeMethodAccessorImpl.invoke(NativeMethodAccessorImpl.java:62)\n\tat sun.reflect.DelegatingMethodAccessorImpl.invoke(DelegatingMethodAccessorImpl.java:43)\n\tat java.lang.reflect.Method.invoke(Method.java:498)\n\tat py4j.reflection.MethodInvoker.invoke(MethodInvoker.java:244)\n\tat py4j.reflection.ReflectionEngine.invoke(ReflectionEngine.java:357)\n\tat py4j.Gateway.invoke(Gateway.java:282)\n\tat py4j.commands.AbstractCommand.invokeMethod(AbstractCommand.java:132)\n\tat py4j.commands.CallCommand.execute(CallCommand.java:79)\n\tat py4j.GatewayConnection.run(GatewayConnection.java:238)\n\tat java.lang.Thread.run(Thread.java:748)\nCaused by: org.apache.spark.SparkException: Job aborted due to stage failure: Task 86 in stage 83.0 failed 4 times, most recent failure: Lost task 86.3 in stage 83.0 (TID 4408, hd06.rcc.local, executor 790): org.apache.spark.SparkException: Failed to execute user defined function($anonfun$4: (struct<year_double_VectorAssembler_204f1b780323:double,outCitations_count_double_VectorAssembler_204f1b780323:double,abstract_wcount_double_VectorAssembler_204f1b780323:double,title_wcount_double_VectorAssembler_204f1b780323:double,abstract_tfidf:struct<type:tinyint,size:int,indices:array<int>,values:array<double>>,title_tfidf:struct<type:tinyint,size:int,indices:array<int>,values:array<double>>,SJR_double_VectorAssembler_204f1b780323:double,author_count_double_VectorAssembler_204f1b780323:double,fieldsOfStudyVec:struct<type:tinyint,size:int,indices:array<int>,values:array<double>>,sourcesVec:struct<type:tinyint,size:int,indices:array<int>,values:array<double>>,title_wordVectors:struct<type:tinyint,size:int,indices:array<int>,values:array<double>>>) => struct<type:tinyint,size:int,indices:array<int>,values:array<double>>)\n\tat org.apache.spark.sql.catalyst.expressions.GeneratedClass$GeneratedIteratorForCodegenStage5.processNext(Unknown Source)\n\tat org.apache.spark.sql.execution.BufferedRowIterator.hasNext(BufferedRowIterator.java:43)\n\tat org.apache.spark.sql.execution.WholeStageCodegenExec$$anonfun$11$$anon$1.hasNext(WholeStageCodegenExec.scala:624)\n\tat org.apache.spark.sql.execution.datasources.FileFormatWriter$.org$apache$spark$sql$execution$datasources$FileFormatWriter$$executeTask(FileFormatWriter.scala:232)\n\tat org.apache.spark.sql.execution.datasources.FileFormatWriter$$anonfun$write$1.apply(FileFormatWriter.scala:170)\n\tat org.apache.spark.sql.execution.datasources.FileFormatWriter$$anonfun$write$1.apply(FileFormatWriter.scala:169)\n\tat org.apache.spark.scheduler.ResultTask.runTask(ResultTask.scala:90)\n\tat org.apache.spark.scheduler.Task.run(Task.scala:121)\n\tat org.apache.spark.executor.Executor$TaskRunner$$anonfun$11.apply(Executor.scala:407)\n\tat org.apache.spark.util.Utils$.tryWithSafeFinally(Utils.scala:1408)\n\tat org.apache.spark.executor.Executor$TaskRunner.run(Executor.scala:413)\n\tat java.util.concurrent.ThreadPoolExecutor.runWorker(ThreadPoolExecutor.java:1149)\n\tat java.util.concurrent.ThreadPoolExecutor$Worker.run(ThreadPoolExecutor.java:624)\n\tat java.lang.Thread.run(Thread.java:748)\nCaused by: org.apache.spark.SparkException: Encountered null while assembling a row with handleInvalid = \"keep\". Consider\nremoving nulls from dataset or using handleInvalid = \"keep\" or \"skip\".\n\tat org.apache.spark.ml.feature.VectorAssembler$$anonfun$assemble$1.apply(VectorAssembler.scala:287)\n\tat org.apache.spark.ml.feature.VectorAssembler$$anonfun$assemble$1.apply(VectorAssembler.scala:255)\n\tat scala.collection.IndexedSeqOptimized$class.foreach(IndexedSeqOptimized.scala:33)\n\tat scala.collection.mutable.WrappedArray.foreach(WrappedArray.scala:35)\n\tat org.apache.spark.ml.feature.VectorAssembler$.assemble(VectorAssembler.scala:255)\n\tat org.apache.spark.ml.feature.VectorAssembler$$anonfun$4.apply(VectorAssembler.scala:144)\n\tat org.apache.spark.ml.feature.VectorAssembler$$anonfun$4.apply(VectorAssembler.scala:143)\n\t... 14 more\n\nDriver stacktrace:\n\tat org.apache.spark.scheduler.DAGScheduler.org$apache$spark$scheduler$DAGScheduler$$failJobAndIndependentStages(DAGScheduler.scala:1890)\n\tat org.apache.spark.scheduler.DAGScheduler$$anonfun$abortStage$1.apply(DAGScheduler.scala:1878)\n\tat org.apache.spark.scheduler.DAGScheduler$$anonfun$abortStage$1.apply(DAGScheduler.scala:1877)\n\tat scala.collection.mutable.ResizableArray$class.foreach(ResizableArray.scala:59)\n\tat scala.collection.mutable.ArrayBuffer.foreach(ArrayBuffer.scala:48)\n\tat org.apache.spark.scheduler.DAGScheduler.abortStage(DAGScheduler.scala:1877)\n\tat org.apache.spark.scheduler.DAGScheduler$$anonfun$handleTaskSetFailed$1.apply(DAGScheduler.scala:929)\n\tat org.apache.spark.scheduler.DAGScheduler$$anonfun$handleTaskSetFailed$1.apply(DAGScheduler.scala:929)\n\tat scala.Option.foreach(Option.scala:257)\n\tat org.apache.spark.scheduler.DAGScheduler.handleTaskSetFailed(DAGScheduler.scala:929)\n\tat org.apache.spark.scheduler.DAGSchedulerEventProcessLoop.doOnReceive(DAGScheduler.scala:2111)\n\tat org.apache.spark.scheduler.DAGSchedulerEventProcessLoop.onReceive(DAGScheduler.scala:2060)\n\tat org.apache.spark.scheduler.DAGSchedulerEventProcessLoop.onReceive(DAGScheduler.scala:2049)\n\tat org.apache.spark.util.EventLoop$$anon$1.run(EventLoop.scala:49)\n\tat org.apache.spark.scheduler.DAGScheduler.runJob(DAGScheduler.scala:740)\n\tat org.apache.spark.SparkContext.runJob(SparkContext.scala:2081)\n\tat org.apache.spark.sql.execution.datasources.FileFormatWriter$.write(FileFormatWriter.scala:167)\n\t... 32 more\nCaused by: org.apache.spark.SparkException: Failed to execute user defined function($anonfun$4: (struct<year_double_VectorAssembler_204f1b780323:double,outCitations_count_double_VectorAssembler_204f1b780323:double,abstract_wcount_double_VectorAssembler_204f1b780323:double,title_wcount_double_VectorAssembler_204f1b780323:double,abstract_tfidf:struct<type:tinyint,size:int,indices:array<int>,values:array<double>>,title_tfidf:struct<type:tinyint,size:int,indices:array<int>,values:array<double>>,SJR_double_VectorAssembler_204f1b780323:double,author_count_double_VectorAssembler_204f1b780323:double,fieldsOfStudyVec:struct<type:tinyint,size:int,indices:array<int>,values:array<double>>,sourcesVec:struct<type:tinyint,size:int,indices:array<int>,values:array<double>>,title_wordVectors:struct<type:tinyint,size:int,indices:array<int>,values:array<double>>>) => struct<type:tinyint,size:int,indices:array<int>,values:array<double>>)\n\tat org.apache.spark.sql.catalyst.expressions.GeneratedClass$GeneratedIteratorForCodegenStage5.processNext(Unknown Source)\n\tat org.apache.spark.sql.execution.BufferedRowIterator.hasNext(BufferedRowIterator.java:43)\n\tat org.apache.spark.sql.execution.WholeStageCodegenExec$$anonfun$11$$anon$1.hasNext(WholeStageCodegenExec.scala:624)\n\tat org.apache.spark.sql.execution.datasources.FileFormatWriter$.org$apache$spark$sql$execution$datasources$FileFormatWriter$$executeTask(FileFormatWriter.scala:232)\n\tat org.apache.spark.sql.execution.datasources.FileFormatWriter$$anonfun$write$1.apply(FileFormatWriter.scala:170)\n\tat org.apache.spark.sql.execution.datasources.FileFormatWriter$$anonfun$write$1.apply(FileFormatWriter.scala:169)\n\tat org.apache.spark.scheduler.ResultTask.runTask(ResultTask.scala:90)\n\tat org.apache.spark.scheduler.Task.run(Task.scala:121)\n\tat org.apache.spark.executor.Executor$TaskRunner$$anonfun$11.apply(Executor.scala:407)\n\tat org.apache.spark.util.Utils$.tryWithSafeFinally(Utils.scala:1408)\n\tat org.apache.spark.executor.Executor$TaskRunner.run(Executor.scala:413)\n\tat java.util.concurrent.ThreadPoolExecutor.runWorker(ThreadPoolExecutor.java:1149)\n\tat java.util.concurrent.ThreadPoolExecutor$Worker.run(ThreadPoolExecutor.java:624)\n\t... 1 more\nCaused by: org.apache.spark.SparkException: Encountered null while assembling a row with handleInvalid = \"keep\". Consider\nremoving nulls from dataset or using handleInvalid = \"keep\" or \"skip\".\n\tat org.apache.spark.ml.feature.VectorAssembler$$anonfun$assemble$1.apply(VectorAssembler.scala:287)\n\tat org.apache.spark.ml.feature.VectorAssembler$$anonfun$assemble$1.apply(VectorAssembler.scala:255)\n\tat scala.collection.IndexedSeqOptimized$class.foreach(IndexedSeqOptimized.scala:33)\n\tat scala.collection.mutable.WrappedArray.foreach(WrappedArray.scala:35)\n\tat org.apache.spark.ml.feature.VectorAssembler$.assemble(VectorAssembler.scala:255)\n\tat org.apache.spark.ml.feature.VectorAssembler$$anonfun$4.apply(VectorAssembler.scala:144)\n\tat org.apache.spark.ml.feature.VectorAssembler$$anonfun$4.apply(VectorAssembler.scala:143)\n\t... 14 more\n",
     "output_type": "error",
     "traceback": [
      "\u001b[0;31m---------------------------------------------------------------------------\u001b[0m",
      "\u001b[0;31mPy4JJavaError\u001b[0m                             Traceback (most recent call last)",
      "\u001b[0;32m<ipython-input-58-bdd5640b5381>\u001b[0m in \u001b[0;36m<module>\u001b[0;34m()\u001b[0m\n\u001b[0;32m----> 1\u001b[0;31m \u001b[0mmodeling_data\u001b[0m\u001b[0;34m.\u001b[0m\u001b[0mwrite\u001b[0m\u001b[0;34m.\u001b[0m\u001b[0mformat\u001b[0m\u001b[0;34m(\u001b[0m\u001b[0;34m'parquet'\u001b[0m\u001b[0;34m)\u001b[0m\u001b[0;34m.\u001b[0m\u001b[0msave\u001b[0m\u001b[0;34m(\u001b[0m\u001b[0;34m'big_data_project/modeling_data'\u001b[0m\u001b[0;34m)\u001b[0m\u001b[0;34m\u001b[0m\u001b[0;34m\u001b[0m\u001b[0m\n\u001b[0m",
      "\u001b[0;32m/opt/cloudera/parcels/CDH/lib/spark/python/lib/pyspark.zip/pyspark/sql/readwriter.py\u001b[0m in \u001b[0;36msave\u001b[0;34m(self, path, format, mode, partitionBy, **options)\u001b[0m\n\u001b[1;32m    734\u001b[0m             \u001b[0mself\u001b[0m\u001b[0;34m.\u001b[0m\u001b[0m_jwrite\u001b[0m\u001b[0;34m.\u001b[0m\u001b[0msave\u001b[0m\u001b[0;34m(\u001b[0m\u001b[0;34m)\u001b[0m\u001b[0;34m\u001b[0m\u001b[0;34m\u001b[0m\u001b[0m\n\u001b[1;32m    735\u001b[0m         \u001b[0;32melse\u001b[0m\u001b[0;34m:\u001b[0m\u001b[0;34m\u001b[0m\u001b[0;34m\u001b[0m\u001b[0m\n\u001b[0;32m--> 736\u001b[0;31m             \u001b[0mself\u001b[0m\u001b[0;34m.\u001b[0m\u001b[0m_jwrite\u001b[0m\u001b[0;34m.\u001b[0m\u001b[0msave\u001b[0m\u001b[0;34m(\u001b[0m\u001b[0mpath\u001b[0m\u001b[0;34m)\u001b[0m\u001b[0;34m\u001b[0m\u001b[0;34m\u001b[0m\u001b[0m\n\u001b[0m\u001b[1;32m    737\u001b[0m \u001b[0;34m\u001b[0m\u001b[0m\n\u001b[1;32m    738\u001b[0m     \u001b[0;34m@\u001b[0m\u001b[0msince\u001b[0m\u001b[0;34m(\u001b[0m\u001b[0;36m1.4\u001b[0m\u001b[0;34m)\u001b[0m\u001b[0;34m\u001b[0m\u001b[0;34m\u001b[0m\u001b[0m\n",
      "\u001b[0;32m/opt/cloudera/parcels/CDH/lib/spark/python/lib/py4j-0.10.7-src.zip/py4j/java_gateway.py\u001b[0m in \u001b[0;36m__call__\u001b[0;34m(self, *args)\u001b[0m\n\u001b[1;32m   1255\u001b[0m         \u001b[0manswer\u001b[0m \u001b[0;34m=\u001b[0m \u001b[0mself\u001b[0m\u001b[0;34m.\u001b[0m\u001b[0mgateway_client\u001b[0m\u001b[0;34m.\u001b[0m\u001b[0msend_command\u001b[0m\u001b[0;34m(\u001b[0m\u001b[0mcommand\u001b[0m\u001b[0;34m)\u001b[0m\u001b[0;34m\u001b[0m\u001b[0;34m\u001b[0m\u001b[0m\n\u001b[1;32m   1256\u001b[0m         return_value = get_return_value(\n\u001b[0;32m-> 1257\u001b[0;31m             answer, self.gateway_client, self.target_id, self.name)\n\u001b[0m\u001b[1;32m   1258\u001b[0m \u001b[0;34m\u001b[0m\u001b[0m\n\u001b[1;32m   1259\u001b[0m         \u001b[0;32mfor\u001b[0m \u001b[0mtemp_arg\u001b[0m \u001b[0;32min\u001b[0m \u001b[0mtemp_args\u001b[0m\u001b[0;34m:\u001b[0m\u001b[0;34m\u001b[0m\u001b[0;34m\u001b[0m\u001b[0m\n",
      "\u001b[0;32m/opt/cloudera/parcels/CDH/lib/spark/python/lib/pyspark.zip/pyspark/sql/utils.py\u001b[0m in \u001b[0;36mdeco\u001b[0;34m(*a, **kw)\u001b[0m\n\u001b[1;32m     61\u001b[0m     \u001b[0;32mdef\u001b[0m \u001b[0mdeco\u001b[0m\u001b[0;34m(\u001b[0m\u001b[0;34m*\u001b[0m\u001b[0ma\u001b[0m\u001b[0;34m,\u001b[0m \u001b[0;34m**\u001b[0m\u001b[0mkw\u001b[0m\u001b[0;34m)\u001b[0m\u001b[0;34m:\u001b[0m\u001b[0;34m\u001b[0m\u001b[0;34m\u001b[0m\u001b[0m\n\u001b[1;32m     62\u001b[0m         \u001b[0;32mtry\u001b[0m\u001b[0;34m:\u001b[0m\u001b[0;34m\u001b[0m\u001b[0;34m\u001b[0m\u001b[0m\n\u001b[0;32m---> 63\u001b[0;31m             \u001b[0;32mreturn\u001b[0m \u001b[0mf\u001b[0m\u001b[0;34m(\u001b[0m\u001b[0;34m*\u001b[0m\u001b[0ma\u001b[0m\u001b[0;34m,\u001b[0m \u001b[0;34m**\u001b[0m\u001b[0mkw\u001b[0m\u001b[0;34m)\u001b[0m\u001b[0;34m\u001b[0m\u001b[0;34m\u001b[0m\u001b[0m\n\u001b[0m\u001b[1;32m     64\u001b[0m         \u001b[0;32mexcept\u001b[0m \u001b[0mpy4j\u001b[0m\u001b[0;34m.\u001b[0m\u001b[0mprotocol\u001b[0m\u001b[0;34m.\u001b[0m\u001b[0mPy4JJavaError\u001b[0m \u001b[0;32mas\u001b[0m \u001b[0me\u001b[0m\u001b[0;34m:\u001b[0m\u001b[0;34m\u001b[0m\u001b[0;34m\u001b[0m\u001b[0m\n\u001b[1;32m     65\u001b[0m             \u001b[0ms\u001b[0m \u001b[0;34m=\u001b[0m \u001b[0me\u001b[0m\u001b[0;34m.\u001b[0m\u001b[0mjava_exception\u001b[0m\u001b[0;34m.\u001b[0m\u001b[0mtoString\u001b[0m\u001b[0;34m(\u001b[0m\u001b[0;34m)\u001b[0m\u001b[0;34m\u001b[0m\u001b[0;34m\u001b[0m\u001b[0m\n",
      "\u001b[0;32m/opt/cloudera/parcels/CDH/lib/spark/python/lib/py4j-0.10.7-src.zip/py4j/protocol.py\u001b[0m in \u001b[0;36mget_return_value\u001b[0;34m(answer, gateway_client, target_id, name)\u001b[0m\n\u001b[1;32m    326\u001b[0m                 raise Py4JJavaError(\n\u001b[1;32m    327\u001b[0m                     \u001b[0;34m\"An error occurred while calling {0}{1}{2}.\\n\"\u001b[0m\u001b[0;34m.\u001b[0m\u001b[0;34m\u001b[0m\u001b[0;34m\u001b[0m\u001b[0m\n\u001b[0;32m--> 328\u001b[0;31m                     format(target_id, \".\", name), value)\n\u001b[0m\u001b[1;32m    329\u001b[0m             \u001b[0;32melse\u001b[0m\u001b[0;34m:\u001b[0m\u001b[0;34m\u001b[0m\u001b[0;34m\u001b[0m\u001b[0m\n\u001b[1;32m    330\u001b[0m                 raise Py4JError(\n",
      "\u001b[0;31mPy4JJavaError\u001b[0m: An error occurred while calling o1026.save.\n: org.apache.spark.SparkException: Job aborted.\n\tat org.apache.spark.sql.execution.datasources.FileFormatWriter$.write(FileFormatWriter.scala:198)\n\tat org.apache.spark.sql.execution.datasources.InsertIntoHadoopFsRelationCommand.run(InsertIntoHadoopFsRelationCommand.scala:159)\n\tat org.apache.spark.sql.execution.command.DataWritingCommandExec.sideEffectResult$lzycompute(commands.scala:104)\n\tat org.apache.spark.sql.execution.command.DataWritingCommandExec.sideEffectResult(commands.scala:102)\n\tat org.apache.spark.sql.execution.command.DataWritingCommandExec.doExecute(commands.scala:122)\n\tat org.apache.spark.sql.execution.SparkPlan$$anonfun$execute$1.apply(SparkPlan.scala:131)\n\tat org.apache.spark.sql.execution.SparkPlan$$anonfun$execute$1.apply(SparkPlan.scala:127)\n\tat org.apache.spark.sql.execution.SparkPlan$$anonfun$executeQuery$1.apply(SparkPlan.scala:155)\n\tat org.apache.spark.rdd.RDDOperationScope$.withScope(RDDOperationScope.scala:151)\n\tat org.apache.spark.sql.execution.SparkPlan.executeQuery(SparkPlan.scala:152)\n\tat org.apache.spark.sql.execution.SparkPlan.execute(SparkPlan.scala:127)\n\tat org.apache.spark.sql.execution.QueryExecution.toRdd$lzycompute(QueryExecution.scala:80)\n\tat org.apache.spark.sql.execution.QueryExecution.toRdd(QueryExecution.scala:80)\n\tat org.apache.spark.sql.DataFrameWriter$$anonfun$runCommand$1.apply(DataFrameWriter.scala:668)\n\tat org.apache.spark.sql.DataFrameWriter$$anonfun$runCommand$1.apply(DataFrameWriter.scala:668)\n\tat org.apache.spark.sql.execution.SQLExecution$$anonfun$withNewExecutionId$1.apply(SQLExecution.scala:78)\n\tat org.apache.spark.sql.execution.SQLExecution$.withSQLConfPropagated(SQLExecution.scala:125)\n\tat org.apache.spark.sql.execution.SQLExecution$.withNewExecutionId(SQLExecution.scala:73)\n\tat org.apache.spark.sql.DataFrameWriter.runCommand(DataFrameWriter.scala:668)\n\tat org.apache.spark.sql.DataFrameWriter.saveToV1Source(DataFrameWriter.scala:276)\n\tat org.apache.spark.sql.DataFrameWriter.save(DataFrameWriter.scala:270)\n\tat org.apache.spark.sql.DataFrameWriter.save(DataFrameWriter.scala:228)\n\tat sun.reflect.NativeMethodAccessorImpl.invoke0(Native Method)\n\tat sun.reflect.NativeMethodAccessorImpl.invoke(NativeMethodAccessorImpl.java:62)\n\tat sun.reflect.DelegatingMethodAccessorImpl.invoke(DelegatingMethodAccessorImpl.java:43)\n\tat java.lang.reflect.Method.invoke(Method.java:498)\n\tat py4j.reflection.MethodInvoker.invoke(MethodInvoker.java:244)\n\tat py4j.reflection.ReflectionEngine.invoke(ReflectionEngine.java:357)\n\tat py4j.Gateway.invoke(Gateway.java:282)\n\tat py4j.commands.AbstractCommand.invokeMethod(AbstractCommand.java:132)\n\tat py4j.commands.CallCommand.execute(CallCommand.java:79)\n\tat py4j.GatewayConnection.run(GatewayConnection.java:238)\n\tat java.lang.Thread.run(Thread.java:748)\nCaused by: org.apache.spark.SparkException: Job aborted due to stage failure: Task 86 in stage 83.0 failed 4 times, most recent failure: Lost task 86.3 in stage 83.0 (TID 4408, hd06.rcc.local, executor 790): org.apache.spark.SparkException: Failed to execute user defined function($anonfun$4: (struct<year_double_VectorAssembler_204f1b780323:double,outCitations_count_double_VectorAssembler_204f1b780323:double,abstract_wcount_double_VectorAssembler_204f1b780323:double,title_wcount_double_VectorAssembler_204f1b780323:double,abstract_tfidf:struct<type:tinyint,size:int,indices:array<int>,values:array<double>>,title_tfidf:struct<type:tinyint,size:int,indices:array<int>,values:array<double>>,SJR_double_VectorAssembler_204f1b780323:double,author_count_double_VectorAssembler_204f1b780323:double,fieldsOfStudyVec:struct<type:tinyint,size:int,indices:array<int>,values:array<double>>,sourcesVec:struct<type:tinyint,size:int,indices:array<int>,values:array<double>>,title_wordVectors:struct<type:tinyint,size:int,indices:array<int>,values:array<double>>>) => struct<type:tinyint,size:int,indices:array<int>,values:array<double>>)\n\tat org.apache.spark.sql.catalyst.expressions.GeneratedClass$GeneratedIteratorForCodegenStage5.processNext(Unknown Source)\n\tat org.apache.spark.sql.execution.BufferedRowIterator.hasNext(BufferedRowIterator.java:43)\n\tat org.apache.spark.sql.execution.WholeStageCodegenExec$$anonfun$11$$anon$1.hasNext(WholeStageCodegenExec.scala:624)\n\tat org.apache.spark.sql.execution.datasources.FileFormatWriter$.org$apache$spark$sql$execution$datasources$FileFormatWriter$$executeTask(FileFormatWriter.scala:232)\n\tat org.apache.spark.sql.execution.datasources.FileFormatWriter$$anonfun$write$1.apply(FileFormatWriter.scala:170)\n\tat org.apache.spark.sql.execution.datasources.FileFormatWriter$$anonfun$write$1.apply(FileFormatWriter.scala:169)\n\tat org.apache.spark.scheduler.ResultTask.runTask(ResultTask.scala:90)\n\tat org.apache.spark.scheduler.Task.run(Task.scala:121)\n\tat org.apache.spark.executor.Executor$TaskRunner$$anonfun$11.apply(Executor.scala:407)\n\tat org.apache.spark.util.Utils$.tryWithSafeFinally(Utils.scala:1408)\n\tat org.apache.spark.executor.Executor$TaskRunner.run(Executor.scala:413)\n\tat java.util.concurrent.ThreadPoolExecutor.runWorker(ThreadPoolExecutor.java:1149)\n\tat java.util.concurrent.ThreadPoolExecutor$Worker.run(ThreadPoolExecutor.java:624)\n\tat java.lang.Thread.run(Thread.java:748)\nCaused by: org.apache.spark.SparkException: Encountered null while assembling a row with handleInvalid = \"keep\". Consider\nremoving nulls from dataset or using handleInvalid = \"keep\" or \"skip\".\n\tat org.apache.spark.ml.feature.VectorAssembler$$anonfun$assemble$1.apply(VectorAssembler.scala:287)\n\tat org.apache.spark.ml.feature.VectorAssembler$$anonfun$assemble$1.apply(VectorAssembler.scala:255)\n\tat scala.collection.IndexedSeqOptimized$class.foreach(IndexedSeqOptimized.scala:33)\n\tat scala.collection.mutable.WrappedArray.foreach(WrappedArray.scala:35)\n\tat org.apache.spark.ml.feature.VectorAssembler$.assemble(VectorAssembler.scala:255)\n\tat org.apache.spark.ml.feature.VectorAssembler$$anonfun$4.apply(VectorAssembler.scala:144)\n\tat org.apache.spark.ml.feature.VectorAssembler$$anonfun$4.apply(VectorAssembler.scala:143)\n\t... 14 more\n\nDriver stacktrace:\n\tat org.apache.spark.scheduler.DAGScheduler.org$apache$spark$scheduler$DAGScheduler$$failJobAndIndependentStages(DAGScheduler.scala:1890)\n\tat org.apache.spark.scheduler.DAGScheduler$$anonfun$abortStage$1.apply(DAGScheduler.scala:1878)\n\tat org.apache.spark.scheduler.DAGScheduler$$anonfun$abortStage$1.apply(DAGScheduler.scala:1877)\n\tat scala.collection.mutable.ResizableArray$class.foreach(ResizableArray.scala:59)\n\tat scala.collection.mutable.ArrayBuffer.foreach(ArrayBuffer.scala:48)\n\tat org.apache.spark.scheduler.DAGScheduler.abortStage(DAGScheduler.scala:1877)\n\tat org.apache.spark.scheduler.DAGScheduler$$anonfun$handleTaskSetFailed$1.apply(DAGScheduler.scala:929)\n\tat org.apache.spark.scheduler.DAGScheduler$$anonfun$handleTaskSetFailed$1.apply(DAGScheduler.scala:929)\n\tat scala.Option.foreach(Option.scala:257)\n\tat org.apache.spark.scheduler.DAGScheduler.handleTaskSetFailed(DAGScheduler.scala:929)\n\tat org.apache.spark.scheduler.DAGSchedulerEventProcessLoop.doOnReceive(DAGScheduler.scala:2111)\n\tat org.apache.spark.scheduler.DAGSchedulerEventProcessLoop.onReceive(DAGScheduler.scala:2060)\n\tat org.apache.spark.scheduler.DAGSchedulerEventProcessLoop.onReceive(DAGScheduler.scala:2049)\n\tat org.apache.spark.util.EventLoop$$anon$1.run(EventLoop.scala:49)\n\tat org.apache.spark.scheduler.DAGScheduler.runJob(DAGScheduler.scala:740)\n\tat org.apache.spark.SparkContext.runJob(SparkContext.scala:2081)\n\tat org.apache.spark.sql.execution.datasources.FileFormatWriter$.write(FileFormatWriter.scala:167)\n\t... 32 more\nCaused by: org.apache.spark.SparkException: Failed to execute user defined function($anonfun$4: (struct<year_double_VectorAssembler_204f1b780323:double,outCitations_count_double_VectorAssembler_204f1b780323:double,abstract_wcount_double_VectorAssembler_204f1b780323:double,title_wcount_double_VectorAssembler_204f1b780323:double,abstract_tfidf:struct<type:tinyint,size:int,indices:array<int>,values:array<double>>,title_tfidf:struct<type:tinyint,size:int,indices:array<int>,values:array<double>>,SJR_double_VectorAssembler_204f1b780323:double,author_count_double_VectorAssembler_204f1b780323:double,fieldsOfStudyVec:struct<type:tinyint,size:int,indices:array<int>,values:array<double>>,sourcesVec:struct<type:tinyint,size:int,indices:array<int>,values:array<double>>,title_wordVectors:struct<type:tinyint,size:int,indices:array<int>,values:array<double>>>) => struct<type:tinyint,size:int,indices:array<int>,values:array<double>>)\n\tat org.apache.spark.sql.catalyst.expressions.GeneratedClass$GeneratedIteratorForCodegenStage5.processNext(Unknown Source)\n\tat org.apache.spark.sql.execution.BufferedRowIterator.hasNext(BufferedRowIterator.java:43)\n\tat org.apache.spark.sql.execution.WholeStageCodegenExec$$anonfun$11$$anon$1.hasNext(WholeStageCodegenExec.scala:624)\n\tat org.apache.spark.sql.execution.datasources.FileFormatWriter$.org$apache$spark$sql$execution$datasources$FileFormatWriter$$executeTask(FileFormatWriter.scala:232)\n\tat org.apache.spark.sql.execution.datasources.FileFormatWriter$$anonfun$write$1.apply(FileFormatWriter.scala:170)\n\tat org.apache.spark.sql.execution.datasources.FileFormatWriter$$anonfun$write$1.apply(FileFormatWriter.scala:169)\n\tat org.apache.spark.scheduler.ResultTask.runTask(ResultTask.scala:90)\n\tat org.apache.spark.scheduler.Task.run(Task.scala:121)\n\tat org.apache.spark.executor.Executor$TaskRunner$$anonfun$11.apply(Executor.scala:407)\n\tat org.apache.spark.util.Utils$.tryWithSafeFinally(Utils.scala:1408)\n\tat org.apache.spark.executor.Executor$TaskRunner.run(Executor.scala:413)\n\tat java.util.concurrent.ThreadPoolExecutor.runWorker(ThreadPoolExecutor.java:1149)\n\tat java.util.concurrent.ThreadPoolExecutor$Worker.run(ThreadPoolExecutor.java:624)\n\t... 1 more\nCaused by: org.apache.spark.SparkException: Encountered null while assembling a row with handleInvalid = \"keep\". Consider\nremoving nulls from dataset or using handleInvalid = \"keep\" or \"skip\".\n\tat org.apache.spark.ml.feature.VectorAssembler$$anonfun$assemble$1.apply(VectorAssembler.scala:287)\n\tat org.apache.spark.ml.feature.VectorAssembler$$anonfun$assemble$1.apply(VectorAssembler.scala:255)\n\tat scala.collection.IndexedSeqOptimized$class.foreach(IndexedSeqOptimized.scala:33)\n\tat scala.collection.mutable.WrappedArray.foreach(WrappedArray.scala:35)\n\tat org.apache.spark.ml.feature.VectorAssembler$.assemble(VectorAssembler.scala:255)\n\tat org.apache.spark.ml.feature.VectorAssembler$$anonfun$4.apply(VectorAssembler.scala:144)\n\tat org.apache.spark.ml.feature.VectorAssembler$$anonfun$4.apply(VectorAssembler.scala:143)\n\t... 14 more\n"
     ]
    }
   ],
   "source": [
    "modeling_data.write.format('parquet').save('big_data_project/modeling_data')"
   ]
  },
  {
   "cell_type": "code",
   "execution_count": 197,
   "metadata": {},
   "outputs": [
    {
     "name": "stdout",
     "output_type": "stream",
     "text": [
      "WARNING: log4j.properties is not found. HADOOP_CONF_DIR may be incomplete.\n",
      "Java HotSpot(TM) 64-Bit Server VM warning: ignoring option MaxPermSize=512M; support was removed in 8.0\n",
      "Found 121 items\n",
      "-rw-r--r--   3 nazihkalo nazihkalo          0 2020-02-17 16:22 modeling_data/_SUCCESS\n",
      "-rw-r--r--   3 nazihkalo nazihkalo     20.6 M 2020-02-17 16:22 modeling_data/part-00000-98e10948-a5e6-4de3-aacc-9a89a2874ca9-c000.snappy.parquet\n",
      "-rw-r--r--   3 nazihkalo nazihkalo     20.8 M 2020-02-17 16:21 modeling_data/part-00001-98e10948-a5e6-4de3-aacc-9a89a2874ca9-c000.snappy.parquet\n",
      "-rw-r--r--   3 nazihkalo nazihkalo     20.7 M 2020-02-17 16:21 modeling_data/part-00002-98e10948-a5e6-4de3-aacc-9a89a2874ca9-c000.snappy.parquet\n",
      "-rw-r--r--   3 nazihkalo nazihkalo     20.6 M 2020-02-17 16:21 modeling_data/part-00003-98e10948-a5e6-4de3-aacc-9a89a2874ca9-c000.snappy.parquet\n",
      "-rw-r--r--   3 nazihkalo nazihkalo     20.7 M 2020-02-17 16:22 modeling_data/part-00004-98e10948-a5e6-4de3-aacc-9a89a2874ca9-c000.snappy.parquet\n",
      "-rw-r--r--   3 nazihkalo nazihkalo     20.6 M 2020-02-17 16:21 modeling_data/part-00005-98e10948-a5e6-4de3-aacc-9a89a2874ca9-c000.snappy.parquet\n",
      "-rw-r--r--   3 nazihkalo nazihkalo     20.6 M 2020-02-17 16:21 modeling_data/part-00006-98e10948-a5e6-4de3-aacc-9a89a2874ca9-c000.snappy.parquet\n",
      "-rw-r--r--   3 nazihkalo nazihkalo     20.6 M 2020-02-17 16:21 modeling_data/part-00007-98e10948-a5e6-4de3-aacc-9a89a2874ca9-c000.snappy.parquet\n",
      "-rw-r--r--   3 nazihkalo nazihkalo     20.7 M 2020-02-17 16:21 modeling_data/part-00008-98e10948-a5e6-4de3-aacc-9a89a2874ca9-c000.snappy.parquet\n",
      "-rw-r--r--   3 nazihkalo nazihkalo     20.7 M 2020-02-17 16:21 modeling_data/part-00009-98e10948-a5e6-4de3-aacc-9a89a2874ca9-c000.snappy.parquet\n",
      "-rw-r--r--   3 nazihkalo nazihkalo     20.6 M 2020-02-17 16:22 modeling_data/part-00010-98e10948-a5e6-4de3-aacc-9a89a2874ca9-c000.snappy.parquet\n",
      "-rw-r--r--   3 nazihkalo nazihkalo     20.6 M 2020-02-17 16:21 modeling_data/part-00011-98e10948-a5e6-4de3-aacc-9a89a2874ca9-c000.snappy.parquet\n",
      "-rw-r--r--   3 nazihkalo nazihkalo     20.7 M 2020-02-17 16:21 modeling_data/part-00012-98e10948-a5e6-4de3-aacc-9a89a2874ca9-c000.snappy.parquet\n",
      "-rw-r--r--   3 nazihkalo nazihkalo     20.6 M 2020-02-17 16:21 modeling_data/part-00013-98e10948-a5e6-4de3-aacc-9a89a2874ca9-c000.snappy.parquet\n",
      "-rw-r--r--   3 nazihkalo nazihkalo     20.7 M 2020-02-17 16:22 modeling_data/part-00014-98e10948-a5e6-4de3-aacc-9a89a2874ca9-c000.snappy.parquet\n",
      "-rw-r--r--   3 nazihkalo nazihkalo     20.6 M 2020-02-17 16:21 modeling_data/part-00015-98e10948-a5e6-4de3-aacc-9a89a2874ca9-c000.snappy.parquet\n",
      "-rw-r--r--   3 nazihkalo nazihkalo     20.7 M 2020-02-17 16:21 modeling_data/part-00016-98e10948-a5e6-4de3-aacc-9a89a2874ca9-c000.snappy.parquet\n",
      "-rw-r--r--   3 nazihkalo nazihkalo     20.7 M 2020-02-17 16:22 modeling_data/part-00017-98e10948-a5e6-4de3-aacc-9a89a2874ca9-c000.snappy.parquet\n",
      "-rw-r--r--   3 nazihkalo nazihkalo     20.6 M 2020-02-17 16:22 modeling_data/part-00018-98e10948-a5e6-4de3-aacc-9a89a2874ca9-c000.snappy.parquet\n",
      "-rw-r--r--   3 nazihkalo nazihkalo     20.6 M 2020-02-17 16:22 modeling_data/part-00019-98e10948-a5e6-4de3-aacc-9a89a2874ca9-c000.snappy.parquet\n",
      "-rw-r--r--   3 nazihkalo nazihkalo     20.7 M 2020-02-17 16:21 modeling_data/part-00020-98e10948-a5e6-4de3-aacc-9a89a2874ca9-c000.snappy.parquet\n",
      "-rw-r--r--   3 nazihkalo nazihkalo     20.7 M 2020-02-17 16:21 modeling_data/part-00021-98e10948-a5e6-4de3-aacc-9a89a2874ca9-c000.snappy.parquet\n",
      "-rw-r--r--   3 nazihkalo nazihkalo     20.7 M 2020-02-17 16:21 modeling_data/part-00022-98e10948-a5e6-4de3-aacc-9a89a2874ca9-c000.snappy.parquet\n",
      "-rw-r--r--   3 nazihkalo nazihkalo     20.4 M 2020-02-17 16:21 modeling_data/part-00023-98e10948-a5e6-4de3-aacc-9a89a2874ca9-c000.snappy.parquet\n",
      "-rw-r--r--   3 nazihkalo nazihkalo     20.6 M 2020-02-17 16:21 modeling_data/part-00024-98e10948-a5e6-4de3-aacc-9a89a2874ca9-c000.snappy.parquet\n",
      "-rw-r--r--   3 nazihkalo nazihkalo     20.6 M 2020-02-17 16:21 modeling_data/part-00025-98e10948-a5e6-4de3-aacc-9a89a2874ca9-c000.snappy.parquet\n",
      "-rw-r--r--   3 nazihkalo nazihkalo     20.5 M 2020-02-17 16:21 modeling_data/part-00026-98e10948-a5e6-4de3-aacc-9a89a2874ca9-c000.snappy.parquet\n",
      "-rw-r--r--   3 nazihkalo nazihkalo     20.6 M 2020-02-17 16:21 modeling_data/part-00027-98e10948-a5e6-4de3-aacc-9a89a2874ca9-c000.snappy.parquet\n",
      "-rw-r--r--   3 nazihkalo nazihkalo     20.7 M 2020-02-17 16:21 modeling_data/part-00028-98e10948-a5e6-4de3-aacc-9a89a2874ca9-c000.snappy.parquet\n",
      "-rw-r--r--   3 nazihkalo nazihkalo     20.6 M 2020-02-17 16:21 modeling_data/part-00029-98e10948-a5e6-4de3-aacc-9a89a2874ca9-c000.snappy.parquet\n",
      "-rw-r--r--   3 nazihkalo nazihkalo     20.8 M 2020-02-17 16:21 modeling_data/part-00030-98e10948-a5e6-4de3-aacc-9a89a2874ca9-c000.snappy.parquet\n",
      "-rw-r--r--   3 nazihkalo nazihkalo     20.6 M 2020-02-17 16:22 modeling_data/part-00031-98e10948-a5e6-4de3-aacc-9a89a2874ca9-c000.snappy.parquet\n",
      "-rw-r--r--   3 nazihkalo nazihkalo     20.7 M 2020-02-17 16:22 modeling_data/part-00032-98e10948-a5e6-4de3-aacc-9a89a2874ca9-c000.snappy.parquet\n",
      "-rw-r--r--   3 nazihkalo nazihkalo     20.8 M 2020-02-17 16:22 modeling_data/part-00033-98e10948-a5e6-4de3-aacc-9a89a2874ca9-c000.snappy.parquet\n",
      "-rw-r--r--   3 nazihkalo nazihkalo     20.6 M 2020-02-17 16:21 modeling_data/part-00034-98e10948-a5e6-4de3-aacc-9a89a2874ca9-c000.snappy.parquet\n",
      "-rw-r--r--   3 nazihkalo nazihkalo     20.5 M 2020-02-17 16:21 modeling_data/part-00035-98e10948-a5e6-4de3-aacc-9a89a2874ca9-c000.snappy.parquet\n",
      "-rw-r--r--   3 nazihkalo nazihkalo     20.7 M 2020-02-17 16:22 modeling_data/part-00036-98e10948-a5e6-4de3-aacc-9a89a2874ca9-c000.snappy.parquet\n",
      "-rw-r--r--   3 nazihkalo nazihkalo     20.7 M 2020-02-17 16:21 modeling_data/part-00037-98e10948-a5e6-4de3-aacc-9a89a2874ca9-c000.snappy.parquet\n",
      "-rw-r--r--   3 nazihkalo nazihkalo     20.6 M 2020-02-17 16:21 modeling_data/part-00038-98e10948-a5e6-4de3-aacc-9a89a2874ca9-c000.snappy.parquet\n",
      "-rw-r--r--   3 nazihkalo nazihkalo     20.8 M 2020-02-17 16:21 modeling_data/part-00039-98e10948-a5e6-4de3-aacc-9a89a2874ca9-c000.snappy.parquet\n",
      "-rw-r--r--   3 nazihkalo nazihkalo     20.5 M 2020-02-17 16:22 modeling_data/part-00040-98e10948-a5e6-4de3-aacc-9a89a2874ca9-c000.snappy.parquet\n",
      "-rw-r--r--   3 nazihkalo nazihkalo     20.7 M 2020-02-17 16:21 modeling_data/part-00041-98e10948-a5e6-4de3-aacc-9a89a2874ca9-c000.snappy.parquet\n",
      "-rw-r--r--   3 nazihkalo nazihkalo     20.7 M 2020-02-17 16:21 modeling_data/part-00042-98e10948-a5e6-4de3-aacc-9a89a2874ca9-c000.snappy.parquet\n",
      "-rw-r--r--   3 nazihkalo nazihkalo     20.6 M 2020-02-17 16:21 modeling_data/part-00043-98e10948-a5e6-4de3-aacc-9a89a2874ca9-c000.snappy.parquet\n",
      "-rw-r--r--   3 nazihkalo nazihkalo     20.6 M 2020-02-17 16:21 modeling_data/part-00044-98e10948-a5e6-4de3-aacc-9a89a2874ca9-c000.snappy.parquet\n",
      "-rw-r--r--   3 nazihkalo nazihkalo     20.8 M 2020-02-17 16:21 modeling_data/part-00045-98e10948-a5e6-4de3-aacc-9a89a2874ca9-c000.snappy.parquet\n",
      "-rw-r--r--   3 nazihkalo nazihkalo     20.6 M 2020-02-17 16:21 modeling_data/part-00046-98e10948-a5e6-4de3-aacc-9a89a2874ca9-c000.snappy.parquet\n",
      "-rw-r--r--   3 nazihkalo nazihkalo     20.5 M 2020-02-17 16:22 modeling_data/part-00047-98e10948-a5e6-4de3-aacc-9a89a2874ca9-c000.snappy.parquet\n",
      "-rw-r--r--   3 nazihkalo nazihkalo     20.7 M 2020-02-17 16:21 modeling_data/part-00048-98e10948-a5e6-4de3-aacc-9a89a2874ca9-c000.snappy.parquet\n",
      "-rw-r--r--   3 nazihkalo nazihkalo     20.6 M 2020-02-17 16:22 modeling_data/part-00049-98e10948-a5e6-4de3-aacc-9a89a2874ca9-c000.snappy.parquet\n",
      "-rw-r--r--   3 nazihkalo nazihkalo     20.7 M 2020-02-17 16:21 modeling_data/part-00050-98e10948-a5e6-4de3-aacc-9a89a2874ca9-c000.snappy.parquet\n",
      "-rw-r--r--   3 nazihkalo nazihkalo     20.4 M 2020-02-17 16:21 modeling_data/part-00051-98e10948-a5e6-4de3-aacc-9a89a2874ca9-c000.snappy.parquet\n",
      "-rw-r--r--   3 nazihkalo nazihkalo     20.7 M 2020-02-17 16:21 modeling_data/part-00052-98e10948-a5e6-4de3-aacc-9a89a2874ca9-c000.snappy.parquet\n",
      "-rw-r--r--   3 nazihkalo nazihkalo     20.6 M 2020-02-17 16:21 modeling_data/part-00053-98e10948-a5e6-4de3-aacc-9a89a2874ca9-c000.snappy.parquet\n",
      "-rw-r--r--   3 nazihkalo nazihkalo     20.6 M 2020-02-17 16:21 modeling_data/part-00054-98e10948-a5e6-4de3-aacc-9a89a2874ca9-c000.snappy.parquet\n",
      "-rw-r--r--   3 nazihkalo nazihkalo     20.7 M 2020-02-17 16:21 modeling_data/part-00055-98e10948-a5e6-4de3-aacc-9a89a2874ca9-c000.snappy.parquet\n",
      "-rw-r--r--   3 nazihkalo nazihkalo     20.6 M 2020-02-17 16:21 modeling_data/part-00056-98e10948-a5e6-4de3-aacc-9a89a2874ca9-c000.snappy.parquet\n",
      "-rw-r--r--   3 nazihkalo nazihkalo     20.6 M 2020-02-17 16:21 modeling_data/part-00057-98e10948-a5e6-4de3-aacc-9a89a2874ca9-c000.snappy.parquet\n",
      "-rw-r--r--   3 nazihkalo nazihkalo     20.5 M 2020-02-17 16:21 modeling_data/part-00058-98e10948-a5e6-4de3-aacc-9a89a2874ca9-c000.snappy.parquet\n",
      "-rw-r--r--   3 nazihkalo nazihkalo     20.7 M 2020-02-17 16:21 modeling_data/part-00059-98e10948-a5e6-4de3-aacc-9a89a2874ca9-c000.snappy.parquet\n",
      "-rw-r--r--   3 nazihkalo nazihkalo     20.7 M 2020-02-17 16:21 modeling_data/part-00060-98e10948-a5e6-4de3-aacc-9a89a2874ca9-c000.snappy.parquet\n",
      "-rw-r--r--   3 nazihkalo nazihkalo     20.7 M 2020-02-17 16:21 modeling_data/part-00061-98e10948-a5e6-4de3-aacc-9a89a2874ca9-c000.snappy.parquet\n",
      "-rw-r--r--   3 nazihkalo nazihkalo     20.7 M 2020-02-17 16:21 modeling_data/part-00062-98e10948-a5e6-4de3-aacc-9a89a2874ca9-c000.snappy.parquet\n",
      "-rw-r--r--   3 nazihkalo nazihkalo     20.7 M 2020-02-17 16:21 modeling_data/part-00063-98e10948-a5e6-4de3-aacc-9a89a2874ca9-c000.snappy.parquet\n"
     ]
    },
    {
     "name": "stdout",
     "output_type": "stream",
     "text": [
      "-rw-r--r--   3 nazihkalo nazihkalo     20.7 M 2020-02-17 16:22 modeling_data/part-00064-98e10948-a5e6-4de3-aacc-9a89a2874ca9-c000.snappy.parquet\r\n",
      "-rw-r--r--   3 nazihkalo nazihkalo     20.7 M 2020-02-17 16:21 modeling_data/part-00065-98e10948-a5e6-4de3-aacc-9a89a2874ca9-c000.snappy.parquet\r\n",
      "-rw-r--r--   3 nazihkalo nazihkalo     20.7 M 2020-02-17 16:21 modeling_data/part-00066-98e10948-a5e6-4de3-aacc-9a89a2874ca9-c000.snappy.parquet\r\n",
      "-rw-r--r--   3 nazihkalo nazihkalo     20.7 M 2020-02-17 16:21 modeling_data/part-00067-98e10948-a5e6-4de3-aacc-9a89a2874ca9-c000.snappy.parquet\r\n",
      "-rw-r--r--   3 nazihkalo nazihkalo     20.7 M 2020-02-17 16:21 modeling_data/part-00068-98e10948-a5e6-4de3-aacc-9a89a2874ca9-c000.snappy.parquet\r\n",
      "-rw-r--r--   3 nazihkalo nazihkalo     20.6 M 2020-02-17 16:22 modeling_data/part-00069-98e10948-a5e6-4de3-aacc-9a89a2874ca9-c000.snappy.parquet\r\n",
      "-rw-r--r--   3 nazihkalo nazihkalo     20.6 M 2020-02-17 16:22 modeling_data/part-00070-98e10948-a5e6-4de3-aacc-9a89a2874ca9-c000.snappy.parquet\r\n",
      "-rw-r--r--   3 nazihkalo nazihkalo     20.8 M 2020-02-17 16:21 modeling_data/part-00071-98e10948-a5e6-4de3-aacc-9a89a2874ca9-c000.snappy.parquet\r\n",
      "-rw-r--r--   3 nazihkalo nazihkalo     20.7 M 2020-02-17 16:22 modeling_data/part-00072-98e10948-a5e6-4de3-aacc-9a89a2874ca9-c000.snappy.parquet\r\n",
      "-rw-r--r--   3 nazihkalo nazihkalo     20.6 M 2020-02-17 16:22 modeling_data/part-00073-98e10948-a5e6-4de3-aacc-9a89a2874ca9-c000.snappy.parquet\r\n",
      "-rw-r--r--   3 nazihkalo nazihkalo     20.6 M 2020-02-17 16:22 modeling_data/part-00074-98e10948-a5e6-4de3-aacc-9a89a2874ca9-c000.snappy.parquet\r\n",
      "-rw-r--r--   3 nazihkalo nazihkalo     20.7 M 2020-02-17 16:21 modeling_data/part-00075-98e10948-a5e6-4de3-aacc-9a89a2874ca9-c000.snappy.parquet\r\n",
      "-rw-r--r--   3 nazihkalo nazihkalo     20.6 M 2020-02-17 16:21 modeling_data/part-00076-98e10948-a5e6-4de3-aacc-9a89a2874ca9-c000.snappy.parquet\r\n",
      "-rw-r--r--   3 nazihkalo nazihkalo     20.5 M 2020-02-17 16:22 modeling_data/part-00077-98e10948-a5e6-4de3-aacc-9a89a2874ca9-c000.snappy.parquet\r\n",
      "-rw-r--r--   3 nazihkalo nazihkalo     20.6 M 2020-02-17 16:21 modeling_data/part-00078-98e10948-a5e6-4de3-aacc-9a89a2874ca9-c000.snappy.parquet\r\n",
      "-rw-r--r--   3 nazihkalo nazihkalo     20.7 M 2020-02-17 16:22 modeling_data/part-00079-98e10948-a5e6-4de3-aacc-9a89a2874ca9-c000.snappy.parquet\r\n",
      "-rw-r--r--   3 nazihkalo nazihkalo     20.7 M 2020-02-17 16:22 modeling_data/part-00080-98e10948-a5e6-4de3-aacc-9a89a2874ca9-c000.snappy.parquet\r\n",
      "-rw-r--r--   3 nazihkalo nazihkalo     20.7 M 2020-02-17 16:22 modeling_data/part-00081-98e10948-a5e6-4de3-aacc-9a89a2874ca9-c000.snappy.parquet\r\n",
      "-rw-r--r--   3 nazihkalo nazihkalo     20.7 M 2020-02-17 16:22 modeling_data/part-00082-98e10948-a5e6-4de3-aacc-9a89a2874ca9-c000.snappy.parquet\r\n",
      "-rw-r--r--   3 nazihkalo nazihkalo     20.7 M 2020-02-17 16:22 modeling_data/part-00083-98e10948-a5e6-4de3-aacc-9a89a2874ca9-c000.snappy.parquet\r\n",
      "-rw-r--r--   3 nazihkalo nazihkalo     20.6 M 2020-02-17 16:22 modeling_data/part-00084-98e10948-a5e6-4de3-aacc-9a89a2874ca9-c000.snappy.parquet\r\n",
      "-rw-r--r--   3 nazihkalo nazihkalo     20.8 M 2020-02-17 16:22 modeling_data/part-00085-98e10948-a5e6-4de3-aacc-9a89a2874ca9-c000.snappy.parquet\r\n",
      "-rw-r--r--   3 nazihkalo nazihkalo     20.7 M 2020-02-17 16:22 modeling_data/part-00086-98e10948-a5e6-4de3-aacc-9a89a2874ca9-c000.snappy.parquet\r\n",
      "-rw-r--r--   3 nazihkalo nazihkalo     20.6 M 2020-02-17 16:22 modeling_data/part-00087-98e10948-a5e6-4de3-aacc-9a89a2874ca9-c000.snappy.parquet\r\n",
      "-rw-r--r--   3 nazihkalo nazihkalo     20.6 M 2020-02-17 16:22 modeling_data/part-00088-98e10948-a5e6-4de3-aacc-9a89a2874ca9-c000.snappy.parquet\r\n",
      "-rw-r--r--   3 nazihkalo nazihkalo     20.5 M 2020-02-17 16:22 modeling_data/part-00089-98e10948-a5e6-4de3-aacc-9a89a2874ca9-c000.snappy.parquet\r\n",
      "-rw-r--r--   3 nazihkalo nazihkalo     20.7 M 2020-02-17 16:22 modeling_data/part-00090-98e10948-a5e6-4de3-aacc-9a89a2874ca9-c000.snappy.parquet\r\n",
      "-rw-r--r--   3 nazihkalo nazihkalo     20.6 M 2020-02-17 16:22 modeling_data/part-00091-98e10948-a5e6-4de3-aacc-9a89a2874ca9-c000.snappy.parquet\r\n",
      "-rw-r--r--   3 nazihkalo nazihkalo     20.6 M 2020-02-17 16:22 modeling_data/part-00092-98e10948-a5e6-4de3-aacc-9a89a2874ca9-c000.snappy.parquet\r\n",
      "-rw-r--r--   3 nazihkalo nazihkalo     20.7 M 2020-02-17 16:22 modeling_data/part-00093-98e10948-a5e6-4de3-aacc-9a89a2874ca9-c000.snappy.parquet\r\n",
      "-rw-r--r--   3 nazihkalo nazihkalo     20.7 M 2020-02-17 16:22 modeling_data/part-00094-98e10948-a5e6-4de3-aacc-9a89a2874ca9-c000.snappy.parquet\r\n",
      "-rw-r--r--   3 nazihkalo nazihkalo     20.6 M 2020-02-17 16:22 modeling_data/part-00095-98e10948-a5e6-4de3-aacc-9a89a2874ca9-c000.snappy.parquet\r\n",
      "-rw-r--r--   3 nazihkalo nazihkalo     20.6 M 2020-02-17 16:22 modeling_data/part-00096-98e10948-a5e6-4de3-aacc-9a89a2874ca9-c000.snappy.parquet\r\n",
      "-rw-r--r--   3 nazihkalo nazihkalo     20.7 M 2020-02-17 16:22 modeling_data/part-00097-98e10948-a5e6-4de3-aacc-9a89a2874ca9-c000.snappy.parquet\r\n",
      "-rw-r--r--   3 nazihkalo nazihkalo     20.7 M 2020-02-17 16:22 modeling_data/part-00098-98e10948-a5e6-4de3-aacc-9a89a2874ca9-c000.snappy.parquet\r\n",
      "-rw-r--r--   3 nazihkalo nazihkalo     20.7 M 2020-02-17 16:22 modeling_data/part-00099-98e10948-a5e6-4de3-aacc-9a89a2874ca9-c000.snappy.parquet\r\n",
      "-rw-r--r--   3 nazihkalo nazihkalo     20.6 M 2020-02-17 16:22 modeling_data/part-00100-98e10948-a5e6-4de3-aacc-9a89a2874ca9-c000.snappy.parquet\r\n",
      "-rw-r--r--   3 nazihkalo nazihkalo     20.7 M 2020-02-17 16:22 modeling_data/part-00101-98e10948-a5e6-4de3-aacc-9a89a2874ca9-c000.snappy.parquet\r\n",
      "-rw-r--r--   3 nazihkalo nazihkalo     20.7 M 2020-02-17 16:22 modeling_data/part-00102-98e10948-a5e6-4de3-aacc-9a89a2874ca9-c000.snappy.parquet\r\n",
      "-rw-r--r--   3 nazihkalo nazihkalo     20.6 M 2020-02-17 16:22 modeling_data/part-00103-98e10948-a5e6-4de3-aacc-9a89a2874ca9-c000.snappy.parquet\r\n",
      "-rw-r--r--   3 nazihkalo nazihkalo     20.6 M 2020-02-17 16:22 modeling_data/part-00104-98e10948-a5e6-4de3-aacc-9a89a2874ca9-c000.snappy.parquet\r\n",
      "-rw-r--r--   3 nazihkalo nazihkalo     20.6 M 2020-02-17 16:22 modeling_data/part-00105-98e10948-a5e6-4de3-aacc-9a89a2874ca9-c000.snappy.parquet\r\n",
      "-rw-r--r--   3 nazihkalo nazihkalo     20.4 M 2020-02-17 16:22 modeling_data/part-00106-98e10948-a5e6-4de3-aacc-9a89a2874ca9-c000.snappy.parquet\r\n",
      "-rw-r--r--   3 nazihkalo nazihkalo     20.7 M 2020-02-17 16:22 modeling_data/part-00107-98e10948-a5e6-4de3-aacc-9a89a2874ca9-c000.snappy.parquet\r\n",
      "-rw-r--r--   3 nazihkalo nazihkalo     20.7 M 2020-02-17 16:22 modeling_data/part-00108-98e10948-a5e6-4de3-aacc-9a89a2874ca9-c000.snappy.parquet\r\n",
      "-rw-r--r--   3 nazihkalo nazihkalo     20.7 M 2020-02-17 16:22 modeling_data/part-00109-98e10948-a5e6-4de3-aacc-9a89a2874ca9-c000.snappy.parquet\r\n",
      "-rw-r--r--   3 nazihkalo nazihkalo     19.2 M 2020-02-17 16:22 modeling_data/part-00110-98e10948-a5e6-4de3-aacc-9a89a2874ca9-c000.snappy.parquet\r\n",
      "-rw-r--r--   3 nazihkalo nazihkalo     18.6 M 2020-02-17 16:22 modeling_data/part-00111-98e10948-a5e6-4de3-aacc-9a89a2874ca9-c000.snappy.parquet\r\n",
      "-rw-r--r--   3 nazihkalo nazihkalo     18.5 M 2020-02-17 16:22 modeling_data/part-00112-98e10948-a5e6-4de3-aacc-9a89a2874ca9-c000.snappy.parquet\r\n",
      "-rw-r--r--   3 nazihkalo nazihkalo     18.5 M 2020-02-17 16:22 modeling_data/part-00113-98e10948-a5e6-4de3-aacc-9a89a2874ca9-c000.snappy.parquet\r\n",
      "-rw-r--r--   3 nazihkalo nazihkalo     18.6 M 2020-02-17 16:22 modeling_data/part-00114-98e10948-a5e6-4de3-aacc-9a89a2874ca9-c000.snappy.parquet\r\n",
      "-rw-r--r--   3 nazihkalo nazihkalo     18.5 M 2020-02-17 16:22 modeling_data/part-00115-98e10948-a5e6-4de3-aacc-9a89a2874ca9-c000.snappy.parquet\r\n",
      "-rw-r--r--   3 nazihkalo nazihkalo     18.3 M 2020-02-17 16:22 modeling_data/part-00116-98e10948-a5e6-4de3-aacc-9a89a2874ca9-c000.snappy.parquet\r\n",
      "-rw-r--r--   3 nazihkalo nazihkalo     18.1 M 2020-02-17 16:22 modeling_data/part-00117-98e10948-a5e6-4de3-aacc-9a89a2874ca9-c000.snappy.parquet\r\n",
      "-rw-r--r--   3 nazihkalo nazihkalo     18.0 M 2020-02-17 16:22 modeling_data/part-00118-98e10948-a5e6-4de3-aacc-9a89a2874ca9-c000.snappy.parquet\r\n",
      "-rw-r--r--   3 nazihkalo nazihkalo     18.0 M 2020-02-17 16:22 modeling_data/part-00119-98e10948-a5e6-4de3-aacc-9a89a2874ca9-c000.snappy.parquet\r\n"
     ]
    }
   ],
   "source": [
    "!hdfs dfs -ls -h modeling_data"
   ]
  },
  {
   "cell_type": "code",
   "execution_count": 74,
   "metadata": {},
   "outputs": [
    {
     "name": "stdout",
     "output_type": "stream",
     "text": [
      "+-------+-----------------+------------------+-----------------+-----------------+\n",
      "|summary|inCitations_count|outCitations_count|  abstract_wcount|     title_wcount|\n",
      "+-------+-----------------+------------------+-----------------+-----------------+\n",
      "|  count|          9980999|           9980999|          9980999|          9980999|\n",
      "|   mean|3.534729739978934|3.5169331246301097|52.31906465475049|7.195430236993311|\n",
      "| stddev|33.82246627659463|14.105878711775079|70.56536328977172|4.034703276166936|\n",
      "|    min|                0|                 0|                0|                0|\n",
      "|    max|            36091|              2497|             1266|               40|\n",
      "+-------+-----------------+------------------+-----------------+-----------------+\n",
      "\n"
     ]
    }
   ],
   "source": [
    "encodedData.select('inCitations_count', 'outCitations_count', 'abstract_wcount','title_wcount').describe().show()"
   ]
  },
  {
   "cell_type": "markdown",
   "metadata": {},
   "source": [
    "##  Encoding some categoricals "
   ]
  },
  {
   "cell_type": "markdown",
   "metadata": {},
   "source": [
    "### Creating Vertices"
   ]
  },
  {
   "cell_type": "code",
   "execution_count": 43,
   "metadata": {},
   "outputs": [],
   "source": [
    "vertices = encodedData.select('id', 'title', 'year', 'fieldsOfStudy', 'paperAbstract')"
   ]
  },
  {
   "cell_type": "code",
   "execution_count": 59,
   "metadata": {},
   "outputs": [
    {
     "name": "stdout",
     "output_type": "stream",
     "text": [
      "+--------------------+--------------------+----+-----------------+--------------------+\n",
      "|                  id|               title|year|    fieldsOfStudy|       paperAbstract|\n",
      "+--------------------+--------------------+----+-----------------+--------------------+\n",
      "|b9c27ac1bb8b3ec9d...|Cause Analysis an...|2014|         Business|The problem of bu...|\n",
      "|91cac7b12800a6238...|Clair comme lune ...|2016|          History|                    |\n",
      "|412b10a92babf3509...|Unexpected deaths...|2013|         Medicine|Aims and objectiv...|\n",
      "|0de1cecd2ed49812f...|RNA-Seq Analysis ...|2015|Medicine, Biology|The mitogen-activ...|\n",
      "|1d9fee40f59bf00eb...|Temporal Trends a...|2012|         Medicine|                    |\n",
      "+--------------------+--------------------+----+-----------------+--------------------+\n",
      "only showing top 5 rows\n",
      "\n"
     ]
    }
   ],
   "source": [
    "vertices.show(5)"
   ]
  },
  {
   "cell_type": "markdown",
   "metadata": {},
   "source": [
    "### Creating Edges"
   ]
  },
  {
   "cell_type": "code",
   "execution_count": 83,
   "metadata": {},
   "outputs": [
    {
     "name": "stdout",
     "output_type": "stream",
     "text": [
      "+--------------------+--------------------+--------------------+\n",
      "|                  id|         inCitations|        outCitations|\n",
      "+--------------------+--------------------+--------------------+\n",
      "|b9c27ac1bb8b3ec9d...|                  []|                  []|\n",
      "|91cac7b12800a6238...|                  []|                  []|\n",
      "|412b10a92babf3509...|                  []|                  []|\n",
      "|0de1cecd2ed49812f...|[8ecaab2a03953fa5...|[cf5cdba6424524ee...|\n",
      "|1d9fee40f59bf00eb...|                  []|                  []|\n",
      "|5e33c40c33d9e4753...|                  []|                  []|\n",
      "|d477d10c48912335d...|                  []|                  []|\n",
      "|b87f8f3daaa92d3bc...|                  []|                  []|\n",
      "|598567aa0229a6b31...|[ecec08f5ca15e07d...|                  []|\n",
      "|b790f30e811445a68...|[2da3df885d1f032d...|                  []|\n",
      "|69a00b492e0ba6e25...|                  []|                  []|\n",
      "|6b75f9994d131b2ee...|[ac89cd3e34dbc788...|                  []|\n",
      "|9eda969296439bf4c...|                  []|[411f288349de96c0...|\n",
      "|47bee8ebe530dc4ff...|[e5951f7aa9eef9c4...|[3dc9587f4b564c90...|\n",
      "|79ac36d7f74cf8d83...|                  []|                  []|\n",
      "|e079322082ef30858...|                  []|                  []|\n",
      "|c5bf1145b594c518b...|                  []|[0742fa40bf9be455...|\n",
      "|bd72c9e0434214845...|                  []|                  []|\n",
      "|d125a6c2adbfa1932...|                  []|                  []|\n",
      "|4acf97f40b5e9b991...|                  []|                  []|\n",
      "+--------------------+--------------------+--------------------+\n",
      "only showing top 20 rows\n",
      "\n"
     ]
    }
   ],
   "source": [
    "encodedData.select('id', 'inCitations', 'outCitations').show()"
   ]
  },
  {
   "cell_type": "code",
   "execution_count": 51,
   "metadata": {},
   "outputs": [],
   "source": [
    "from pyspark.sql.functions import explode\n",
    "from pyspark.sql.functions import lit\n",
    "\n",
    "#Getting the inCitations id -> (cited) -> article id \n",
    "edges = encodedData.select(explode('inCitations').alias('src'), encodedData.id.alias('dst')).withColumn('type', lit('cited'))\n",
    "\n",
    "#Getting the article id -> (cited) -> outCitations id\n",
    "edges2 = encodedData.select(encodedData.id.alias('src'), explode('outCitations').alias('dst')).withColumn('type', lit('cited'))\n",
    "\n",
    "#Union of these two \n",
    "edges_total = edges.union(edges2)"
   ]
  },
  {
   "cell_type": "code",
   "execution_count": 57,
   "metadata": {},
   "outputs": [
    {
     "name": "stdout",
     "output_type": "stream",
     "text": [
      "+----------------------------------------+----------------------------------------+-----+\n",
      "|src                                     |dst                                     |type |\n",
      "+----------------------------------------+----------------------------------------+-----+\n",
      "|8ecaab2a03953fa5cf08ab5db2bb49c16d90527d|0de1cecd2ed49812f3a55e4b78edf9ffd292618c|cited|\n",
      "|8ea68d48d5595730f082f625a2ad759f934411cf|0de1cecd2ed49812f3a55e4b78edf9ffd292618c|cited|\n",
      "|766a2b4d54b541c737f6a6ec81ad487b56dc83ed|0de1cecd2ed49812f3a55e4b78edf9ffd292618c|cited|\n",
      "|8479962401362c07f2d6cbff871a11cbd7a4913f|0de1cecd2ed49812f3a55e4b78edf9ffd292618c|cited|\n",
      "|a0ab0cf6c8fe0b1e50407576ba5b80f0f3f58476|0de1cecd2ed49812f3a55e4b78edf9ffd292618c|cited|\n",
      "+----------------------------------------+----------------------------------------+-----+\n",
      "only showing top 5 rows\n",
      "\n"
     ]
    }
   ],
   "source": [
    "edges_total.show(5, truncate=False)"
   ]
  },
  {
   "cell_type": "code",
   "execution_count": 60,
   "metadata": {},
   "outputs": [
    {
     "name": "stdout",
     "output_type": "stream",
     "text": [
      "+--------------------+------+\n",
      "|                  id|degree|\n",
      "+--------------------+------+\n",
      "|0527b65da84f42a39...|    28|\n",
      "|a830e94246ea34694...|    12|\n",
      "|61fa386d2187bebaf...|     6|\n",
      "|4bebbb2592590a23c...|     1|\n",
      "|ff6007e947ed35055...|     5|\n",
      "|16d5358ed974cdefc...|     2|\n",
      "|ba562608abe6a7e81...|     1|\n",
      "|19f599b95b54304ec...|    21|\n",
      "|5e5ce011e6f57a24d...|     1|\n",
      "|6ccc8a7f7c1362cb9...|     2|\n",
      "|5c8faef8512d3ac63...|     6|\n",
      "|932a7e026b2acd162...|    20|\n",
      "|ca82c02aef19b1e64...|    40|\n",
      "|7d306abf7ff739313...|     8|\n",
      "|d23cb008042ae46a8...|    63|\n",
      "|dc19d325198236660...|    67|\n",
      "|56f289078d090d0ea...|     2|\n",
      "|2227a64a2d770f06d...|    29|\n",
      "|3c0b62bc2d1d09a0c...|     7|\n",
      "|6e1516a2c25889ffd...|     3|\n",
      "+--------------------+------+\n",
      "only showing top 20 rows\n",
      "\n"
     ]
    }
   ],
   "source": [
    "g = GraphFrame(vertices, edges_total)\n",
    "## Take a look at the DataFrames\n",
    "# g.vertices.show()\n",
    "# g.edges.show()\n",
    "## Check the number of edges of each vertex\n",
    "g.degrees.show()"
   ]
  },
  {
   "cell_type": "markdown",
   "metadata": {},
   "source": [
    "#### indegree = The number of edges directed into a vertex in a directed graph."
   ]
  },
  {
   "cell_type": "code",
   "execution_count": 61,
   "metadata": {},
   "outputs": [
    {
     "name": "stdout",
     "output_type": "stream",
     "text": [
      "+--------------------+--------+\n",
      "|                  id|inDegree|\n",
      "+--------------------+--------+\n",
      "|83730969c0686b1d1...|   38079|\n",
      "|abd1c342495432171...|   32420|\n",
      "|13d4c2f76a7c1a4d0...|   20763|\n",
      "|a512385be058b1e2e...|   17634|\n",
      "|a411f6a0e6473137a...|   17370|\n",
      "|87f40e6f3022adbc1...|   12898|\n",
      "|73679f1ba00de9e73...|   11428|\n",
      "|e6dd0e6cf076b1207...|   11276|\n",
      "|d2860a370a0386c57...|   10815|\n",
      "|6a17ebeeb80cd696b...|    9429|\n",
      "|6da2a9ffa23a59523...|    9197|\n",
      "|10d6778bc45aebcd5...|    9120|\n",
      "|490020c0d4fa1eb85...|    9028|\n",
      "|fc448a7db5a2fac24...|    8676|\n",
      "|54205667c1f65a320...|    8611|\n",
      "|cc90910b6e31fe44c...|    8231|\n",
      "|a42d6065d0b1a31c5...|    8182|\n",
      "|6889e5a22598521d8...|    7656|\n",
      "|0e68beebb4c7ccbd9...|    7486|\n",
      "|9f649b234f5ebf207...|    7350|\n",
      "+--------------------+--------+\n",
      "only showing top 20 rows\n",
      "\n"
     ]
    }
   ],
   "source": [
    "g.inDegrees.filter(\"inDegree >= 10\").sort(\"inDegree\", ascending=False).show()"
   ]
  },
  {
   "cell_type": "code",
   "execution_count": 62,
   "metadata": {},
   "outputs": [
    {
     "data": {
      "text/plain": [
       "[Row(id='83730969c0686b1d185bcca39f9b5743fa53ebc1')]"
      ]
     },
     "execution_count": 62,
     "metadata": {},
     "output_type": "execute_result"
    }
   ],
   "source": [
    "g.inDegrees.filter(\"inDegree >= 10\").sort(\"inDegree\", ascending=False).select('id').take(1)"
   ]
  },
  {
   "cell_type": "code",
   "execution_count": 65,
   "metadata": {},
   "outputs": [
    {
     "name": "stdout",
     "output_type": "stream",
     "text": [
      "+----------------------------------------+--------------------------------------------------------+----+----------------+----------------------------------------------------------------------------------------------------------------------------------------------------------------------------------------------------------------------------------------------------------------------------------------------------------------------------------------------------------------------------------------------------------------------------------------------------------------------------------------------------------------------------------------------------------------------------------------------------------------------------------------------------------------------------------------------------------------------------------------+\n",
      "|id                                      |title                                                   |year|fieldsOfStudy   |paperAbstract                                                                                                                                                                                                                                                                                                                                                                                                                                                                                                                                                                                                                                                                                                                           |\n",
      "+----------------------------------------+--------------------------------------------------------+----+----------------+----------------------------------------------------------------------------------------------------------------------------------------------------------------------------------------------------------------------------------------------------------------------------------------------------------------------------------------------------------------------------------------------------------------------------------------------------------------------------------------------------------------------------------------------------------------------------------------------------------------------------------------------------------------------------------------------------------------------------------------+\n",
      "|83730969c0686b1d185bcca39f9b5743fa53ebc1|R: A language and environment for statistical computing.|2014|Computer Science|Copyright (©) 1999–2012 R Foundation for Statistical Computing. Permission is granted to make and distribute verbatim copies of this manual provided the copyright notice and this permission notice are preserved on all copies. Permission is granted to copy and distribute modified versions of this manual under the conditions for verbatim copying, provided that the entire resulting derived work is distributed under the terms of a permission notice identical to this one. Permission is granted to copy and distribute translations of this manual into another language, under the above conditions for modified versions, except that this permission notice may be stated in a translation approved by the R Core Team.|\n",
      "+----------------------------------------+--------------------------------------------------------+----+----------------+----------------------------------------------------------------------------------------------------------------------------------------------------------------------------------------------------------------------------------------------------------------------------------------------------------------------------------------------------------------------------------------------------------------------------------------------------------------------------------------------------------------------------------------------------------------------------------------------------------------------------------------------------------------------------------------------------------------------------------------+\n",
      "\n"
     ]
    }
   ],
   "source": [
    "g.vertices.filter('id == \"83730969c0686b1d185bcca39f9b5743fa53ebc1\"').show(truncate = False)"
   ]
  },
  {
   "cell_type": "markdown",
   "metadata": {},
   "source": [
    "## Journal Name"
   ]
  },
  {
   "cell_type": "code",
   "execution_count": 170,
   "metadata": {},
   "outputs": [
    {
     "data": {
      "text/plain": [
       "50554"
      ]
     },
     "execution_count": 170,
     "metadata": {},
     "output_type": "execute_result"
    }
   ],
   "source": [
    "spark_df3.select('journalName').distinct().count()"
   ]
  },
  {
   "cell_type": "code",
   "execution_count": 148,
   "metadata": {},
   "outputs": [],
   "source": [
    "# from pyspark.sql.functions import explode\n",
    "# id_authors = spark_df2.select(explode('author_ids'))\n",
    "# spark_df2.select('author_names', explode('author_names')).show()"
   ]
  },
  {
   "cell_type": "code",
   "execution_count": 86,
   "metadata": {},
   "outputs": [],
   "source": [
    "# #Convert the list + string into string\n",
    "# spark_df3 = spark_df3.withColumn(\"entities\", spark_df3[\"entities\"].cast(StringType()))\n",
    "# spark_df3 = spark_df3.withColumn(\"fieldsOfStudy\", spark_df3[\"fieldsOfStudy\"].cast(StringType()))\n",
    "# spark_df3 = spark_df3.withColumn(\"pdfUrls\", spark_df3[\"pdfUrls\"].cast(StringType()))\n",
    "# spark_df3 = spark_df3.withColumn(\"sources\", spark_df3[\"sources\"].cast(StringType()))"
   ]
  },
  {
   "cell_type": "code",
   "execution_count": 155,
   "metadata": {},
   "outputs": [
    {
     "data": {
      "image/png": "[encoded data removed]",
      "text/plain": [
       "<Figure size 432x288 with 1 Axes>"
      ]
     },
     "metadata": {},
     "output_type": "display_data"
    }
   ],
   "source": [
    "fields_count = spark_df3.groupby('fieldsOfStudy').count().sort('count', ascending = False)\n",
    "#convert Pyspark dataframe to Pandas dataframe for plotting\n",
    "pdf = fields_count.toPandas()\n",
    "pdf[:20].plot(kind= 'bar', x='fieldsOfStudy')\n",
    "plt.show()"
   ]
  },
  {
   "cell_type": "markdown",
   "metadata": {},
   "source": [
    "#### Nans by column"
   ]
  },
  {
   "cell_type": "code",
   "execution_count": 171,
   "metadata": {},
   "outputs": [],
   "source": [
    "# from pyspark.sql.functions import isnan, when, count, col\n",
    "\n",
    "# spark_df3.select([count(when(isnan(c), c)).alias(c) for c in spark_df3.columns]).show()"
   ]
  },
  {
   "cell_type": "markdown",
   "metadata": {},
   "source": [
    "# DISTRIBUTION OF inCitations_count"
   ]
  },
  {
   "cell_type": "code",
   "execution_count": 176,
   "metadata": {},
   "outputs": [],
   "source": [
    "import pandas as pd\n",
    "import matplotlib.pyplot as plt\n",
    "\n",
    "# Doing the heavy lifting in Spark. We could leverage the `histogram` function from the RDD api\n",
    "\n",
    "inCitations_count_histogram = spark_df3.select('inCitations_count').rdd.flatMap(lambda x: x).histogram(11)"
   ]
  },
  {
   "cell_type": "code",
   "execution_count": 175,
   "metadata": {},
   "outputs": [
    {
     "data": {
      "text/plain": [
       "<matplotlib.axes._subplots.AxesSubplot at 0x7fe8371e5908>"
      ]
     },
     "execution_count": 175,
     "metadata": {},
     "output_type": "execute_result"
    },
    {
     "data": {
      "image/png": "[encoded data removed]",
      "text/plain": [
       "<Figure size 432x288 with 1 Axes>"
      ]
     },
     "metadata": {},
     "output_type": "display_data"
    }
   ],
   "source": [
    "# Loading the Computed Histogram into a Pandas Dataframe for plotting\n",
    "pd.DataFrame(\n",
    "    list(zip(*inCitations_count_histogram)), \n",
    "    columns=['bin', 'frequency']\n",
    ").set_index(\n",
    "    'bin'\n",
    ").plot(kind='bar')"
   ]
  },
  {
   "cell_type": "code",
   "execution_count": 188,
   "metadata": {},
   "outputs": [
    {
     "name": "stdout",
     "output_type": "stream",
     "text": [
      "+----------------------+----------------------+----------------------+----------------------+------------------------+\n",
      "|min(inCitations_count)|max(inCitations_count)|avg(inCitations_count)|sum(inCitations_count)|count(inCitations_count)|\n",
      "+----------------------+----------------------+----------------------+----------------------+------------------------+\n",
      "|0                     |36091                 |3.5324064204140146    |35242780              |9976989                 |\n",
      "+----------------------+----------------------+----------------------+----------------------+------------------------+\n",
      "\n"
     ]
    }
   ],
   "source": [
    "from pyspark.sql import functions as F\n",
    "\n",
    "spark_df3.agg(F.min(spark_df3.inCitations_count),F.max(spark_df3.inCitations_count), \\\n",
    "              F.avg(spark_df3.inCitations_count),F.sum(spark_df3.inCitations_count), \\\n",
    "             F.count(spark_df3.inCitations_count)).show(truncate = False)"
   ]
  },
  {
   "cell_type": "code",
   "execution_count": 189,
   "metadata": {},
   "outputs": [
    {
     "data": {
      "text/plain": [
       "9976989"
      ]
     },
     "execution_count": 189,
     "metadata": {},
     "output_type": "execute_result"
    }
   ],
   "source": [
    "spark_df3.count()"
   ]
  },
  {
   "cell_type": "code",
   "execution_count": 57,
   "metadata": {},
   "outputs": [],
   "source": [
    "# spark_df3.write.csv('corpus0_to_9.csv')"
   ]
  },
  {
   "cell_type": "code",
   "execution_count": 174,
   "metadata": {},
   "outputs": [],
   "source": [
    "# spark_df4.write.format('parquet').save('all_papers_csv')"
   ]
  },
  {
   "cell_type": "code",
   "execution_count": null,
   "metadata": {},
   "outputs": [],
   "source": []
  },
  {
   "cell_type": "markdown",
   "metadata": {},
   "source": [
    "# HIVE"
   ]
  },
  {
   "cell_type": "code",
   "execution_count": 14,
   "metadata": {},
   "outputs": [],
   "source": [
    "from pyspark.sql import HiveContext\n",
    "hive_context = HiveContext(sc)"
   ]
  },
  {
   "cell_type": "code",
   "execution_count": 15,
   "metadata": {},
   "outputs": [
    {
     "name": "stdout",
     "output_type": "stream",
     "text": [
      "+-------------+\n",
      "| databaseName|\n",
      "+-------------+\n",
      "|     aamorris|\n",
      "|    ababikova|\n",
      "|          abb|\n",
      "|      abertin|\n",
      "| abhishekchat|\n",
      "|      achenad|\n",
      "|  adeshghadge|\n",
      "|      adetola|\n",
      "| adhamsuliman|\n",
      "|   aditilakra|\n",
      "|       aghose|\n",
      "|       ahphan|\n",
      "|      airline|\n",
      "|       alphan|\n",
      "|       aluong|\n",
      "|alvinharyanto|\n",
      "|       amant3|\n",
      "|    amiparikh|\n",
      "|amoliterno945|\n",
      "|     andmoral|\n",
      "+-------------+\n",
      "only showing top 20 rows\n",
      "\n"
     ]
    }
   ],
   "source": [
    "#show databaes\n",
    "spark.sql('show databases').show()"
   ]
  },
  {
   "cell_type": "code",
   "execution_count": null,
   "metadata": {},
   "outputs": [],
   "source": []
  },
  {
   "cell_type": "code",
   "execution_count": null,
   "metadata": {},
   "outputs": [],
   "source": [
    "# from pyspark.sql.functions import udf, col, lower, regexp_replace\n",
    "# from pyspark.ml.feature import Tokenizer, StopWordsRemover\n",
    "# from nltk.stem.snowball import SnowballStemmer\n",
    "\n",
    "# # Clean text\n",
    "# df_clean = spark_df2.withColumn('title_clean', (lower(regexp_replace('title', \"[^a-zA-Z\\\\s]\", \"\")).alias('title')))\n",
    "\n",
    "# # Tokenize text\n",
    "# tokenizer = Tokenizer(inputCol='title_clean', outputCol='title_clean_token')\n",
    "# df_words_token = tokenizer.transform(df_clean)\n",
    "\n",
    "# # Remove stop words\n",
    "# remover = StopWordsRemover(inputCol='title_clean_token', outputCol='title_clean_token_sw')\n",
    "# df_words_no_stopw = remover.transform(df_words_token)\n",
    "\n",
    "# # Stem text\n",
    "# stemmer = SnowballStemmer(language='english')\n",
    "# stemmer_udf = udf(lambda tokens: [stemmer.stem(token) for token in tokens], ArrayType(StringType()))\n",
    "# df_stemmed = df_words_no_stopw.withColumn(\"title_clean_token_stemmed\", stemmer_udf(\"title_clean_token_sw\"))\n",
    "\n",
    "# # Filter length word > 3\n",
    "# filter_length_udf = udf(lambda row: [x for x in row if len(x) >= 3], ArrayType(StringType()))\n",
    "# df_final_words = df_stemmed.withColumn('title_complete', filter_length_udf(col('title_clean_token_stemmed')))\n",
    "\n",
    "#####################################################################################################################\n",
    "# import nltk\n",
    "# from nltk.corpus import stopwords\n",
    "# from nltk.stem import WordNetLemmatizer\n",
    "# from nltk.corpus import stopwords\n",
    "# import re\n",
    "# import string\n",
    "# nltk.download('wordnet')\n",
    "# stop_words=set(stopwords.words('english'))\n",
    "# list_punct=list(string.punctuation)\n",
    "# lemmatizer = WordNetLemmatizer()\n",
    "\n",
    "# def clean_text(x):\n",
    "#     filteredSentence = [w for w in x if not w in stop_words]\n",
    "#     filtered = [''.join(c for c in s if c not in list_punct) for s in filteredSentence] \n",
    "#     filtered_space = [s for s in filtered if s] #remove empty space\n",
    "#     finalLem = [lemmatizer.lemmatize(s) for s in filtered_space]\n",
    "#     return finalLem\n",
    "\n",
    "# clean_text_udf = udf(lambda tokens: clean_text(tokens), ArrayType(StringType())) \n",
    "\n",
    "#clean_text(spark_df2.limit(1).select('title_tokens').collect()[0][0])"
   ]
  },
  {
   "cell_type": "code",
   "execution_count": 162,
   "metadata": {},
   "outputs": [],
   "source": [
    "#### ANALYSIS OF JOURNAL NAMES\n",
    "# spark_df3.groupby('journalName').agg(F.min(spark_df3.inCitations_count),F.max(spark_df3.inCitations_count), \\\n",
    "#               F.avg(spark_df3.inCitations_count),F.sum(spark_df3.inCitations_count), \\\n",
    "#              F.count(spark_df3.inCitations_count)).sort('count(inCitations_count)', ascending = False).show(truncate = False)\n",
    "\n",
    "# fields_count = spark_df3.groupby('journalName').count().sort('count', ascending = False)\n",
    "# #convert Pyspark dataframe to Pandas dataframe for plotting\n",
    "# pdf = fields_count.toPandas()\n",
    "# pdf[:20].plot(kind= 'bar', x='journalName')\n",
    "# plt.show()"
   ]
  }
 ],
 "metadata": {
  "kernelspec": {
   "display_name": "pySpark",
   "language": "python",
   "name": "pyspark"
  }
 },
 "nbformat": 4,
 "nbformat_minor": 2
}
